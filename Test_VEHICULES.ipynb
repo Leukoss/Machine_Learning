{
 "cells": [
  {
   "cell_type": "markdown",
   "source": [
    "## Packages"
   ],
   "metadata": {
    "collapsed": false
   },
   "id": "113ce8e7a1e2b076"
  },
  {
   "cell_type": "code",
   "outputs": [],
   "source": [
    "import pandas as pd             # Traitement des tableaux de données "
   ],
   "metadata": {
    "collapsed": false,
    "ExecuteTime": {
     "end_time": "2024-04-12T05:19:25.720254400Z",
     "start_time": "2024-04-12T05:19:25.281551600Z"
    }
   },
   "id": "ee3d3e71ea538d50",
   "execution_count": 1
  },
  {
   "cell_type": "markdown",
   "source": [
    "# Chargement des données"
   ],
   "metadata": {
    "collapsed": false
   },
   "id": "1c05797511bd635e"
  },
  {
   "cell_type": "code",
   "outputs": [],
   "source": [
    "full_data = pd.read_csv('Data/TEST/TEST/Full_Test_V3.csv', sep=',', low_memory=False)"
   ],
   "metadata": {
    "collapsed": false,
    "ExecuteTime": {
     "end_time": "2024-04-12T05:19:26.232819600Z",
     "start_time": "2024-04-12T05:19:25.721252700Z"
    }
   },
   "id": "e2637e951050b3c",
   "execution_count": 2
  },
  {
   "cell_type": "code",
   "outputs": [
    {
     "data": {
      "text/plain": "        Num_Acc  place  catu  sexe  trajet  an_nais num_veh  id_vehicule_x  \\\n0  201200049538    1.0     1   0.0     1.0   1954.0     A01            NaN   \n1  201200049538    1.0     1   0.0     1.0   1968.0     C01            NaN   \n2  201200049538    1.0     1   0.0     2.0   1984.0     B01            NaN   \n3  201200004221    1.0     1   1.0     NaN   1973.0     A01            NaN   \n4  201200002457    1.0     1   1.0     NaN   1984.0     A01            NaN   \n\n   secu1  secu2  ...  atm  col   dep  catr  circ  nbv  prof  plan  surf situ  \n0    1.0    NaN  ...  1.0  4.0  93.0     1   1.0  4.0   2.0   1.0   1.0  1.0  \n1    1.0    NaN  ...  1.0  4.0  93.0     1   1.0  4.0   2.0   1.0   1.0  1.0  \n2    1.0    NaN  ...  1.0  4.0  93.0     1   1.0  4.0   2.0   1.0   1.0  1.0  \n3    2.0    NaN  ...  1.0  6.0  46.0     3   2.0  2.0   2.0   1.0   1.0  1.0  \n4    1.0    NaN  ...  1.0  1.0  85.0     3   2.0  NaN   NaN   1.0   1.0  1.0  \n\n[5 rows x 38 columns]",
      "text/html": "<div>\n<style scoped>\n    .dataframe tbody tr th:only-of-type {\n        vertical-align: middle;\n    }\n\n    .dataframe tbody tr th {\n        vertical-align: top;\n    }\n\n    .dataframe thead th {\n        text-align: right;\n    }\n</style>\n<table border=\"1\" class=\"dataframe\">\n  <thead>\n    <tr style=\"text-align: right;\">\n      <th></th>\n      <th>Num_Acc</th>\n      <th>place</th>\n      <th>catu</th>\n      <th>sexe</th>\n      <th>trajet</th>\n      <th>an_nais</th>\n      <th>num_veh</th>\n      <th>id_vehicule_x</th>\n      <th>secu1</th>\n      <th>secu2</th>\n      <th>...</th>\n      <th>atm</th>\n      <th>col</th>\n      <th>dep</th>\n      <th>catr</th>\n      <th>circ</th>\n      <th>nbv</th>\n      <th>prof</th>\n      <th>plan</th>\n      <th>surf</th>\n      <th>situ</th>\n    </tr>\n  </thead>\n  <tbody>\n    <tr>\n      <th>0</th>\n      <td>201200049538</td>\n      <td>1.0</td>\n      <td>1</td>\n      <td>0.0</td>\n      <td>1.0</td>\n      <td>1954.0</td>\n      <td>A01</td>\n      <td>NaN</td>\n      <td>1.0</td>\n      <td>NaN</td>\n      <td>...</td>\n      <td>1.0</td>\n      <td>4.0</td>\n      <td>93.0</td>\n      <td>1</td>\n      <td>1.0</td>\n      <td>4.0</td>\n      <td>2.0</td>\n      <td>1.0</td>\n      <td>1.0</td>\n      <td>1.0</td>\n    </tr>\n    <tr>\n      <th>1</th>\n      <td>201200049538</td>\n      <td>1.0</td>\n      <td>1</td>\n      <td>0.0</td>\n      <td>1.0</td>\n      <td>1968.0</td>\n      <td>C01</td>\n      <td>NaN</td>\n      <td>1.0</td>\n      <td>NaN</td>\n      <td>...</td>\n      <td>1.0</td>\n      <td>4.0</td>\n      <td>93.0</td>\n      <td>1</td>\n      <td>1.0</td>\n      <td>4.0</td>\n      <td>2.0</td>\n      <td>1.0</td>\n      <td>1.0</td>\n      <td>1.0</td>\n    </tr>\n    <tr>\n      <th>2</th>\n      <td>201200049538</td>\n      <td>1.0</td>\n      <td>1</td>\n      <td>0.0</td>\n      <td>2.0</td>\n      <td>1984.0</td>\n      <td>B01</td>\n      <td>NaN</td>\n      <td>1.0</td>\n      <td>NaN</td>\n      <td>...</td>\n      <td>1.0</td>\n      <td>4.0</td>\n      <td>93.0</td>\n      <td>1</td>\n      <td>1.0</td>\n      <td>4.0</td>\n      <td>2.0</td>\n      <td>1.0</td>\n      <td>1.0</td>\n      <td>1.0</td>\n    </tr>\n    <tr>\n      <th>3</th>\n      <td>201200004221</td>\n      <td>1.0</td>\n      <td>1</td>\n      <td>1.0</td>\n      <td>NaN</td>\n      <td>1973.0</td>\n      <td>A01</td>\n      <td>NaN</td>\n      <td>2.0</td>\n      <td>NaN</td>\n      <td>...</td>\n      <td>1.0</td>\n      <td>6.0</td>\n      <td>46.0</td>\n      <td>3</td>\n      <td>2.0</td>\n      <td>2.0</td>\n      <td>2.0</td>\n      <td>1.0</td>\n      <td>1.0</td>\n      <td>1.0</td>\n    </tr>\n    <tr>\n      <th>4</th>\n      <td>201200002457</td>\n      <td>1.0</td>\n      <td>1</td>\n      <td>1.0</td>\n      <td>NaN</td>\n      <td>1984.0</td>\n      <td>A01</td>\n      <td>NaN</td>\n      <td>1.0</td>\n      <td>NaN</td>\n      <td>...</td>\n      <td>1.0</td>\n      <td>1.0</td>\n      <td>85.0</td>\n      <td>3</td>\n      <td>2.0</td>\n      <td>NaN</td>\n      <td>NaN</td>\n      <td>1.0</td>\n      <td>1.0</td>\n      <td>1.0</td>\n    </tr>\n  </tbody>\n</table>\n<p>5 rows × 38 columns</p>\n</div>"
     },
     "execution_count": 3,
     "metadata": {},
     "output_type": "execute_result"
    }
   ],
   "source": [
    "full_data.head()"
   ],
   "metadata": {
    "collapsed": false,
    "ExecuteTime": {
     "end_time": "2024-04-12T05:19:26.260289600Z",
     "start_time": "2024-04-12T05:19:26.234913100Z"
    }
   },
   "id": "7b09107a27a98d03",
   "execution_count": 3
  },
  {
   "cell_type": "markdown",
   "source": [
    "## Traitement des données conformément à celui appliquer sur les données d'entraînement\n",
    "\n",
    "On applique les mêmes traitements que ceux appliquer au set d'entraînement afin de conserver une homogénéité train/test assurrant au modèle de simplement travailler sur des valeurs inédites et non des formats.\n",
    "\n",
    "### VEHICULES\n",
    "\n",
    "- **senc** : manquement de 64100 valeurs.\n",
    "- **catv** : manquement de 1 valeur.\n",
    "- **obs** : manquement de 59 valeurs.\n",
    "- **obsm** : manquement de 63 valeurs.\n",
    "- **choc** : manquement de 37 valeurs.\n",
    "- **manv** : manquement de 10955 valeurs.\n",
    "- **occutc** : manquement de 48866 valeurs."
   ],
   "metadata": {
    "collapsed": false
   },
   "id": "c6c0b311b68f8bff"
  },
  {
   "cell_type": "code",
   "outputs": [],
   "source": [
    "def convert_float_to_int(data_frame, col_name):\n",
    "    data_frame[col_name] = data_frame[col_name].astype(int)\n",
    "    \n",
    "def convert_float_to_cat(data_frame, col_name):\n",
    "    data_frame[col_name] = data_frame[col_name].astype(int)\n",
    "    data_frame[col_name] = data_frame[col_name].astype('category')\n",
    "    \n",
    "def convert_str_to_cat(data_frame, col_name):\n",
    "    data_frame[col_name] = data_frame[col_name].astype('category')\n",
    "    \n",
    "def convert_str_to_int(data_frame, col_name):\n",
    "    data_frame[col_name] = data_frame[col_name].astype(int)"
   ],
   "metadata": {
    "collapsed": false,
    "ExecuteTime": {
     "end_time": "2024-04-12T05:19:26.272534400Z",
     "start_time": "2024-04-12T05:19:26.258171400Z"
    }
   },
   "id": "f44f4a1278ab5705",
   "execution_count": 4
  },
  {
   "cell_type": "markdown",
   "source": [
    "### senc"
   ],
   "metadata": {
    "collapsed": false
   },
   "id": "af19a01d6ee65816"
  },
  {
   "cell_type": "code",
   "outputs": [],
   "source": [
    "# Suppression de senc car trop vide\n",
    "full_data.drop(labels=['senc'], axis=1, inplace=True)"
   ],
   "metadata": {
    "collapsed": false,
    "ExecuteTime": {
     "end_time": "2024-04-12T05:19:26.340585700Z",
     "start_time": "2024-04-12T05:19:26.266157600Z"
    }
   },
   "id": "a59a9bc4eb60c595",
   "execution_count": 5
  },
  {
   "cell_type": "markdown",
   "source": [
    "### catv"
   ],
   "metadata": {
    "collapsed": false
   },
   "id": "b2e25fa66bcbcda1"
  },
  {
   "cell_type": "code",
   "outputs": [
    {
     "name": "stdout",
     "output_type": "stream",
     "text": [
      "Les valeurs possibles sont : [7 33 30 10 38 1 15 14 2 34 36 32 99 31 40 37 39 17 13 3 35 21 20 16 43 50\n",
      " 80 60 0 42 41 <NA>].\n",
      "Le nombre de valeurs manquantes/incorrectes est de : 1 pour un total de 142422 observations soit 0.0007021387145244414%.\n"
     ]
    }
   ],
   "source": [
    "# Harmonise les données\n",
    "full_data['catv'] = full_data['catv'].replace([-1], pd.NA)\n",
    "\n",
    "possible_values = full_data['catv'].unique()\n",
    "na_count = full_data['catv'].isna().sum()\n",
    "obs_count = full_data.shape[0]\n",
    "rep_na = na_count / obs_count * 100\n",
    "\n",
    "print(f\"Les valeurs possibles sont : {possible_values}.\")\n",
    "print(f\"Le nombre de valeurs manquantes/incorrectes est de : {na_count} pour un total de {obs_count} observations soit {rep_na}%.\")"
   ],
   "metadata": {
    "collapsed": false,
    "ExecuteTime": {
     "end_time": "2024-04-12T05:19:26.353440500Z",
     "start_time": "2024-04-12T05:19:26.290130200Z"
    }
   },
   "id": "4ba879b64fce7f1e",
   "execution_count": 6
  },
  {
   "cell_type": "markdown",
   "source": [
    "### obs"
   ],
   "metadata": {
    "collapsed": false
   },
   "id": "74c954760a7f01a5"
  },
  {
   "cell_type": "code",
   "outputs": [
    {
     "name": "stdout",
     "output_type": "stream",
     "text": [
      "Les valeurs possibles sont : [0.0 16.0 13.0 4.0 2.0 10.0 1.0 12.0 7.0 3.0 15.0 8.0 14.0 9.0 6.0 11.0\n",
      " <NA> 5.0 17.0].\n",
      "Le nombre de valeurs manquantes/incorrectes est de : 59 pour un total de 142422 observations soit 0.04142618415694205%.\n"
     ]
    }
   ],
   "source": [
    "# Harmonise les données\n",
    "full_data['obs'] = full_data['obs'].replace({-1: pd.NA}).fillna(pd.NA)\n",
    "\n",
    "possible_values = full_data['obs'].unique()\n",
    "na_count = full_data['obs'].isna().sum()\n",
    "obs_count = full_data.shape[0]\n",
    "rep_na = na_count / obs_count * 100\n",
    "\n",
    "print(f\"Les valeurs possibles sont : {possible_values}.\")\n",
    "print(f\"Le nombre de valeurs manquantes/incorrectes est de : {na_count} pour un total de {obs_count} observations soit {rep_na}%.\")"
   ],
   "metadata": {
    "collapsed": false,
    "ExecuteTime": {
     "end_time": "2024-04-12T05:19:26.398570900Z",
     "start_time": "2024-04-12T05:19:26.343088Z"
    }
   },
   "id": "e762be63118fe0ec",
   "execution_count": 7
  },
  {
   "cell_type": "markdown",
   "source": [
    "### obsm"
   ],
   "metadata": {
    "collapsed": false
   },
   "id": "8202c4fe77c1a62c"
  },
  {
   "cell_type": "code",
   "outputs": [
    {
     "name": "stdout",
     "output_type": "stream",
     "text": [
      "Les valeurs possibles sont : [2.0 0.0 6.0 1.0 9.0 <NA> 5.0 4.0].\n",
      "Le nombre de valeurs manquantes/incorrectes est de : 63 pour un total de 142422 observations soit 0.04423473901503981%.\n"
     ]
    }
   ],
   "source": [
    "# Harmonise les données\n",
    "full_data['obsm'] = full_data['obsm'].replace([-1], pd.NA).fillna(pd.NA)\n",
    "\n",
    "possible_values = full_data['obsm'].unique()\n",
    "na_count = full_data['obsm'].isna().sum()\n",
    "obs_count = full_data.shape[0]\n",
    "rep_na = na_count / obs_count * 100\n",
    "\n",
    "print(f\"Les valeurs possibles sont : {possible_values}.\")\n",
    "print(f\"Le nombre de valeurs manquantes/incorrectes est de : {na_count} pour un total de {obs_count} observations soit {rep_na}%.\")"
   ],
   "metadata": {
    "collapsed": false,
    "ExecuteTime": {
     "end_time": "2024-04-12T05:19:26.431435Z",
     "start_time": "2024-04-12T05:19:26.382770300Z"
    }
   },
   "id": "99e54c3b240b038c",
   "execution_count": 8
  },
  {
   "cell_type": "markdown",
   "source": [
    "### choc"
   ],
   "metadata": {
    "collapsed": false
   },
   "id": "47a4b8473d2a8cd1"
  },
  {
   "cell_type": "code",
   "outputs": [
    {
     "name": "stdout",
     "output_type": "stream",
     "text": [
      "Les valeurs possibles sont : [4.0 5.0 1.0 3.0 9.0 7.0 2.0 8.0 6.0 0.0 <NA>].\n",
      "Le nombre de valeurs manquantes/incorrectes est de : 37 pour un total de 142422 observations soit 0.025979132437404337%.\n"
     ]
    }
   ],
   "source": [
    "# Harmonise les données\n",
    "full_data['choc'] = full_data['choc'].replace({-1: pd.NA}).fillna(pd.NA)\n",
    "\n",
    "possible_values = full_data['choc'].unique()\n",
    "na_count = full_data['choc'].isna().sum()\n",
    "obs_count = full_data.shape[0]\n",
    "rep_na = na_count / obs_count * 100\n",
    "\n",
    "print(f\"Les valeurs possibles sont : {possible_values}.\")\n",
    "print(f\"Le nombre de valeurs manquantes/incorrectes est de : {na_count} pour un total de {obs_count} observations soit {rep_na}%.\")"
   ],
   "metadata": {
    "collapsed": false,
    "ExecuteTime": {
     "end_time": "2024-04-12T05:19:26.478006700Z",
     "start_time": "2024-04-12T05:19:26.424223Z"
    }
   },
   "id": "cff769670db4585e",
   "execution_count": 9
  },
  {
   "cell_type": "markdown",
   "source": [
    "### manv"
   ],
   "metadata": {
    "collapsed": false
   },
   "id": "23a77d8af1220ddd"
  },
  {
   "cell_type": "code",
   "outputs": [
    {
     "name": "stdout",
     "output_type": "stream",
     "text": [
      "Les valeurs possibles sont : [2.0 1.0 15.0 17.0 <NA> 19.0 9.0 23.0 13.0 21.0 14.0 16.0 20.0 5.0 6.0\n",
      " 22.0 18.0 3.0 12.0 11.0 10.0 7.0 4.0 24.0 8.0 26.0 25.0].\n",
      "Le nombre de valeurs manquantes/incorrectes est de : 10955 pour un total de 142422 observations soit 7.691929617615257%.\n"
     ]
    }
   ],
   "source": [
    "# Harmonise les données\n",
    "full_data['manv'] = full_data['manv'].replace([-1, 0], pd.NA).fillna(pd.NA)\n",
    "\n",
    "possible_values = full_data['manv'].unique()\n",
    "na_count = full_data['manv'].isna().sum()\n",
    "obs_count = full_data.shape[0]\n",
    "rep_na = na_count / obs_count * 100\n",
    "\n",
    "print(f\"Les valeurs possibles sont : {possible_values}.\")\n",
    "print(f\"Le nombre de valeurs manquantes/incorrectes est de : {na_count} pour un total de {obs_count} observations soit {rep_na}%.\")"
   ],
   "metadata": {
    "collapsed": false,
    "ExecuteTime": {
     "end_time": "2024-04-12T05:19:26.531509400Z",
     "start_time": "2024-04-12T05:19:26.466199700Z"
    }
   },
   "id": "ecb3f5db59c9ff0b",
   "execution_count": 10
  },
  {
   "cell_type": "markdown",
   "source": [
    "### motor"
   ],
   "metadata": {
    "collapsed": false
   },
   "id": "7b120fb99a1c122b"
  },
  {
   "cell_type": "code",
   "outputs": [],
   "source": [
    "# Suppression de la colonne motor \n",
    "full_data.drop(labels=['motor'], axis=1, inplace=True)"
   ],
   "metadata": {
    "collapsed": false,
    "ExecuteTime": {
     "end_time": "2024-04-12T05:19:26.564282100Z",
     "start_time": "2024-04-12T05:19:26.522116500Z"
    }
   },
   "id": "c69a5615ca26dd64",
   "execution_count": 11
  },
  {
   "cell_type": "markdown",
   "source": [
    "### occutc"
   ],
   "metadata": {
    "collapsed": false
   },
   "id": "28e2fa7d248c087"
  },
  {
   "cell_type": "code",
   "outputs": [
    {
     "name": "stdout",
     "output_type": "stream",
     "text": [
      "Les valeurs possibles sont : [  0.   1.   6.  15.  10.  50.  36.  23.   2.  59.  76.  49.   4.  96.\n",
      "  33.  20.  35.  25.  40.   3.  17.  13.   5.  80.  16.  21.   7.  24.\n",
      "  52.   8.  32.  42.  27.  30.  39.  45.  48.  70.  54.  12. 119.   9.\n",
      " 150.  11.  28. 140.  66.  44. 100.  47.  53.  77.  nan  22.].\n",
      "Le nombre de valeurs manquantes/incorrectes est de : 48866 pour un total de 142422 observations soit 34.310710423951356%.\n"
     ]
    }
   ],
   "source": [
    "# Harmonise les données\n",
    "full_data['manv'] = full_data['manv'].fillna(pd.NA)\n",
    "\n",
    "possible_values = full_data['occutc'].unique()\n",
    "na_count = full_data['occutc'].isna().sum()\n",
    "obs_count = full_data.shape[0]\n",
    "rep_na = na_count / obs_count * 100\n",
    "\n",
    "print(f\"Les valeurs possibles sont : {possible_values}.\")\n",
    "print(f\"Le nombre de valeurs manquantes/incorrectes est de : {na_count} pour un total de {obs_count} observations soit {rep_na}%.\")"
   ],
   "metadata": {
    "collapsed": false,
    "ExecuteTime": {
     "end_time": "2024-04-12T05:19:26.574204100Z",
     "start_time": "2024-04-12T05:19:26.551501200Z"
    }
   },
   "id": "90f97ff9c5d9ec51",
   "execution_count": 12
  },
  {
   "cell_type": "code",
   "outputs": [],
   "source": [
    "# Suppression de la colonne motor \n",
    "full_data.drop(labels=['id_vehicule_x', 'id_vehicule_y', 'id_usager', 'num_veh'], axis=1, inplace=True)"
   ],
   "metadata": {
    "collapsed": false,
    "ExecuteTime": {
     "end_time": "2024-04-12T05:19:26.602612800Z",
     "start_time": "2024-04-12T05:19:26.574270500Z"
    }
   },
   "id": "d4ea3372f1f20f3",
   "execution_count": 13
  },
  {
   "cell_type": "code",
   "outputs": [],
   "source": [
    "full_data.to_csv('Data/TEST/TEST/Full_Test_V4.csv', index=False)"
   ],
   "metadata": {
    "collapsed": false,
    "ExecuteTime": {
     "end_time": "2024-04-12T05:19:29.476575200Z",
     "start_time": "2024-04-12T05:19:26.605826400Z"
    }
   },
   "id": "951f4c338273039b",
   "execution_count": 14
  },
  {
   "cell_type": "code",
   "outputs": [
    {
     "data": {
      "text/plain": "(142422, 32)"
     },
     "execution_count": 15,
     "metadata": {},
     "output_type": "execute_result"
    }
   ],
   "source": [
    "full_data.shape"
   ],
   "metadata": {
    "collapsed": false,
    "ExecuteTime": {
     "end_time": "2024-04-12T05:19:29.477649100Z",
     "start_time": "2024-04-12T05:19:29.453172300Z"
    }
   },
   "id": "bcc92cde5cec84ed",
   "execution_count": 15
  },
  {
   "cell_type": "code",
   "outputs": [],
   "source": [],
   "metadata": {
    "collapsed": false,
    "ExecuteTime": {
     "end_time": "2024-04-12T04:14:41.033449900Z",
     "start_time": "2024-04-12T04:14:41.029456900Z"
    }
   },
   "id": "9d2691427352397f",
   "execution_count": 15
  }
 ],
 "metadata": {
  "kernelspec": {
   "display_name": "Python 3",
   "language": "python",
   "name": "python3"
  },
  "language_info": {
   "codemirror_mode": {
    "name": "ipython",
    "version": 2
   },
   "file_extension": ".py",
   "mimetype": "text/x-python",
   "name": "python",
   "nbconvert_exporter": "python",
   "pygments_lexer": "ipython2",
   "version": "2.7.6"
  }
 },
 "nbformat": 4,
 "nbformat_minor": 5
}
