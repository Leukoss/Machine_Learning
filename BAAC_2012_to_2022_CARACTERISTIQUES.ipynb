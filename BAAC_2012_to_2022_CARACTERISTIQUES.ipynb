{
 "cells": [
  {
   "cell_type": "markdown",
   "source": [
    "## Packages & Jeu de données"
   ],
   "metadata": {
    "collapsed": false
   },
   "id": "77955d03c3772702"
  },
  {
   "cell_type": "code",
   "outputs": [
    {
     "data": {
      "text/plain": "   place  catu  grav  sexe  trajet  locp  actp  etatp  an_nais  senc  ...  \\\n0      1     1     0     0       5     9     9     -1     1939   0.0  ...   \n1     10     3     0     1       5     3     3      2     2008   0.0  ...   \n2      1     1     0     1       5     9     9     -1     1994   0.0  ...   \n3      2     2     0     1       9     9     9     -1     1992   0.0  ...   \n4      1     1     0     1       5     9     9     -1     1976   0.0  ...   \n\n   surf  infra  situ  env1  secu1  secu2  secu3  motor  vma id_usager  \n0   1.0    0.0   1.0   0.0      1      8      8    NaN  NaN       NaN  \n1   1.0    0.0   1.0   0.0      8      8      8    NaN  NaN       NaN  \n2   1.0    0.0   1.0  99.0      8      8      8    NaN  NaN       NaN  \n3   1.0    0.0   1.0  99.0      1      8      8    NaN  NaN       NaN  \n4   1.0    0.0   1.0  99.0      2      8      8    NaN  NaN       NaN  \n\n[5 rows x 54 columns]",
      "text/html": "<div>\n<style scoped>\n    .dataframe tbody tr th:only-of-type {\n        vertical-align: middle;\n    }\n\n    .dataframe tbody tr th {\n        vertical-align: top;\n    }\n\n    .dataframe thead th {\n        text-align: right;\n    }\n</style>\n<table border=\"1\" class=\"dataframe\">\n  <thead>\n    <tr style=\"text-align: right;\">\n      <th></th>\n      <th>place</th>\n      <th>catu</th>\n      <th>grav</th>\n      <th>sexe</th>\n      <th>trajet</th>\n      <th>locp</th>\n      <th>actp</th>\n      <th>etatp</th>\n      <th>an_nais</th>\n      <th>senc</th>\n      <th>...</th>\n      <th>surf</th>\n      <th>infra</th>\n      <th>situ</th>\n      <th>env1</th>\n      <th>secu1</th>\n      <th>secu2</th>\n      <th>secu3</th>\n      <th>motor</th>\n      <th>vma</th>\n      <th>id_usager</th>\n    </tr>\n  </thead>\n  <tbody>\n    <tr>\n      <th>0</th>\n      <td>1</td>\n      <td>1</td>\n      <td>0</td>\n      <td>0</td>\n      <td>5</td>\n      <td>9</td>\n      <td>9</td>\n      <td>-1</td>\n      <td>1939</td>\n      <td>0.0</td>\n      <td>...</td>\n      <td>1.0</td>\n      <td>0.0</td>\n      <td>1.0</td>\n      <td>0.0</td>\n      <td>1</td>\n      <td>8</td>\n      <td>8</td>\n      <td>NaN</td>\n      <td>NaN</td>\n      <td>NaN</td>\n    </tr>\n    <tr>\n      <th>1</th>\n      <td>10</td>\n      <td>3</td>\n      <td>0</td>\n      <td>1</td>\n      <td>5</td>\n      <td>3</td>\n      <td>3</td>\n      <td>2</td>\n      <td>2008</td>\n      <td>0.0</td>\n      <td>...</td>\n      <td>1.0</td>\n      <td>0.0</td>\n      <td>1.0</td>\n      <td>0.0</td>\n      <td>8</td>\n      <td>8</td>\n      <td>8</td>\n      <td>NaN</td>\n      <td>NaN</td>\n      <td>NaN</td>\n    </tr>\n    <tr>\n      <th>2</th>\n      <td>1</td>\n      <td>1</td>\n      <td>0</td>\n      <td>1</td>\n      <td>5</td>\n      <td>9</td>\n      <td>9</td>\n      <td>-1</td>\n      <td>1994</td>\n      <td>0.0</td>\n      <td>...</td>\n      <td>1.0</td>\n      <td>0.0</td>\n      <td>1.0</td>\n      <td>99.0</td>\n      <td>8</td>\n      <td>8</td>\n      <td>8</td>\n      <td>NaN</td>\n      <td>NaN</td>\n      <td>NaN</td>\n    </tr>\n    <tr>\n      <th>3</th>\n      <td>2</td>\n      <td>2</td>\n      <td>0</td>\n      <td>1</td>\n      <td>9</td>\n      <td>9</td>\n      <td>9</td>\n      <td>-1</td>\n      <td>1992</td>\n      <td>0.0</td>\n      <td>...</td>\n      <td>1.0</td>\n      <td>0.0</td>\n      <td>1.0</td>\n      <td>99.0</td>\n      <td>1</td>\n      <td>8</td>\n      <td>8</td>\n      <td>NaN</td>\n      <td>NaN</td>\n      <td>NaN</td>\n    </tr>\n    <tr>\n      <th>4</th>\n      <td>1</td>\n      <td>1</td>\n      <td>0</td>\n      <td>1</td>\n      <td>5</td>\n      <td>9</td>\n      <td>9</td>\n      <td>-1</td>\n      <td>1976</td>\n      <td>0.0</td>\n      <td>...</td>\n      <td>1.0</td>\n      <td>0.0</td>\n      <td>1.0</td>\n      <td>99.0</td>\n      <td>2</td>\n      <td>8</td>\n      <td>8</td>\n      <td>NaN</td>\n      <td>NaN</td>\n      <td>NaN</td>\n    </tr>\n  </tbody>\n</table>\n<p>5 rows × 54 columns</p>\n</div>"
     },
     "execution_count": 65,
     "metadata": {},
     "output_type": "execute_result"
    }
   ],
   "source": [
    "import pandas as pd\n",
    "\n",
    "# Chargement du jeu de données \n",
    "full_data = pd.read_csv('Data/TRAIN_FULL/data_usagers.csv', low_memory=False)\n",
    "\n",
    "full_data.head()"
   ],
   "metadata": {
    "collapsed": false,
    "ExecuteTime": {
     "end_time": "2024-04-11T19:12:56.738521100Z",
     "start_time": "2024-04-11T19:12:45.903668Z"
    }
   },
   "id": "45364c02845c2cf6",
   "execution_count": 65
  },
  {
   "cell_type": "code",
   "outputs": [
    {
     "data": {
      "text/plain": "(1275851, 54)"
     },
     "execution_count": 66,
     "metadata": {},
     "output_type": "execute_result"
    }
   ],
   "source": [
    "full_data.shape"
   ],
   "metadata": {
    "collapsed": false,
    "ExecuteTime": {
     "end_time": "2024-04-11T19:12:56.745833300Z",
     "start_time": "2024-04-11T19:12:56.735336800Z"
    }
   },
   "id": "51ef7d3992360b57",
   "execution_count": 66
  },
  {
   "cell_type": "code",
   "outputs": [],
   "source": [
    "def convert_float_to_int(data_frame, col_name):\n",
    "    data_frame[col_name] = data_frame[col_name].astype(int)\n",
    "    \n",
    "def convert_float_to_cat(data_frame, col_name):\n",
    "    data_frame[col_name] = data_frame[col_name].astype(int)\n",
    "    data_frame[col_name] = data_frame[col_name].astype('category')\n",
    "    \n",
    "def convert_str_to_cat(data_frame, col_name):\n",
    "    data_frame[col_name] = data_frame[col_name].astype('category')"
   ],
   "metadata": {
    "collapsed": false,
    "ExecuteTime": {
     "end_time": "2024-04-11T19:12:56.779994200Z",
     "start_time": "2024-04-11T19:12:56.747167100Z"
    }
   },
   "id": "57935f2a8be4a305",
   "execution_count": 67
  },
  {
   "cell_type": "markdown",
   "source": [
    "### Caractéristiques\n",
    "\n",
    "Les fichiers caractéristiques contiennent globalement des informations relatives aux contextes de l'accident d'un point de vue conditions météorologiques, temporelles, etc.\n",
    "\n",
    "#### jour, mois, an, hrmm \n",
    "\n",
    "- **jour** : jour de l'accident.\n",
    "- **mois** : mois de l'accident.\n",
    "- **an** : année de l'accident.\n",
    "- **hrmn** : heure et minutes de l'accident.\n",
    "\n",
    "Ces informations sont cruciales, car des périodes pourraient être plus propices à des accidents graves. Un exemple serait qu'en hiver, une visibilité plus faible est observée ou bien un taux de suicide plus important pourrait expliquer une hausse de la gravité des accidents. En somme, sans fournir de justifications, ces informations peuvent être pertinentes."
   ],
   "metadata": {
    "collapsed": false
   },
   "id": "749b6cf65d4ee80f"
  },
  {
   "cell_type": "code",
   "outputs": [],
   "source": [
    "# Traitement sur les années pour harmoniser la forme des étiquettes [2012 et non 12 par exemple]\n",
    "full_data.loc[(full_data['an'] >= 12) & (full_data['an'] <= 18), 'an'] += 2000\n",
    "\n",
    "# Harmonise hr:mn de type string en int\n",
    "def convert_to_int(time_str):\n",
    "    if isinstance(time_str, str):\n",
    "        if ':' in time_str:\n",
    "            hours, minutes = map(int, time_str.split(':'))\n",
    "            return hours * 100 + minutes\n",
    "        else:\n",
    "            return int(time_str)\n",
    "    else:\n",
    "        return time_str\n",
    "\n",
    "\n",
    "full_data['hrmn'] = full_data['hrmn'].apply(convert_to_int)\n",
    "\n",
    "# Converti en valeur numérique\n",
    "convert_float_to_int(full_data, 'hrmn')\n",
    "\n",
    "# Traitement des minutes \n",
    "def generate_intervals(start, end, step):\n",
    "    intervals = []\n",
    "    for i in range(start, end, step):\n",
    "        intervals.append((i, i + step))\n",
    "    return intervals\n",
    "\n",
    "# Generate intervals automatically for each 100 units\n",
    "intervals = generate_intervals(0, 2400, 100)\n",
    "simple_values = list(range(len(intervals)))\n",
    "\n",
    "# Function to map values to simple values based on intervals\n",
    "def map_to_simple_value(value):\n",
    "    for i, interval in enumerate(intervals):\n",
    "        if interval[0] <= value < interval[1]:\n",
    "            return simple_values[i]\n",
    "    return None  # Return None if value is outside all intervals\n",
    "\n",
    "# Apply the mapping function to the column and create a new column with the simple values\n",
    "full_data['hrmn'] = full_data['hrmn'].apply(map_to_simple_value)\n",
    "\n",
    "# Converti en variable catégorielle\n",
    "convert_float_to_cat(full_data, 'jour')\n",
    "convert_float_to_cat(full_data, 'mois')\n",
    "convert_float_to_cat(full_data, 'an')\n",
    "convert_float_to_cat(full_data, 'hrmn')"
   ],
   "metadata": {
    "collapsed": false,
    "ExecuteTime": {
     "end_time": "2024-04-11T19:13:00.688045500Z",
     "start_time": "2024-04-11T19:12:56.771617200Z"
    }
   },
   "id": "dfa4fdc4d255e659",
   "execution_count": 68
  },
  {
   "cell_type": "markdown",
   "source": [
    "#### lum\n",
    "\n",
    "Apporte une information importante sur les conditions d'éclairage lors de l'accident. L'absence d'éclairage peu entraîner une perte de visibilité et amener à des répercussions importantes tandis qu'une meilleure visibilité permet d'éviter des drames. Les conditions sont classées de **\"*1*\"** à **\"*5*\"** sans relation d'ordre.\n",
    "\n",
    "On observe un très faible nombre de valeurs non comprises au sein de l'intervalle régulier [**1**, **2**, **3**, **4**, **5**]. Ainsi, il est décidé de supprimer ces lignes."
   ],
   "metadata": {
    "collapsed": false
   },
   "id": "791eb5e1dbc3f878"
  },
  {
   "cell_type": "code",
   "outputs": [],
   "source": [
    "# Suppression des valeurs -1\n",
    "full_data = full_data[full_data['lum'] != -1]\n",
    "full_data = full_data.dropna(subset=['lum'])\n",
    "\n",
    "# Converti en variable catégorielle\n",
    "convert_float_to_cat(full_data, 'lum')"
   ],
   "metadata": {
    "collapsed": false,
    "ExecuteTime": {
     "end_time": "2024-04-11T19:13:01.600413600Z",
     "start_time": "2024-04-11T19:13:00.689075100Z"
    }
   },
   "id": "373b764382cdbf97",
   "execution_count": 69
  },
  {
   "cell_type": "markdown",
   "source": [
    "#### dep, com, agg\n",
    "\n",
    "- **dep** : numéro du département répertorié à l'aide du code INSEE suivi d'un 0.\n",
    "- **com** : numéro de commune donné par un code INSEE comportant 3 chiffres calés à droite.\n",
    "- **agg** : valeur binaire indiquant si l'accident s'est produit au sein ou en dehors d'une agglomération.\n",
    "\n",
    "Il est vrai que certaines communes peuvent être porteuses davantage que d'autres d'accidents de la route. Cependant, afin d'éviter une construction de modèle trop complexe, il est décidé d'éliminer les communes pour ne conserver que les valeurs des départements. En effet, une tendance départementale apportera suffisamment d'informations au vu des nombreuses variables disponibles.\n",
    "\n",
    "Pour ce qui est de la valeur d'agglomération, il y a ici un indice fort intéressant, car il peut notamment traduire la vitesse des usagers. Il est donc décidé de le conserver.\n",
    "\n",
    "Les valeurs des départements sont relativement mal respectées. Ainsi, il est nécessaire d'apporter un traitement tout particulier à ce dernier. Si un département est de la forme **\"*01*\"**, **\"*001*\"**, ou encore **\"*040*\"**, il faut supprimer le **\"*0*\"** à gauche. Dans un second temps, si un département à **\"*3*\"** chiffres apparaît et fini par un **\"*0*\"**, alors ce département ne peut pas exister. On supposera que la suppression du **'*0*'** à droite donne le vrai numéro du département. Enfin, les départements **\"*201*\"** et **\"*202*\"** seront respectivement remplacés par **\"*2A*\"** et **\"*2B*\"**.\n"
   ],
   "metadata": {
    "collapsed": false
   },
   "id": "707a875a02be8161"
  },
  {
   "cell_type": "code",
   "outputs": [],
   "source": [
    "# Suppression de la colonne com \n",
    "full_data.drop(labels=['com'], axis=1, inplace=True)\n",
    "\n",
    "# Binarisation de la valeur d'agglomération\n",
    "full_data['agg'] = full_data['agg'].replace({2: 0})\n",
    "\n",
    "# Harmonisation des départements\n",
    "# Supprime les 0 superflus à gauche\n",
    "full_data['dep'] = full_data['dep'].apply(lambda x: x.lstrip('0'))\n",
    "\n",
    "# Cas des départements inexistants (100, 970...)\n",
    "full_data['dep'] = full_data['dep'].apply(lambda x: x[:-1] if len(x) == 3 and x.endswith('0') else x)\n",
    "\n",
    "# Remplace les valeurs pour la Corse\n",
    "full_data['dep'] = full_data['dep'].replace({'201': '2A', '202': '2B'})\n",
    "\n",
    "# En cas d'autres valeurs de département, supprime les lignes\n",
    "full_data = full_data[full_data['dep'].isin(map(str, range(1, 96))) | full_data['dep'].isin(['971', '972', '974', '976'])]\n",
    "\n",
    "# Converti en variable catégorielle\n",
    "convert_str_to_cat(full_data, 'dep')\n",
    "convert_float_to_cat(full_data, 'agg')"
   ],
   "metadata": {
    "collapsed": false,
    "ExecuteTime": {
     "end_time": "2024-04-11T19:13:03.586863900Z",
     "start_time": "2024-04-11T19:13:01.603457300Z"
    }
   },
   "id": "1357bcb9c31a19cf",
   "execution_count": 70
  },
  {
   "cell_type": "markdown",
   "source": [
    "#### int\n",
    "\n",
    "Fourni des informations relatives aux différents types d'intersections. Il est intéressant de se pencher sur l'incidence des intersections en matière d'accident et si un rôle est joué, si la nature des incidents est importante ou non dans la gravité de ces derniers. Les valeurs [**-1**, **0**, **9**] apportent la même information : l'intersection n'est pas connue. Il sera donc décidé d'harmoniser les possibilités sous cette forme : [**1**, **2**, **3**, **4**, **5**, **6**, **7**, **8**, **9**]."
   ],
   "metadata": {
    "collapsed": false
   },
   "id": "9817fbfa4185f028"
  },
  {
   "cell_type": "code",
   "outputs": [],
   "source": [
    "# Harmonise les données\n",
    "full_data['int'] = full_data['int'].replace({-1: 9, 0: 9})\n",
    "\n",
    "# Converti en variable catégorielle\n",
    "convert_float_to_cat(full_data, 'int')"
   ],
   "metadata": {
    "collapsed": false,
    "ExecuteTime": {
     "end_time": "2024-04-11T19:18:34.734191Z",
     "start_time": "2024-04-11T19:18:34.678977700Z"
    }
   },
   "id": "1ade1fdf95439393",
   "execution_count": 73
  },
  {
   "cell_type": "markdown",
   "source": [
    "#### atm\n",
    "\n",
    "Cette variable fournit des informations relatives aux conditions atmosphériques lors de l'accident. Outre un travail de normalisation entre les différentes années, il est évident que les conditions climatiques impactent les performances de conduite (perte de visibilité...).\n",
    "\n",
    "Les valeurs comme **\"*Nan*\"**, **\"*-1*\"**, ou encore **\"*0*\"** ont le même rôle que la valeur **\"*9*\"** (Aucune information sur la situation)."
   ],
   "metadata": {
    "collapsed": false
   },
   "id": "9b9cf6980d97872e"
  },
  {
   "cell_type": "code",
   "outputs": [],
   "source": [
    "# Harmonise les données\n",
    "full_data['atm'] = full_data['atm'].replace({-1: 9, 0: 9}).fillna(9)\n",
    "\n",
    "# Converti en variable catégorielle\n",
    "convert_float_to_cat(full_data, 'atm')"
   ],
   "metadata": {
    "collapsed": false,
    "ExecuteTime": {
     "end_time": "2024-04-11T19:26:41.585847400Z",
     "start_time": "2024-04-11T19:26:41.538240100Z"
    }
   },
   "id": "2f66f654e600362d",
   "execution_count": 76
  },
  {
   "cell_type": "markdown",
   "source": [
    "#### col\n",
    "\n",
    "Le type de collision est fort intéressant pour pouvoir déterminer la gravité d'un accident. En effet, un véhicule percuté côté conducteur aura plus de chance de blesser gravement le conducteur que le passager à sa droite. Ainsi, une étroite corrélation pourrait apparaître entre ces variables. Globalement, les référentiels sont similaires, nous harmoniseront simplement les valeurs traduisant une absence de renseignement sur l'accident : [**-1**, **0**, **NAN**, **8**]. On exclura **\"*6*\"** du fait que malgré le manque d'information sur la collision, il apporte l'information qu'une collision a eu lieu."
   ],
   "metadata": {
    "collapsed": false
   },
   "id": "1486ef30287499d7"
  },
  {
   "cell_type": "code",
   "outputs": [],
   "source": [
    "# Harmonise les données\n",
    "full_data['col'] = full_data['col'].replace({-1: 8, 0: 8}).fillna(8)\n",
    "\n",
    "# Converti en variable catégorielle\n",
    "convert_float_to_cat(full_data, 'col')"
   ],
   "metadata": {
    "collapsed": false,
    "ExecuteTime": {
     "end_time": "2024-04-11T19:44:55.831035300Z",
     "start_time": "2024-04-11T19:44:55.781991800Z"
    }
   },
   "id": "9242caa63acf61df",
   "execution_count": 79
  },
  {
   "cell_type": "markdown",
   "source": [
    "#### adr, lat, long, gps\n",
    "\n",
    "- **adr** : il est difficile de composer avec cette variable tant l'hétérogénéité est importante dans les valeurs saisies. De plus, sa pertinence n'est pas démontrée quand on dispose d'ores et déjà de la latitude et de la longitude de l'accident. Cette variable sera donc naturellement supprimée.\n",
    "- **lat** : latitude de l'accident. Combinée à la longitude, cela pourrait en tant que variable numérique être utile pour créer des zones à accidents graves ou moins graves (carrefour en ville où de faibles accidents se produisent fréquemment par exemple).\n",
    "- **long** : longitude de l'accident. Combinée à la latitude, cela pourrait en tant que variable numérique être utile pour créer des zones à accidents graves ou moins graves (carrefour en ville où de faibles accidents se produisent fréquemment par exemple).\n",
    "- **gps** : supprimé dans les dernières versions. Cependant, les valeurs de longitudes et latitudes indiquent d'ores et déjà des zones géographiques. Cette variable sera donc naturellement supprimée.\n",
    "\n",
    "Hélas, les données de latitude et longitude sont trop peu qualitatives pour être exploitées sans un travail important. Nous décidons de supprimer ces colonnes pour l'instant. Cependant, nous nous réservons le droit de les retravailler plus tard afin d'améliorer potentiellement le modèle."
   ],
   "metadata": {
    "collapsed": false
   },
   "id": "64952132b7f991e7"
  },
  {
   "cell_type": "code",
   "outputs": [],
   "source": [
    "# Suppression des colonnes adr, gps, lat, long \n",
    "full_data.drop(labels=['adr', 'gps', 'lat', 'long'], axis=1, inplace=True)"
   ],
   "metadata": {
    "collapsed": false,
    "ExecuteTime": {
     "end_time": "2024-04-11T19:55:45.163083Z",
     "start_time": "2024-04-11T19:55:44.914782500Z"
    }
   },
   "id": "195adff8c241142f",
   "execution_count": 85
  },
  {
   "cell_type": "code",
   "outputs": [],
   "source": [
    "full_data.to_csv('Data/TRAIN_FULL/data_usagers_caracteristiques.csv', index=False)"
   ],
   "metadata": {
    "collapsed": false,
    "ExecuteTime": {
     "end_time": "2024-04-11T19:57:39.334023600Z",
     "start_time": "2024-04-11T19:57:20.350050400Z"
    }
   },
   "id": "989ff1d5dc92f1e6",
   "execution_count": 86
  },
  {
   "cell_type": "markdown",
   "source": [
    "Désormais, toutes les variables propres aux usagers ont été traitées, on sauvegarde une version intermédiaire de ce fichier."
   ],
   "metadata": {
    "collapsed": false
   },
   "id": "2b110067c27ef167"
  }
 ],
 "metadata": {
  "kernelspec": {
   "display_name": "Python 3",
   "language": "python",
   "name": "python3"
  },
  "language_info": {
   "codemirror_mode": {
    "name": "ipython",
    "version": 2
   },
   "file_extension": ".py",
   "mimetype": "text/x-python",
   "name": "python",
   "nbconvert_exporter": "python",
   "pygments_lexer": "ipython2",
   "version": "2.7.6"
  }
 },
 "nbformat": 4,
 "nbformat_minor": 5
}
