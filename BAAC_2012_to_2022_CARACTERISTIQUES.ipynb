{
 "cells": [
  {
   "cell_type": "code",
   "outputs": [
    {
     "data": {
      "text/plain": "   place  catu  grav  sexe  trajet  locp  actp  etatp  an_nais  senc  ...  \\\n0      1     1     0     0       5     9     9     -1     1939   0.0  ...   \n1     10     3     0     1       5     3     3      2     2008   0.0  ...   \n2      1     1     0     1       5     9     9     -1     1994   0.0  ...   \n3      2     2     0     1       9     9     9     -1     1992   0.0  ...   \n4      1     1     0     1       5     9     9     -1     1976   0.0  ...   \n\n   surf  infra  situ  env1  secu1  secu2  secu3  motor  vma id_usager  \n0   1.0    0.0   1.0   0.0      1      8      8    NaN  NaN       NaN  \n1   1.0    0.0   1.0   0.0      8      8      8    NaN  NaN       NaN  \n2   1.0    0.0   1.0  99.0      8      8      8    NaN  NaN       NaN  \n3   1.0    0.0   1.0  99.0      1      8      8    NaN  NaN       NaN  \n4   1.0    0.0   1.0  99.0      2      8      8    NaN  NaN       NaN  \n\n[5 rows x 54 columns]",
      "text/html": "<div>\n<style scoped>\n    .dataframe tbody tr th:only-of-type {\n        vertical-align: middle;\n    }\n\n    .dataframe tbody tr th {\n        vertical-align: top;\n    }\n\n    .dataframe thead th {\n        text-align: right;\n    }\n</style>\n<table border=\"1\" class=\"dataframe\">\n  <thead>\n    <tr style=\"text-align: right;\">\n      <th></th>\n      <th>place</th>\n      <th>catu</th>\n      <th>grav</th>\n      <th>sexe</th>\n      <th>trajet</th>\n      <th>locp</th>\n      <th>actp</th>\n      <th>etatp</th>\n      <th>an_nais</th>\n      <th>senc</th>\n      <th>...</th>\n      <th>surf</th>\n      <th>infra</th>\n      <th>situ</th>\n      <th>env1</th>\n      <th>secu1</th>\n      <th>secu2</th>\n      <th>secu3</th>\n      <th>motor</th>\n      <th>vma</th>\n      <th>id_usager</th>\n    </tr>\n  </thead>\n  <tbody>\n    <tr>\n      <th>0</th>\n      <td>1</td>\n      <td>1</td>\n      <td>0</td>\n      <td>0</td>\n      <td>5</td>\n      <td>9</td>\n      <td>9</td>\n      <td>-1</td>\n      <td>1939</td>\n      <td>0.0</td>\n      <td>...</td>\n      <td>1.0</td>\n      <td>0.0</td>\n      <td>1.0</td>\n      <td>0.0</td>\n      <td>1</td>\n      <td>8</td>\n      <td>8</td>\n      <td>NaN</td>\n      <td>NaN</td>\n      <td>NaN</td>\n    </tr>\n    <tr>\n      <th>1</th>\n      <td>10</td>\n      <td>3</td>\n      <td>0</td>\n      <td>1</td>\n      <td>5</td>\n      <td>3</td>\n      <td>3</td>\n      <td>2</td>\n      <td>2008</td>\n      <td>0.0</td>\n      <td>...</td>\n      <td>1.0</td>\n      <td>0.0</td>\n      <td>1.0</td>\n      <td>0.0</td>\n      <td>8</td>\n      <td>8</td>\n      <td>8</td>\n      <td>NaN</td>\n      <td>NaN</td>\n      <td>NaN</td>\n    </tr>\n    <tr>\n      <th>2</th>\n      <td>1</td>\n      <td>1</td>\n      <td>0</td>\n      <td>1</td>\n      <td>5</td>\n      <td>9</td>\n      <td>9</td>\n      <td>-1</td>\n      <td>1994</td>\n      <td>0.0</td>\n      <td>...</td>\n      <td>1.0</td>\n      <td>0.0</td>\n      <td>1.0</td>\n      <td>99.0</td>\n      <td>8</td>\n      <td>8</td>\n      <td>8</td>\n      <td>NaN</td>\n      <td>NaN</td>\n      <td>NaN</td>\n    </tr>\n    <tr>\n      <th>3</th>\n      <td>2</td>\n      <td>2</td>\n      <td>0</td>\n      <td>1</td>\n      <td>9</td>\n      <td>9</td>\n      <td>9</td>\n      <td>-1</td>\n      <td>1992</td>\n      <td>0.0</td>\n      <td>...</td>\n      <td>1.0</td>\n      <td>0.0</td>\n      <td>1.0</td>\n      <td>99.0</td>\n      <td>1</td>\n      <td>8</td>\n      <td>8</td>\n      <td>NaN</td>\n      <td>NaN</td>\n      <td>NaN</td>\n    </tr>\n    <tr>\n      <th>4</th>\n      <td>1</td>\n      <td>1</td>\n      <td>0</td>\n      <td>1</td>\n      <td>5</td>\n      <td>9</td>\n      <td>9</td>\n      <td>-1</td>\n      <td>1976</td>\n      <td>0.0</td>\n      <td>...</td>\n      <td>1.0</td>\n      <td>0.0</td>\n      <td>1.0</td>\n      <td>99.0</td>\n      <td>2</td>\n      <td>8</td>\n      <td>8</td>\n      <td>NaN</td>\n      <td>NaN</td>\n      <td>NaN</td>\n    </tr>\n  </tbody>\n</table>\n<p>5 rows × 54 columns</p>\n</div>"
     },
     "execution_count": 1,
     "metadata": {},
     "output_type": "execute_result"
    }
   ],
   "source": [
    "import pandas as pd\n",
    "\n",
    "# Chargement du jeu de données \n",
    "full_data = pd.read_csv('Data/TRAIN_FULL/data_usagers.csv', low_memory=False)\n",
    "\n",
    "full_data.head()"
   ],
   "metadata": {
    "collapsed": false,
    "ExecuteTime": {
     "end_time": "2024-04-11T16:52:40.196409300Z",
     "start_time": "2024-04-11T16:52:30.088493700Z"
    }
   },
   "id": "45364c02845c2cf6",
   "execution_count": 1
  },
  {
   "cell_type": "markdown",
   "source": [
    "### Caractéristiques\n",
    "\n",
    "Les fichiers caractéristiques contiennent globalement des informations relatives aux contextes de l'accident d'un point de vue conditions météorologiques, temporelles, etc.\n",
    "\n",
    "#### jour, mois, an, hrmm \n",
    "\n",
    "- **jour** : jour de l'accident.\n",
    "- **mois** : mois de l'accident.\n",
    "- **an** : année de l'accident.\n",
    "- **hrmn** : heure et minutes de l'accident.\n",
    "\n",
    "Ces informations sont cruciales, car des périodes pourraient être plus propices à des accidents graves. Un exemple serait qu'en hiver, une visibilité plus faible est observée ou bien un taux de suicide plus important pourrait expliquer une hausse de la gravité des accidents. En somme, sans fournir de justifications, ces informations peuvent être pertinentes."
   ],
   "metadata": {
    "collapsed": false
   },
   "id": "749b6cf65d4ee80f"
  },
  {
   "cell_type": "code",
   "outputs": [
    {
     "ename": "NameError",
     "evalue": "name 'test_data' is not defined",
     "output_type": "error",
     "traceback": [
      "\u001B[1;31m---------------------------------------------------------------------------\u001B[0m",
      "\u001B[1;31mNameError\u001B[0m                                 Traceback (most recent call last)",
      "Cell \u001B[1;32mIn[129], line 2\u001B[0m\n\u001B[0;32m      1\u001B[0m \u001B[38;5;66;03m# Traitement sur les années pour harmoniser la forme des étiquettes [2012 et non 12 par exemple]\u001B[39;00m\n\u001B[1;32m----> 2\u001B[0m \u001B[43mtest_data\u001B[49m\u001B[38;5;241m.\u001B[39mloc[(test_data[\u001B[38;5;124m'\u001B[39m\u001B[38;5;124man\u001B[39m\u001B[38;5;124m'\u001B[39m] \u001B[38;5;241m>\u001B[39m\u001B[38;5;241m=\u001B[39m \u001B[38;5;241m12\u001B[39m) \u001B[38;5;241m&\u001B[39m (test_data[\u001B[38;5;124m'\u001B[39m\u001B[38;5;124man\u001B[39m\u001B[38;5;124m'\u001B[39m] \u001B[38;5;241m<\u001B[39m\u001B[38;5;241m=\u001B[39m \u001B[38;5;241m18\u001B[39m), \u001B[38;5;124m'\u001B[39m\u001B[38;5;124man\u001B[39m\u001B[38;5;124m'\u001B[39m] \u001B[38;5;241m+\u001B[39m\u001B[38;5;241m=\u001B[39m \u001B[38;5;241m2000\u001B[39m\n\u001B[0;32m      4\u001B[0m \u001B[38;5;66;03m# Harmonise hr:mn de type string en int\u001B[39;00m\n\u001B[0;32m      5\u001B[0m \u001B[38;5;28;01mdef\u001B[39;00m \u001B[38;5;21mconvert_to_int\u001B[39m(time_str):\n",
      "\u001B[1;31mNameError\u001B[0m: name 'test_data' is not defined"
     ]
    }
   ],
   "source": [
    "# Traitement sur les années pour harmoniser la forme des étiquettes [2012 et non 12 par exemple]\n",
    "test_data.loc[(test_data['an'] >= 12) & (test_data['an'] <= 18), 'an'] += 2000\n",
    "\n",
    "# Harmonise hr:mn de type string en int\n",
    "def convert_to_int(time_str):\n",
    "    if isinstance(time_str, str):\n",
    "        hours, minutes = map(int, time_str.split(':'))\n",
    "        return hours * 100 + minutes\n",
    "    else:\n",
    "        return time_str\n",
    "\n",
    "test_data['hrmn'] = test_data['hrmn'].apply(convert_to_int)\n",
    "\n",
    "# Converti en valeur numérique\n",
    "convert_float_to_int(test_data, 'hrmn')\n",
    "\n",
    "# Traitement des minutes \n",
    "def generate_intervals(start, end, step):\n",
    "    intervals = []\n",
    "    for i in range(start, end, step):\n",
    "        intervals.append((i, i + step))\n",
    "    return intervals\n",
    "\n",
    "# Generate intervals automatically for each 100 units\n",
    "intervals = generate_intervals(0, 2400, 100)\n",
    "simple_values = list(range(len(intervals)))\n",
    "\n",
    "# Function to map values to simple values based on intervals\n",
    "def map_to_simple_value(value):\n",
    "    for i, interval in enumerate(intervals):\n",
    "        if interval[0] <= value < interval[1]:\n",
    "            return simple_values[i]\n",
    "    return None  # Return None if value is outside all intervals\n",
    "\n",
    "# Apply the mapping function to the column and create a new column with the simple values\n",
    "test_data['hrmn'] = test_data['hrmn'].apply(map_to_simple_value)\n",
    "\n",
    "# Converti en variable catégorielle\n",
    "convert_float_to_cat(test_data, 'jour')\n",
    "convert_float_to_cat(test_data, 'mois')\n",
    "convert_float_to_cat(test_data, 'an')\n",
    "convert_float_to_cat(test_data, 'hrmn')"
   ],
   "metadata": {
    "collapsed": false,
    "ExecuteTime": {
     "end_time": "2024-04-11T16:47:04.094018600Z",
     "start_time": "2024-04-11T16:47:03.895096200Z"
    }
   },
   "id": "dfa4fdc4d255e659",
   "execution_count": 129
  },
  {
   "cell_type": "code",
   "outputs": [],
   "source": [
    "test_data['jour'].dtype"
   ],
   "metadata": {
    "collapsed": false,
    "ExecuteTime": {
     "end_time": "2024-04-11T16:47:04.102481600Z",
     "start_time": "2024-04-11T16:47:04.095016500Z"
    }
   },
   "id": "415e08a7a9ad2247",
   "execution_count": null
  },
  {
   "cell_type": "code",
   "outputs": [],
   "source": [
    "test_data['mois'].dtype"
   ],
   "metadata": {
    "collapsed": false,
    "ExecuteTime": {
     "start_time": "2024-04-11T16:47:04.097306500Z"
    }
   },
   "id": "b09f4047c955689d",
   "execution_count": null
  },
  {
   "cell_type": "code",
   "outputs": [],
   "source": [
    "test_data['an'].dtype"
   ],
   "metadata": {
    "collapsed": false,
    "ExecuteTime": {
     "start_time": "2024-04-11T16:47:04.098304400Z"
    }
   },
   "id": "c95920f12684b4a",
   "execution_count": null
  },
  {
   "cell_type": "code",
   "outputs": [],
   "source": [
    "test_data['hrmn'].dtype"
   ],
   "metadata": {
    "collapsed": false,
    "ExecuteTime": {
     "start_time": "2024-04-11T16:47:04.100371800Z"
    }
   },
   "id": "4fbbaf9acf4251",
   "execution_count": null
  },
  {
   "cell_type": "code",
   "outputs": [],
   "source": [
    "test_data.head()"
   ],
   "metadata": {
    "collapsed": false,
    "ExecuteTime": {
     "end_time": "2024-04-11T16:47:04.112998700Z",
     "start_time": "2024-04-11T16:47:04.102481600Z"
    }
   },
   "id": "22e7a560d1f228cb",
   "execution_count": null
  },
  {
   "cell_type": "code",
   "outputs": [],
   "source": [],
   "metadata": {
    "collapsed": false,
    "ExecuteTime": {
     "start_time": "2024-04-11T16:47:04.104524Z"
    }
   },
   "id": "aaad4310d1f2a9a1"
  }
 ],
 "metadata": {
  "kernelspec": {
   "display_name": "Python 3",
   "language": "python",
   "name": "python3"
  },
  "language_info": {
   "codemirror_mode": {
    "name": "ipython",
    "version": 2
   },
   "file_extension": ".py",
   "mimetype": "text/x-python",
   "name": "python",
   "nbconvert_exporter": "python",
   "pygments_lexer": "ipython2",
   "version": "2.7.6"
  }
 },
 "nbformat": 4,
 "nbformat_minor": 5
}
