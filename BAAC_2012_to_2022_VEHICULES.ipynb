{
 "cells": [
  {
   "cell_type": "markdown",
   "source": [
    "## Packages & Jeu de données"
   ],
   "metadata": {
    "collapsed": false
   },
   "id": "77955d03c3772702"
  },
  {
   "cell_type": "code",
   "outputs": [
    {
     "data": {
      "text/plain": "   place  catu  grav  sexe  trajet  an_nais  senc  catv  occutc  obs  ...  \\\n0      1     1     0     1       5     1994   0.0     7     0.0  0.0  ...   \n1      2     2     0     1       9     1992   0.0     7     0.0  0.0  ...   \n2      1     1     0     1       5     1976   0.0    33     0.0  0.0  ...   \n3      2     2     1     0       9     1972   0.0    33     0.0  0.0  ...   \n4      1     1     0     0       5     1962   0.0     7     0.0  0.0  ...   \n\n   nbv  prof  plan  surf  situ  secu1  secu2  secu3  motor  id_usager  \n0    2     1     1     1     1      8      8      8    NaN        NaN  \n1    2     1     1     1     1      1      8      8    NaN        NaN  \n2    2     1     1     1     1      2      8      8    NaN        NaN  \n3    2     1     1     1     1      2      8      8    NaN        NaN  \n4    2     1     3     1     1      1      8      8    NaN        NaN  \n\n[5 rows x 35 columns]",
      "text/html": "<div>\n<style scoped>\n    .dataframe tbody tr th:only-of-type {\n        vertical-align: middle;\n    }\n\n    .dataframe tbody tr th {\n        vertical-align: top;\n    }\n\n    .dataframe thead th {\n        text-align: right;\n    }\n</style>\n<table border=\"1\" class=\"dataframe\">\n  <thead>\n    <tr style=\"text-align: right;\">\n      <th></th>\n      <th>place</th>\n      <th>catu</th>\n      <th>grav</th>\n      <th>sexe</th>\n      <th>trajet</th>\n      <th>an_nais</th>\n      <th>senc</th>\n      <th>catv</th>\n      <th>occutc</th>\n      <th>obs</th>\n      <th>...</th>\n      <th>nbv</th>\n      <th>prof</th>\n      <th>plan</th>\n      <th>surf</th>\n      <th>situ</th>\n      <th>secu1</th>\n      <th>secu2</th>\n      <th>secu3</th>\n      <th>motor</th>\n      <th>id_usager</th>\n    </tr>\n  </thead>\n  <tbody>\n    <tr>\n      <th>0</th>\n      <td>1</td>\n      <td>1</td>\n      <td>0</td>\n      <td>1</td>\n      <td>5</td>\n      <td>1994</td>\n      <td>0.0</td>\n      <td>7</td>\n      <td>0.0</td>\n      <td>0.0</td>\n      <td>...</td>\n      <td>2</td>\n      <td>1</td>\n      <td>1</td>\n      <td>1</td>\n      <td>1</td>\n      <td>8</td>\n      <td>8</td>\n      <td>8</td>\n      <td>NaN</td>\n      <td>NaN</td>\n    </tr>\n    <tr>\n      <th>1</th>\n      <td>2</td>\n      <td>2</td>\n      <td>0</td>\n      <td>1</td>\n      <td>9</td>\n      <td>1992</td>\n      <td>0.0</td>\n      <td>7</td>\n      <td>0.0</td>\n      <td>0.0</td>\n      <td>...</td>\n      <td>2</td>\n      <td>1</td>\n      <td>1</td>\n      <td>1</td>\n      <td>1</td>\n      <td>1</td>\n      <td>8</td>\n      <td>8</td>\n      <td>NaN</td>\n      <td>NaN</td>\n    </tr>\n    <tr>\n      <th>2</th>\n      <td>1</td>\n      <td>1</td>\n      <td>0</td>\n      <td>1</td>\n      <td>5</td>\n      <td>1976</td>\n      <td>0.0</td>\n      <td>33</td>\n      <td>0.0</td>\n      <td>0.0</td>\n      <td>...</td>\n      <td>2</td>\n      <td>1</td>\n      <td>1</td>\n      <td>1</td>\n      <td>1</td>\n      <td>2</td>\n      <td>8</td>\n      <td>8</td>\n      <td>NaN</td>\n      <td>NaN</td>\n    </tr>\n    <tr>\n      <th>3</th>\n      <td>2</td>\n      <td>2</td>\n      <td>1</td>\n      <td>0</td>\n      <td>9</td>\n      <td>1972</td>\n      <td>0.0</td>\n      <td>33</td>\n      <td>0.0</td>\n      <td>0.0</td>\n      <td>...</td>\n      <td>2</td>\n      <td>1</td>\n      <td>1</td>\n      <td>1</td>\n      <td>1</td>\n      <td>2</td>\n      <td>8</td>\n      <td>8</td>\n      <td>NaN</td>\n      <td>NaN</td>\n    </tr>\n    <tr>\n      <th>4</th>\n      <td>1</td>\n      <td>1</td>\n      <td>0</td>\n      <td>0</td>\n      <td>5</td>\n      <td>1962</td>\n      <td>0.0</td>\n      <td>7</td>\n      <td>0.0</td>\n      <td>0.0</td>\n      <td>...</td>\n      <td>2</td>\n      <td>1</td>\n      <td>3</td>\n      <td>1</td>\n      <td>1</td>\n      <td>1</td>\n      <td>8</td>\n      <td>8</td>\n      <td>NaN</td>\n      <td>NaN</td>\n    </tr>\n  </tbody>\n</table>\n<p>5 rows × 35 columns</p>\n</div>"
     },
     "execution_count": 5,
     "metadata": {},
     "output_type": "execute_result"
    }
   ],
   "source": [
    "import pandas as pd\n",
    "\n",
    "# Chargement du jeu de données \n",
    "full_data = pd.read_csv('Data/TRAIN_FULL/BAAC_2012_to_2022_V3_to_V4.csv', low_memory=False)\n",
    "\n",
    "full_data.head()"
   ],
   "metadata": {
    "collapsed": false,
    "ExecuteTime": {
     "end_time": "2024-04-12T04:55:54.671318500Z",
     "start_time": "2024-04-12T04:55:51.904579200Z"
    }
   },
   "id": "45364c02845c2cf6",
   "execution_count": 5
  },
  {
   "cell_type": "code",
   "outputs": [
    {
     "data": {
      "text/plain": "(1012171, 35)"
     },
     "execution_count": 6,
     "metadata": {},
     "output_type": "execute_result"
    }
   ],
   "source": [
    "full_data.shape"
   ],
   "metadata": {
    "collapsed": false,
    "ExecuteTime": {
     "end_time": "2024-04-12T04:55:54.673311400Z",
     "start_time": "2024-04-12T04:55:54.667292600Z"
    }
   },
   "id": "51ef7d3992360b57",
   "execution_count": 6
  },
  {
   "cell_type": "code",
   "outputs": [],
   "source": [
    "def convert_float_to_int(data_frame, col_name):\n",
    "    data_frame[col_name] = data_frame[col_name].astype(int)\n",
    "    \n",
    "def convert_float_to_cat(data_frame, col_name):\n",
    "    data_frame[col_name] = data_frame[col_name].astype(int)\n",
    "    data_frame[col_name] = data_frame[col_name].astype('category')\n",
    "    \n",
    "def convert_str_to_cat(data_frame, col_name):\n",
    "    data_frame[col_name] = data_frame[col_name].astype('category')\n",
    "    \n",
    "def convert_str_to_int(data_frame, col_name):\n",
    "    data_frame[col_name] = data_frame[col_name].astype(int)"
   ],
   "metadata": {
    "collapsed": false,
    "ExecuteTime": {
     "end_time": "2024-04-12T04:55:54.688767300Z",
     "start_time": "2024-04-12T04:55:54.674309100Z"
    }
   },
   "id": "57935f2a8be4a305",
   "execution_count": 7
  },
  {
   "cell_type": "markdown",
   "source": [
    "### VEHICULES\n",
    "\n",
    "Les fichiers véhicules contiennent globalement des informations relatives aux véhicules accidentés comme ...\n",
    "\n",
    "#### senc\n",
    "\n",
    "Le sens de circulation corrélé à certains endroits peut présenter un intérêt. Dans l'éventualité où cette variable serait pertinente, on décide de la retenir potentiellement pour la construction du modèle prédictif. Ainsi, on disposera des valeurs suivantes : [**1**, **2**, **3**]. La dernière valeur correspondra à la fois aux valeurs non renseignées, aux valeurs inconnues ou encore en cas d'absence de repère."
   ],
   "metadata": {
    "collapsed": false
   },
   "id": "749b6cf65d4ee80f"
  },
  {
   "cell_type": "code",
   "outputs": [],
   "source": [
    "# Suppression de senc car trop vide\n",
    "full_data.drop(labels=['senc'], axis=1, inplace=True)"
   ],
   "metadata": {
    "collapsed": false,
    "ExecuteTime": {
     "end_time": "2024-04-12T04:55:54.810269100Z",
     "start_time": "2024-04-12T04:55:54.689758600Z"
    }
   },
   "id": "d40bece6fb2fe17d",
   "execution_count": 8
  },
  {
   "cell_type": "markdown",
   "source": [
    "#### catv\n",
    "\n",
    "La catégorie du véhicule peut être un vecteur important de la gravité des accidents. À bicyclette, il est certainement plus rare de faire des accidents graves que lorsqu'un poids lourd de plusieurs tonnes vient percuter un piéton ou un autre automobiliste.\n",
    "\n",
    "Dans un premier temps, on laisse la catégorisation initiale en pensant de manière candide que la segmentation des catégories de véhicules est qualitative. On se réserve le droit à l'avenir de traiter de nouveau cette catégorie pour construire un modèle plus précis ou moins sensible à l'overfitting en généralisant par exemple les poids lourds, les bus, les autocars..."
   ],
   "metadata": {
    "collapsed": false
   },
   "id": "f6f1ed142df069b7"
  },
  {
   "cell_type": "code",
   "outputs": [
    {
     "name": "stdout",
     "output_type": "stream",
     "text": [
      "1012171\n",
      "1012171\n"
     ]
    }
   ],
   "source": [
    "# Harmonise les données\n",
    "full_data['catv'] = full_data['catv'].replace({-1: 0})\n",
    "\n",
    "# Converti en variable catégorielle\n",
    "convert_float_to_cat(full_data, 'catv')"
   ],
   "metadata": {
    "collapsed": false,
    "ExecuteTime": {
     "end_time": "2024-04-12T04:56:26.140979100Z",
     "start_time": "2024-04-12T04:56:25.824225Z"
    }
   },
   "id": "63d4858689c4446a",
   "execution_count": 9
  },
  {
   "cell_type": "markdown",
   "source": [
    "#### obs, obsm\n",
    "\n",
    "Ces deux variables sont liées aux obstacles fixes/mobiles heurtés. Ces renseignements sont primordiaux, en effet la connaissance d'un faussé peut être bien plus meurtrier au sein d'un accident (ou même un arbre), que la présence d'une glissière présente pour la sécurité."
   ],
   "metadata": {
    "collapsed": false
   },
   "id": "c73ffecbfa14b80c"
  },
  {
   "cell_type": "code",
   "outputs": [
    {
     "name": "stdout",
     "output_type": "stream",
     "text": [
      "1012171\n",
      "1011400\n"
     ]
    }
   ],
   "source": [
    "# Harmonise les données\n",
    "full_data['obs'] = full_data['obs'].replace({-1: pd.NA})\n",
    "full_data['obsm'] = full_data['obsm'].replace({-1: pd.NA})\n",
    "full_data = full_data.dropna(subset=['obs'])\n",
    "full_data = full_data.dropna(subset=['obsm'])\n",
    "\n",
    "# Converti en variable catégorielle\n",
    "convert_float_to_cat(full_data, 'obs')\n",
    "convert_float_to_cat(full_data, 'obsm')"
   ],
   "metadata": {
    "collapsed": false,
    "ExecuteTime": {
     "end_time": "2024-04-12T04:57:22.019499200Z",
     "start_time": "2024-04-12T04:57:21.468609700Z"
    }
   },
   "id": "59ba1e5fb64d3130",
   "execution_count": 10
  },
  {
   "cell_type": "markdown",
   "source": [
    "#### choc\n",
    "\n",
    "Le point de choc peut certainement apporter des informations cruciales sur la gravité de l'accident. Certaines parties du véhicule peuvent amener à des conséquences plus ou moins importantes. En effet, de multiples chocs, fruits de tonneaux par exemple laisseront à coup sûr de gros dégâts au niveau du véhicule et potentiellment sur les accidentés."
   ],
   "metadata": {
    "collapsed": false
   },
   "id": "fe93c73b437745fc"
  },
  {
   "cell_type": "code",
   "outputs": [],
   "source": [
    "# Harmonise les données\n",
    "full_data['choc'] = full_data['choc'].replace({-1: pd.NA})\n",
    "full_data = full_data.dropna(subset=['choc'])\n",
    "\n",
    "# Converti en variable catégorielle\n",
    "convert_float_to_cat(full_data, 'choc')"
   ],
   "metadata": {
    "collapsed": false,
    "ExecuteTime": {
     "end_time": "2024-04-12T04:58:03.832097600Z",
     "start_time": "2024-04-12T04:58:03.603179600Z"
    }
   },
   "id": "9479a4a408431c1b",
   "execution_count": 12
  },
  {
   "cell_type": "markdown",
   "source": [
    "#### manv\n",
    "\n",
    "La manœuvre précédent l'accident est trés intéressante. On peut clairement relier le fait d'aller à contresens ou bien un franchissement de terre-plein central à un accident grave, tandis qu'un accident dans le même sens dans la même file peut réduire les dégâts (percuté par un automobiliste à un \"cédez le passage\" par exemple)."
   ],
   "metadata": {
    "collapsed": false
   },
   "id": "b998569c490f1b92"
  },
  {
   "cell_type": "code",
   "outputs": [
    {
     "name": "stderr",
     "output_type": "stream",
     "text": [
      "C:\\Users\\lucas\\AppData\\Local\\Temp\\ipykernel_16704\\3957277207.py:2: SettingWithCopyWarning: \n",
      "A value is trying to be set on a copy of a slice from a DataFrame.\n",
      "Try using .loc[row_indexer,col_indexer] = value instead\n",
      "\n",
      "See the caveats in the documentation: https://pandas.pydata.org/pandas-docs/stable/user_guide/indexing.html#returning-a-view-versus-a-copy\n",
      "  full_data['manv'] = full_data['manv'].replace([-1, 0], pd.NA)\n"
     ]
    }
   ],
   "source": [
    "# Harmonise les données\n",
    "full_data['manv'] = full_data['manv'].replace([-1, 0], pd.NA)\n",
    "full_data = full_data.dropna(subset=['manv'])\n",
    "\n",
    "# Converti en variable catégorielle\n",
    "convert_float_to_cat(full_data, 'manv')"
   ],
   "metadata": {
    "collapsed": false,
    "ExecuteTime": {
     "end_time": "2024-04-12T04:58:46.014352300Z",
     "start_time": "2024-04-12T04:58:45.916113600Z"
    }
   },
   "id": "fbed368367463990",
   "execution_count": 15
  },
  {
   "cell_type": "markdown",
   "source": [
    "#### motor\n",
    "\n",
    "Indique le type de motorisation du véhicule (électrique, hybride, etc.), cependant, cette catégorie comporte 65% de valeurs manquantes, car trés récente. Néanmoins, ce n'est pas un souci, parce que la catégorie du véhicule peut apporter de nombreuses informations sous-jacentes aux types de motorisation du véhicule."
   ],
   "metadata": {
    "collapsed": false
   },
   "id": "4700455276a3e461"
  },
  {
   "cell_type": "code",
   "outputs": [],
   "source": [
    "# Suppression de la colonne motor \n",
    "full_data.drop(labels=['motor'], axis=1, inplace=True)"
   ],
   "metadata": {
    "collapsed": false,
    "ExecuteTime": {
     "end_time": "2024-04-12T04:58:53.420868800Z",
     "start_time": "2024-04-12T04:58:53.341052800Z"
    }
   },
   "id": "9f0992ae00e7c725",
   "execution_count": 16
  },
  {
   "cell_type": "markdown",
   "source": [
    "#### occutc\n",
    "\n",
    "Correspond au nombre d'occupants dans le véhicule. Il n'est pas irrecevable qu'un lien existe entre cette valeur et la gravité de l'accident. Que ce soit pour des raisons de capacité de gestion de la part des dispositifs de sécurité, ou bien des comportements des conducteurs/passagers sous grande fréquentation. Malgré un grand nombre de valeurs manquantes, on juge la donnée assez pertinente pour se passer de 34% du jeu de données. On se le permet, car nous disposons de nombreuses observations (+1 000 000) et ce critère étant propre à toutes les années, il n'y aura théoriquement pas d'impact sur la pluralité des données.  "
   ],
   "metadata": {
    "collapsed": false
   },
   "id": "7a78cfdd37d0ade"
  },
  {
   "cell_type": "code",
   "outputs": [
    {
     "name": "stdout",
     "output_type": "stream",
     "text": [
      "948764\n",
      "581730\n"
     ]
    }
   ],
   "source": [
    "# Harmonise les données\n",
    "full_data = full_data.dropna(subset=['occutc'])\n",
    "\n",
    "# Converti en variable numérique\n",
    "convert_float_to_int(full_data, 'occutc')"
   ],
   "metadata": {
    "collapsed": false,
    "ExecuteTime": {
     "end_time": "2024-04-12T04:59:07.402798500Z",
     "start_time": "2024-04-12T04:59:07.293742Z"
    }
   },
   "id": "a4c51569843940e8",
   "execution_count": 17
  },
  {
   "cell_type": "code",
   "outputs": [],
   "source": [
    "# Oublie de la suppression de id_usager\n",
    "full_data.drop(labels=['id_usager'], axis=1, inplace=True)"
   ],
   "metadata": {
    "collapsed": false,
    "ExecuteTime": {
     "end_time": "2024-04-12T05:01:16.084870400Z",
     "start_time": "2024-04-12T05:01:16.035756400Z"
    }
   },
   "id": "a27aa5f48251bb9",
   "execution_count": 18
  },
  {
   "cell_type": "code",
   "outputs": [],
   "source": [
    "full_data.to_csv('Data/TRAIN_FULL/BAAC_2012_to_2022_V4_to_V4.csv', index=False)"
   ],
   "metadata": {
    "collapsed": false,
    "ExecuteTime": {
     "end_time": "2024-04-12T05:01:37.411990600Z",
     "start_time": "2024-04-12T05:01:33.722104900Z"
    }
   },
   "id": "44d68e3c4e595e58",
   "execution_count": 19
  },
  {
   "cell_type": "markdown",
   "source": [
    "Désormais, toutes les variables propres aux usagers ont été traitées, on sauvegarde une version intermédiaire de ce fichier."
   ],
   "metadata": {
    "collapsed": false
   },
   "id": "ae4f0b83529333d1"
  },
  {
   "cell_type": "code",
   "outputs": [],
   "source": [],
   "metadata": {
    "collapsed": false
   },
   "id": "cadac18c7109c57a"
  }
 ],
 "metadata": {
  "kernelspec": {
   "display_name": "Python 3",
   "language": "python",
   "name": "python3"
  },
  "language_info": {
   "codemirror_mode": {
    "name": "ipython",
    "version": 2
   },
   "file_extension": ".py",
   "mimetype": "text/x-python",
   "name": "python",
   "nbconvert_exporter": "python",
   "pygments_lexer": "ipython2",
   "version": "2.7.6"
  }
 },
 "nbformat": 4,
 "nbformat_minor": 5
}
