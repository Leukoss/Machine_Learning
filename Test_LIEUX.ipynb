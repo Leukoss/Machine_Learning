{
 "cells": [
  {
   "cell_type": "markdown",
   "source": [
    "## Packages"
   ],
   "metadata": {
    "collapsed": false
   },
   "id": "113ce8e7a1e2b076"
  },
  {
   "cell_type": "code",
   "outputs": [],
   "source": [
    "import pandas as pd             # Traitement des tableaux de données "
   ],
   "metadata": {
    "collapsed": false,
    "ExecuteTime": {
     "end_time": "2024-04-12T05:18:45.477928700Z",
     "start_time": "2024-04-12T05:18:45.021847500Z"
    }
   },
   "id": "ee3d3e71ea538d50",
   "execution_count": 1
  },
  {
   "cell_type": "markdown",
   "source": [
    "# Chargement des données"
   ],
   "metadata": {
    "collapsed": false
   },
   "id": "1c05797511bd635e"
  },
  {
   "cell_type": "code",
   "outputs": [],
   "source": [
    "full_data = pd.read_csv('Data/TEST/TEST/Full_Test_V1.csv', sep=',', low_memory=False)"
   ],
   "metadata": {
    "collapsed": false,
    "ExecuteTime": {
     "end_time": "2024-04-12T05:18:46.465812500Z",
     "start_time": "2024-04-12T05:18:45.479923400Z"
    }
   },
   "id": "e2637e951050b3c",
   "execution_count": 2
  },
  {
   "cell_type": "code",
   "outputs": [
    {
     "data": {
      "text/plain": "        Num_Acc  place  catu  sexe  trajet  an_nais num_veh  id_vehicule_x  \\\n0  201200049538    1.0     1   0.0     1.0   1954.0     A01            NaN   \n1  201200049538    1.0     1   0.0     1.0   1968.0     C01            NaN   \n2  201200049538    1.0     1   0.0     2.0   1984.0     B01            NaN   \n3  201200004221    1.0     1   1.0     NaN   1973.0     A01            NaN   \n4  201200002457    1.0     1   1.0     NaN   1984.0     A01            NaN   \n\n   secu1  secu2  ...  vosp  prof  plan  lartpc  larrout  surf  infra  situ  \\\n0    1.0    NaN  ...   0.0   2.0   1.0    15.0     35.0   1.0    1.0   1.0   \n1    1.0    NaN  ...   0.0   2.0   1.0    15.0     35.0   1.0    1.0   1.0   \n2    1.0    NaN  ...   0.0   2.0   1.0    15.0     35.0   1.0    1.0   1.0   \n3    2.0    NaN  ...   0.0   2.0   1.0     0.0     45.0   1.0    0.0   1.0   \n4    1.0    NaN  ...   0.0   0.0   1.0     0.0     65.0   1.0    5.0   1.0   \n\n   env1 vma  \n0  99.0 NaN  \n1  99.0 NaN  \n2  99.0 NaN  \n3  99.0 NaN  \n4  99.0 NaN  \n\n[5 rows x 54 columns]",
      "text/html": "<div>\n<style scoped>\n    .dataframe tbody tr th:only-of-type {\n        vertical-align: middle;\n    }\n\n    .dataframe tbody tr th {\n        vertical-align: top;\n    }\n\n    .dataframe thead th {\n        text-align: right;\n    }\n</style>\n<table border=\"1\" class=\"dataframe\">\n  <thead>\n    <tr style=\"text-align: right;\">\n      <th></th>\n      <th>Num_Acc</th>\n      <th>place</th>\n      <th>catu</th>\n      <th>sexe</th>\n      <th>trajet</th>\n      <th>an_nais</th>\n      <th>num_veh</th>\n      <th>id_vehicule_x</th>\n      <th>secu1</th>\n      <th>secu2</th>\n      <th>...</th>\n      <th>vosp</th>\n      <th>prof</th>\n      <th>plan</th>\n      <th>lartpc</th>\n      <th>larrout</th>\n      <th>surf</th>\n      <th>infra</th>\n      <th>situ</th>\n      <th>env1</th>\n      <th>vma</th>\n    </tr>\n  </thead>\n  <tbody>\n    <tr>\n      <th>0</th>\n      <td>201200049538</td>\n      <td>1.0</td>\n      <td>1</td>\n      <td>0.0</td>\n      <td>1.0</td>\n      <td>1954.0</td>\n      <td>A01</td>\n      <td>NaN</td>\n      <td>1.0</td>\n      <td>NaN</td>\n      <td>...</td>\n      <td>0.0</td>\n      <td>2.0</td>\n      <td>1.0</td>\n      <td>15.0</td>\n      <td>35.0</td>\n      <td>1.0</td>\n      <td>1.0</td>\n      <td>1.0</td>\n      <td>99.0</td>\n      <td>NaN</td>\n    </tr>\n    <tr>\n      <th>1</th>\n      <td>201200049538</td>\n      <td>1.0</td>\n      <td>1</td>\n      <td>0.0</td>\n      <td>1.0</td>\n      <td>1968.0</td>\n      <td>C01</td>\n      <td>NaN</td>\n      <td>1.0</td>\n      <td>NaN</td>\n      <td>...</td>\n      <td>0.0</td>\n      <td>2.0</td>\n      <td>1.0</td>\n      <td>15.0</td>\n      <td>35.0</td>\n      <td>1.0</td>\n      <td>1.0</td>\n      <td>1.0</td>\n      <td>99.0</td>\n      <td>NaN</td>\n    </tr>\n    <tr>\n      <th>2</th>\n      <td>201200049538</td>\n      <td>1.0</td>\n      <td>1</td>\n      <td>0.0</td>\n      <td>2.0</td>\n      <td>1984.0</td>\n      <td>B01</td>\n      <td>NaN</td>\n      <td>1.0</td>\n      <td>NaN</td>\n      <td>...</td>\n      <td>0.0</td>\n      <td>2.0</td>\n      <td>1.0</td>\n      <td>15.0</td>\n      <td>35.0</td>\n      <td>1.0</td>\n      <td>1.0</td>\n      <td>1.0</td>\n      <td>99.0</td>\n      <td>NaN</td>\n    </tr>\n    <tr>\n      <th>3</th>\n      <td>201200004221</td>\n      <td>1.0</td>\n      <td>1</td>\n      <td>1.0</td>\n      <td>NaN</td>\n      <td>1973.0</td>\n      <td>A01</td>\n      <td>NaN</td>\n      <td>2.0</td>\n      <td>NaN</td>\n      <td>...</td>\n      <td>0.0</td>\n      <td>2.0</td>\n      <td>1.0</td>\n      <td>0.0</td>\n      <td>45.0</td>\n      <td>1.0</td>\n      <td>0.0</td>\n      <td>1.0</td>\n      <td>99.0</td>\n      <td>NaN</td>\n    </tr>\n    <tr>\n      <th>4</th>\n      <td>201200002457</td>\n      <td>1.0</td>\n      <td>1</td>\n      <td>1.0</td>\n      <td>NaN</td>\n      <td>1984.0</td>\n      <td>A01</td>\n      <td>NaN</td>\n      <td>1.0</td>\n      <td>NaN</td>\n      <td>...</td>\n      <td>0.0</td>\n      <td>0.0</td>\n      <td>1.0</td>\n      <td>0.0</td>\n      <td>65.0</td>\n      <td>1.0</td>\n      <td>5.0</td>\n      <td>1.0</td>\n      <td>99.0</td>\n      <td>NaN</td>\n    </tr>\n  </tbody>\n</table>\n<p>5 rows × 54 columns</p>\n</div>"
     },
     "execution_count": 3,
     "metadata": {},
     "output_type": "execute_result"
    }
   ],
   "source": [
    "full_data.head()"
   ],
   "metadata": {
    "collapsed": false,
    "ExecuteTime": {
     "end_time": "2024-04-12T05:18:46.498141700Z",
     "start_time": "2024-04-12T05:18:46.466810600Z"
    }
   },
   "id": "7b09107a27a98d03",
   "execution_count": 3
  },
  {
   "cell_type": "markdown",
   "source": [
    "## Traitement des données conformément à celui appliquer sur les données d'entraînement\n",
    "\n",
    "On applique les mêmes traitements que ceux appliquer au set d'entraînement afin de conserver une homogénéité train/test assurrant au modèle de simplement travailler sur des valeurs inédites et non des formats.\n",
    "\n",
    "### LIEUX\n",
    "\n",
    "- **catr** : manquement de 0 valeur.\n",
    "- **circ** : manquement de 7936 valeurs.\n",
    "- **nbv** : manquement de 11626 valeurs.\n",
    "- **prof** : manquement de 6266 valeurs.\n",
    "- **plan** : manquement de 7299 valeurs.\n",
    "- **surf** : manquement de 3341 valeurs.\n",
    "- **situ** : manquement de 5530 valeurs."
   ],
   "metadata": {
    "collapsed": false
   },
   "id": "c6c0b311b68f8bff"
  },
  {
   "cell_type": "code",
   "outputs": [],
   "source": [
    "def convert_float_to_int(data_frame, col_name):\n",
    "    data_frame[col_name] = data_frame[col_name].astype(int)\n",
    "    \n",
    "def convert_float_to_cat(data_frame, col_name):\n",
    "    data_frame[col_name] = data_frame[col_name].astype(int)\n",
    "    data_frame[col_name] = data_frame[col_name].astype('category')\n",
    "    \n",
    "def convert_str_to_cat(data_frame, col_name):\n",
    "    data_frame[col_name] = data_frame[col_name].astype('category')\n",
    "    \n",
    "def convert_str_to_int(data_frame, col_name):\n",
    "    data_frame[col_name] = data_frame[col_name].astype(int)"
   ],
   "metadata": {
    "collapsed": false,
    "ExecuteTime": {
     "end_time": "2024-04-12T05:18:46.523077400Z",
     "start_time": "2024-04-12T05:18:46.495598700Z"
    }
   },
   "id": "f44f4a1278ab5705",
   "execution_count": 4
  },
  {
   "cell_type": "markdown",
   "source": [
    "### catr"
   ],
   "metadata": {
    "collapsed": false
   },
   "id": "af19a01d6ee65816"
  },
  {
   "cell_type": "code",
   "outputs": [
    {
     "name": "stdout",
     "output_type": "stream",
     "text": [
      "Les valeurs possibles sont : [1 3 4 9 2 6 5 7].\n",
      "Le nombre de valeurs manquantes/incorrectes est de : 0 pour un total de 142422 observations soit 0.0%.\n"
     ]
    }
   ],
   "source": [
    "possible_values = full_data['catr'].unique()\n",
    "na_count = full_data['catr'].isna().sum()\n",
    "obs_count = full_data.shape[0]\n",
    "rep_na = na_count / obs_count * 100\n",
    "\n",
    "print(f\"Les valeurs possibles sont : {possible_values}.\")\n",
    "print(f\"Le nombre de valeurs manquantes/incorrectes est de : {na_count} pour un total de {obs_count} observations soit {rep_na}%.\")"
   ],
   "metadata": {
    "collapsed": false,
    "ExecuteTime": {
     "end_time": "2024-04-12T05:18:46.588525800Z",
     "start_time": "2024-04-12T05:18:46.502134100Z"
    }
   },
   "id": "a59a9bc4eb60c595",
   "execution_count": 5
  },
  {
   "cell_type": "markdown",
   "source": [
    "### voie, v1, v2"
   ],
   "metadata": {
    "collapsed": false
   },
   "id": "b2e25fa66bcbcda1"
  },
  {
   "cell_type": "code",
   "outputs": [],
   "source": [
    "# Suppression des colonnes voie, v1, v2 \n",
    "full_data.drop(labels=['voie', 'v1', 'v2'], axis=1, inplace=True)"
   ],
   "metadata": {
    "collapsed": false,
    "ExecuteTime": {
     "end_time": "2024-04-12T05:18:46.606477800Z",
     "start_time": "2024-04-12T05:18:46.534145300Z"
    }
   },
   "id": "4ba879b64fce7f1e",
   "execution_count": 6
  },
  {
   "cell_type": "markdown",
   "source": [
    "### circ"
   ],
   "metadata": {
    "collapsed": false
   },
   "id": "74c954760a7f01a5"
  },
  {
   "cell_type": "code",
   "outputs": [
    {
     "name": "stdout",
     "output_type": "stream",
     "text": [
      "Les valeurs possibles sont : [1.0 2.0 3.0 <NA> 4.0].\n",
      "Le nombre de valeurs manquantes/incorrectes est de : 7936 pour un total de 142422 observations soit 5.572172838465967%.\n"
     ]
    }
   ],
   "source": [
    "# Harmonise les données\n",
    "full_data['circ'] = full_data['circ'].replace([-1, 0], pd.NA).fillna(pd.NA)\n",
    "\n",
    "possible_values = full_data['circ'].unique()\n",
    "na_count = full_data['circ'].isna().sum()\n",
    "obs_count = full_data.shape[0]\n",
    "rep_na = na_count / obs_count * 100\n",
    "\n",
    "print(f\"Les valeurs possibles sont : {possible_values}.\")\n",
    "print(f\"Le nombre de valeurs manquantes/incorrectes est de : {na_count} pour un total de {obs_count} observations soit {rep_na}%.\")"
   ],
   "metadata": {
    "collapsed": false,
    "ExecuteTime": {
     "end_time": "2024-04-12T05:18:46.630587200Z",
     "start_time": "2024-04-12T05:18:46.559604500Z"
    }
   },
   "id": "e762be63118fe0ec",
   "execution_count": 7
  },
  {
   "cell_type": "markdown",
   "source": [
    "#### nbv"
   ],
   "metadata": {
    "collapsed": false
   },
   "id": "8202c4fe77c1a62c"
  },
  {
   "cell_type": "code",
   "outputs": [
    {
     "name": "stdout",
     "output_type": "stream",
     "text": [
      "Les valeurs possibles sont : [4.0 2.0 <NA> 1.0 5.0 3.0 6.0 10.0 8.0 7.0 9.0 11.0 12.0 13.0].\n",
      "Le nombre de valeurs manquantes/incorrectes est de : 11626 pour un total de 142422 observations soit 8.163064695061156%.\n"
     ]
    }
   ],
   "source": [
    "# Harmonisation des données\n",
    "replace_dict = [-1., 0.0]\n",
    "\n",
    "full_data['nbv'] = full_data['nbv'].replace(replace_dict, pd.NA).fillna(pd.NA)\n",
    "\n",
    "\n",
    "possible_values = full_data['nbv'].unique()\n",
    "na_count = full_data['nbv'].isna().sum()\n",
    "obs_count = full_data.shape[0]\n",
    "rep_na = na_count / obs_count * 100\n",
    "\n",
    "print(f\"Les valeurs possibles sont : {possible_values}.\")\n",
    "print(f\"Le nombre de valeurs manquantes/incorrectes est de : {na_count} pour un total de {obs_count} observations soit {rep_na}%.\")"
   ],
   "metadata": {
    "collapsed": false,
    "ExecuteTime": {
     "end_time": "2024-04-12T05:18:46.675103300Z",
     "start_time": "2024-04-12T05:18:46.612636200Z"
    }
   },
   "id": "99e54c3b240b038c",
   "execution_count": 8
  },
  {
   "cell_type": "markdown",
   "source": [
    "### vosp"
   ],
   "metadata": {
    "collapsed": false
   },
   "id": "47a4b8473d2a8cd1"
  },
  {
   "cell_type": "code",
   "outputs": [],
   "source": [
    "# Suppression de la colonne vosp\n",
    "full_data.drop(labels=['vosp'], axis=1, inplace=True)"
   ],
   "metadata": {
    "collapsed": false,
    "ExecuteTime": {
     "end_time": "2024-04-12T05:18:46.713618300Z",
     "start_time": "2024-04-12T05:18:46.665129400Z"
    }
   },
   "id": "cff769670db4585e",
   "execution_count": 9
  },
  {
   "cell_type": "markdown",
   "source": [
    "### prof"
   ],
   "metadata": {
    "collapsed": false
   },
   "id": "23a77d8af1220ddd"
  },
  {
   "cell_type": "code",
   "outputs": [
    {
     "name": "stdout",
     "output_type": "stream",
     "text": [
      "Les valeurs possibles sont : [2.0 <NA> 1.0 4.0 3.0].\n",
      "Le nombre de valeurs manquantes/incorrectes est de : 6266 pour un total de 142422 observations soit 4.39960118521015%.\n"
     ]
    }
   ],
   "source": [
    "# Harmonisation des données\n",
    "full_data['prof'] = full_data['prof'].replace([-1, 0], pd.NA).fillna(pd.NA)\n",
    "\n",
    "possible_values = full_data['prof'].unique()\n",
    "na_count = full_data['prof'].isna().sum()\n",
    "obs_count = full_data.shape[0]\n",
    "rep_na = na_count / obs_count * 100\n",
    "\n",
    "print(f\"Les valeurs possibles sont : {possible_values}.\")\n",
    "print(f\"Le nombre de valeurs manquantes/incorrectes est de : {na_count} pour un total de {obs_count} observations soit {rep_na}%.\")"
   ],
   "metadata": {
    "collapsed": false,
    "ExecuteTime": {
     "end_time": "2024-04-12T05:18:46.760023300Z",
     "start_time": "2024-04-12T05:18:46.702647600Z"
    }
   },
   "id": "ecb3f5db59c9ff0b",
   "execution_count": 10
  },
  {
   "cell_type": "markdown",
   "source": [
    "### pr, pr1"
   ],
   "metadata": {
    "collapsed": false
   },
   "id": "7b120fb99a1c122b"
  },
  {
   "cell_type": "code",
   "outputs": [],
   "source": [
    "# Suppression des colonnes pr, pr1\n",
    "full_data.drop(labels=['pr', 'pr1'], axis=1, inplace=True)"
   ],
   "metadata": {
    "collapsed": false,
    "ExecuteTime": {
     "end_time": "2024-04-12T05:18:46.801118900Z",
     "start_time": "2024-04-12T05:18:46.755036600Z"
    }
   },
   "id": "c69a5615ca26dd64",
   "execution_count": 11
  },
  {
   "cell_type": "markdown",
   "source": [
    "### plan"
   ],
   "metadata": {
    "collapsed": false
   },
   "id": "28e2fa7d248c087"
  },
  {
   "cell_type": "code",
   "outputs": [
    {
     "name": "stdout",
     "output_type": "stream",
     "text": [
      "Les valeurs possibles sont : [1.0 2.0 3.0 <NA> 4.0].\n",
      "Le nombre de valeurs manquantes/incorrectes est de : 7299 pour un total de 142422 observations soit 5.124910477313898%.\n"
     ]
    }
   ],
   "source": [
    "# Harmonisation des données\n",
    "full_data['plan'] = full_data['plan'].replace([-1, 0], pd.NA).fillna(pd.NA)\n",
    "\n",
    "possible_values = full_data['plan'].unique()\n",
    "na_count = full_data['plan'].isna().sum()\n",
    "obs_count = full_data.shape[0]\n",
    "rep_na = na_count / obs_count * 100\n",
    "\n",
    "print(f\"Les valeurs possibles sont : {possible_values}.\")\n",
    "print(f\"Le nombre de valeurs manquantes/incorrectes est de : {na_count} pour un total de {obs_count} observations soit {rep_na}%.\")"
   ],
   "metadata": {
    "collapsed": false,
    "ExecuteTime": {
     "end_time": "2024-04-12T05:18:46.842599Z",
     "start_time": "2024-04-12T05:18:46.789150700Z"
    }
   },
   "id": "90f97ff9c5d9ec51",
   "execution_count": 12
  },
  {
   "cell_type": "markdown",
   "source": [
    "### lartpc, larrout"
   ],
   "metadata": {
    "collapsed": false
   },
   "id": "8202150c1e91e891"
  },
  {
   "cell_type": "code",
   "outputs": [],
   "source": [
    "# Suppression des colonnes lartpc, larrout\n",
    "full_data.drop(labels=['lartpc', 'larrout'], axis=1, inplace=True)"
   ],
   "metadata": {
    "collapsed": false,
    "ExecuteTime": {
     "end_time": "2024-04-12T05:18:46.879521800Z",
     "start_time": "2024-04-12T05:18:46.841601600Z"
    }
   },
   "id": "de3c82fd8975a6ff",
   "execution_count": 13
  },
  {
   "cell_type": "markdown",
   "source": [
    "### surf"
   ],
   "metadata": {
    "collapsed": false
   },
   "id": "a72e69db24ee1ccc"
  },
  {
   "cell_type": "code",
   "outputs": [
    {
     "name": "stdout",
     "output_type": "stream",
     "text": [
      "Les valeurs possibles sont : [1.0 2.0 <NA> 7.0 8.0 3.0 9.0 5.0 6.0 4.0].\n",
      "Le nombre de valeurs manquantes/incorrectes est de : 3341 pour un total de 142422 observations soit 2.345845445226159%.\n"
     ]
    }
   ],
   "source": [
    "# Harmonisation des données\n",
    "full_data['surf'] = full_data['surf'].replace([-1, 0], pd.NA).fillna(pd.NA)\n",
    "\n",
    "possible_values = full_data['surf'].unique()\n",
    "na_count = full_data['surf'].isna().sum()\n",
    "obs_count = full_data.shape[0]\n",
    "rep_na = na_count / obs_count * 100\n",
    "\n",
    "print(f\"Les valeurs possibles sont : {possible_values}.\")\n",
    "print(f\"Le nombre de valeurs manquantes/incorrectes est de : {na_count} pour un total de {obs_count} observations soit {rep_na}%.\")"
   ],
   "metadata": {
    "collapsed": false,
    "ExecuteTime": {
     "end_time": "2024-04-12T05:18:46.930820700Z",
     "start_time": "2024-04-12T05:18:46.875533300Z"
    }
   },
   "id": "b5d009d0ed72c9e",
   "execution_count": 14
  },
  {
   "cell_type": "markdown",
   "source": [
    "### infra"
   ],
   "metadata": {
    "collapsed": false
   },
   "id": "f6043ffd957fda08"
  },
  {
   "cell_type": "code",
   "outputs": [],
   "source": [
    "# Suppression de la colonne infra\n",
    "full_data.drop(labels=['infra'], axis=1, inplace=True)"
   ],
   "metadata": {
    "collapsed": false,
    "ExecuteTime": {
     "end_time": "2024-04-12T05:18:46.970092700Z",
     "start_time": "2024-04-12T05:18:46.928826500Z"
    }
   },
   "id": "31b1c7649a7302f1",
   "execution_count": 15
  },
  {
   "cell_type": "markdown",
   "source": [
    "#### situ"
   ],
   "metadata": {
    "collapsed": false
   },
   "id": "6ca44c4957b6d95a"
  },
  {
   "cell_type": "code",
   "outputs": [
    {
     "name": "stdout",
     "output_type": "stream",
     "text": [
      "Les valeurs possibles sont : [1.0 3.0 <NA> 2.0 4.0 5.0 6.0 8.0].\n",
      "Le nombre de valeurs manquantes/incorrectes est de : 5530 pour un total de 142422 observations soit 3.882827091320161%.\n"
     ]
    }
   ],
   "source": [
    "# Harmonisation des données\n",
    "full_data['situ'] = full_data['situ'].replace([-1, 0], pd.NA).fillna(pd.NA)\n",
    "\n",
    "possible_values = full_data['situ'].unique()\n",
    "na_count = full_data['situ'].isna().sum()\n",
    "obs_count = full_data.shape[0]\n",
    "rep_na = na_count / obs_count * 100\n",
    "\n",
    "print(f\"Les valeurs possibles sont : {possible_values}.\")\n",
    "print(f\"Le nombre de valeurs manquantes/incorrectes est de : {na_count} pour un total de {obs_count} observations soit {rep_na}%.\")"
   ],
   "metadata": {
    "collapsed": false,
    "ExecuteTime": {
     "end_time": "2024-04-12T05:18:47.021963800Z",
     "start_time": "2024-04-12T05:18:46.965105800Z"
    }
   },
   "id": "c389a6630298f7c8",
   "execution_count": 16
  },
  {
   "cell_type": "markdown",
   "source": [
    "### vma, env1"
   ],
   "metadata": {
    "collapsed": false
   },
   "id": "e3078cc3085b2a64"
  },
  {
   "cell_type": "code",
   "outputs": [],
   "source": [
    "# Suppression des colonnes vma, env1\n",
    "full_data.drop(labels=['vma', 'env1'], axis=1, inplace=True)"
   ],
   "metadata": {
    "collapsed": false,
    "ExecuteTime": {
     "end_time": "2024-04-12T05:18:47.060482800Z",
     "start_time": "2024-04-12T05:18:47.020966300Z"
    }
   },
   "id": "1eea63df43ab5e47",
   "execution_count": 17
  },
  {
   "cell_type": "code",
   "outputs": [],
   "source": [
    "full_data.to_csv('Data/TEST/TEST/Full_Test_V2.csv', index=False)"
   ],
   "metadata": {
    "collapsed": false,
    "ExecuteTime": {
     "end_time": "2024-04-12T05:18:49.664606200Z",
     "start_time": "2024-04-12T05:18:47.059485800Z"
    }
   },
   "id": "951f4c338273039b",
   "execution_count": 18
  },
  {
   "cell_type": "code",
   "outputs": [
    {
     "data": {
      "text/plain": "(142422, 43)"
     },
     "execution_count": 19,
     "metadata": {},
     "output_type": "execute_result"
    }
   ],
   "source": [
    "full_data.shape"
   ],
   "metadata": {
    "collapsed": false,
    "ExecuteTime": {
     "end_time": "2024-04-12T05:18:49.673449800Z",
     "start_time": "2024-04-12T05:18:49.664606200Z"
    }
   },
   "id": "bcc92cde5cec84ed",
   "execution_count": 19
  },
  {
   "cell_type": "code",
   "outputs": [],
   "source": [],
   "metadata": {
    "collapsed": false
   },
   "id": "9d2691427352397f"
  }
 ],
 "metadata": {
  "kernelspec": {
   "display_name": "Python 3",
   "language": "python",
   "name": "python3"
  },
  "language_info": {
   "codemirror_mode": {
    "name": "ipython",
    "version": 2
   },
   "file_extension": ".py",
   "mimetype": "text/x-python",
   "name": "python",
   "nbconvert_exporter": "python",
   "pygments_lexer": "ipython2",
   "version": "2.7.6"
  }
 },
 "nbformat": 4,
 "nbformat_minor": 5
}
