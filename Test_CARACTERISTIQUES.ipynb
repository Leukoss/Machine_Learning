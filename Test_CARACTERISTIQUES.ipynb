{
 "cells": [
  {
   "cell_type": "markdown",
   "source": [
    "## Packages"
   ],
   "metadata": {
    "collapsed": false
   },
   "id": "113ce8e7a1e2b076"
  },
  {
   "cell_type": "code",
   "outputs": [],
   "source": [
    "import pandas as pd             # Traitement des tableaux de données "
   ],
   "metadata": {
    "collapsed": false,
    "ExecuteTime": {
     "end_time": "2024-04-12T05:19:03.578767900Z",
     "start_time": "2024-04-12T05:19:03.134744500Z"
    }
   },
   "id": "ee3d3e71ea538d50",
   "execution_count": 1
  },
  {
   "cell_type": "markdown",
   "source": [
    "# Chargement des données"
   ],
   "metadata": {
    "collapsed": false
   },
   "id": "1c05797511bd635e"
  },
  {
   "cell_type": "code",
   "outputs": [],
   "source": [
    "full_data = pd.read_csv('Data/TEST/TEST/Full_Test_V2.csv', sep=',', low_memory=False)"
   ],
   "metadata": {
    "collapsed": false,
    "ExecuteTime": {
     "end_time": "2024-04-12T05:19:04.355793Z",
     "start_time": "2024-04-12T05:19:03.580762600Z"
    }
   },
   "id": "e2637e951050b3c",
   "execution_count": 2
  },
  {
   "cell_type": "code",
   "outputs": [
    {
     "data": {
      "text/plain": "        Num_Acc  place  catu  sexe  trajet  an_nais num_veh  id_vehicule_x  \\\n0  201200049538    1.0     1   0.0     1.0   1954.0     A01            NaN   \n1  201200049538    1.0     1   0.0     1.0   1968.0     C01            NaN   \n2  201200049538    1.0     1   0.0     2.0   1984.0     B01            NaN   \n3  201200004221    1.0     1   1.0     NaN   1973.0     A01            NaN   \n4  201200002457    1.0     1   1.0     NaN   1984.0     A01            NaN   \n\n   secu1  secu2  ...        lat      long  dep  catr  circ  nbv  prof  plan  \\\n0    1.0    NaN  ...  4891660.0  235776.0  930     1   1.0  4.0   2.0   1.0   \n1    1.0    NaN  ...  4891660.0  235776.0  930     1   1.0  4.0   2.0   1.0   \n2    1.0    NaN  ...  4891660.0  235776.0  930     1   1.0  4.0   2.0   1.0   \n3    2.0    NaN  ...  4432636.0  141214.0  460     3   2.0  2.0   2.0   1.0   \n4    1.0    NaN  ...        0.0       0.0  850     3   2.0  NaN   NaN   1.0   \n\n   surf situ  \n0   1.0  1.0  \n1   1.0  1.0  \n2   1.0  1.0  \n3   1.0  1.0  \n4   1.0  1.0  \n\n[5 rows x 43 columns]",
      "text/html": "<div>\n<style scoped>\n    .dataframe tbody tr th:only-of-type {\n        vertical-align: middle;\n    }\n\n    .dataframe tbody tr th {\n        vertical-align: top;\n    }\n\n    .dataframe thead th {\n        text-align: right;\n    }\n</style>\n<table border=\"1\" class=\"dataframe\">\n  <thead>\n    <tr style=\"text-align: right;\">\n      <th></th>\n      <th>Num_Acc</th>\n      <th>place</th>\n      <th>catu</th>\n      <th>sexe</th>\n      <th>trajet</th>\n      <th>an_nais</th>\n      <th>num_veh</th>\n      <th>id_vehicule_x</th>\n      <th>secu1</th>\n      <th>secu2</th>\n      <th>...</th>\n      <th>lat</th>\n      <th>long</th>\n      <th>dep</th>\n      <th>catr</th>\n      <th>circ</th>\n      <th>nbv</th>\n      <th>prof</th>\n      <th>plan</th>\n      <th>surf</th>\n      <th>situ</th>\n    </tr>\n  </thead>\n  <tbody>\n    <tr>\n      <th>0</th>\n      <td>201200049538</td>\n      <td>1.0</td>\n      <td>1</td>\n      <td>0.0</td>\n      <td>1.0</td>\n      <td>1954.0</td>\n      <td>A01</td>\n      <td>NaN</td>\n      <td>1.0</td>\n      <td>NaN</td>\n      <td>...</td>\n      <td>4891660.0</td>\n      <td>235776.0</td>\n      <td>930</td>\n      <td>1</td>\n      <td>1.0</td>\n      <td>4.0</td>\n      <td>2.0</td>\n      <td>1.0</td>\n      <td>1.0</td>\n      <td>1.0</td>\n    </tr>\n    <tr>\n      <th>1</th>\n      <td>201200049538</td>\n      <td>1.0</td>\n      <td>1</td>\n      <td>0.0</td>\n      <td>1.0</td>\n      <td>1968.0</td>\n      <td>C01</td>\n      <td>NaN</td>\n      <td>1.0</td>\n      <td>NaN</td>\n      <td>...</td>\n      <td>4891660.0</td>\n      <td>235776.0</td>\n      <td>930</td>\n      <td>1</td>\n      <td>1.0</td>\n      <td>4.0</td>\n      <td>2.0</td>\n      <td>1.0</td>\n      <td>1.0</td>\n      <td>1.0</td>\n    </tr>\n    <tr>\n      <th>2</th>\n      <td>201200049538</td>\n      <td>1.0</td>\n      <td>1</td>\n      <td>0.0</td>\n      <td>2.0</td>\n      <td>1984.0</td>\n      <td>B01</td>\n      <td>NaN</td>\n      <td>1.0</td>\n      <td>NaN</td>\n      <td>...</td>\n      <td>4891660.0</td>\n      <td>235776.0</td>\n      <td>930</td>\n      <td>1</td>\n      <td>1.0</td>\n      <td>4.0</td>\n      <td>2.0</td>\n      <td>1.0</td>\n      <td>1.0</td>\n      <td>1.0</td>\n    </tr>\n    <tr>\n      <th>3</th>\n      <td>201200004221</td>\n      <td>1.0</td>\n      <td>1</td>\n      <td>1.0</td>\n      <td>NaN</td>\n      <td>1973.0</td>\n      <td>A01</td>\n      <td>NaN</td>\n      <td>2.0</td>\n      <td>NaN</td>\n      <td>...</td>\n      <td>4432636.0</td>\n      <td>141214.0</td>\n      <td>460</td>\n      <td>3</td>\n      <td>2.0</td>\n      <td>2.0</td>\n      <td>2.0</td>\n      <td>1.0</td>\n      <td>1.0</td>\n      <td>1.0</td>\n    </tr>\n    <tr>\n      <th>4</th>\n      <td>201200002457</td>\n      <td>1.0</td>\n      <td>1</td>\n      <td>1.0</td>\n      <td>NaN</td>\n      <td>1984.0</td>\n      <td>A01</td>\n      <td>NaN</td>\n      <td>1.0</td>\n      <td>NaN</td>\n      <td>...</td>\n      <td>0.0</td>\n      <td>0.0</td>\n      <td>850</td>\n      <td>3</td>\n      <td>2.0</td>\n      <td>NaN</td>\n      <td>NaN</td>\n      <td>1.0</td>\n      <td>1.0</td>\n      <td>1.0</td>\n    </tr>\n  </tbody>\n</table>\n<p>5 rows × 43 columns</p>\n</div>"
     },
     "execution_count": 3,
     "metadata": {},
     "output_type": "execute_result"
    }
   ],
   "source": [
    "full_data.head()"
   ],
   "metadata": {
    "collapsed": false,
    "ExecuteTime": {
     "end_time": "2024-04-12T05:19:04.401326500Z",
     "start_time": "2024-04-12T05:19:04.357788500Z"
    }
   },
   "id": "7b09107a27a98d03",
   "execution_count": 3
  },
  {
   "cell_type": "markdown",
   "source": [
    "## Traitement des données conformément à celui appliquer sur les données d'entraînement\n",
    "\n",
    "On applique les mêmes traitements que ceux appliquer au set d'entraînement afin de conserver une homogénéité train/test assurrant au modèle de simplement travailler sur des valeurs inédites et non des formats.\n",
    "\n",
    "### CARACTERISTIQUES\n",
    "\n",
    "- **jour** : manquement de 0 valeur.\n",
    "- **mois** : manquement de 0 valeur.\n",
    "- **an** : manquement de 0 valeur. \n",
    "- **hrmn** : manquement de 0 valeur. \n",
    "- **lum** : manquement de 2 valeurs.\n",
    "- **dep** : manquement de 3019 valeurs.\n",
    "- **agg** : manquement de 0 valeur.\n",
    "- **int** : manquement de 3719 valeurs.\n",
    "- **atm** : manquement de 896 valeurs."
   ],
   "metadata": {
    "collapsed": false
   },
   "id": "c6c0b311b68f8bff"
  },
  {
   "cell_type": "code",
   "outputs": [],
   "source": [
    "def convert_float_to_int(data_frame, col_name):\n",
    "    data_frame[col_name] = data_frame[col_name].astype(int)\n",
    "    \n",
    "def convert_float_to_cat(data_frame, col_name):\n",
    "    data_frame[col_name] = data_frame[col_name].astype(int)\n",
    "    data_frame[col_name] = data_frame[col_name].astype('category')\n",
    "    \n",
    "def convert_str_to_cat(data_frame, col_name):\n",
    "    data_frame[col_name] = data_frame[col_name].astype('category')\n",
    "    \n",
    "def convert_str_to_int(data_frame, col_name):\n",
    "    data_frame[col_name] = data_frame[col_name].astype(int)"
   ],
   "metadata": {
    "collapsed": false,
    "ExecuteTime": {
     "end_time": "2024-04-12T05:19:04.402324200Z",
     "start_time": "2024-04-12T05:19:04.385055700Z"
    }
   },
   "id": "f44f4a1278ab5705",
   "execution_count": 4
  },
  {
   "cell_type": "markdown",
   "source": [
    "### jour"
   ],
   "metadata": {
    "collapsed": false
   },
   "id": "af19a01d6ee65816"
  },
  {
   "cell_type": "code",
   "outputs": [
    {
     "name": "stdout",
     "output_type": "stream",
     "text": [
      "Les valeurs possibles sont : [12 22  3 20 14 15  7 11 30  1 23 31 21 29  9 13 25  6  5 17 27 10 28  8\n",
      " 18 26 16 24 19  2  4].\n",
      "Le nombre de valeurs manquantes/incorrectes est de : 0 pour un total de 142422 observations soit 0.0%.\n"
     ]
    }
   ],
   "source": [
    "possible_values = full_data['jour'].unique()\n",
    "na_count = full_data['jour'].isna().sum()\n",
    "obs_count = full_data.shape[0]\n",
    "rep_na = na_count / obs_count * 100\n",
    "\n",
    "print(f\"Les valeurs possibles sont : {possible_values}.\")\n",
    "print(f\"Le nombre de valeurs manquantes/incorrectes est de : {na_count} pour un total de {obs_count} observations soit {rep_na}%.\")"
   ],
   "metadata": {
    "collapsed": false,
    "ExecuteTime": {
     "end_time": "2024-04-12T05:19:04.512985500Z",
     "start_time": "2024-04-12T05:19:04.395346900Z"
    }
   },
   "id": "a59a9bc4eb60c595",
   "execution_count": 5
  },
  {
   "cell_type": "markdown",
   "source": [
    "### mois"
   ],
   "metadata": {
    "collapsed": false
   },
   "id": "b2e25fa66bcbcda1"
  },
  {
   "cell_type": "code",
   "outputs": [
    {
     "name": "stdout",
     "output_type": "stream",
     "text": [
      "Les valeurs possibles sont : [ 8  6  2 11  5 10 12  7  3  1  9  4].\n",
      "Le nombre de valeurs manquantes/incorrectes est de : 0 pour un total de 142422 observations soit 0.0%.\n"
     ]
    }
   ],
   "source": [
    "possible_values = full_data['mois'].unique()\n",
    "na_count = full_data['mois'].isna().sum()\n",
    "obs_count = full_data.shape[0]\n",
    "rep_na = na_count / obs_count * 100\n",
    "\n",
    "print(f\"Les valeurs possibles sont : {possible_values}.\")\n",
    "print(f\"Le nombre de valeurs manquantes/incorrectes est de : {na_count} pour un total de {obs_count} observations soit {rep_na}%.\")"
   ],
   "metadata": {
    "collapsed": false,
    "ExecuteTime": {
     "end_time": "2024-04-12T05:19:04.513983300Z",
     "start_time": "2024-04-12T05:19:04.434224100Z"
    }
   },
   "id": "4ba879b64fce7f1e",
   "execution_count": 6
  },
  {
   "cell_type": "markdown",
   "source": [
    "### an"
   ],
   "metadata": {
    "collapsed": false
   },
   "id": "74c954760a7f01a5"
  },
  {
   "cell_type": "code",
   "outputs": [
    {
     "name": "stdout",
     "output_type": "stream",
     "text": [
      "Les valeurs possibles sont : [2012 2013 2014 2015 2016 2017 2018 2019 2020 2021 2022].\n",
      "Le nombre de valeurs manquantes/incorrectes est de : 0 pour un total de 142422 observations soit 0.0%.\n"
     ]
    }
   ],
   "source": [
    "# Traitement sur les années pour harmoniser la forme des étiquettes [2012 et non 12 par exemple]\n",
    "full_data.loc[(full_data['an'] >= 12) & (full_data['an'] <= 18), 'an'] += 2000\n",
    "\n",
    "possible_values = full_data['an'].unique()\n",
    "na_count = full_data['an'].isna().sum()\n",
    "obs_count = full_data.shape[0]\n",
    "rep_na = na_count / obs_count * 100\n",
    "\n",
    "print(f\"Les valeurs possibles sont : {possible_values}.\")\n",
    "print(f\"Le nombre de valeurs manquantes/incorrectes est de : {na_count} pour un total de {obs_count} observations soit {rep_na}%.\")"
   ],
   "metadata": {
    "collapsed": false,
    "ExecuteTime": {
     "end_time": "2024-04-12T05:19:04.515977600Z",
     "start_time": "2024-04-12T05:19:04.441205200Z"
    }
   },
   "id": "e762be63118fe0ec",
   "execution_count": 7
  },
  {
   "cell_type": "markdown",
   "source": [
    "#### hrmn"
   ],
   "metadata": {
    "collapsed": false
   },
   "id": "8202c4fe77c1a62c"
  },
  {
   "cell_type": "code",
   "outputs": [
    {
     "name": "stdout",
     "output_type": "stream",
     "text": [
      "Les valeurs possibles sont : [13  6 22 18 21 17 11 16 10 15 19 14 23  8  5  9  7  1 20 12  2  0  4  3].\n",
      "Le nombre de valeurs manquantes/incorrectes est de : 0 pour un total de 142422 observations soit 0.0%.\n"
     ]
    }
   ],
   "source": [
    "# Harmonise hr:mn de type string en int\n",
    "def convert_to_int(time_str):\n",
    "    if isinstance(time_str, str):\n",
    "        if ':' in time_str:\n",
    "            hours, minutes = map(int, time_str.split(':'))\n",
    "            return hours * 100 + minutes\n",
    "        else:\n",
    "            return int(time_str)\n",
    "    else:\n",
    "        return time_str\n",
    "    \n",
    "full_data['hrmn'] = full_data['hrmn'].apply(convert_to_int)\n",
    "\n",
    "# Converti en valeur numérique\n",
    "convert_float_to_int(full_data, 'hrmn')\n",
    "\n",
    "# Traitement des minutes \n",
    "def generate_intervals(start, end, step):\n",
    "    intervals = []\n",
    "    for i in range(start, end, step):\n",
    "        intervals.append((i, i + step))\n",
    "    return intervals\n",
    "\n",
    "# Generate intervals automatically for each 100 units\n",
    "intervals = generate_intervals(0, 2400, 100)\n",
    "simple_values = list(range(len(intervals)))\n",
    "\n",
    "# Function to map values to simple values based on intervals\n",
    "def map_to_simple_value(value):\n",
    "    for i, interval in enumerate(intervals):\n",
    "        if interval[0] <= value < interval[1]:\n",
    "            return simple_values[i]\n",
    "    return None  # Return None if value is outside all intervals\n",
    "\n",
    "# Apply the mapping function to the column and create a new column with the simple values\n",
    "full_data['hrmn'] = full_data['hrmn'].apply(map_to_simple_value)\n",
    "\n",
    "possible_values = full_data['hrmn'].unique()\n",
    "na_count = full_data['hrmn'].isna().sum()\n",
    "obs_count = full_data.shape[0]\n",
    "rep_na = na_count / obs_count * 100\n",
    "\n",
    "print(f\"Les valeurs possibles sont : {possible_values}.\")\n",
    "print(f\"Le nombre de valeurs manquantes/incorrectes est de : {na_count} pour un total de {obs_count} observations soit {rep_na}%.\")"
   ],
   "metadata": {
    "collapsed": false,
    "ExecuteTime": {
     "end_time": "2024-04-12T05:19:04.809420700Z",
     "start_time": "2024-04-12T05:19:04.466111300Z"
    }
   },
   "id": "99e54c3b240b038c",
   "execution_count": 8
  },
  {
   "cell_type": "markdown",
   "source": [
    "### lum"
   ],
   "metadata": {
    "collapsed": false
   },
   "id": "47a4b8473d2a8cd1"
  },
  {
   "cell_type": "code",
   "outputs": [
    {
     "name": "stdout",
     "output_type": "stream",
     "text": [
      "Les valeurs possibles sont : [1 2 3 5 4 <NA>].\n",
      "Le nombre de valeurs manquantes/incorrectes est de : 2 pour un total de 142422 observations soit 0.0014042774290488828%.\n"
     ]
    }
   ],
   "source": [
    "# Harmonise les données \n",
    "full_data['lum'] = full_data['lum'].replace([-1], pd.NA).fillna(pd.NA)\n",
    "\n",
    "possible_values = full_data['lum'].unique()\n",
    "na_count = full_data['lum'].isna().sum()\n",
    "obs_count = full_data.shape[0]\n",
    "rep_na = na_count / obs_count * 100\n",
    "\n",
    "print(f\"Les valeurs possibles sont : {possible_values}.\")\n",
    "print(f\"Le nombre de valeurs manquantes/incorrectes est de : {na_count} pour un total de {obs_count} observations soit {rep_na}%.\")"
   ],
   "metadata": {
    "collapsed": false,
    "ExecuteTime": {
     "end_time": "2024-04-12T05:19:04.883114700Z",
     "start_time": "2024-04-12T05:19:04.805431700Z"
    }
   },
   "id": "cff769670db4585e",
   "execution_count": 9
  },
  {
   "cell_type": "markdown",
   "source": [
    "### dep"
   ],
   "metadata": {
    "collapsed": false
   },
   "id": "23a77d8af1220ddd"
  },
  {
   "cell_type": "code",
   "outputs": [
    {
     "name": "stdout",
     "output_type": "stream",
     "text": [
      "Les valeurs possibles sont : ['93' '46' '85' '45' '33' '38' '94' '34' '64' '35' '83' '49' '13' '11'\n",
      " '78' '80' '971' '30' '60' '41' '69' '44' '67' '14' '52' '59' '37' '75'\n",
      " '42' '22' '29' '31' '91' '92' '79' '95' '77' '88' '72' '18' '56' '972'\n",
      " '57' '10' '47' '17' '36' '62' '974' '73' '74' '63' '53' '76' '27' '21'\n",
      " '15' '71' '68' '66' '89' '26' '50' '90' '54' '55' '20' '65' '84' '25'\n",
      " '58' '70' '82' '40' '19' '51' <NA> '87' '23' '61' '86' '28' '24' '81'\n",
      " '39' '16' '43' '12' '48' '32' '976' '6' '9' '5' '1' '4' '2' '8' '7' '3'].\n",
      "Le nombre de valeurs manquantes/incorrectes est de : 3019 pour un total de 142422 observations soit 2.1197567791492884%.\n"
     ]
    }
   ],
   "source": [
    "# Harmonisation des départements\n",
    "# Supprime les 0 superflus à gauche\n",
    "full_data['dep'] = full_data['dep'].apply(lambda x: x.lstrip('0'))\n",
    "\n",
    "# Cas des départements inexistants (100, 970...)\n",
    "full_data['dep'] = full_data['dep'].apply(lambda x: x[:-1] if len(x) == 3 and x.endswith('0') else x)\n",
    "\n",
    "# Remplace les valeurs pour la Corse\n",
    "full_data['dep'] = full_data['dep'].replace({'201': '2A', '202': '2B'})\n",
    "\n",
    "# En cas d'autres valeurs de département, supprime les lignes\n",
    "# Créez une liste des codes de département valides\n",
    "valid_dep_codes = list(map(str, range(1, 96))) + ['971', '972', '974', '976']\n",
    "\n",
    "# Sélectionnez les lignes où la colonne 'dep' n'est pas dans la liste des codes de département valides\n",
    "invalid_dep_rows = ~full_data['dep'].isin(valid_dep_codes)\n",
    "\n",
    "# Assignez pd.NA à la colonne 'dep' pour les lignes où la condition est vraie\n",
    "full_data.loc[invalid_dep_rows, 'dep'] = pd.NA\n",
    "\n",
    "possible_values = full_data['dep'].unique()\n",
    "na_count = full_data['dep'].isna().sum()\n",
    "obs_count = full_data.shape[0]\n",
    "rep_na = na_count / obs_count * 100\n",
    "\n",
    "print(f\"Les valeurs possibles sont : {possible_values}.\")\n",
    "print(f\"Le nombre de valeurs manquantes/incorrectes est de : {na_count} pour un total de {obs_count} observations soit {rep_na}%.\")"
   ],
   "metadata": {
    "collapsed": false,
    "ExecuteTime": {
     "end_time": "2024-04-12T05:19:04.993644700Z",
     "start_time": "2024-04-12T05:19:04.877130800Z"
    }
   },
   "id": "ecb3f5db59c9ff0b",
   "execution_count": 10
  },
  {
   "cell_type": "markdown",
   "source": [
    "### com"
   ],
   "metadata": {
    "collapsed": false
   },
   "id": "7b120fb99a1c122b"
  },
  {
   "cell_type": "code",
   "outputs": [],
   "source": [
    "# Suppression de la colonne com \n",
    "full_data.drop(labels=['com'], axis=1, inplace=True)"
   ],
   "metadata": {
    "collapsed": false,
    "ExecuteTime": {
     "end_time": "2024-04-12T05:19:05.015087700Z",
     "start_time": "2024-04-12T05:19:04.991650100Z"
    }
   },
   "id": "c69a5615ca26dd64",
   "execution_count": 11
  },
  {
   "cell_type": "markdown",
   "source": [
    "### agg"
   ],
   "metadata": {
    "collapsed": false
   },
   "id": "28e2fa7d248c087"
  },
  {
   "cell_type": "code",
   "outputs": [
    {
     "name": "stdout",
     "output_type": "stream",
     "text": [
      "Les valeurs possibles sont : [1 0].\n",
      "Le nombre de valeurs manquantes/incorrectes est de : 0 pour un total de 142422 observations soit 0.0%.\n"
     ]
    }
   ],
   "source": [
    "# Binarisation de la valeur d'agglomération\n",
    "full_data['agg'] = full_data['agg'].replace({2: 0})\n",
    "\n",
    "possible_values = full_data['agg'].unique()\n",
    "na_count = full_data['agg'].isna().sum()\n",
    "obs_count = full_data.shape[0]\n",
    "rep_na = na_count / obs_count * 100\n",
    "\n",
    "print(f\"Les valeurs possibles sont : {possible_values}.\")\n",
    "print(f\"Le nombre de valeurs manquantes/incorrectes est de : {na_count} pour un total de {obs_count} observations soit {rep_na}%.\")"
   ],
   "metadata": {
    "collapsed": false,
    "ExecuteTime": {
     "end_time": "2024-04-12T05:19:05.039789700Z",
     "start_time": "2024-04-12T05:19:05.016085300Z"
    }
   },
   "id": "90f97ff9c5d9ec51",
   "execution_count": 12
  },
  {
   "cell_type": "markdown",
   "source": [
    "### int"
   ],
   "metadata": {
    "collapsed": false
   },
   "id": "8202150c1e91e891"
  },
  {
   "cell_type": "code",
   "outputs": [
    {
     "name": "stdout",
     "output_type": "stream",
     "text": [
      "Les valeurs possibles sont : [1 6 3 2 <NA> 5 7 4 8].\n",
      "Le nombre de valeurs manquantes/incorrectes est de : 3719 pour un total de 142422 observations soit 2.6112538793163975%.\n"
     ]
    }
   ],
   "source": [
    "# Harmonise les données\n",
    "full_data['int'] = full_data['int'].replace([-1, 0, 9], pd.NA)\n",
    "\n",
    "possible_values = full_data['int'].unique()\n",
    "na_count = full_data['int'].isna().sum()\n",
    "obs_count = full_data.shape[0]\n",
    "rep_na = na_count / obs_count * 100\n",
    "\n",
    "print(f\"Les valeurs possibles sont : {possible_values}.\")\n",
    "print(f\"Le nombre de valeurs manquantes/incorrectes est de : {na_count} pour un total de {obs_count} observations soit {rep_na}%.\")"
   ],
   "metadata": {
    "collapsed": false,
    "ExecuteTime": {
     "end_time": "2024-04-12T05:19:05.110154200Z",
     "start_time": "2024-04-12T05:19:05.030814Z"
    }
   },
   "id": "de3c82fd8975a6ff",
   "execution_count": 13
  },
  {
   "cell_type": "markdown",
   "source": [
    "### atm"
   ],
   "metadata": {
    "collapsed": false
   },
   "id": "a72e69db24ee1ccc"
  },
  {
   "cell_type": "code",
   "outputs": [
    {
     "name": "stdout",
     "output_type": "stream",
     "text": [
      "Les valeurs possibles sont : [1.0 2.0 3.0 <NA> 8.0 7.0 4.0 6.0 5.0].\n",
      "Le nombre de valeurs manquantes/incorrectes est de : 896 pour un total de 142422 observations soit 0.6291162882138995%.\n"
     ]
    }
   ],
   "source": [
    "# Harmonise les données\n",
    "full_data['atm'] = full_data['atm'].replace([-1, 0, 9], pd.NA).fillna(pd.NA)\n",
    "\n",
    "possible_values = full_data['atm'].unique()\n",
    "na_count = full_data['atm'].isna().sum()\n",
    "obs_count = full_data.shape[0]\n",
    "rep_na = na_count / obs_count * 100\n",
    "\n",
    "print(f\"Les valeurs possibles sont : {possible_values}.\")\n",
    "print(f\"Le nombre de valeurs manquantes/incorrectes est de : {na_count} pour un total de {obs_count} observations soit {rep_na}%.\")"
   ],
   "metadata": {
    "collapsed": false,
    "ExecuteTime": {
     "end_time": "2024-04-12T05:19:05.161020500Z",
     "start_time": "2024-04-12T05:19:05.111150700Z"
    }
   },
   "id": "b5d009d0ed72c9e",
   "execution_count": 14
  },
  {
   "cell_type": "markdown",
   "source": [
    "### col"
   ],
   "metadata": {
    "collapsed": false
   },
   "id": "f6043ffd957fda08"
  },
  {
   "cell_type": "code",
   "outputs": [
    {
     "name": "stdout",
     "output_type": "stream",
     "text": [
      "Les valeurs possibles sont : [4.0 6.0 1.0 7.0 3.0 2.0 5.0 <NA>].\n",
      "Le nombre de valeurs manquantes/incorrectes est de : 384 pour un total de 142422 observations soit 0.26962126637738554%.\n"
     ]
    }
   ],
   "source": [
    "# Harmonise les données\n",
    "full_data['col'] = full_data['col'].replace([-1], pd.NA).fillna(pd.NA)\n",
    "\n",
    "possible_values = full_data['col'].unique()\n",
    "na_count = full_data['col'].isna().sum()\n",
    "obs_count = full_data.shape[0]\n",
    "rep_na = na_count / obs_count * 100\n",
    "\n",
    "print(f\"Les valeurs possibles sont : {possible_values}.\")\n",
    "print(f\"Le nombre de valeurs manquantes/incorrectes est de : {na_count} pour un total de {obs_count} observations soit {rep_na}%.\")"
   ],
   "metadata": {
    "collapsed": false,
    "ExecuteTime": {
     "end_time": "2024-04-12T05:19:05.207437500Z",
     "start_time": "2024-04-12T05:19:05.163015500Z"
    }
   },
   "id": "31b1c7649a7302f1",
   "execution_count": 15
  },
  {
   "cell_type": "markdown",
   "source": [
    "#### adr, lat, long, gps"
   ],
   "metadata": {
    "collapsed": false
   },
   "id": "6ca44c4957b6d95a"
  },
  {
   "cell_type": "code",
   "outputs": [],
   "source": [
    "# Suppression des colonnes adr, gps, lat, long \n",
    "full_data.drop(labels=['adr', 'gps', 'lat', 'long'], axis=1, inplace=True)"
   ],
   "metadata": {
    "collapsed": false,
    "ExecuteTime": {
     "end_time": "2024-04-12T05:19:05.251777300Z",
     "start_time": "2024-04-12T05:19:05.203448400Z"
    }
   },
   "id": "c389a6630298f7c8",
   "execution_count": 16
  },
  {
   "cell_type": "code",
   "outputs": [],
   "source": [
    "full_data.to_csv('Data/TEST/TEST/Full_Test_V3.csv', index=False)"
   ],
   "metadata": {
    "collapsed": false,
    "ExecuteTime": {
     "end_time": "2024-04-12T05:19:07.298310500Z",
     "start_time": "2024-04-12T05:19:05.243799600Z"
    }
   },
   "id": "951f4c338273039b",
   "execution_count": 17
  },
  {
   "cell_type": "code",
   "outputs": [
    {
     "data": {
      "text/plain": "(142422, 38)"
     },
     "execution_count": 18,
     "metadata": {},
     "output_type": "execute_result"
    }
   ],
   "source": [
    "full_data.shape"
   ],
   "metadata": {
    "collapsed": false,
    "ExecuteTime": {
     "end_time": "2024-04-12T05:19:07.306289500Z",
     "start_time": "2024-04-12T05:19:07.299308300Z"
    }
   },
   "id": "bcc92cde5cec84ed",
   "execution_count": 18
  },
  {
   "cell_type": "code",
   "outputs": [],
   "source": [],
   "metadata": {
    "collapsed": false
   },
   "id": "9d2691427352397f"
  }
 ],
 "metadata": {
  "kernelspec": {
   "display_name": "Python 3",
   "language": "python",
   "name": "python3"
  },
  "language_info": {
   "codemirror_mode": {
    "name": "ipython",
    "version": 2
   },
   "file_extension": ".py",
   "mimetype": "text/x-python",
   "name": "python",
   "nbconvert_exporter": "python",
   "pygments_lexer": "ipython2",
   "version": "2.7.6"
  }
 },
 "nbformat": 4,
 "nbformat_minor": 5
}
