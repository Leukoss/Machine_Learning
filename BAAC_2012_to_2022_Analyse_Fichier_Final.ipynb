{
 "cells": [
  {
   "cell_type": "markdown",
   "source": [
    "## Packages "
   ],
   "metadata": {
    "collapsed": false
   },
   "id": "8f90f15ba3af3659"
  },
  {
   "cell_type": "code",
   "outputs": [],
   "source": [
    "import pandas as pd"
   ],
   "metadata": {
    "collapsed": false,
    "ExecuteTime": {
     "end_time": "2024-04-12T05:16:24.034537Z",
     "start_time": "2024-04-12T05:16:23.579360900Z"
    }
   },
   "id": "d813876643ee190d",
   "execution_count": 1
  },
  {
   "cell_type": "markdown",
   "source": [
    "# Training Set"
   ],
   "metadata": {
    "collapsed": false
   },
   "id": "c489a1b7b410c9a6"
  },
  {
   "cell_type": "code",
   "execution_count": 2,
   "id": "initial_id",
   "metadata": {
    "collapsed": true,
    "ExecuteTime": {
     "end_time": "2024-04-12T05:16:25.334038900Z",
     "start_time": "2024-04-12T05:16:24.034537Z"
    }
   },
   "outputs": [
    {
     "data": {
      "text/plain": "   place  catu  grav  sexe  trajet  an_nais  catv  occutc  obs  obsm  ...  \\\n0      1     1     0     1       5     1994     7       0    0     2  ...   \n1      2     2     0     1       9     1992     7       0    0     2  ...   \n2      1     1     0     1       5     1976    33       0    0     2  ...   \n3      2     2     1     0       9     1972    33       0    0     2  ...   \n4      1     1     0     0       5     1962     7       0    0     2  ...   \n\n   catr  circ  nbv  prof  plan  surf  situ  secu1  secu2  secu3  \n0     3     2    2     1     1     1     1      8      8      8  \n1     3     2    2     1     1     1     1      1      8      8  \n2     3     2    2     1     1     1     1      2      8      8  \n3     3     2    2     1     1     1     1      2      8      8  \n4     3     2    2     1     3     1     1      1      8      8  \n\n[5 rows x 32 columns]",
      "text/html": "<div>\n<style scoped>\n    .dataframe tbody tr th:only-of-type {\n        vertical-align: middle;\n    }\n\n    .dataframe tbody tr th {\n        vertical-align: top;\n    }\n\n    .dataframe thead th {\n        text-align: right;\n    }\n</style>\n<table border=\"1\" class=\"dataframe\">\n  <thead>\n    <tr style=\"text-align: right;\">\n      <th></th>\n      <th>place</th>\n      <th>catu</th>\n      <th>grav</th>\n      <th>sexe</th>\n      <th>trajet</th>\n      <th>an_nais</th>\n      <th>catv</th>\n      <th>occutc</th>\n      <th>obs</th>\n      <th>obsm</th>\n      <th>...</th>\n      <th>catr</th>\n      <th>circ</th>\n      <th>nbv</th>\n      <th>prof</th>\n      <th>plan</th>\n      <th>surf</th>\n      <th>situ</th>\n      <th>secu1</th>\n      <th>secu2</th>\n      <th>secu3</th>\n    </tr>\n  </thead>\n  <tbody>\n    <tr>\n      <th>0</th>\n      <td>1</td>\n      <td>1</td>\n      <td>0</td>\n      <td>1</td>\n      <td>5</td>\n      <td>1994</td>\n      <td>7</td>\n      <td>0</td>\n      <td>0</td>\n      <td>2</td>\n      <td>...</td>\n      <td>3</td>\n      <td>2</td>\n      <td>2</td>\n      <td>1</td>\n      <td>1</td>\n      <td>1</td>\n      <td>1</td>\n      <td>8</td>\n      <td>8</td>\n      <td>8</td>\n    </tr>\n    <tr>\n      <th>1</th>\n      <td>2</td>\n      <td>2</td>\n      <td>0</td>\n      <td>1</td>\n      <td>9</td>\n      <td>1992</td>\n      <td>7</td>\n      <td>0</td>\n      <td>0</td>\n      <td>2</td>\n      <td>...</td>\n      <td>3</td>\n      <td>2</td>\n      <td>2</td>\n      <td>1</td>\n      <td>1</td>\n      <td>1</td>\n      <td>1</td>\n      <td>1</td>\n      <td>8</td>\n      <td>8</td>\n    </tr>\n    <tr>\n      <th>2</th>\n      <td>1</td>\n      <td>1</td>\n      <td>0</td>\n      <td>1</td>\n      <td>5</td>\n      <td>1976</td>\n      <td>33</td>\n      <td>0</td>\n      <td>0</td>\n      <td>2</td>\n      <td>...</td>\n      <td>3</td>\n      <td>2</td>\n      <td>2</td>\n      <td>1</td>\n      <td>1</td>\n      <td>1</td>\n      <td>1</td>\n      <td>2</td>\n      <td>8</td>\n      <td>8</td>\n    </tr>\n    <tr>\n      <th>3</th>\n      <td>2</td>\n      <td>2</td>\n      <td>1</td>\n      <td>0</td>\n      <td>9</td>\n      <td>1972</td>\n      <td>33</td>\n      <td>0</td>\n      <td>0</td>\n      <td>2</td>\n      <td>...</td>\n      <td>3</td>\n      <td>2</td>\n      <td>2</td>\n      <td>1</td>\n      <td>1</td>\n      <td>1</td>\n      <td>1</td>\n      <td>2</td>\n      <td>8</td>\n      <td>8</td>\n    </tr>\n    <tr>\n      <th>4</th>\n      <td>1</td>\n      <td>1</td>\n      <td>0</td>\n      <td>0</td>\n      <td>5</td>\n      <td>1962</td>\n      <td>7</td>\n      <td>0</td>\n      <td>0</td>\n      <td>2</td>\n      <td>...</td>\n      <td>3</td>\n      <td>2</td>\n      <td>2</td>\n      <td>1</td>\n      <td>3</td>\n      <td>1</td>\n      <td>1</td>\n      <td>1</td>\n      <td>8</td>\n      <td>8</td>\n    </tr>\n  </tbody>\n</table>\n<p>5 rows × 32 columns</p>\n</div>"
     },
     "execution_count": 2,
     "metadata": {},
     "output_type": "execute_result"
    }
   ],
   "source": [
    "# Chargement du jeu de données \n",
    "train_data = pd.read_csv('Data/TRAIN_FULL/BAAC_2012_to_2022_V4_to_V4.csv', low_memory=False)\n",
    "\n",
    "train_data.head()"
   ]
  },
  {
   "cell_type": "code",
   "outputs": [
    {
     "data": {
      "text/plain": "(581730, 32)"
     },
     "execution_count": 3,
     "metadata": {},
     "output_type": "execute_result"
    }
   ],
   "source": [
    "train_data.shape"
   ],
   "metadata": {
    "collapsed": false,
    "ExecuteTime": {
     "end_time": "2024-04-12T05:16:25.341370200Z",
     "start_time": "2024-04-12T05:16:25.330380500Z"
    }
   },
   "id": "f87891ad6b2e6b19",
   "execution_count": 3
  },
  {
   "cell_type": "markdown",
   "source": [
    "# Test set"
   ],
   "metadata": {
    "collapsed": false
   },
   "id": "a4b4bd7d5dc5a809"
  },
  {
   "cell_type": "code",
   "outputs": [
    {
     "data": {
      "text/plain": "        Num_Acc  place  catu  sexe  trajet  an_nais  secu1  secu2  secu3  \\\n0  201200049538    1.0     1   0.0     1.0   1954.0    1.0    NaN    NaN   \n1  201200049538    1.0     1   0.0     1.0   1968.0    1.0    NaN    NaN   \n2  201200049538    1.0     1   0.0     2.0   1984.0    1.0    NaN    NaN   \n3  201200004221    1.0     1   1.0     NaN   1973.0    2.0    NaN    NaN   \n4  201200002457    1.0     1   1.0     NaN   1984.0    1.0    NaN    NaN   \n\n   catv  ...  atm  col   dep  catr  circ  nbv  prof  plan  surf  situ  \n0   7.0  ...  1.0  4.0  93.0     1   1.0  4.0   2.0   1.0   1.0   1.0  \n1   7.0  ...  1.0  4.0  93.0     1   1.0  4.0   2.0   1.0   1.0   1.0  \n2   7.0  ...  1.0  4.0  93.0     1   1.0  4.0   2.0   1.0   1.0   1.0  \n3  33.0  ...  1.0  6.0  46.0     3   2.0  2.0   2.0   1.0   1.0   1.0  \n4   7.0  ...  1.0  1.0  85.0     3   2.0  NaN   NaN   1.0   1.0   1.0  \n\n[5 rows x 32 columns]",
      "text/html": "<div>\n<style scoped>\n    .dataframe tbody tr th:only-of-type {\n        vertical-align: middle;\n    }\n\n    .dataframe tbody tr th {\n        vertical-align: top;\n    }\n\n    .dataframe thead th {\n        text-align: right;\n    }\n</style>\n<table border=\"1\" class=\"dataframe\">\n  <thead>\n    <tr style=\"text-align: right;\">\n      <th></th>\n      <th>Num_Acc</th>\n      <th>place</th>\n      <th>catu</th>\n      <th>sexe</th>\n      <th>trajet</th>\n      <th>an_nais</th>\n      <th>secu1</th>\n      <th>secu2</th>\n      <th>secu3</th>\n      <th>catv</th>\n      <th>...</th>\n      <th>atm</th>\n      <th>col</th>\n      <th>dep</th>\n      <th>catr</th>\n      <th>circ</th>\n      <th>nbv</th>\n      <th>prof</th>\n      <th>plan</th>\n      <th>surf</th>\n      <th>situ</th>\n    </tr>\n  </thead>\n  <tbody>\n    <tr>\n      <th>0</th>\n      <td>201200049538</td>\n      <td>1.0</td>\n      <td>1</td>\n      <td>0.0</td>\n      <td>1.0</td>\n      <td>1954.0</td>\n      <td>1.0</td>\n      <td>NaN</td>\n      <td>NaN</td>\n      <td>7.0</td>\n      <td>...</td>\n      <td>1.0</td>\n      <td>4.0</td>\n      <td>93.0</td>\n      <td>1</td>\n      <td>1.0</td>\n      <td>4.0</td>\n      <td>2.0</td>\n      <td>1.0</td>\n      <td>1.0</td>\n      <td>1.0</td>\n    </tr>\n    <tr>\n      <th>1</th>\n      <td>201200049538</td>\n      <td>1.0</td>\n      <td>1</td>\n      <td>0.0</td>\n      <td>1.0</td>\n      <td>1968.0</td>\n      <td>1.0</td>\n      <td>NaN</td>\n      <td>NaN</td>\n      <td>7.0</td>\n      <td>...</td>\n      <td>1.0</td>\n      <td>4.0</td>\n      <td>93.0</td>\n      <td>1</td>\n      <td>1.0</td>\n      <td>4.0</td>\n      <td>2.0</td>\n      <td>1.0</td>\n      <td>1.0</td>\n      <td>1.0</td>\n    </tr>\n    <tr>\n      <th>2</th>\n      <td>201200049538</td>\n      <td>1.0</td>\n      <td>1</td>\n      <td>0.0</td>\n      <td>2.0</td>\n      <td>1984.0</td>\n      <td>1.0</td>\n      <td>NaN</td>\n      <td>NaN</td>\n      <td>7.0</td>\n      <td>...</td>\n      <td>1.0</td>\n      <td>4.0</td>\n      <td>93.0</td>\n      <td>1</td>\n      <td>1.0</td>\n      <td>4.0</td>\n      <td>2.0</td>\n      <td>1.0</td>\n      <td>1.0</td>\n      <td>1.0</td>\n    </tr>\n    <tr>\n      <th>3</th>\n      <td>201200004221</td>\n      <td>1.0</td>\n      <td>1</td>\n      <td>1.0</td>\n      <td>NaN</td>\n      <td>1973.0</td>\n      <td>2.0</td>\n      <td>NaN</td>\n      <td>NaN</td>\n      <td>33.0</td>\n      <td>...</td>\n      <td>1.0</td>\n      <td>6.0</td>\n      <td>46.0</td>\n      <td>3</td>\n      <td>2.0</td>\n      <td>2.0</td>\n      <td>2.0</td>\n      <td>1.0</td>\n      <td>1.0</td>\n      <td>1.0</td>\n    </tr>\n    <tr>\n      <th>4</th>\n      <td>201200002457</td>\n      <td>1.0</td>\n      <td>1</td>\n      <td>1.0</td>\n      <td>NaN</td>\n      <td>1984.0</td>\n      <td>1.0</td>\n      <td>NaN</td>\n      <td>NaN</td>\n      <td>7.0</td>\n      <td>...</td>\n      <td>1.0</td>\n      <td>1.0</td>\n      <td>85.0</td>\n      <td>3</td>\n      <td>2.0</td>\n      <td>NaN</td>\n      <td>NaN</td>\n      <td>1.0</td>\n      <td>1.0</td>\n      <td>1.0</td>\n    </tr>\n  </tbody>\n</table>\n<p>5 rows × 32 columns</p>\n</div>"
     },
     "execution_count": 7,
     "metadata": {},
     "output_type": "execute_result"
    }
   ],
   "source": [
    "# Chargement du jeu de données \n",
    "test_data = pd.read_csv('Data/TEST/TEST/Full_Test_V4.csv', low_memory=False)\n",
    "\n",
    "test_data.head()"
   ],
   "metadata": {
    "collapsed": false,
    "ExecuteTime": {
     "end_time": "2024-04-12T05:20:17.347031400Z",
     "start_time": "2024-04-12T05:20:16.892525300Z"
    }
   },
   "id": "c5157e0dda5476a0",
   "execution_count": 7
  },
  {
   "cell_type": "code",
   "outputs": [
    {
     "data": {
      "text/plain": "(142422, 32)"
     },
     "execution_count": 8,
     "metadata": {},
     "output_type": "execute_result"
    }
   ],
   "source": [
    "test_data.shape"
   ],
   "metadata": {
    "collapsed": false,
    "ExecuteTime": {
     "end_time": "2024-04-12T05:20:17.358573300Z",
     "start_time": "2024-04-12T05:20:17.347031400Z"
    }
   },
   "id": "d76fa55ae0b4352",
   "execution_count": 8
  },
  {
   "cell_type": "markdown",
   "source": [
    "## Définition des types de variables\n",
    "\n",
    "Afin de construire notre modèle, il faut récupérer les variables catégorielles, ordinales et numériques. Cela a été réalisé précédemment, cependant, ces modifications de types sont perdus lors de l'écriture des \"*.csv*\". Ainsi, il faut redéfinir ces types pour s'assurer que le modèle se construise proprement. On notera l'absence de valeur dite ordinale."
   ],
   "metadata": {
    "collapsed": false
   },
   "id": "d1bbde2593c25bde"
  },
  {
   "cell_type": "code",
   "outputs": [],
   "source": [
    "list_var_num = ['occutc', 'nbv']\n",
    "list_var_cat = [elm for elm in train_data.columns if elm not in list_var_num]"
   ],
   "metadata": {
    "collapsed": false,
    "ExecuteTime": {
     "end_time": "2024-04-12T05:20:54.076233500Z",
     "start_time": "2024-04-12T05:20:54.055307500Z"
    }
   },
   "id": "dbcab5d1a0027ca9",
   "execution_count": 9
  },
  {
   "cell_type": "markdown",
   "source": [
    "Par défaut, les valeurs sont des **\"int\"**, ainsi les valeurs numériques n'ont pas besoin d'être parsées. Nous \"catégoriserons\" donc uniquement les valeurs catégorielles."
   ],
   "metadata": {
    "collapsed": false
   },
   "id": "c2bb9e543fb83765"
  },
  {
   "cell_type": "code",
   "outputs": [],
   "source": [
    "for col_name in list_var_cat:\n",
    "    train_data[col_name] = train_data[col_name].astype('category')   \n",
    "    \n",
    "    if col_name in test_data.columns:\n",
    "        test_data[col_name] = test_data[col_name].astype('category')"
   ],
   "metadata": {
    "collapsed": false,
    "ExecuteTime": {
     "end_time": "2024-04-12T05:21:38.354116800Z",
     "start_time": "2024-04-12T05:21:38.007870600Z"
    }
   },
   "id": "11381666b3ea284c",
   "execution_count": 10
  },
  {
   "cell_type": "markdown",
   "source": [
    "Nous pouvons observer que le jeu de données est désormais séparé en variables catégorielles homogènes ou bien en variables numériques."
   ],
   "metadata": {
    "collapsed": false
   },
   "id": "4df352dbac9c4a3b"
  },
  {
   "cell_type": "code",
   "outputs": [
    {
     "data": {
      "text/plain": "  place catu grav sexe trajet an_nais catv  occutc obs obsm  ... catr circ  \\\n0     1    1    0    1      5    1994    7       0   0    2  ...    3    2   \n1     2    2    0    1      9    1992    7       0   0    2  ...    3    2   \n2     1    1    0    1      5    1976   33       0   0    2  ...    3    2   \n3     2    2    1    0      9    1972   33       0   0    2  ...    3    2   \n4     1    1    0    0      5    1962    7       0   0    2  ...    3    2   \n\n  nbv prof plan surf situ secu1 secu2 secu3  \n0   2    1    1    1    1     8     8     8  \n1   2    1    1    1    1     1     8     8  \n2   2    1    1    1    1     2     8     8  \n3   2    1    1    1    1     2     8     8  \n4   2    1    3    1    1     1     8     8  \n\n[5 rows x 32 columns]",
      "text/html": "<div>\n<style scoped>\n    .dataframe tbody tr th:only-of-type {\n        vertical-align: middle;\n    }\n\n    .dataframe tbody tr th {\n        vertical-align: top;\n    }\n\n    .dataframe thead th {\n        text-align: right;\n    }\n</style>\n<table border=\"1\" class=\"dataframe\">\n  <thead>\n    <tr style=\"text-align: right;\">\n      <th></th>\n      <th>place</th>\n      <th>catu</th>\n      <th>grav</th>\n      <th>sexe</th>\n      <th>trajet</th>\n      <th>an_nais</th>\n      <th>catv</th>\n      <th>occutc</th>\n      <th>obs</th>\n      <th>obsm</th>\n      <th>...</th>\n      <th>catr</th>\n      <th>circ</th>\n      <th>nbv</th>\n      <th>prof</th>\n      <th>plan</th>\n      <th>surf</th>\n      <th>situ</th>\n      <th>secu1</th>\n      <th>secu2</th>\n      <th>secu3</th>\n    </tr>\n  </thead>\n  <tbody>\n    <tr>\n      <th>0</th>\n      <td>1</td>\n      <td>1</td>\n      <td>0</td>\n      <td>1</td>\n      <td>5</td>\n      <td>1994</td>\n      <td>7</td>\n      <td>0</td>\n      <td>0</td>\n      <td>2</td>\n      <td>...</td>\n      <td>3</td>\n      <td>2</td>\n      <td>2</td>\n      <td>1</td>\n      <td>1</td>\n      <td>1</td>\n      <td>1</td>\n      <td>8</td>\n      <td>8</td>\n      <td>8</td>\n    </tr>\n    <tr>\n      <th>1</th>\n      <td>2</td>\n      <td>2</td>\n      <td>0</td>\n      <td>1</td>\n      <td>9</td>\n      <td>1992</td>\n      <td>7</td>\n      <td>0</td>\n      <td>0</td>\n      <td>2</td>\n      <td>...</td>\n      <td>3</td>\n      <td>2</td>\n      <td>2</td>\n      <td>1</td>\n      <td>1</td>\n      <td>1</td>\n      <td>1</td>\n      <td>1</td>\n      <td>8</td>\n      <td>8</td>\n    </tr>\n    <tr>\n      <th>2</th>\n      <td>1</td>\n      <td>1</td>\n      <td>0</td>\n      <td>1</td>\n      <td>5</td>\n      <td>1976</td>\n      <td>33</td>\n      <td>0</td>\n      <td>0</td>\n      <td>2</td>\n      <td>...</td>\n      <td>3</td>\n      <td>2</td>\n      <td>2</td>\n      <td>1</td>\n      <td>1</td>\n      <td>1</td>\n      <td>1</td>\n      <td>2</td>\n      <td>8</td>\n      <td>8</td>\n    </tr>\n    <tr>\n      <th>3</th>\n      <td>2</td>\n      <td>2</td>\n      <td>1</td>\n      <td>0</td>\n      <td>9</td>\n      <td>1972</td>\n      <td>33</td>\n      <td>0</td>\n      <td>0</td>\n      <td>2</td>\n      <td>...</td>\n      <td>3</td>\n      <td>2</td>\n      <td>2</td>\n      <td>1</td>\n      <td>1</td>\n      <td>1</td>\n      <td>1</td>\n      <td>2</td>\n      <td>8</td>\n      <td>8</td>\n    </tr>\n    <tr>\n      <th>4</th>\n      <td>1</td>\n      <td>1</td>\n      <td>0</td>\n      <td>0</td>\n      <td>5</td>\n      <td>1962</td>\n      <td>7</td>\n      <td>0</td>\n      <td>0</td>\n      <td>2</td>\n      <td>...</td>\n      <td>3</td>\n      <td>2</td>\n      <td>2</td>\n      <td>1</td>\n      <td>3</td>\n      <td>1</td>\n      <td>1</td>\n      <td>1</td>\n      <td>8</td>\n      <td>8</td>\n    </tr>\n  </tbody>\n</table>\n<p>5 rows × 32 columns</p>\n</div>"
     },
     "execution_count": 11,
     "metadata": {},
     "output_type": "execute_result"
    }
   ],
   "source": [
    "train_data.head()"
   ],
   "metadata": {
    "collapsed": false,
    "ExecuteTime": {
     "end_time": "2024-04-12T05:21:43.765756500Z",
     "start_time": "2024-04-12T05:21:43.745969400Z"
    }
   },
   "id": "145cc0d6551bc879",
   "execution_count": 11
  },
  {
   "cell_type": "code",
   "outputs": [
    {
     "data": {
      "text/plain": "        Num_Acc place catu sexe trajet an_nais secu1 secu2 secu3  catv  ...  \\\n0  201200049538   1.0    1  0.0    1.0  1954.0   1.0   NaN   NaN   7.0  ...   \n1  201200049538   1.0    1  0.0    1.0  1968.0   1.0   NaN   NaN   7.0  ...   \n2  201200049538   1.0    1  0.0    2.0  1984.0   1.0   NaN   NaN   7.0  ...   \n3  201200004221   1.0    1  1.0    NaN  1973.0   2.0   NaN   NaN  33.0  ...   \n4  201200002457   1.0    1  1.0    NaN  1984.0   1.0   NaN   NaN   7.0  ...   \n\n   atm  col   dep catr circ  nbv prof plan surf situ  \n0  1.0  4.0  93.0    1  1.0  4.0  2.0  1.0  1.0  1.0  \n1  1.0  4.0  93.0    1  1.0  4.0  2.0  1.0  1.0  1.0  \n2  1.0  4.0  93.0    1  1.0  4.0  2.0  1.0  1.0  1.0  \n3  1.0  6.0  46.0    3  2.0  2.0  2.0  1.0  1.0  1.0  \n4  1.0  1.0  85.0    3  2.0  NaN  NaN  1.0  1.0  1.0  \n\n[5 rows x 32 columns]",
      "text/html": "<div>\n<style scoped>\n    .dataframe tbody tr th:only-of-type {\n        vertical-align: middle;\n    }\n\n    .dataframe tbody tr th {\n        vertical-align: top;\n    }\n\n    .dataframe thead th {\n        text-align: right;\n    }\n</style>\n<table border=\"1\" class=\"dataframe\">\n  <thead>\n    <tr style=\"text-align: right;\">\n      <th></th>\n      <th>Num_Acc</th>\n      <th>place</th>\n      <th>catu</th>\n      <th>sexe</th>\n      <th>trajet</th>\n      <th>an_nais</th>\n      <th>secu1</th>\n      <th>secu2</th>\n      <th>secu3</th>\n      <th>catv</th>\n      <th>...</th>\n      <th>atm</th>\n      <th>col</th>\n      <th>dep</th>\n      <th>catr</th>\n      <th>circ</th>\n      <th>nbv</th>\n      <th>prof</th>\n      <th>plan</th>\n      <th>surf</th>\n      <th>situ</th>\n    </tr>\n  </thead>\n  <tbody>\n    <tr>\n      <th>0</th>\n      <td>201200049538</td>\n      <td>1.0</td>\n      <td>1</td>\n      <td>0.0</td>\n      <td>1.0</td>\n      <td>1954.0</td>\n      <td>1.0</td>\n      <td>NaN</td>\n      <td>NaN</td>\n      <td>7.0</td>\n      <td>...</td>\n      <td>1.0</td>\n      <td>4.0</td>\n      <td>93.0</td>\n      <td>1</td>\n      <td>1.0</td>\n      <td>4.0</td>\n      <td>2.0</td>\n      <td>1.0</td>\n      <td>1.0</td>\n      <td>1.0</td>\n    </tr>\n    <tr>\n      <th>1</th>\n      <td>201200049538</td>\n      <td>1.0</td>\n      <td>1</td>\n      <td>0.0</td>\n      <td>1.0</td>\n      <td>1968.0</td>\n      <td>1.0</td>\n      <td>NaN</td>\n      <td>NaN</td>\n      <td>7.0</td>\n      <td>...</td>\n      <td>1.0</td>\n      <td>4.0</td>\n      <td>93.0</td>\n      <td>1</td>\n      <td>1.0</td>\n      <td>4.0</td>\n      <td>2.0</td>\n      <td>1.0</td>\n      <td>1.0</td>\n      <td>1.0</td>\n    </tr>\n    <tr>\n      <th>2</th>\n      <td>201200049538</td>\n      <td>1.0</td>\n      <td>1</td>\n      <td>0.0</td>\n      <td>2.0</td>\n      <td>1984.0</td>\n      <td>1.0</td>\n      <td>NaN</td>\n      <td>NaN</td>\n      <td>7.0</td>\n      <td>...</td>\n      <td>1.0</td>\n      <td>4.0</td>\n      <td>93.0</td>\n      <td>1</td>\n      <td>1.0</td>\n      <td>4.0</td>\n      <td>2.0</td>\n      <td>1.0</td>\n      <td>1.0</td>\n      <td>1.0</td>\n    </tr>\n    <tr>\n      <th>3</th>\n      <td>201200004221</td>\n      <td>1.0</td>\n      <td>1</td>\n      <td>1.0</td>\n      <td>NaN</td>\n      <td>1973.0</td>\n      <td>2.0</td>\n      <td>NaN</td>\n      <td>NaN</td>\n      <td>33.0</td>\n      <td>...</td>\n      <td>1.0</td>\n      <td>6.0</td>\n      <td>46.0</td>\n      <td>3</td>\n      <td>2.0</td>\n      <td>2.0</td>\n      <td>2.0</td>\n      <td>1.0</td>\n      <td>1.0</td>\n      <td>1.0</td>\n    </tr>\n    <tr>\n      <th>4</th>\n      <td>201200002457</td>\n      <td>1.0</td>\n      <td>1</td>\n      <td>1.0</td>\n      <td>NaN</td>\n      <td>1984.0</td>\n      <td>1.0</td>\n      <td>NaN</td>\n      <td>NaN</td>\n      <td>7.0</td>\n      <td>...</td>\n      <td>1.0</td>\n      <td>1.0</td>\n      <td>85.0</td>\n      <td>3</td>\n      <td>2.0</td>\n      <td>NaN</td>\n      <td>NaN</td>\n      <td>1.0</td>\n      <td>1.0</td>\n      <td>1.0</td>\n    </tr>\n  </tbody>\n</table>\n<p>5 rows × 32 columns</p>\n</div>"
     },
     "execution_count": 12,
     "metadata": {},
     "output_type": "execute_result"
    }
   ],
   "source": [
    "test_data.head()"
   ],
   "metadata": {
    "collapsed": false,
    "ExecuteTime": {
     "end_time": "2024-04-12T05:21:51.430347200Z",
     "start_time": "2024-04-12T05:21:51.402495600Z"
    }
   },
   "id": "599c91d18ec29e82",
   "execution_count": 12
  },
  {
   "cell_type": "markdown",
   "source": [
    "# Complétion des valeurs manquantes du jeu de données test\n",
    "\n",
    "Utilisation de la technique des plus proches voisins pour compléter les valeurs manquantes.\n",
    "\n",
    "Pour cela, il faudra :\n",
    "- Importer le package de sci-kit learn\n",
    "- Préparer les deux jeux de données :\n",
    "    - Il ne faut pas utiliser la colonne 'grav' pour le train set\n",
    "    - Il ne faut pas avoir de 'Num_acc' pour le test set"
   ],
   "metadata": {
    "collapsed": false
   },
   "id": "90007a235bb32359"
  },
  {
   "cell_type": "code",
   "outputs": [
    {
     "data": {
      "text/plain": "Index(['Num_Acc', 'place', 'catu', 'sexe', 'trajet', 'an_nais', 'secu1',\n       'secu2', 'secu3', 'catv', 'occutc', 'obs', 'obsm', 'choc', 'manv', 'an',\n       'mois', 'jour', 'hrmn', 'lum', 'agg', 'int', 'atm', 'col', 'dep',\n       'catr', 'circ', 'nbv', 'prof', 'plan', 'surf', 'situ'],\n      dtype='object')"
     },
     "execution_count": 14,
     "metadata": {},
     "output_type": "execute_result"
    }
   ],
   "source": [
    "test_data.columns"
   ],
   "metadata": {
    "collapsed": false,
    "ExecuteTime": {
     "end_time": "2024-04-12T05:27:03.048519Z",
     "start_time": "2024-04-12T05:27:03.023594300Z"
    }
   },
   "id": "369789fbd480b4e8",
   "execution_count": 14
  },
  {
   "cell_type": "code",
   "outputs": [],
   "source": [
    "from sklearn.impute import KNNImputer\n",
    "\n",
    "# Variables catégorielles\n",
    "cat_cols = ['place', 'catu', 'sexe', 'trajet', 'catv', 'obs', 'obsm', 'choc', 'manv', 'an', 'mois', 'jour',\n",
    "            'hrmn', 'lum', 'agg', 'int', 'atm', 'col', 'dep', 'catr', 'circ', 'prof', 'plan', 'surf', 'situ',\n",
    "            'secu1', 'secu2', 'secu3']\n",
    "\n",
    "# Créer une instance de KNNImputer en utilisant les données de train_data comme modèle\n",
    "imputer = KNNImputer(n_neighbors=5)\n",
    "\n",
    "# Appliquer l'imputation KNN sur test_data en utilisant les valeurs présentes dans train_data\n",
    "test_data_imputed_cat = imputer.fit(train_data[cat_cols]).transform(test_data[cat_cols])\n",
    "\n",
    "# Recréer un DataFrame avec les valeurs imputées pour les variables catégorielles\n",
    "test_data_imputed_cat = pd.DataFrame(test_data_imputed_cat, columns=cat_cols)\n",
    "\n",
    "# Concaténer les variables catégorielles imputées avec les variables numériques\n",
    "test_data_imputed = pd.concat([test_data_imputed_cat, test_data[['occutc', 'nbv']]], axis=1)\n"
   ],
   "metadata": {
    "collapsed": false,
    "is_executing": true,
    "ExecuteTime": {
     "start_time": "2024-04-12T05:31:43.626484300Z"
    }
   },
   "id": "678ffd76a593ba8f"
  },
  {
   "cell_type": "code",
   "outputs": [],
   "source": [
    "test_data_imputed.isnull().sum().sum()"
   ],
   "metadata": {
    "collapsed": false,
    "is_executing": true
   },
   "id": "fb4aed289035fa47"
  },
  {
   "cell_type": "code",
   "outputs": [],
   "source": [
    "test_data_imputed.to_csv('Data/TEST/TEST/Full_Test_Completed.csv', index=False)"
   ],
   "metadata": {
    "collapsed": false
   },
   "id": "5c8522f12eff4b0a"
  },
  {
   "cell_type": "markdown",
   "source": [
    "## Réflexion autour du modèle à utiliser\n",
    "\n",
    "Dans un premier temps, on construit un système extrêmement naïf autour d'un classifieur performant au sens de l'AUC."
   ],
   "metadata": {
    "collapsed": false
   },
   "id": "11153540faf9f20f"
  },
  {
   "cell_type": "code",
   "outputs": [
    {
     "name": "stdout",
     "output_type": "stream",
     "text": [
      "AUC: 0.7359990620227089\n"
     ]
    }
   ],
   "source": [
    "from sklearn.model_selection import train_test_split\n",
    "from sklearn.linear_model import LogisticRegression\n",
    "from sklearn.metrics import roc_auc_score\n",
    "\n",
    "# Prétraitement des données (encodage des variables catégorielles, gestion des valeurs manquantes, etc.)\n",
    "# X représente vos variables prédictives, y représente la variable à prédire ('grav')\n",
    "X = full_data.drop('grav', axis=1)\n",
    "y = full_data['grav']\n",
    "\n",
    "# Diviser les données en ensembles d'entraînement et de test\n",
    "X_train, X_test, y_train, y_test = train_test_split(X, y, test_size=0.2, random_state=42)\n",
    "\n",
    "# Initialiser et entraîner le modèle de régression logistique\n",
    "model = LogisticRegression(max_iter=1000000)\n",
    "model.fit(X_train, y_train)\n",
    "\n",
    "# Faire des prédictions de probabilité sur l'ensemble de test\n",
    "probabilities = model.predict_proba(X_test)[:, 1]\n",
    "\n",
    "# Calculer l'AUC\n",
    "auc = roc_auc_score(y_test, probabilities)\n",
    "print(\"AUC:\", auc)\n"
   ],
   "metadata": {
    "collapsed": false,
    "ExecuteTime": {
     "end_time": "2024-04-12T02:19:04.812434500Z",
     "start_time": "2024-04-12T02:14:00.527480900Z"
    }
   },
   "id": "9d89c5511997f295",
   "execution_count": 16
  },
  {
   "cell_type": "code",
   "outputs": [],
   "source": [],
   "metadata": {
    "collapsed": false
   },
   "id": "cc40b8c7ac9527d3"
  }
 ],
 "metadata": {
  "kernelspec": {
   "display_name": "Python 3",
   "language": "python",
   "name": "python3"
  },
  "language_info": {
   "codemirror_mode": {
    "name": "ipython",
    "version": 2
   },
   "file_extension": ".py",
   "mimetype": "text/x-python",
   "name": "python",
   "nbconvert_exporter": "python",
   "pygments_lexer": "ipython2",
   "version": "2.7.6"
  }
 },
 "nbformat": 4,
 "nbformat_minor": 5
}
