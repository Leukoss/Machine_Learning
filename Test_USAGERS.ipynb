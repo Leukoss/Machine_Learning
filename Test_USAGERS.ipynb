{
 "cells": [
  {
   "cell_type": "markdown",
   "source": [
    "## Packages"
   ],
   "metadata": {
    "collapsed": false
   },
   "id": "113ce8e7a1e2b076"
  },
  {
   "cell_type": "code",
   "outputs": [],
   "source": [
    "import pandas as pd             # Traitement des tableaux de données "
   ],
   "metadata": {
    "collapsed": false,
    "ExecuteTime": {
     "end_time": "2024-04-12T05:17:42.155121800Z",
     "start_time": "2024-04-12T05:17:41.719059Z"
    }
   },
   "id": "ee3d3e71ea538d50",
   "execution_count": 1
  },
  {
   "cell_type": "markdown",
   "source": [
    "# Chargement des données"
   ],
   "metadata": {
    "collapsed": false
   },
   "id": "1c05797511bd635e"
  },
  {
   "cell_type": "markdown",
   "source": [
    "Dans un premier temps, l'objectif est de récupérer toutes les valeurs de 2012 à 2022. Les données de 2010 à 2011 (inclus) comprennent des données obsolètes et peu pertinentes pour la construction du modèle. Nous éliminons donc les données des deux premières années.\n",
    "\n",
    "Dans un second temps, il y a 4 fichiers par an. Il faudra donc récupérer les données et les \"merge\" afin de construire le jeu de données d'une seule année contenant toutes les informations relatives aux accidents. Cela se traduit par une relation entre le **\"*Num_Acc*\"** et pour certains fichiers le **\"*num_veh*\"**.\n",
    "\n",
    "Ainsi, nous obtenons un fichier complet contenant toutes les colonnes possibles (par exemple, il y aura une colonne **\"*secu*\"**, et 3 colonnes **\"*secu1*\"**, **\"*secu2*\"** et **\"*secu3*\"**). Il faudra les traiter plus tard."
   ],
   "metadata": {
    "collapsed": false
   },
   "id": "52508c89a1e6825f"
  },
  {
   "cell_type": "code",
   "outputs": [],
   "source": [
    "files = ['USAGERS', 'VEHICULES', 'CARACTERISTIQUES', 'LIEUX',]\n",
    "data_path = 'Data/TEST/TEST/'\n",
    "\n",
    "full_data = pd.DataFrame()\n",
    "\n",
    "for file_name in files: \n",
    "    path_to_file = data_path + file_name + '.csv'\n",
    "    \n",
    "    data = pd.read_csv(path_to_file, encoding=\"latin1\", sep=\",\", low_memory=False)\n",
    "    \n",
    "    if file_name == 'USAGERS':\n",
    "        full_data = pd.concat([full_data, data], axis=1)\n",
    "    else:\n",
    "        if file_name == 'VEHICULES':\n",
    "            full_data = pd.merge(full_data, data, on=['Num_Acc', 'num_veh'], how='left')\n",
    "        else:\n",
    "            full_data = pd.merge(full_data, data, on=['Num_Acc'], how='left')"
   ],
   "metadata": {
    "collapsed": false,
    "ExecuteTime": {
     "end_time": "2024-04-12T05:17:42.832910300Z",
     "start_time": "2024-04-12T05:17:42.157187Z"
    }
   },
   "id": "e2637e951050b3c",
   "execution_count": 2
  },
  {
   "cell_type": "code",
   "outputs": [
    {
     "data": {
      "text/plain": "        Num_Acc  place  catu  sexe  trajet  secu  locp actp  etatp  an_nais  \\\n0  201200049538    1.0     1     2     1.0  11.0   0.0  0.0    0.0   1954.0   \n1  201200049538    1.0     1     2     1.0  11.0   0.0  0.0    0.0   1968.0   \n2  201200049538    1.0     1     2     2.0  11.0   0.0  0.0    0.0   1984.0   \n3  201200004221    1.0     1     1     0.0  21.0   0.0  0.0    0.0   1973.0   \n4  201200002457    1.0     1     1     0.0  11.0   0.0  0.0    0.0   1984.0   \n\n   ... vosp  prof  plan  lartpc  larrout  surf  infra  situ  env1  vma  \n0  ...  0.0   2.0   1.0    15.0     35.0   1.0    1.0   1.0  99.0  NaN  \n1  ...  0.0   2.0   1.0    15.0     35.0   1.0    1.0   1.0  99.0  NaN  \n2  ...  0.0   2.0   1.0    15.0     35.0   1.0    1.0   1.0  99.0  NaN  \n3  ...  0.0   2.0   1.0     0.0     45.0   1.0    0.0   1.0  99.0  NaN  \n4  ...  0.0   0.0   1.0     0.0     65.0   1.0    5.0   1.0  99.0  NaN  \n\n[5 rows x 58 columns]",
      "text/html": "<div>\n<style scoped>\n    .dataframe tbody tr th:only-of-type {\n        vertical-align: middle;\n    }\n\n    .dataframe tbody tr th {\n        vertical-align: top;\n    }\n\n    .dataframe thead th {\n        text-align: right;\n    }\n</style>\n<table border=\"1\" class=\"dataframe\">\n  <thead>\n    <tr style=\"text-align: right;\">\n      <th></th>\n      <th>Num_Acc</th>\n      <th>place</th>\n      <th>catu</th>\n      <th>sexe</th>\n      <th>trajet</th>\n      <th>secu</th>\n      <th>locp</th>\n      <th>actp</th>\n      <th>etatp</th>\n      <th>an_nais</th>\n      <th>...</th>\n      <th>vosp</th>\n      <th>prof</th>\n      <th>plan</th>\n      <th>lartpc</th>\n      <th>larrout</th>\n      <th>surf</th>\n      <th>infra</th>\n      <th>situ</th>\n      <th>env1</th>\n      <th>vma</th>\n    </tr>\n  </thead>\n  <tbody>\n    <tr>\n      <th>0</th>\n      <td>201200049538</td>\n      <td>1.0</td>\n      <td>1</td>\n      <td>2</td>\n      <td>1.0</td>\n      <td>11.0</td>\n      <td>0.0</td>\n      <td>0.0</td>\n      <td>0.0</td>\n      <td>1954.0</td>\n      <td>...</td>\n      <td>0.0</td>\n      <td>2.0</td>\n      <td>1.0</td>\n      <td>15.0</td>\n      <td>35.0</td>\n      <td>1.0</td>\n      <td>1.0</td>\n      <td>1.0</td>\n      <td>99.0</td>\n      <td>NaN</td>\n    </tr>\n    <tr>\n      <th>1</th>\n      <td>201200049538</td>\n      <td>1.0</td>\n      <td>1</td>\n      <td>2</td>\n      <td>1.0</td>\n      <td>11.0</td>\n      <td>0.0</td>\n      <td>0.0</td>\n      <td>0.0</td>\n      <td>1968.0</td>\n      <td>...</td>\n      <td>0.0</td>\n      <td>2.0</td>\n      <td>1.0</td>\n      <td>15.0</td>\n      <td>35.0</td>\n      <td>1.0</td>\n      <td>1.0</td>\n      <td>1.0</td>\n      <td>99.0</td>\n      <td>NaN</td>\n    </tr>\n    <tr>\n      <th>2</th>\n      <td>201200049538</td>\n      <td>1.0</td>\n      <td>1</td>\n      <td>2</td>\n      <td>2.0</td>\n      <td>11.0</td>\n      <td>0.0</td>\n      <td>0.0</td>\n      <td>0.0</td>\n      <td>1984.0</td>\n      <td>...</td>\n      <td>0.0</td>\n      <td>2.0</td>\n      <td>1.0</td>\n      <td>15.0</td>\n      <td>35.0</td>\n      <td>1.0</td>\n      <td>1.0</td>\n      <td>1.0</td>\n      <td>99.0</td>\n      <td>NaN</td>\n    </tr>\n    <tr>\n      <th>3</th>\n      <td>201200004221</td>\n      <td>1.0</td>\n      <td>1</td>\n      <td>1</td>\n      <td>0.0</td>\n      <td>21.0</td>\n      <td>0.0</td>\n      <td>0.0</td>\n      <td>0.0</td>\n      <td>1973.0</td>\n      <td>...</td>\n      <td>0.0</td>\n      <td>2.0</td>\n      <td>1.0</td>\n      <td>0.0</td>\n      <td>45.0</td>\n      <td>1.0</td>\n      <td>0.0</td>\n      <td>1.0</td>\n      <td>99.0</td>\n      <td>NaN</td>\n    </tr>\n    <tr>\n      <th>4</th>\n      <td>201200002457</td>\n      <td>1.0</td>\n      <td>1</td>\n      <td>1</td>\n      <td>0.0</td>\n      <td>11.0</td>\n      <td>0.0</td>\n      <td>0.0</td>\n      <td>0.0</td>\n      <td>1984.0</td>\n      <td>...</td>\n      <td>0.0</td>\n      <td>0.0</td>\n      <td>1.0</td>\n      <td>0.0</td>\n      <td>65.0</td>\n      <td>1.0</td>\n      <td>5.0</td>\n      <td>1.0</td>\n      <td>99.0</td>\n      <td>NaN</td>\n    </tr>\n  </tbody>\n</table>\n<p>5 rows × 58 columns</p>\n</div>"
     },
     "execution_count": 3,
     "metadata": {},
     "output_type": "execute_result"
    }
   ],
   "source": [
    "full_data.head()"
   ],
   "metadata": {
    "collapsed": false,
    "ExecuteTime": {
     "end_time": "2024-04-12T05:17:42.859222400Z",
     "start_time": "2024-04-12T05:17:42.834981400Z"
    }
   },
   "id": "7b09107a27a98d03",
   "execution_count": 3
  },
  {
   "cell_type": "code",
   "outputs": [],
   "source": [
    "full_data.to_csv('Data/TEST/TEST/full_test.csv', index=False)"
   ],
   "metadata": {
    "collapsed": false,
    "ExecuteTime": {
     "end_time": "2024-04-12T05:17:45.919141900Z",
     "start_time": "2024-04-12T05:17:42.858144600Z"
    }
   },
   "id": "5344a64d069d35ed",
   "execution_count": 4
  },
  {
   "cell_type": "markdown",
   "source": [
    "## Traitement des données conformément à celui appliquer sur les données d'entraînement\n",
    "\n",
    "On applique les mêmes traitements que ceux appliquer au set d'entraînement afin de conserver une homogénéité train/test assurrant au modèle de simplement travailler sur des valeurs inédites et non des formats.\n",
    "\n",
    "### USAGERS\n",
    "\n",
    "- **sexe** : manquement de 559 valeurs.\n",
    "- **an_nais** : manquement de 595 valeurs.\n",
    "- **trajet** : manquement de 38459 valeurs. <- A TRAITER\n",
    "- **catu** : manquement de 0 valeur.\n",
    "- **place** : manquement de 1 valeur.\n",
    "- **secu1** : manquement de 957 valeurs.\n",
    "- **secu2** : manquement de 112444 valeurs. <- A TRAITER MAIS PAS ETONNANT\n",
    "- **secu3** : manquement de 142208 valeurs. <- A TRAITER MAIS PAS ETONNANT"
   ],
   "metadata": {
    "collapsed": false
   },
   "id": "c6c0b311b68f8bff"
  },
  {
   "cell_type": "code",
   "outputs": [],
   "source": [
    "def convert_float_to_int(data_frame, col_name):\n",
    "    data_frame[col_name] = data_frame[col_name].astype(int)\n",
    "    \n",
    "def convert_float_to_cat(data_frame, col_name):\n",
    "    data_frame[col_name] = data_frame[col_name].astype(int)\n",
    "    data_frame[col_name] = data_frame[col_name].astype('category')\n",
    "    \n",
    "def convert_str_to_cat(data_frame, col_name):\n",
    "    data_frame[col_name] = data_frame[col_name].astype('category')\n",
    "    \n",
    "def convert_str_to_int(data_frame, col_name):\n",
    "    data_frame[col_name] = data_frame[col_name].astype(int)"
   ],
   "metadata": {
    "collapsed": false,
    "ExecuteTime": {
     "end_time": "2024-04-12T05:17:45.919215Z",
     "start_time": "2024-04-12T05:17:45.904752300Z"
    }
   },
   "id": "f44f4a1278ab5705",
   "execution_count": 5
  },
  {
   "cell_type": "markdown",
   "source": [
    "### sexe"
   ],
   "metadata": {
    "collapsed": false
   },
   "id": "af19a01d6ee65816"
  },
  {
   "cell_type": "code",
   "outputs": [
    {
     "name": "stdout",
     "output_type": "stream",
     "text": [
      "Les valeurs possibles sont : [0 1 <NA>].\n",
      "Le nombre de valeurs manquantes/incorrectes est de : 559 pour un total de 142422 observations soit 0.3924955414191628%.\n"
     ]
    }
   ],
   "source": [
    "# Binarisation [0, 1] des valeurs de sexe\n",
    "full_data['sexe'] = full_data['sexe'].replace({2: 0, -1: pd.NA}).fillna(pd.NA)\n",
    "\n",
    "possible_values = full_data['sexe'].unique()\n",
    "na_count = full_data['sexe'].isna().sum() + (full_data['sexe'] == -1).sum()\n",
    "obs_count = full_data.shape[0]\n",
    "rep_na = na_count / obs_count * 100\n",
    "\n",
    "print(f\"Les valeurs possibles sont : {possible_values}.\")\n",
    "print(f\"Le nombre de valeurs manquantes/incorrectes est de : {na_count} pour un total de {obs_count} observations soit {rep_na}%.\")"
   ],
   "metadata": {
    "collapsed": false,
    "ExecuteTime": {
     "end_time": "2024-04-12T05:17:46.010091500Z",
     "start_time": "2024-04-12T05:17:45.909664300Z"
    }
   },
   "id": "a59a9bc4eb60c595",
   "execution_count": 6
  },
  {
   "cell_type": "markdown",
   "source": [
    "### an_nais"
   ],
   "metadata": {
    "collapsed": false
   },
   "id": "4673bfedbf257b08"
  },
  {
   "cell_type": "code",
   "outputs": [
    {
     "name": "stdout",
     "output_type": "stream",
     "text": [
      "Les valeurs possibles sont : [1954. 1968. 1984. 1973. 1957. 1965. 1989. 1993. 1986. 1971. 1955. 1987.\n",
      " 1960. 1952. 1981. 1945. 1949. 1924. 1951. 1947. 1948. 1959. 1982. 1974.\n",
      " 2008. 1978. 1988. 1963. 1990. 1950. 1935. 1933. 1943. 1964. 1977. 1980.\n",
      " 1998. 1936. 2002. 1985. 1995. 1975. 1969. 1961. 1983. 1946. 1966. 1967.\n",
      " 2000. 1979. 1953. 1972. 1932. 1992. 1942. 1930. 1944. 1938. 1926. 1970.\n",
      " 1991. 1920. 1958. 1994. 1996. 1999. 1997. 1956. 2001. 1940. 1937. 1962.\n",
      " 2009. 1976. 2007. 2003. 1934. 1922. 2011. 2012. 1931. 1941. 2004. 1928.\n",
      " 2006. 2005. 2010. 1921. 1939. 1927. 1929. 1910. 1919. 1925.   nan 1923.\n",
      " 1918. 1917. 2013. 1914. 2014. 1915. 2015. 2016. 1911. 2017. 2018. 2019.\n",
      " 1900. 1901. 2020. 2021. 2022.].\n",
      "Le nombre de valeurs manquantes est de : 595 pour un total de 142422 observations soit 0.41777253514204266%.\n"
     ]
    }
   ],
   "source": [
    "full_data['an_nais'] = full_data['an_nais'].fillna(pd.NA)\n",
    "\n",
    "possible_values = full_data['an_nais'].unique()\n",
    "na_count = full_data['an_nais'].isna().sum()\n",
    "obs_count = full_data.shape[0]\n",
    "rep_na = na_count / obs_count * 100\n",
    "\n",
    "print(f\"Les valeurs possibles sont : {possible_values}.\")\n",
    "print(f\"Le nombre de valeurs manquantes est de : {na_count} pour un total de {obs_count} observations soit {rep_na}%.\")"
   ],
   "metadata": {
    "collapsed": false,
    "ExecuteTime": {
     "end_time": "2024-04-12T05:17:46.021475600Z",
     "start_time": "2024-04-12T05:17:46.010091500Z"
    }
   },
   "id": "d3edecd038e1a072",
   "execution_count": 7
  },
  {
   "cell_type": "markdown",
   "source": [
    "### trajet"
   ],
   "metadata": {
    "collapsed": false
   },
   "id": "efb96923d90cf3c9"
  },
  {
   "cell_type": "code",
   "outputs": [
    {
     "name": "stdout",
     "output_type": "stream",
     "text": [
      "Les valeurs possibles sont : [1.0 2.0 <NA> 9.0 5.0 4.0 3.0].\n",
      "Le nombre de valeurs manquantes est de : 38459 pour un total de 142422 observations soit 27.003552821895493%.\n"
     ]
    }
   ],
   "source": [
    "# Harmonise les données [1, 2, 3, 4, 5, 9]\n",
    "full_data['trajet'] = full_data['trajet'].replace([-1, 0], pd.NA).fillna(pd.NA)\n",
    "\n",
    "possible_values_grav = full_data['trajet'].unique()\n",
    "na_count_grav = full_data['trajet'].isna().sum()\n",
    "obs_count = full_data.shape[0]\n",
    "rep_na_grav = na_count_grav / obs_count * 100\n",
    "\n",
    "print(f\"Les valeurs possibles sont : {possible_values_grav}.\")\n",
    "print(f\"Le nombre de valeurs manquantes est de : {na_count_grav} pour un total de {obs_count} observations soit {rep_na_grav}%.\")"
   ],
   "metadata": {
    "collapsed": false,
    "ExecuteTime": {
     "end_time": "2024-04-12T05:17:46.086941700Z",
     "start_time": "2024-04-12T05:17:46.022548700Z"
    }
   },
   "id": "fefb0379bce6ed2a",
   "execution_count": 8
  },
  {
   "cell_type": "markdown",
   "source": [
    "### locp"
   ],
   "metadata": {
    "collapsed": false
   },
   "id": "585d645b4453d590"
  },
  {
   "cell_type": "code",
   "outputs": [],
   "source": [
    "# On peut drop la colonne secu qui ne vaut plus rien\n",
    "full_data.drop(labels=['locp'], axis=1, inplace=True)"
   ],
   "metadata": {
    "collapsed": false,
    "ExecuteTime": {
     "end_time": "2024-04-12T05:17:46.123254400Z",
     "start_time": "2024-04-12T05:17:46.086941700Z"
    }
   },
   "id": "301df77a19b95c3f",
   "execution_count": 9
  },
  {
   "cell_type": "markdown",
   "source": [
    "### etatp"
   ],
   "metadata": {
    "collapsed": false
   },
   "id": "6e06dfeefa157c50"
  },
  {
   "cell_type": "code",
   "outputs": [],
   "source": [
    "# On peut drop la colonne secu qui ne vaut plus rien\n",
    "full_data.drop(labels=['etatp'], axis=1, inplace=True)"
   ],
   "metadata": {
    "collapsed": false,
    "ExecuteTime": {
     "end_time": "2024-04-12T05:17:46.165304200Z",
     "start_time": "2024-04-12T05:17:46.122159200Z"
    }
   },
   "id": "45f1d3b51df2d392",
   "execution_count": 10
  },
  {
   "cell_type": "markdown",
   "source": [
    "### catu"
   ],
   "metadata": {
    "collapsed": false
   },
   "id": "59830b6e752779e1"
  },
  {
   "cell_type": "code",
   "outputs": [
    {
     "name": "stdout",
     "output_type": "stream",
     "text": [
      "Les valeurs possibles sont : [1 2 3].\n",
      "Le nombre de valeurs manquantes est de : 0 pour un total de 142422 observations soit 0.0%.\n"
     ]
    }
   ],
   "source": [
    "# Pour les années antérieures à 2019 : catu = 4 -> catv = 99 & catu = 3\n",
    "full_data.loc[full_data['catu'] == 4, 'catv'] = 99\n",
    "full_data['catu'] = full_data['catu'].replace({4: 3})\n",
    "\n",
    "possible_values_grav = full_data['catu'].unique()\n",
    "na_count_grav = full_data['catu'].isna().sum()\n",
    "obs_count = full_data.shape[0]\n",
    "rep_na_grav = na_count_grav / obs_count * 100\n",
    "\n",
    "print(f\"Les valeurs possibles sont : {possible_values_grav}.\")\n",
    "print(f\"Le nombre de valeurs manquantes est de : {na_count_grav} pour un total de {obs_count} observations soit {rep_na_grav}%.\")"
   ],
   "metadata": {
    "collapsed": false,
    "ExecuteTime": {
     "end_time": "2024-04-12T05:17:46.185504500Z",
     "start_time": "2024-04-12T05:17:46.164305900Z"
    }
   },
   "id": "9cb1f5b652b5e19",
   "execution_count": 11
  },
  {
   "cell_type": "markdown",
   "source": [
    "### place"
   ],
   "metadata": {
    "collapsed": false
   },
   "id": "aa5da8d68b1e5141"
  },
  {
   "cell_type": "code",
   "outputs": [
    {
     "name": "stdout",
     "output_type": "stream",
     "text": [
      "Les valeurs possibles sont : [1.0 2.0 4.0 3.0 10.0 5.0 8.0 7.0 9.0 6.0 <NA>].\n",
      "Le nombre de valeurs manquantes est de : 1 pour un total de 142422 observations soit 0.0007021387145244414%.\n"
     ]
    }
   ],
   "source": [
    "# Si c'est un piéton alors sa place est 10 (gestion des différentes réglementations)\n",
    "full_data.loc[full_data['catu'] == 3, 'place'] = 10\n",
    "full_data['place'] = full_data['place'].replace({-1: pd.NA})\n",
    "\n",
    "possible_values_grav = full_data['place'].unique()\n",
    "na_count_grav = full_data['place'].isna().sum()\n",
    "obs_count = full_data.shape[0]\n",
    "rep_na_grav = na_count_grav / obs_count * 100\n",
    "\n",
    "print(f\"Les valeurs possibles sont : {possible_values_grav}.\")\n",
    "print(f\"Le nombre de valeurs manquantes est de : {na_count_grav} pour un total de {obs_count} observations soit {rep_na_grav}%.\")"
   ],
   "metadata": {
    "collapsed": false,
    "ExecuteTime": {
     "end_time": "2024-04-12T05:17:46.218181700Z",
     "start_time": "2024-04-12T05:17:46.178221900Z"
    }
   },
   "id": "a1622dfc19ecba99",
   "execution_count": 12
  },
  {
   "cell_type": "markdown",
   "source": [
    "### secu"
   ],
   "metadata": {
    "collapsed": false
   },
   "id": "ff77f1a3f1bf64b6"
  },
  {
   "cell_type": "code",
   "outputs": [],
   "source": [
    "# Fonction pour extraire le premier chiffre renvoyant à l'équipement utilisé\n",
    "def extract_first_digit(value):\n",
    "    if pd.notna(value):\n",
    "        return int(str(value)[0])\n",
    "    else:\n",
    "        return 8"
   ],
   "metadata": {
    "collapsed": false,
    "ExecuteTime": {
     "end_time": "2024-04-12T05:17:46.225309400Z",
     "start_time": "2024-04-12T05:17:46.217259700Z"
    }
   },
   "id": "43ff574eb515243c",
   "execution_count": 13
  },
  {
   "cell_type": "code",
   "outputs": [
    {
     "name": "stderr",
     "output_type": "stream",
     "text": [
      "C:\\Users\\lucas\\AppData\\Local\\Temp\\ipykernel_14924\\2762502188.py:7: SettingWithCopyWarning: \n",
      "A value is trying to be set on a copy of a slice from a DataFrame.\n",
      "Try using .loc[row_indexer,col_indexer] = value instead\n",
      "\n",
      "See the caveats in the documentation: https://pandas.pydata.org/pandas-docs/stable/user_guide/indexing.html#returning-a-view-versus-a-copy\n",
      "  filtered_data['secu'] = filtered_data['secu'].apply(extract_first_digit)\n",
      "C:\\Users\\lucas\\AppData\\Local\\Temp\\ipykernel_14924\\2762502188.py:10: SettingWithCopyWarning: \n",
      "A value is trying to be set on a copy of a slice from a DataFrame.\n",
      "Try using .loc[row_indexer,col_indexer] = value instead\n",
      "\n",
      "See the caveats in the documentation: https://pandas.pydata.org/pandas-docs/stable/user_guide/indexing.html#returning-a-view-versus-a-copy\n",
      "  filtered_data['secu1'] = filtered_data['secu']\n",
      "C:\\Users\\lucas\\AppData\\Local\\Temp\\ipykernel_14924\\2762502188.py:11: SettingWithCopyWarning: \n",
      "A value is trying to be set on a copy of a slice from a DataFrame.\n",
      "Try using .loc[row_indexer,col_indexer] = value instead\n",
      "\n",
      "See the caveats in the documentation: https://pandas.pydata.org/pandas-docs/stable/user_guide/indexing.html#returning-a-view-versus-a-copy\n",
      "  filtered_data['secu2'] = pd.NA\n",
      "C:\\Users\\lucas\\AppData\\Local\\Temp\\ipykernel_14924\\2762502188.py:12: SettingWithCopyWarning: \n",
      "A value is trying to be set on a copy of a slice from a DataFrame.\n",
      "Try using .loc[row_indexer,col_indexer] = value instead\n",
      "\n",
      "See the caveats in the documentation: https://pandas.pydata.org/pandas-docs/stable/user_guide/indexing.html#returning-a-view-versus-a-copy\n",
      "  filtered_data['secu3'] = pd.NA\n",
      "C:\\Users\\lucas\\AppData\\Local\\Temp\\ipykernel_14924\\2762502188.py:15: FutureWarning: Setting an item of incompatible dtype is deprecated and will raise an error in a future version of pandas. Value '[<NA> <NA> <NA> ... <NA> <NA> <NA>]' has dtype incompatible with float64, please explicitly cast to a compatible dtype first.\n",
      "  full_data.loc[all_nans, :] = filtered_data\n",
      "C:\\Users\\lucas\\AppData\\Local\\Temp\\ipykernel_14924\\2762502188.py:15: FutureWarning: Setting an item of incompatible dtype is deprecated and will raise an error in a future version of pandas. Value '[<NA> <NA> <NA> ... <NA> <NA> <NA>]' has dtype incompatible with float64, please explicitly cast to a compatible dtype first.\n",
      "  full_data.loc[all_nans, :] = filtered_data\n"
     ]
    },
    {
     "name": "stdout",
     "output_type": "stream",
     "text": [
      "Les valeurs possibles sont : [1.0 2.0 8.0 <NA> 4.0 3.0 0.0 6.0 5.0 7.0].\n",
      "Le nombre de valeurs manquantes est de : 957 pour un total de 142422 observations soit 0.6719467497998904%.\n",
      "Les valeurs possibles sont : [<NA> 0.0 6.0 8.0 5.0 4.0 1.0 3.0 2.0 7.0].\n",
      "Le nombre de valeurs manquantes est de : 112444 pour un total de 142422 observations soit 78.9512856159863%.\n",
      "Les valeurs possibles sont : [<NA> 0.0 6.0 8.0 1.0 5.0 4.0 2.0].\n",
      "Le nombre de valeurs manquantes est de : 142208 pour un total de 142422 observations soit 99.84974231509177%.\n"
     ]
    }
   ],
   "source": [
    "# Récupère les lignes où secu1/secu2/secu3 sont NAN (rare cas après 2019, tous les cas avant 2019)\n",
    "all_nans = full_data[['secu1', 'secu2', 'secu3']].isna().all(axis=1)\n",
    "filtered_data = full_data[all_nans]\n",
    "\n",
    "# Conserve seulement le cas où il y a un second digit = 1, sinon applique la valeur pd.NA (non déterminable)\n",
    "filtered_data.loc[(filtered_data['secu'] <= 10) | (filtered_data['secu'] % 10 == 2) | (filtered_data['secu'] % 10 == 3), 'secu'] = pd.NA\n",
    "filtered_data['secu'] = filtered_data['secu'].apply(extract_first_digit)\n",
    "\n",
    "# Défini dans secu1 le seul équipement noté (1 seul avant 2019) et 8 pour les deux autres\n",
    "filtered_data['secu1'] = filtered_data['secu']\n",
    "filtered_data['secu2'] = pd.NA\n",
    "filtered_data['secu3'] = pd.NA\n",
    "\n",
    "# Met à jour les colonnes secu/secu1/secu2/secu3\n",
    "full_data.loc[all_nans, :] = filtered_data\n",
    "\n",
    "# On peut drop la colonne secu qui ne vaut plus rien\n",
    "full_data.drop(labels=['secu'], axis=1, inplace=True)\n",
    "\n",
    "# Dans les cas survenus après 2019\n",
    "list_secu = ['secu1', 'secu2', 'secu3']\n",
    "\n",
    "for secu_i in list_secu:\n",
    "    full_data[secu_i] = full_data[secu_i].replace([-1, 9], pd.NA)\n",
    "\n",
    "for var in list_secu:\n",
    "    possible_values_grav = full_data[var].unique()\n",
    "    na_count_grav = full_data[var].isna().sum()\n",
    "    obs_count = full_data.shape[0]\n",
    "    rep_na_grav = na_count_grav / obs_count * 100\n",
    "    \n",
    "    print(f\"Les valeurs possibles sont : {possible_values_grav}.\")\n",
    "    print(f\"Le nombre de valeurs manquantes est de : {na_count_grav} pour un total de {obs_count} observations soit {rep_na_grav}%.\")"
   ],
   "metadata": {
    "collapsed": false,
    "ExecuteTime": {
     "end_time": "2024-04-12T05:17:46.654499600Z",
     "start_time": "2024-04-12T05:17:46.225309400Z"
    }
   },
   "id": "8a114c6a2487a4b4",
   "execution_count": 14
  },
  {
   "cell_type": "markdown",
   "source": [
    "### actp"
   ],
   "metadata": {
    "collapsed": false
   },
   "id": "d4469e76ecae6735"
  },
  {
   "cell_type": "code",
   "outputs": [],
   "source": [
    "# On drop la colonne actp qui est trop vide\n",
    "full_data.drop(labels=['actp'], axis=1, inplace=True)"
   ],
   "metadata": {
    "collapsed": false,
    "ExecuteTime": {
     "end_time": "2024-04-12T05:17:46.694666200Z",
     "start_time": "2024-04-12T05:17:46.656588900Z"
    }
   },
   "id": "57ffcaf72078ef0e",
   "execution_count": 15
  },
  {
   "cell_type": "code",
   "outputs": [],
   "source": [
    "full_data.to_csv('Data/TEST/TEST/Full_Test_V1.csv', index=False)"
   ],
   "metadata": {
    "collapsed": false,
    "ExecuteTime": {
     "end_time": "2024-04-12T05:17:49.308506800Z",
     "start_time": "2024-04-12T05:17:46.696734500Z"
    }
   },
   "id": "9be17f68b21b2863",
   "execution_count": 16
  },
  {
   "cell_type": "code",
   "outputs": [
    {
     "data": {
      "text/plain": "(142422, 54)"
     },
     "execution_count": 17,
     "metadata": {},
     "output_type": "execute_result"
    }
   ],
   "source": [
    "full_data.shape"
   ],
   "metadata": {
    "collapsed": false,
    "ExecuteTime": {
     "end_time": "2024-04-12T05:17:49.314785300Z",
     "start_time": "2024-04-12T05:17:49.309583700Z"
    }
   },
   "id": "d8ea3c599f9500dc",
   "execution_count": 17
  },
  {
   "cell_type": "code",
   "outputs": [],
   "source": [],
   "metadata": {
    "collapsed": false
   },
   "id": "d30f4a89047fe69f"
  }
 ],
 "metadata": {
  "kernelspec": {
   "display_name": "Python 3",
   "language": "python",
   "name": "python3"
  },
  "language_info": {
   "codemirror_mode": {
    "name": "ipython",
    "version": 2
   },
   "file_extension": ".py",
   "mimetype": "text/x-python",
   "name": "python",
   "nbconvert_exporter": "python",
   "pygments_lexer": "ipython2",
   "version": "2.7.6"
  }
 },
 "nbformat": 4,
 "nbformat_minor": 5
}
