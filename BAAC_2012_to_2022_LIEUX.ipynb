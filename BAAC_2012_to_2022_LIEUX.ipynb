{
 "cells": [
  {
   "cell_type": "markdown",
   "source": [
    "## Packages & Jeu de données"
   ],
   "metadata": {
    "collapsed": false
   },
   "id": "77955d03c3772702"
  },
  {
   "cell_type": "code",
   "outputs": [
    {
     "data": {
      "text/plain": "   place  catu  grav  sexe  trajet  an_nais  senc  catv  occutc  obs  ...  \\\n0      1     1     0     0       5     1939   0.0     7     0.0  0.0  ...   \n1     10     3     0     1       5     2008   0.0     7     0.0  0.0  ...   \n2      1     1     0     1       5     1994   0.0     7     0.0  0.0  ...   \n3      2     2     0     1       9     1992   0.0     7     0.0  0.0  ...   \n4      1     1     0     1       5     1976   0.0    33     0.0  0.0  ...   \n\n   surf  infra  situ  env1  secu1  secu2  secu3  motor  vma  id_usager  \n0   1.0    0.0   1.0   0.0      1      8      8    NaN  NaN        NaN  \n1   1.0    0.0   1.0   0.0      8      8      8    NaN  NaN        NaN  \n2   1.0    0.0   1.0  99.0      8      8      8    NaN  NaN        NaN  \n3   1.0    0.0   1.0  99.0      1      8      8    NaN  NaN        NaN  \n4   1.0    0.0   1.0  99.0      2      8      8    NaN  NaN        NaN  \n\n[5 rows x 46 columns]",
      "text/html": "<div>\n<style scoped>\n    .dataframe tbody tr th:only-of-type {\n        vertical-align: middle;\n    }\n\n    .dataframe tbody tr th {\n        vertical-align: top;\n    }\n\n    .dataframe thead th {\n        text-align: right;\n    }\n</style>\n<table border=\"1\" class=\"dataframe\">\n  <thead>\n    <tr style=\"text-align: right;\">\n      <th></th>\n      <th>place</th>\n      <th>catu</th>\n      <th>grav</th>\n      <th>sexe</th>\n      <th>trajet</th>\n      <th>an_nais</th>\n      <th>senc</th>\n      <th>catv</th>\n      <th>occutc</th>\n      <th>obs</th>\n      <th>...</th>\n      <th>surf</th>\n      <th>infra</th>\n      <th>situ</th>\n      <th>env1</th>\n      <th>secu1</th>\n      <th>secu2</th>\n      <th>secu3</th>\n      <th>motor</th>\n      <th>vma</th>\n      <th>id_usager</th>\n    </tr>\n  </thead>\n  <tbody>\n    <tr>\n      <th>0</th>\n      <td>1</td>\n      <td>1</td>\n      <td>0</td>\n      <td>0</td>\n      <td>5</td>\n      <td>1939</td>\n      <td>0.0</td>\n      <td>7</td>\n      <td>0.0</td>\n      <td>0.0</td>\n      <td>...</td>\n      <td>1.0</td>\n      <td>0.0</td>\n      <td>1.0</td>\n      <td>0.0</td>\n      <td>1</td>\n      <td>8</td>\n      <td>8</td>\n      <td>NaN</td>\n      <td>NaN</td>\n      <td>NaN</td>\n    </tr>\n    <tr>\n      <th>1</th>\n      <td>10</td>\n      <td>3</td>\n      <td>0</td>\n      <td>1</td>\n      <td>5</td>\n      <td>2008</td>\n      <td>0.0</td>\n      <td>7</td>\n      <td>0.0</td>\n      <td>0.0</td>\n      <td>...</td>\n      <td>1.0</td>\n      <td>0.0</td>\n      <td>1.0</td>\n      <td>0.0</td>\n      <td>8</td>\n      <td>8</td>\n      <td>8</td>\n      <td>NaN</td>\n      <td>NaN</td>\n      <td>NaN</td>\n    </tr>\n    <tr>\n      <th>2</th>\n      <td>1</td>\n      <td>1</td>\n      <td>0</td>\n      <td>1</td>\n      <td>5</td>\n      <td>1994</td>\n      <td>0.0</td>\n      <td>7</td>\n      <td>0.0</td>\n      <td>0.0</td>\n      <td>...</td>\n      <td>1.0</td>\n      <td>0.0</td>\n      <td>1.0</td>\n      <td>99.0</td>\n      <td>8</td>\n      <td>8</td>\n      <td>8</td>\n      <td>NaN</td>\n      <td>NaN</td>\n      <td>NaN</td>\n    </tr>\n    <tr>\n      <th>3</th>\n      <td>2</td>\n      <td>2</td>\n      <td>0</td>\n      <td>1</td>\n      <td>9</td>\n      <td>1992</td>\n      <td>0.0</td>\n      <td>7</td>\n      <td>0.0</td>\n      <td>0.0</td>\n      <td>...</td>\n      <td>1.0</td>\n      <td>0.0</td>\n      <td>1.0</td>\n      <td>99.0</td>\n      <td>1</td>\n      <td>8</td>\n      <td>8</td>\n      <td>NaN</td>\n      <td>NaN</td>\n      <td>NaN</td>\n    </tr>\n    <tr>\n      <th>4</th>\n      <td>1</td>\n      <td>1</td>\n      <td>0</td>\n      <td>1</td>\n      <td>5</td>\n      <td>1976</td>\n      <td>0.0</td>\n      <td>33</td>\n      <td>0.0</td>\n      <td>0.0</td>\n      <td>...</td>\n      <td>1.0</td>\n      <td>0.0</td>\n      <td>1.0</td>\n      <td>99.0</td>\n      <td>2</td>\n      <td>8</td>\n      <td>8</td>\n      <td>NaN</td>\n      <td>NaN</td>\n      <td>NaN</td>\n    </tr>\n  </tbody>\n</table>\n<p>5 rows × 46 columns</p>\n</div>"
     },
     "execution_count": 1,
     "metadata": {},
     "output_type": "execute_result"
    }
   ],
   "source": [
    "import pandas as pd\n",
    "\n",
    "# Chargement du jeu de données \n",
    "full_data = pd.read_csv('Data/TRAIN_FULL/BAAC_2012_to_2022_V2_to_V4.csv', low_memory=False)\n",
    "\n",
    "full_data.head()"
   ],
   "metadata": {
    "collapsed": false,
    "ExecuteTime": {
     "end_time": "2024-04-12T04:37:52.198128Z",
     "start_time": "2024-04-12T04:37:46.967925100Z"
    }
   },
   "id": "45364c02845c2cf6",
   "execution_count": 1
  },
  {
   "cell_type": "code",
   "outputs": [
    {
     "data": {
      "text/plain": "(1245607, 46)"
     },
     "execution_count": 2,
     "metadata": {},
     "output_type": "execute_result"
    }
   ],
   "source": [
    "full_data.shape"
   ],
   "metadata": {
    "collapsed": false,
    "ExecuteTime": {
     "end_time": "2024-04-12T04:37:52.202113200Z",
     "start_time": "2024-04-12T04:37:52.193645100Z"
    }
   },
   "id": "51ef7d3992360b57",
   "execution_count": 2
  },
  {
   "cell_type": "code",
   "outputs": [],
   "source": [
    "def convert_float_to_int(data_frame, col_name):\n",
    "    data_frame[col_name] = data_frame[col_name].astype(int)\n",
    "    \n",
    "def convert_float_to_cat(data_frame, col_name):\n",
    "    data_frame[col_name] = data_frame[col_name].astype(int)\n",
    "    data_frame[col_name] = data_frame[col_name].astype('category')\n",
    "    \n",
    "def convert_str_to_cat(data_frame, col_name):\n",
    "    data_frame[col_name] = data_frame[col_name].astype('category')\n",
    "    \n",
    "def convert_str_to_int(data_frame, col_name):\n",
    "    data_frame[col_name] = data_frame[col_name].astype(int)"
   ],
   "metadata": {
    "collapsed": false,
    "ExecuteTime": {
     "end_time": "2024-04-12T04:37:54.527988700Z",
     "start_time": "2024-04-12T04:37:54.515511300Z"
    }
   },
   "id": "57935f2a8be4a305",
   "execution_count": 3
  },
  {
   "cell_type": "markdown",
   "source": [
    "### LIEUX\n",
    "\n",
    "Les fichiers lieux contiennent globalement des informations relatives aux voies empruntées allant de leur catégorie, à la vitesse maximale autorisée (pour certaines années), le nom de la route, etc.\n",
    "\n",
    "#### catr\n",
    "\n",
    "Cette variable est importante, car elle indique le type de voie empruntée durant l'accident. On soupçonne qu'une corrélation forte peut exister entre les voies à grande vitesse et les accidents graves. En effet, si un accident se produit sur ce genre de voie, il y a peu de chance que ces derniers soient à faible allure. Ainsi, si les accidents sont majoritairement réalisés sous haute vitesse, il est probable que les accidents soient par conséquent plus violents.\n",
    "\n",
    "Au sein des nouvelles réglementations, on observe l'apparition d'une catégorie (reliée à la valeur **\"*7*\"**) correspondant aux routes de métropole urbaine. On décidera donc de construire les catégories selon les valeurs suivantes : [**1**, **2**, **3**, **4**, **5**, **6**, **7**, **9**]."
   ],
   "metadata": {
    "collapsed": false
   },
   "id": "749b6cf65d4ee80f"
  },
  {
   "cell_type": "code",
   "outputs": [
    {
     "name": "stdout",
     "output_type": "stream",
     "text": [
      "1245607\n",
      "1245607\n"
     ]
    }
   ],
   "source": [
    "# Converti en variable catégorielle\n",
    "convert_float_to_cat(full_data, 'catr')"
   ],
   "metadata": {
    "collapsed": false,
    "ExecuteTime": {
     "end_time": "2024-04-12T04:38:34.081877100Z",
     "start_time": "2024-04-12T04:38:33.938261900Z"
    }
   },
   "id": "8482903957ea5c70",
   "execution_count": 4
  },
  {
   "cell_type": "markdown",
   "source": [
    "#### voie, v1, v2\n",
    "\n",
    "- **voie** : il est difficile de composer avec cette variable tant l'hétérogénéité est importante dans les valeurs saisies. De plus, sa pertinence n'est pas démontrée quand on dispose d'ores et déjà de la latitude et de la longitude de l'accident. Cette variable sera donc naturellement supprimée.\n",
    "- **v1** : latitude de l'accident. Combinée à la longitude, cela pourrait en tant que variable numérique être utile pour créer des zones à accidents graves ou moins graves (carrefour en ville où de faibles accidents se produisent fréquemment par exemple).\n",
    "- **v2** : longitude de l'accident. Combinée à la latitude, cela pourrait en tant que variable numérique être utile pour créer des zones à accidents graves ou moins graves (carrefour en ville où de faibles accidents se produisent fréquemment par exemple).\n",
    "\n",
    "Hélas, les données de voie, v1, v2 sont trop peu qualitatives pour être exploitées sans un travail important. Nous décidons de supprimer ces colonnes pour l'instant. Cependant, nous nous réservons le droit de les retravailler plus tard afin d'améliorer potentiellement le modèle."
   ],
   "metadata": {
    "collapsed": false
   },
   "id": "144ea2fcc2365c04"
  },
  {
   "cell_type": "code",
   "outputs": [],
   "source": [
    "# Suppression des colonnes voie, v1, v2 \n",
    "full_data.drop(labels=['voie', 'v1', 'v2'], axis=1, inplace=True)"
   ],
   "metadata": {
    "collapsed": false,
    "ExecuteTime": {
     "end_time": "2024-04-12T04:38:45.478823Z",
     "start_time": "2024-04-12T04:38:45.312310400Z"
    }
   },
   "id": "f7c9c9d61168018a",
   "execution_count": 5
  },
  {
   "cell_type": "markdown",
   "source": [
    "#### circ\n",
    "\n",
    "Correspond aux différents régimes de ciruclation (sens unique, double sens, ...). On soupçonne un intérêt pour cette variable et nous décidons donc de la converser. On décidera que les valeurs n'apportant aucune informations complémentaires seront représentées par un **\"*5*\"**."
   ],
   "metadata": {
    "collapsed": false
   },
   "id": "30e8b1e27ae7a72f"
  },
  {
   "cell_type": "code",
   "outputs": [
    {
     "name": "stdout",
     "output_type": "stream",
     "text": [
      "1245607\n",
      "1175850\n"
     ]
    }
   ],
   "source": [
    "# Harmonise les données\n",
    "full_data['circ'] = full_data['circ'].replace([-1, 0], pd.NA)\n",
    "full_data = full_data.dropna(subset=['circ'])\n",
    "\n",
    "# Converti en variable catégorielle\n",
    "convert_float_to_cat(full_data, 'circ')"
   ],
   "metadata": {
    "collapsed": false,
    "ExecuteTime": {
     "end_time": "2024-04-12T04:39:31.952666800Z",
     "start_time": "2024-04-12T04:39:31.488101100Z"
    }
   },
   "id": "e0e4fa9769f7bb26",
   "execution_count": 6
  },
  {
   "cell_type": "markdown",
   "source": [
    "#### nbv\n",
    "\n",
    "Correspond au nombre de voies, on décide de retenir cette variable, car il est possible que des voies uniques puissent être à l'origine d'accidents graves (dépassement de ligne blanche et rencontre frontale avec un autre automobiliste), ou bien vecteur d'une réduction des accidents graves (la majorité des gens peuvent ne pas vouloir franchir la ligne blanche et donc limite les dépassements dangereux). \n",
    "\n",
    "En disposant du nombre de voies, on suppose que nous avons affaire à une variable numérique (moins il y en a, plus on observera certains comportements, et inversement)."
   ],
   "metadata": {
    "collapsed": false
   },
   "id": "6df29c63647bb4c2"
  },
  {
   "cell_type": "code",
   "outputs": [
    {
     "name": "stdout",
     "output_type": "stream",
     "text": [
      "1175850\n",
      "1101027\n"
     ]
    }
   ],
   "source": [
    "# Harmonisation des données\n",
    "replace_dict = {'0.0': pd.NA, '1.0': '1', '2.0': '2', '3.0': '3', '4.0': '4', '5.0': '5', '6.0': '6', '7.0': '7', '8.0': '8', '9.0': '9', '10.0': '10', '11.0': '11', '12.0' :'12', '13.0' : '13', '#ERREUR' : pd.NA, -1: pd.NA, '-1.0': pd.NA, ' -1' : pd.NA}\n",
    "\n",
    "full_data['nbv'] = full_data['nbv'].replace(replace_dict)\n",
    "full_data = full_data.dropna(subset=['nbv'])\n",
    "\n",
    "# Converti en variable numérique\n",
    "convert_str_to_int(full_data, 'nbv')"
   ],
   "metadata": {
    "collapsed": false,
    "ExecuteTime": {
     "end_time": "2024-04-12T04:40:07.316467400Z",
     "start_time": "2024-04-12T04:40:06.404882800Z"
    }
   },
   "id": "b1cdb457c901a641",
   "execution_count": 7
  },
  {
   "cell_type": "code",
   "outputs": [
    {
     "data": {
      "text/plain": "dtype('int32')"
     },
     "execution_count": 8,
     "metadata": {},
     "output_type": "execute_result"
    }
   ],
   "source": [
    "full_data['nbv'].dtype"
   ],
   "metadata": {
    "collapsed": false,
    "ExecuteTime": {
     "end_time": "2024-04-12T04:40:14.404095700Z",
     "start_time": "2024-04-12T04:40:14.384127400Z"
    }
   },
   "id": "bd3bd3cb2a55f8e1",
   "execution_count": 8
  },
  {
   "cell_type": "markdown",
   "source": [
    "#### vosp\n",
    "\n",
    "On suppose qu'il n'y a pas nécessairement de lien en l'existence d'une voie réservée, surtout lorsque cette voie n'est pas implicitement impliquée. On décide donc ne pas aborder cette variable pour l'instant. On se réserve le droit de la traiter dans des travaux futurs à des fins d'amélioration de modèles."
   ],
   "metadata": {
    "collapsed": false
   },
   "id": "b1f2a719966a77f8"
  },
  {
   "cell_type": "code",
   "outputs": [],
   "source": [
    "# Suppression de la colonne vosp\n",
    "full_data.drop(labels=['vosp'], axis=1, inplace=True)"
   ],
   "metadata": {
    "collapsed": false,
    "ExecuteTime": {
     "end_time": "2024-04-12T04:40:17.322636500Z",
     "start_time": "2024-04-12T04:40:17.190239300Z"
    }
   },
   "id": "1ba776c3e9658e7d",
   "execution_count": 9
  },
  {
   "cell_type": "markdown",
   "source": [
    "#### prof\n",
    "\n",
    "On soupçonne que le relief de la route puisse légèrement influencer la présence d'accident (manque de visibilité en sommet de côte) et nous conservons donc cette valeur sujette à délétion sous réserve qu'elle soit impertinente plus tard."
   ],
   "metadata": {
    "collapsed": false
   },
   "id": "54af28fe788a807d"
  },
  {
   "cell_type": "code",
   "outputs": [
    {
     "name": "stdout",
     "output_type": "stream",
     "text": [
      "1101027\n",
      "1067913\n"
     ]
    }
   ],
   "source": [
    "# Harmonisation des données\n",
    "full_data['prof'] = full_data['prof'].replace([-1, 0], pd.NA)\n",
    "full_data = full_data.dropna(subset=['prof'])\n",
    "\n",
    "# Converti en variable catégorielle\n",
    "convert_float_to_cat(full_data, 'prof')"
   ],
   "metadata": {
    "collapsed": false,
    "ExecuteTime": {
     "end_time": "2024-04-12T04:41:01.434349100Z",
     "start_time": "2024-04-12T04:41:01.016389100Z"
    }
   },
   "id": "d4316036b6f027aa",
   "execution_count": 10
  },
  {
   "cell_type": "code",
   "outputs": [
    {
     "data": {
      "text/plain": "CategoricalDtype(categories=[1, 2, 3, 4], ordered=False, categories_dtype=int32)"
     },
     "execution_count": 11,
     "metadata": {},
     "output_type": "execute_result"
    }
   ],
   "source": [
    "full_data['prof'].dtype"
   ],
   "metadata": {
    "collapsed": false,
    "ExecuteTime": {
     "end_time": "2024-04-12T04:41:07.143477700Z",
     "start_time": "2024-04-12T04:41:07.120799200Z"
    }
   },
   "id": "98eca718995af964",
   "execution_count": 11
  },
  {
   "cell_type": "markdown",
   "source": [
    "#### pr, pr1\n",
    "\n",
    "Les points de repère ne semblent pas présenter d'intérêt au vu de ce qu'ils représentent pour les prendre en compte. Ils risqueraient de venir complexifier le modèle inutilement."
   ],
   "metadata": {
    "collapsed": false
   },
   "id": "bb9a87517f75f6f3"
  },
  {
   "cell_type": "code",
   "outputs": [],
   "source": [
    "# Suppression des colonnes pr, pr1\n",
    "full_data.drop(labels=['pr', 'pr1'], axis=1, inplace=True)"
   ],
   "metadata": {
    "collapsed": false,
    "ExecuteTime": {
     "end_time": "2024-04-12T04:41:09.657059100Z",
     "start_time": "2024-04-12T04:41:09.548094600Z"
    }
   },
   "id": "146a0fa70f3e43d8",
   "execution_count": 12
  },
  {
   "cell_type": "markdown",
   "source": [
    "#### plan\n",
    "\n",
    "Le tracé du plan semble important notamment pour les valeurs indiquant des virages, ou encore un tracé en **\"*S\"** indiquant un manque de visibilité, et des potentielles pertes d'adhérence."
   ],
   "metadata": {
    "collapsed": false
   },
   "id": "46fe4e39b56bc0b2"
  },
  {
   "cell_type": "code",
   "outputs": [],
   "source": [
    "# Harmonisation des données\n",
    "full_data['plan'] = full_data['plan'].replace([-1, 0], pd.NA)\n",
    "full_data = full_data.dropna(subset=['plan'])\n",
    "\n",
    "# Converti en variable catégorielle\n",
    "convert_float_to_cat(full_data, 'plan')"
   ],
   "metadata": {
    "collapsed": false,
    "ExecuteTime": {
     "end_time": "2024-04-12T04:41:57.544443Z",
     "start_time": "2024-04-12T04:41:57.302783400Z"
    }
   },
   "id": "860a97801f619be6",
   "execution_count": 14
  },
  {
   "cell_type": "markdown",
   "source": [
    "#### lartpc, larrout\n",
    "\n",
    "On compte environ 42% de données où la largeur du terre-plein central, supposément en mètres, n'est pas indiquée. Ainsi, il est difficile de rendre cette donnée exploitable pour la construction d'un modèle prédictif. \n",
    "\n",
    "Pour ce qui est de la largeur de la route, on dénombre déjà 18% de valeurs manquantes, s'ajoute à cela des données peu qualitatives avec des valeurs en cm ou en m sans indication. De plus, certaines voies ont des rapports du simple au quintuple ce qui n'apporte pas une plus-value importante à l'analyse pour le modèle prédictif. On décide donc de supprimer cette deuxième variable."
   ],
   "metadata": {
    "collapsed": false
   },
   "id": "5bbf6f823da5647a"
  },
  {
   "cell_type": "code",
   "outputs": [],
   "source": [
    "# Suppression des colonnes lartpc, larrout\n",
    "full_data.drop(labels=['lartpc', 'larrout'], axis=1, inplace=True)"
   ],
   "metadata": {
    "collapsed": false,
    "ExecuteTime": {
     "end_time": "2024-04-12T04:41:58.924928800Z",
     "start_time": "2024-04-12T04:41:58.830485600Z"
    }
   },
   "id": "e1eaaa98c6c562ba",
   "execution_count": 15
  },
  {
   "cell_type": "markdown",
   "source": [
    "#### surf\n",
    "\n",
    "Il est évident que les conditions liées à la nature de la chaussée amènent davantage d'accidents. On pensera notamment à des sols humides responsables du phénomène d'aquaplaning ou encore du verglas... Ainsi, nous décidons de sélectionner cette variable même si une corrélation forte risque de se produire avec d'autres variables liée aux conditions climatiques comme **\"atm\"**."
   ],
   "metadata": {
    "collapsed": false
   },
   "id": "30140bd46b486fd8"
  },
  {
   "cell_type": "code",
   "outputs": [
    {
     "name": "stdout",
     "output_type": "stream",
     "text": [
      "1039263\n",
      "1032091\n"
     ]
    }
   ],
   "source": [
    "# Harmonisation des données\n",
    "full_data['surf'] = full_data['surf'].replace([-1, 0], pd.NA)\n",
    "full_data = full_data.dropna(subset=['surf'])\n",
    "\n",
    "# Converti en variable catégorielle\n",
    "convert_float_to_cat(full_data, 'surf')"
   ],
   "metadata": {
    "collapsed": false,
    "ExecuteTime": {
     "end_time": "2024-04-12T04:42:43.862314Z",
     "start_time": "2024-04-12T04:42:43.504700300Z"
    }
   },
   "id": "91654c3577efa8",
   "execution_count": 16
  },
  {
   "cell_type": "code",
   "outputs": [
    {
     "data": {
      "text/plain": "CategoricalDtype(categories=[1, 2, 3, 4, 5, 6, 7, 8, 9], ordered=False, categories_dtype=int32)"
     },
     "execution_count": 17,
     "metadata": {},
     "output_type": "execute_result"
    }
   ],
   "source": [
    "full_data['surf'].dtype"
   ],
   "metadata": {
    "collapsed": false,
    "ExecuteTime": {
     "end_time": "2024-04-12T04:42:59.593806300Z",
     "start_time": "2024-04-12T04:42:59.572031400Z"
    }
   },
   "id": "2d8b9499fca5e9aa",
   "execution_count": 17
  },
  {
   "cell_type": "markdown",
   "source": [
    "#### infra\n",
    "\n",
    "Correspond à l'aménagement de la route au lieu de l'accident. On voit peu d'intérêt à cette variable, car d'autres variables recensent d'ores et déjà, et avec plus de pertinence, des zones d'intérêts. On pensera notamment à **\"catr\"**, **\"plan\"** ou encore **\"prof\"**."
   ],
   "metadata": {
    "collapsed": false
   },
   "id": "943e049e12b8b24f"
  },
  {
   "cell_type": "code",
   "outputs": [],
   "source": [
    "# Suppression de la colonne infra\n",
    "full_data.drop(labels=['infra'], axis=1, inplace=True)"
   ],
   "metadata": {
    "collapsed": false,
    "ExecuteTime": {
     "end_time": "2024-04-12T04:43:03.224233600Z",
     "start_time": "2024-04-12T04:43:03.131063800Z"
    }
   },
   "id": "2467a2551f2c21dd",
   "execution_count": 18
  },
  {
   "cell_type": "markdown",
   "source": [
    "#### situ\n",
    "\n",
    "La situation de l'accident (chaussée, trottoir, ...) permet d'avoir des informations intéressantes sur les circonstances de l'accident. En effet, si l'accident se produit sur un trottoir, on peut s'interroger sur la violence de l'accident pour déporter le véhicule jusqu'à l'intérieur du trottoir. Ainsi, nous décidons de retenir cette variable pour sa pertinence en assignat de manière catégorielle les différentes situations."
   ],
   "metadata": {
    "collapsed": false
   },
   "id": "13ae8b60b2d4139c"
  },
  {
   "cell_type": "code",
   "outputs": [
    {
     "name": "stdout",
     "output_type": "stream",
     "text": [
      "1032091\n",
      "1012171\n"
     ]
    }
   ],
   "source": [
    "# Harmonisation des données\n",
    "full_data['situ'] = full_data['situ'].replace([-1, 0], pd.NA)\n",
    "full_data = full_data.dropna(subset=['situ'])\n",
    "\n",
    "# Converti en variable catégorielle\n",
    "convert_float_to_cat(full_data, 'situ')"
   ],
   "metadata": {
    "collapsed": false,
    "ExecuteTime": {
     "end_time": "2024-04-12T04:43:50.361609900Z",
     "start_time": "2024-04-12T04:43:50.004751100Z"
    }
   },
   "id": "fb8debdb936cfdde",
   "execution_count": 19
  },
  {
   "cell_type": "markdown",
   "source": [
    "#### vma, env1\n",
    "\n",
    "La **\"vma\"** ou **V**itesse **M**aximale **A**utorisée est un indicateur trés intéressant, cependant le type de route spécifié au sein de la variable **\"catr\"** sous-entend déjà les informations relatives à ces vitesses. Seules les modifications des réglementations de vitesse ne peuvent être lues. De plus, fort de ses 65% de valeurs manquantes, c'est une variable difficilement exploitable. Il serait plus simlple de l'assigner manuellement en fonction de **\"catr\"** ce qui la rendrait encore plus inutile.\n",
    "\n",
    "Pour ce qui est de **\"env1\"** qui traduit la présence d'une école à proximité, cet indicateur pourrait être intéressant malheureusement, il comporte 34% de valeurs manquantes. Au vu de la plus-value de cette variable, il est jugé non nécessaire de le retenir. On se réserve le droit d'y avoir recours ultérieurement. "
   ],
   "metadata": {
    "collapsed": false
   },
   "id": "a2ebd2e7d5fc151c"
  },
  {
   "cell_type": "code",
   "outputs": [],
   "source": [
    "# Suppression des colonnes vma, env1\n",
    "full_data.drop(labels=['vma', 'env1'], axis=1, inplace=True)"
   ],
   "metadata": {
    "collapsed": false,
    "ExecuteTime": {
     "end_time": "2024-04-12T04:43:57.953762Z",
     "start_time": "2024-04-12T04:43:57.869615700Z"
    }
   },
   "id": "79c152245063ad8",
   "execution_count": 20
  },
  {
   "cell_type": "code",
   "outputs": [],
   "source": [
    "full_data.to_csv('Data/TRAIN_FULL/BAAC_2012_to_2022_V3_to_V4.csv', index=False)"
   ],
   "metadata": {
    "collapsed": false,
    "ExecuteTime": {
     "end_time": "2024-04-12T04:44:22.344898700Z",
     "start_time": "2024-04-12T04:44:14.718401500Z"
    }
   },
   "id": "c94593bdcd0dcfbe",
   "execution_count": 21
  },
  {
   "cell_type": "markdown",
   "source": [
    "Désormais, toutes les variables propres aux usagers ont été traitées, on sauvegarde une version intermédiaire de ce fichier."
   ],
   "metadata": {
    "collapsed": false
   },
   "id": "1c5465653d046bb8"
  },
  {
   "cell_type": "code",
   "outputs": [],
   "source": [],
   "metadata": {
    "collapsed": false
   },
   "id": "d84e4f92f605389c"
  }
 ],
 "metadata": {
  "kernelspec": {
   "display_name": "Python 3",
   "language": "python",
   "name": "python3"
  },
  "language_info": {
   "codemirror_mode": {
    "name": "ipython",
    "version": 2
   },
   "file_extension": ".py",
   "mimetype": "text/x-python",
   "name": "python",
   "nbconvert_exporter": "python",
   "pygments_lexer": "ipython2",
   "version": "2.7.6"
  }
 },
 "nbformat": 4,
 "nbformat_minor": 5
}
