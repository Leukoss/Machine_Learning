{
 "cells": [
  {
   "cell_type": "code",
   "execution_count": 1,
   "id": "initial_id",
   "metadata": {
    "collapsed": true,
    "ExecuteTime": {
     "end_time": "2024-04-09T22:06:31.450641500Z",
     "start_time": "2024-04-09T22:06:27.578081600Z"
    }
   },
   "outputs": [],
   "source": [
    "import pandas as pd"
   ]
  },
  {
   "cell_type": "markdown",
   "source": [
    "We load the files :"
   ],
   "metadata": {
    "collapsed": false
   },
   "id": "cf3d0827bf0b8af6"
  },
  {
   "cell_type": "code",
   "outputs": [
    {
     "data": {
      "text/plain": "        Num_Acc  an  mois  jour  hrmn  lum  agg  int  atm  col  com  \\\n0  201000000001  10     6    12  1930    1    2    1  1.0  6.0   52   \n1  201000000002  10     8     7  1000    1    2    1  1.0  6.0  477   \n2  201000000003  10     9    11  1600    1    1    1  1.0  5.0   11   \n3  201000000004  10     9    22  1630    1    2    1  1.0  6.0  477   \n4  201000000005  10    10    25  1215    1    2    1  1.0  2.0   52   \n\n                  adr gps        lat      long  dep  \n0  71 RUE JEAN JAURES   M        0.0       0.0  590  \n1       Rue Nationale   M  5051600.0  292000.0  590  \n2                 NaN   M        0.0       0.0  590  \n3    43 rue Nationale   M  5051800.0  292500.0  590  \n4     RUE GHESQUIERES   M  5050800.0  289700.0  590  ",
      "text/html": "<div>\n<style scoped>\n    .dataframe tbody tr th:only-of-type {\n        vertical-align: middle;\n    }\n\n    .dataframe tbody tr th {\n        vertical-align: top;\n    }\n\n    .dataframe thead th {\n        text-align: right;\n    }\n</style>\n<table border=\"1\" class=\"dataframe\">\n  <thead>\n    <tr style=\"text-align: right;\">\n      <th></th>\n      <th>Num_Acc</th>\n      <th>an</th>\n      <th>mois</th>\n      <th>jour</th>\n      <th>hrmn</th>\n      <th>lum</th>\n      <th>agg</th>\n      <th>int</th>\n      <th>atm</th>\n      <th>col</th>\n      <th>com</th>\n      <th>adr</th>\n      <th>gps</th>\n      <th>lat</th>\n      <th>long</th>\n      <th>dep</th>\n    </tr>\n  </thead>\n  <tbody>\n    <tr>\n      <th>0</th>\n      <td>201000000001</td>\n      <td>10</td>\n      <td>6</td>\n      <td>12</td>\n      <td>1930</td>\n      <td>1</td>\n      <td>2</td>\n      <td>1</td>\n      <td>1.0</td>\n      <td>6.0</td>\n      <td>52</td>\n      <td>71 RUE JEAN JAURES</td>\n      <td>M</td>\n      <td>0.0</td>\n      <td>0.0</td>\n      <td>590</td>\n    </tr>\n    <tr>\n      <th>1</th>\n      <td>201000000002</td>\n      <td>10</td>\n      <td>8</td>\n      <td>7</td>\n      <td>1000</td>\n      <td>1</td>\n      <td>2</td>\n      <td>1</td>\n      <td>1.0</td>\n      <td>6.0</td>\n      <td>477</td>\n      <td>Rue Nationale</td>\n      <td>M</td>\n      <td>5051600.0</td>\n      <td>292000.0</td>\n      <td>590</td>\n    </tr>\n    <tr>\n      <th>2</th>\n      <td>201000000003</td>\n      <td>10</td>\n      <td>9</td>\n      <td>11</td>\n      <td>1600</td>\n      <td>1</td>\n      <td>1</td>\n      <td>1</td>\n      <td>1.0</td>\n      <td>5.0</td>\n      <td>11</td>\n      <td>NaN</td>\n      <td>M</td>\n      <td>0.0</td>\n      <td>0.0</td>\n      <td>590</td>\n    </tr>\n    <tr>\n      <th>3</th>\n      <td>201000000004</td>\n      <td>10</td>\n      <td>9</td>\n      <td>22</td>\n      <td>1630</td>\n      <td>1</td>\n      <td>2</td>\n      <td>1</td>\n      <td>1.0</td>\n      <td>6.0</td>\n      <td>477</td>\n      <td>43 rue Nationale</td>\n      <td>M</td>\n      <td>5051800.0</td>\n      <td>292500.0</td>\n      <td>590</td>\n    </tr>\n    <tr>\n      <th>4</th>\n      <td>201000000005</td>\n      <td>10</td>\n      <td>10</td>\n      <td>25</td>\n      <td>1215</td>\n      <td>1</td>\n      <td>2</td>\n      <td>1</td>\n      <td>1.0</td>\n      <td>2.0</td>\n      <td>52</td>\n      <td>RUE GHESQUIERES</td>\n      <td>M</td>\n      <td>5050800.0</td>\n      <td>289700.0</td>\n      <td>590</td>\n    </tr>\n  </tbody>\n</table>\n</div>"
     },
     "execution_count": 18,
     "metadata": {},
     "output_type": "execute_result"
    }
   ],
   "source": [
    "BAAC_2010_carac = pd.read_csv(\"Data/TRAIN/BAAC-Annee-2010/caracteristiques_2010.csv\", encoding=\"latin1\")\n",
    "\n",
    "BAAC_2010_carac.head()"
   ],
   "metadata": {
    "collapsed": false,
    "ExecuteTime": {
     "end_time": "2024-04-09T22:18:09.102683400Z",
     "start_time": "2024-04-09T22:18:08.980069800Z"
    }
   },
   "id": "8fd44ae81012e059",
   "execution_count": 18
  },
  {
   "cell_type": "code",
   "outputs": [
    {
     "data": {
      "text/plain": "        Num_Acc  catr   voie   v1   v2  circ  nbv   pr  pr1  vosp  prof  plan  \\\n0  201000000001     3   39.0  NaN  NaN   2.0  2.0  0.0  0.0   0.0   1.0   1.0   \n1  201000000002     3   39.0  NaN  NaN   2.0  0.0  0.0  0.0   0.0   1.0   1.0   \n2  201000000003     3   41.0  2.0  NaN   2.0  2.0  0.0  0.0   0.0   1.0   1.0   \n3  201000000004     3   39.0  NaN  NaN   2.0  2.0  0.0  0.0   0.0   1.0   1.0   \n4  201000000005     3  239.0  NaN  NaN   2.0  1.0  0.0  0.0   0.0   1.0   1.0   \n\n   lartpc  larrout  surf  infra  situ  env1  \n0     0.0     60.0   1.0    0.0   1.0   0.0  \n1     0.0      0.0   1.0    0.0   1.0   0.0  \n2     0.0     61.0   1.0    0.0   1.0   0.0  \n3     0.0     68.0   1.0    0.0   1.0   0.0  \n4     0.0      0.0   1.0    0.0   1.0  99.0  ",
      "text/html": "<div>\n<style scoped>\n    .dataframe tbody tr th:only-of-type {\n        vertical-align: middle;\n    }\n\n    .dataframe tbody tr th {\n        vertical-align: top;\n    }\n\n    .dataframe thead th {\n        text-align: right;\n    }\n</style>\n<table border=\"1\" class=\"dataframe\">\n  <thead>\n    <tr style=\"text-align: right;\">\n      <th></th>\n      <th>Num_Acc</th>\n      <th>catr</th>\n      <th>voie</th>\n      <th>v1</th>\n      <th>v2</th>\n      <th>circ</th>\n      <th>nbv</th>\n      <th>pr</th>\n      <th>pr1</th>\n      <th>vosp</th>\n      <th>prof</th>\n      <th>plan</th>\n      <th>lartpc</th>\n      <th>larrout</th>\n      <th>surf</th>\n      <th>infra</th>\n      <th>situ</th>\n      <th>env1</th>\n    </tr>\n  </thead>\n  <tbody>\n    <tr>\n      <th>0</th>\n      <td>201000000001</td>\n      <td>3</td>\n      <td>39.0</td>\n      <td>NaN</td>\n      <td>NaN</td>\n      <td>2.0</td>\n      <td>2.0</td>\n      <td>0.0</td>\n      <td>0.0</td>\n      <td>0.0</td>\n      <td>1.0</td>\n      <td>1.0</td>\n      <td>0.0</td>\n      <td>60.0</td>\n      <td>1.0</td>\n      <td>0.0</td>\n      <td>1.0</td>\n      <td>0.0</td>\n    </tr>\n    <tr>\n      <th>1</th>\n      <td>201000000002</td>\n      <td>3</td>\n      <td>39.0</td>\n      <td>NaN</td>\n      <td>NaN</td>\n      <td>2.0</td>\n      <td>0.0</td>\n      <td>0.0</td>\n      <td>0.0</td>\n      <td>0.0</td>\n      <td>1.0</td>\n      <td>1.0</td>\n      <td>0.0</td>\n      <td>0.0</td>\n      <td>1.0</td>\n      <td>0.0</td>\n      <td>1.0</td>\n      <td>0.0</td>\n    </tr>\n    <tr>\n      <th>2</th>\n      <td>201000000003</td>\n      <td>3</td>\n      <td>41.0</td>\n      <td>2.0</td>\n      <td>NaN</td>\n      <td>2.0</td>\n      <td>2.0</td>\n      <td>0.0</td>\n      <td>0.0</td>\n      <td>0.0</td>\n      <td>1.0</td>\n      <td>1.0</td>\n      <td>0.0</td>\n      <td>61.0</td>\n      <td>1.0</td>\n      <td>0.0</td>\n      <td>1.0</td>\n      <td>0.0</td>\n    </tr>\n    <tr>\n      <th>3</th>\n      <td>201000000004</td>\n      <td>3</td>\n      <td>39.0</td>\n      <td>NaN</td>\n      <td>NaN</td>\n      <td>2.0</td>\n      <td>2.0</td>\n      <td>0.0</td>\n      <td>0.0</td>\n      <td>0.0</td>\n      <td>1.0</td>\n      <td>1.0</td>\n      <td>0.0</td>\n      <td>68.0</td>\n      <td>1.0</td>\n      <td>0.0</td>\n      <td>1.0</td>\n      <td>0.0</td>\n    </tr>\n    <tr>\n      <th>4</th>\n      <td>201000000005</td>\n      <td>3</td>\n      <td>239.0</td>\n      <td>NaN</td>\n      <td>NaN</td>\n      <td>2.0</td>\n      <td>1.0</td>\n      <td>0.0</td>\n      <td>0.0</td>\n      <td>0.0</td>\n      <td>1.0</td>\n      <td>1.0</td>\n      <td>0.0</td>\n      <td>0.0</td>\n      <td>1.0</td>\n      <td>0.0</td>\n      <td>1.0</td>\n      <td>99.0</td>\n    </tr>\n  </tbody>\n</table>\n</div>"
     },
     "execution_count": 19,
     "metadata": {},
     "output_type": "execute_result"
    }
   ],
   "source": [
    "BAAC_2010_place = pd.read_csv(\"Data/TRAIN/BAAC-Annee-2010/lieux_2010.csv\", encoding=\"latin1\")\n",
    "\n",
    "BAAC_2010_place.head()"
   ],
   "metadata": {
    "collapsed": false
   },
   "id": "22586e1fd5f9a9c4",
   "execution_count": 19
  },
  {
   "cell_type": "code",
   "outputs": [
    {
     "data": {
      "text/plain": "        Num_Acc  place  catu  grav  sexe  trajet  secu  locp  actp  etatp  \\\n0  201000000001    1.0     1     3     1     5.0  21.0   0.0   0.0    0.0   \n1  201000000002    1.0     1     1     2     5.0  11.0   0.0   0.0    0.0   \n2  201000000002    NaN     3     3     1     0.0   NaN   4.0   3.0    1.0   \n3  201000000003    1.0     1     3     1     5.0  23.0   0.0   0.0    0.0   \n4  201000000003    1.0     1     1     2     5.0  11.0   0.0   0.0    0.0   \n\n   an_nais num_veh  \n0   1976.0     A01  \n1   1983.0     A01  \n2   1965.0     A01  \n3   1979.0     A01  \n4   1959.0     C03  ",
      "text/html": "<div>\n<style scoped>\n    .dataframe tbody tr th:only-of-type {\n        vertical-align: middle;\n    }\n\n    .dataframe tbody tr th {\n        vertical-align: top;\n    }\n\n    .dataframe thead th {\n        text-align: right;\n    }\n</style>\n<table border=\"1\" class=\"dataframe\">\n  <thead>\n    <tr style=\"text-align: right;\">\n      <th></th>\n      <th>Num_Acc</th>\n      <th>place</th>\n      <th>catu</th>\n      <th>grav</th>\n      <th>sexe</th>\n      <th>trajet</th>\n      <th>secu</th>\n      <th>locp</th>\n      <th>actp</th>\n      <th>etatp</th>\n      <th>an_nais</th>\n      <th>num_veh</th>\n    </tr>\n  </thead>\n  <tbody>\n    <tr>\n      <th>0</th>\n      <td>201000000001</td>\n      <td>1.0</td>\n      <td>1</td>\n      <td>3</td>\n      <td>1</td>\n      <td>5.0</td>\n      <td>21.0</td>\n      <td>0.0</td>\n      <td>0.0</td>\n      <td>0.0</td>\n      <td>1976.0</td>\n      <td>A01</td>\n    </tr>\n    <tr>\n      <th>1</th>\n      <td>201000000002</td>\n      <td>1.0</td>\n      <td>1</td>\n      <td>1</td>\n      <td>2</td>\n      <td>5.0</td>\n      <td>11.0</td>\n      <td>0.0</td>\n      <td>0.0</td>\n      <td>0.0</td>\n      <td>1983.0</td>\n      <td>A01</td>\n    </tr>\n    <tr>\n      <th>2</th>\n      <td>201000000002</td>\n      <td>NaN</td>\n      <td>3</td>\n      <td>3</td>\n      <td>1</td>\n      <td>0.0</td>\n      <td>NaN</td>\n      <td>4.0</td>\n      <td>3.0</td>\n      <td>1.0</td>\n      <td>1965.0</td>\n      <td>A01</td>\n    </tr>\n    <tr>\n      <th>3</th>\n      <td>201000000003</td>\n      <td>1.0</td>\n      <td>1</td>\n      <td>3</td>\n      <td>1</td>\n      <td>5.0</td>\n      <td>23.0</td>\n      <td>0.0</td>\n      <td>0.0</td>\n      <td>0.0</td>\n      <td>1979.0</td>\n      <td>A01</td>\n    </tr>\n    <tr>\n      <th>4</th>\n      <td>201000000003</td>\n      <td>1.0</td>\n      <td>1</td>\n      <td>1</td>\n      <td>2</td>\n      <td>5.0</td>\n      <td>11.0</td>\n      <td>0.0</td>\n      <td>0.0</td>\n      <td>0.0</td>\n      <td>1959.0</td>\n      <td>C03</td>\n    </tr>\n  </tbody>\n</table>\n</div>"
     },
     "execution_count": 20,
     "metadata": {},
     "output_type": "execute_result"
    }
   ],
   "source": [
    "BAAC_2010_users = pd.read_csv(\"Data/TRAIN/BAAC-Annee-2010/usagers_2010.csv\", encoding=\"latin1\", sep=\",\")\n",
    "\n",
    "BAAC_2010_users.head()"
   ],
   "metadata": {
    "collapsed": false,
    "ExecuteTime": {
     "end_time": "2024-04-09T22:18:09.931811900Z",
     "start_time": "2024-04-09T22:18:09.750687600Z"
    }
   },
   "id": "d367e12954516259",
   "execution_count": 20
  },
  {
   "cell_type": "code",
   "outputs": [
    {
     "data": {
      "text/plain": "        Num_Acc  senc  catv  occutc  obs  obsm  choc  manv num_veh\n0  201000000001     0    30       0  1.0   0.0   1.0   1.0     A01\n1  201000000002     0     7       0  0.0   1.0   1.0   1.0     A01\n2  201000000003     0    33       0  0.0   2.0   1.0  17.0     A01\n3  201000000003     0     7       0  0.0   9.0   3.0  23.0     C03\n4  201000000003     0     7       0  0.0   9.0   6.0   1.0     B02",
      "text/html": "<div>\n<style scoped>\n    .dataframe tbody tr th:only-of-type {\n        vertical-align: middle;\n    }\n\n    .dataframe tbody tr th {\n        vertical-align: top;\n    }\n\n    .dataframe thead th {\n        text-align: right;\n    }\n</style>\n<table border=\"1\" class=\"dataframe\">\n  <thead>\n    <tr style=\"text-align: right;\">\n      <th></th>\n      <th>Num_Acc</th>\n      <th>senc</th>\n      <th>catv</th>\n      <th>occutc</th>\n      <th>obs</th>\n      <th>obsm</th>\n      <th>choc</th>\n      <th>manv</th>\n      <th>num_veh</th>\n    </tr>\n  </thead>\n  <tbody>\n    <tr>\n      <th>0</th>\n      <td>201000000001</td>\n      <td>0</td>\n      <td>30</td>\n      <td>0</td>\n      <td>1.0</td>\n      <td>0.0</td>\n      <td>1.0</td>\n      <td>1.0</td>\n      <td>A01</td>\n    </tr>\n    <tr>\n      <th>1</th>\n      <td>201000000002</td>\n      <td>0</td>\n      <td>7</td>\n      <td>0</td>\n      <td>0.0</td>\n      <td>1.0</td>\n      <td>1.0</td>\n      <td>1.0</td>\n      <td>A01</td>\n    </tr>\n    <tr>\n      <th>2</th>\n      <td>201000000003</td>\n      <td>0</td>\n      <td>33</td>\n      <td>0</td>\n      <td>0.0</td>\n      <td>2.0</td>\n      <td>1.0</td>\n      <td>17.0</td>\n      <td>A01</td>\n    </tr>\n    <tr>\n      <th>3</th>\n      <td>201000000003</td>\n      <td>0</td>\n      <td>7</td>\n      <td>0</td>\n      <td>0.0</td>\n      <td>9.0</td>\n      <td>3.0</td>\n      <td>23.0</td>\n      <td>C03</td>\n    </tr>\n    <tr>\n      <th>4</th>\n      <td>201000000003</td>\n      <td>0</td>\n      <td>7</td>\n      <td>0</td>\n      <td>0.0</td>\n      <td>9.0</td>\n      <td>6.0</td>\n      <td>1.0</td>\n      <td>B02</td>\n    </tr>\n  </tbody>\n</table>\n</div>"
     },
     "execution_count": 21,
     "metadata": {},
     "output_type": "execute_result"
    }
   ],
   "source": [
    "BAAC_2010_vehic = pd.read_csv(\"Data/TRAIN/BAAC-Annee-2010/vehicules_2010.csv\", encoding=\"latin1\")\n",
    "\n",
    "BAAC_2010_vehic.head()"
   ],
   "metadata": {
    "collapsed": false,
    "ExecuteTime": {
     "end_time": "2024-04-09T22:18:10.045898300Z",
     "start_time": "2024-04-09T22:18:09.913860100Z"
    }
   },
   "id": "ef087fc407caa385",
   "execution_count": 21
  },
  {
   "cell_type": "code",
   "outputs": [
    {
     "data": {
      "text/plain": "    Id_accident Lettre Conventionnelle VÃ©hicule  AnnÃ©e  \\\n0  64Â 008Â 784                                A    2010   \n1  64Â 008Â 784                                B    2010   \n2  64Â 008Â 785                                A    2010   \n3  64Â 008Â 786                                A    2010   \n4  64Â 008Â 787                                A    2010   \n\n  Lieu Admin Actuel - Territoire Nom   Type Accident - LibellÃ©  \\\n0                                DOM  Accident grave non mortel   \n1                                DOM  Accident grave non mortel   \n2                          Autres OM  Accident grave non mortel   \n3                                DOM  Accident grave non mortel   \n4                                DOM  Accident grave non mortel   \n\n              CNIT CatÃ©gorie vÃ©hicule  Age vÃ©hicule  \n0  JH2PC35A22M3000          Moto lourde            8.0  \n1              NaN                   VT           10.0  \n2              NaN                   VT            NaN  \n3              NaN                   VT           20.0  \n4     LKW17L40P199          Moto lourde            0.0  ",
      "text/html": "<div>\n<style scoped>\n    .dataframe tbody tr th:only-of-type {\n        vertical-align: middle;\n    }\n\n    .dataframe tbody tr th {\n        vertical-align: top;\n    }\n\n    .dataframe thead th {\n        text-align: right;\n    }\n</style>\n<table border=\"1\" class=\"dataframe\">\n  <thead>\n    <tr style=\"text-align: right;\">\n      <th></th>\n      <th>Id_accident</th>\n      <th>Lettre Conventionnelle VÃ©hicule</th>\n      <th>AnnÃ©e</th>\n      <th>Lieu Admin Actuel - Territoire Nom</th>\n      <th>Type Accident - LibellÃ©</th>\n      <th>CNIT</th>\n      <th>CatÃ©gorie vÃ©hicule</th>\n      <th>Age vÃ©hicule</th>\n    </tr>\n  </thead>\n  <tbody>\n    <tr>\n      <th>0</th>\n      <td>64Â 008Â 784</td>\n      <td>A</td>\n      <td>2010</td>\n      <td>DOM</td>\n      <td>Accident grave non mortel</td>\n      <td>JH2PC35A22M3000</td>\n      <td>Moto lourde</td>\n      <td>8.0</td>\n    </tr>\n    <tr>\n      <th>1</th>\n      <td>64Â 008Â 784</td>\n      <td>B</td>\n      <td>2010</td>\n      <td>DOM</td>\n      <td>Accident grave non mortel</td>\n      <td>NaN</td>\n      <td>VT</td>\n      <td>10.0</td>\n    </tr>\n    <tr>\n      <th>2</th>\n      <td>64Â 008Â 785</td>\n      <td>A</td>\n      <td>2010</td>\n      <td>Autres OM</td>\n      <td>Accident grave non mortel</td>\n      <td>NaN</td>\n      <td>VT</td>\n      <td>NaN</td>\n    </tr>\n    <tr>\n      <th>3</th>\n      <td>64Â 008Â 786</td>\n      <td>A</td>\n      <td>2010</td>\n      <td>DOM</td>\n      <td>Accident grave non mortel</td>\n      <td>NaN</td>\n      <td>VT</td>\n      <td>20.0</td>\n    </tr>\n    <tr>\n      <th>4</th>\n      <td>64Â 008Â 787</td>\n      <td>A</td>\n      <td>2010</td>\n      <td>DOM</td>\n      <td>Accident grave non mortel</td>\n      <td>LKW17L40P199</td>\n      <td>Moto lourde</td>\n      <td>0.0</td>\n    </tr>\n  </tbody>\n</table>\n</div>"
     },
     "execution_count": 22,
     "metadata": {},
     "output_type": "execute_result"
    }
   ],
   "source": [
    "BAAC_2010_immat = pd.read_csv(\"Data/TRAIN/BAAC-Annee-2010/immatriculations-2010.csv\", encoding=\"latin1\", sep=\";\")\n",
    "\n",
    "BAAC_2010_immat.head()"
   ],
   "metadata": {
    "collapsed": false,
    "ExecuteTime": {
     "end_time": "2024-04-09T22:18:10.266215100Z",
     "start_time": "2024-04-09T22:18:10.073823900Z"
    }
   },
   "id": "7b7a42ea65980aef",
   "execution_count": 22
  },
  {
   "cell_type": "markdown",
   "source": [
    "Now, we are looking if we can concatenate all in one data frame :"
   ],
   "metadata": {
    "collapsed": false
   },
   "id": "c6f160af3cb6adba"
  },
  {
   "cell_type": "code",
   "outputs": [
    {
     "name": "stdout",
     "output_type": "stream",
     "text": [
      "The file containing the CARACTERISTIQUES has the following shape : 1110064\n",
      "The file containing the IMMATRICULAITONS has the following shape : 915320\n",
      "The file containing the VEHICULES has the following shape : 1059687\n",
      "The file containing the PLACES has the following shape : 1248822\n",
      "The file containing the USERS has the following shape : 1850304\n"
     ]
    }
   ],
   "source": [
    "print(f\"The file containing the CARACTERISTIQUES has the following shape : {BAAC_2010_carac.shape[0] * BAAC_2010_carac.shape[1]}\")\n",
    "print(f\"The file containing the IMMATRICULAITONS has the following shape : {BAAC_2010_immat.shape[0] * BAAC_2010_immat.shape[1]}\")\n",
    "print(f\"The file containing the VEHICULES has the following shape : {BAAC_2010_vehic.shape[0] * BAAC_2010_vehic.shape[1]}\")\n",
    "print(f\"The file containing the PLACES has the following shape : {BAAC_2010_place.shape[0] * BAAC_2010_place.shape[1]}\")\n",
    "print(f\"The file containing the USERS has the following shape : {BAAC_2010_users.shape[0] * BAAC_2010_users.shape[1]}\")"
   ],
   "metadata": {
    "collapsed": false,
    "ExecuteTime": {
     "end_time": "2024-04-09T22:31:20.868533600Z",
     "start_time": "2024-04-09T22:31:20.838431900Z"
    }
   },
   "id": "aea89ab3b7bc1dca",
   "execution_count": 23
  },
  {
   "cell_type": "markdown",
   "source": [
    "The global format is not fascinating. As we have a lot of datas, we look forward on the 2012 to 2022 instead..."
   ],
   "metadata": {
    "collapsed": false
   },
   "id": "b0fd1624634ed844"
  },
  {
   "cell_type": "code",
   "outputs": [],
   "source": [],
   "metadata": {
    "collapsed": false
   },
   "id": "478be78041b23854"
  }
 ],
 "metadata": {
  "kernelspec": {
   "display_name": "Python 3",
   "language": "python",
   "name": "python3"
  },
  "language_info": {
   "codemirror_mode": {
    "name": "ipython",
    "version": 2
   },
   "file_extension": ".py",
   "mimetype": "text/x-python",
   "name": "python",
   "nbconvert_exporter": "python",
   "pygments_lexer": "ipython2",
   "version": "2.7.6"
  }
 },
 "nbformat": 4,
 "nbformat_minor": 5
}
