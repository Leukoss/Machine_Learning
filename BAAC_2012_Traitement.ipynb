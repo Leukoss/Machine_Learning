{
 "cells": [
  {
   "cell_type": "markdown",
   "source": [
    "## Packages"
   ],
   "metadata": {
    "collapsed": false
   },
   "id": "113ce8e7a1e2b076"
  },
  {
   "cell_type": "code",
   "outputs": [],
   "source": [
    "import pandas as pd             # Traitement des tableaux de données \n",
    "\n",
    "whole_data = pd.read_csv('Data/TRAIN_FULL/BAAC_2012_full.csv')"
   ],
   "metadata": {
    "collapsed": false,
    "ExecuteTime": {
     "end_time": "2024-04-10T14:20:27.256159300Z",
     "start_time": "2024-04-10T14:20:25.638682Z"
    }
   },
   "id": "ee3d3e71ea538d50",
   "execution_count": 1
  },
  {
   "cell_type": "markdown",
   "source": [
    "# Pré-Traitement des données"
   ],
   "metadata": {
    "collapsed": false
   },
   "id": "f2b018f74f1f3cb1"
  },
  {
   "cell_type": "code",
   "outputs": [
    {
     "data": {
      "text/plain": "        Num_Acc  place  catu  grav  sexe  trajet  secu  locp  actp  etatp  \\\n0  201200000001    1.0     1     1     2     5.0  11.0   0.0   0.0    0.0   \n1  201200000001    NaN     3     4     1     5.0   NaN   3.0   3.0    2.0   \n2  201200000002    1.0     1     1     1     5.0  13.0   0.0   0.0    0.0   \n3  201200000002    2.0     2     1     1     0.0  11.0   0.0   0.0    0.0   \n4  201200000002    1.0     1     1     1     5.0  21.0   0.0   0.0    0.0   \n\n   ...    pr1 vosp  prof  plan  lartpc  larrout  surf  infra  situ  env1  \n0  ...  875.0  0.0   1.0   1.0     0.0     72.0   1.0    0.0   1.0   0.0  \n1  ...  875.0  0.0   1.0   1.0     0.0     72.0   1.0    0.0   1.0   0.0  \n2  ...  250.0  0.0   1.0   1.0     0.0     65.0   1.0    0.0   1.0  99.0  \n3  ...  250.0  0.0   1.0   1.0     0.0     65.0   1.0    0.0   1.0  99.0  \n4  ...  250.0  0.0   1.0   1.0     0.0     65.0   1.0    0.0   1.0  99.0  \n\n[5 rows x 51 columns]",
      "text/html": "<div>\n<style scoped>\n    .dataframe tbody tr th:only-of-type {\n        vertical-align: middle;\n    }\n\n    .dataframe tbody tr th {\n        vertical-align: top;\n    }\n\n    .dataframe thead th {\n        text-align: right;\n    }\n</style>\n<table border=\"1\" class=\"dataframe\">\n  <thead>\n    <tr style=\"text-align: right;\">\n      <th></th>\n      <th>Num_Acc</th>\n      <th>place</th>\n      <th>catu</th>\n      <th>grav</th>\n      <th>sexe</th>\n      <th>trajet</th>\n      <th>secu</th>\n      <th>locp</th>\n      <th>actp</th>\n      <th>etatp</th>\n      <th>...</th>\n      <th>pr1</th>\n      <th>vosp</th>\n      <th>prof</th>\n      <th>plan</th>\n      <th>lartpc</th>\n      <th>larrout</th>\n      <th>surf</th>\n      <th>infra</th>\n      <th>situ</th>\n      <th>env1</th>\n    </tr>\n  </thead>\n  <tbody>\n    <tr>\n      <th>0</th>\n      <td>201200000001</td>\n      <td>1.0</td>\n      <td>1</td>\n      <td>1</td>\n      <td>2</td>\n      <td>5.0</td>\n      <td>11.0</td>\n      <td>0.0</td>\n      <td>0.0</td>\n      <td>0.0</td>\n      <td>...</td>\n      <td>875.0</td>\n      <td>0.0</td>\n      <td>1.0</td>\n      <td>1.0</td>\n      <td>0.0</td>\n      <td>72.0</td>\n      <td>1.0</td>\n      <td>0.0</td>\n      <td>1.0</td>\n      <td>0.0</td>\n    </tr>\n    <tr>\n      <th>1</th>\n      <td>201200000001</td>\n      <td>NaN</td>\n      <td>3</td>\n      <td>4</td>\n      <td>1</td>\n      <td>5.0</td>\n      <td>NaN</td>\n      <td>3.0</td>\n      <td>3.0</td>\n      <td>2.0</td>\n      <td>...</td>\n      <td>875.0</td>\n      <td>0.0</td>\n      <td>1.0</td>\n      <td>1.0</td>\n      <td>0.0</td>\n      <td>72.0</td>\n      <td>1.0</td>\n      <td>0.0</td>\n      <td>1.0</td>\n      <td>0.0</td>\n    </tr>\n    <tr>\n      <th>2</th>\n      <td>201200000002</td>\n      <td>1.0</td>\n      <td>1</td>\n      <td>1</td>\n      <td>1</td>\n      <td>5.0</td>\n      <td>13.0</td>\n      <td>0.0</td>\n      <td>0.0</td>\n      <td>0.0</td>\n      <td>...</td>\n      <td>250.0</td>\n      <td>0.0</td>\n      <td>1.0</td>\n      <td>1.0</td>\n      <td>0.0</td>\n      <td>65.0</td>\n      <td>1.0</td>\n      <td>0.0</td>\n      <td>1.0</td>\n      <td>99.0</td>\n    </tr>\n    <tr>\n      <th>3</th>\n      <td>201200000002</td>\n      <td>2.0</td>\n      <td>2</td>\n      <td>1</td>\n      <td>1</td>\n      <td>0.0</td>\n      <td>11.0</td>\n      <td>0.0</td>\n      <td>0.0</td>\n      <td>0.0</td>\n      <td>...</td>\n      <td>250.0</td>\n      <td>0.0</td>\n      <td>1.0</td>\n      <td>1.0</td>\n      <td>0.0</td>\n      <td>65.0</td>\n      <td>1.0</td>\n      <td>0.0</td>\n      <td>1.0</td>\n      <td>99.0</td>\n    </tr>\n    <tr>\n      <th>4</th>\n      <td>201200000002</td>\n      <td>1.0</td>\n      <td>1</td>\n      <td>1</td>\n      <td>1</td>\n      <td>5.0</td>\n      <td>21.0</td>\n      <td>0.0</td>\n      <td>0.0</td>\n      <td>0.0</td>\n      <td>...</td>\n      <td>250.0</td>\n      <td>0.0</td>\n      <td>1.0</td>\n      <td>1.0</td>\n      <td>0.0</td>\n      <td>65.0</td>\n      <td>1.0</td>\n      <td>0.0</td>\n      <td>1.0</td>\n      <td>99.0</td>\n    </tr>\n  </tbody>\n</table>\n<p>5 rows × 51 columns</p>\n</div>"
     },
     "execution_count": 2,
     "metadata": {},
     "output_type": "execute_result"
    }
   ],
   "source": [
    "whole_data.head()"
   ],
   "metadata": {
    "collapsed": false,
    "ExecuteTime": {
     "end_time": "2024-04-10T14:20:27.346614400Z",
     "start_time": "2024-04-10T14:20:27.257143300Z"
    }
   },
   "id": "8f3839ae1804b5b3",
   "execution_count": 2
  },
  {
   "cell_type": "markdown",
   "source": [
    "### Num_Acc"
   ],
   "metadata": {
    "collapsed": false
   },
   "id": "d1a437365b7474d4"
  },
  {
   "cell_type": "markdown",
   "source": [
    "Identifiant de l'accident. Valeur vitale pour joindre les données. Cependant, au-delà de la fusion des données, ce numéro n'apporte rien en matière de prédiction. En effet, il est générique et ne transmet pas d'information complémentaire. On se demande alors s'il ne vaudrait pas mieux le supprimer."
   ],
   "metadata": {
    "collapsed": false
   },
   "id": "b1813538c4f3e7b2"
  },
  {
   "cell_type": "code",
   "outputs": [
    {
     "name": "stdout",
     "output_type": "stream",
     "text": [
      "Le nombre d'observations avec une absence d'identifiant d'accidant est de : 0.\n",
      "Le nombre d'observations unique d'identifiant d'accidant est de : 56025.\n"
     ]
    }
   ],
   "source": [
    "print(f\"Le nombre d'observations avec une absence d'identifiant d'accidant est de : {whole_data['Num_Acc'].isna().sum()}.\")\n",
    "print(f\"Le nombre d'observations unique d'identifiant d'accidant est de : {whole_data['Num_Acc'].nunique()}.\")\n",
    "\n",
    "whole_data.drop('Num_Acc', axis=1, inplace=True)"
   ],
   "metadata": {
    "collapsed": false,
    "ExecuteTime": {
     "end_time": "2024-04-10T01:43:48.346767500Z",
     "start_time": "2024-04-10T01:43:48.237785100Z"
    }
   },
   "id": "73bb8e4595851503",
   "execution_count": 359
  },
  {
   "cell_type": "markdown",
   "source": [
    "### place"
   ],
   "metadata": {
    "collapsed": false
   },
   "id": "52444b8b6f2d23c0"
  },
  {
   "cell_type": "markdown",
   "source": [
    "Permet de situer la place occupée dans le véhicule par l'usager au moment de l'accident. Les informations concernants les positions sont trouvables au sein du fichier **\"*description-des-bases-de-donnees-onisr-annees-2005-a-2020.pdf*\"** notamment. Cette donnée est majeure car il existe certainement une relation entre la position des victimes et la gravité de l'accident. En effet, en fonction de la position, les dispositifs de sécurité ne sont pas les mêmes. On soupçonne donc une importante majeure."
   ],
   "metadata": {
    "collapsed": false
   },
   "id": "7da673caa7567d7b"
  },
  {
   "cell_type": "code",
   "outputs": [
    {
     "name": "stdout",
     "output_type": "stream",
     "text": [
      "Les valeurs possibles sont : [ 1. nan  2.  3.  4.  8.  5.  6.  7.  9.].\n",
      "Le nombre de valeurs manquantes est de : 11174 pour un total de 124598 observations soit 8.968041220565338%.\n"
     ]
    }
   ],
   "source": [
    "possible_values = whole_data['place'].unique()\n",
    "na_count = whole_data['place'].isna().sum()\n",
    "obs_count = whole_data.shape[0]\n",
    "rep_na = na_count / obs_count * 100\n",
    "\n",
    "print(f\"Les valeurs possibles sont : {possible_values}.\")\n",
    "print(f\"Le nombre de valeurs manquantes est de : {na_count} pour un total de {obs_count} observations soit {rep_na}%.\")"
   ],
   "metadata": {
    "collapsed": false,
    "ExecuteTime": {
     "end_time": "2024-04-10T01:41:17.359908Z",
     "start_time": "2024-04-10T01:41:17.245123100Z"
    }
   },
   "id": "378712407cf4a873",
   "execution_count": 341
  },
  {
   "cell_type": "markdown",
   "source": [
    "Etant donné qu'il est difficile de prédire une position manquante car cela dépend notamment du véhicule, il est donc décidé de supprimer les lignes manquantes. Cependant, il est nécessaire d'attendre la prochaine variable afin d'ajouter une condition. En effet, selon la documentation, **'*10*'** doit correspondre au piéton mais il n'apparaît pas. Ainsi, seules les lignes contenant une valeur **\"*Nan*\"** **et** qui ne matcheront pas la position de piéton seront supprimées."
   ],
   "metadata": {
    "collapsed": false
   },
   "id": "7504b9d95cb96e1c"
  },
  {
   "cell_type": "markdown",
   "source": [
    "### catu"
   ],
   "metadata": {
    "collapsed": false
   },
   "id": "d32376593b7d203d"
  },
  {
   "cell_type": "markdown",
   "source": [
    "Correspond à la catégorie d'usager. Autrement dit, s'il s'agit d'un conducteur, d'un passager ou bien d'un piéton. Il est important de disposer de ces informations en cas de corrélations entre le statut de la victime et son état. On peut soumettre l'hypothèse que ce statut influe sur les situations dans lesquelles les usagers sont impliqués notamment (difficile d'aller à 130 km/h en tant que piéton) :"
   ],
   "metadata": {
    "collapsed": false
   },
   "id": "adae0e446f81062c"
  },
  {
   "cell_type": "code",
   "outputs": [
    {
     "name": "stdout",
     "output_type": "stream",
     "text": [
      "Les valeurs possibles sont : [1 3 2].\n",
      "Le nombre de valeurs manquantes est de : 0 pour un total de 113424 observations soit 0.0%.\n"
     ]
    }
   ],
   "source": [
    "# Supprime seulement si 'place' est Nan ET que ce n'est pas un piéton\n",
    "whole_data = whole_data[~((whole_data['catu'] != 3) & whole_data['place'].isna())]\n",
    "\n",
    "possible_values = whole_data['catu'].unique()\n",
    "na_count = whole_data['catu'].isna().sum()\n",
    "rep_na = na_count / obs_count * 100\n",
    "\n",
    "print(f\"Les valeurs possibles sont : {possible_values}.\")\n",
    "print(f\"Le nombre de valeurs manquantes est de : {na_count} pour un total de {obs_count} observations soit {rep_na}%.\")"
   ],
   "metadata": {
    "collapsed": false,
    "ExecuteTime": {
     "end_time": "2024-04-10T01:51:04.165285300Z",
     "start_time": "2024-04-10T01:51:04.116820200Z"
    }
   },
   "id": "8439b874bab53dc6",
   "execution_count": 360
  },
  {
   "cell_type": "markdown",
   "source": [
    "### grav"
   ],
   "metadata": {
    "collapsed": false
   },
   "id": "4774ee80b1ed7c57"
  },
  {
   "cell_type": "markdown",
   "source": [
    "Etant la colonne à prédire, il est évident que nous souhaitons conserver cette dernière. Nous nous penchons sur la qualité de cette dernière :"
   ],
   "metadata": {
    "collapsed": false
   },
   "id": "cb689bf977aff7ce"
  },
  {
   "cell_type": "code",
   "outputs": [
    {
     "name": "stdout",
     "output_type": "stream",
     "text": [
      "Les valeurs possibles sont : [1 4 3 2].\n",
      "Le nombre de valeurs manquantes est de : 0 pour un total de 113424 observations soit 0.0%.\n"
     ]
    }
   ],
   "source": [
    "possible_values = whole_data['grav'].unique()\n",
    "na_count = whole_data['grav'].isna().sum()\n",
    "rep_na = na_count / obs_count * 100\n",
    "\n",
    "print(f\"Les valeurs possibles sont : {possible_values}.\")\n",
    "print(f\"Le nombre de valeurs manquantes est de : {na_count} pour un total de {obs_count} observations soit {rep_na}%.\")"
   ],
   "metadata": {
    "collapsed": false,
    "ExecuteTime": {
     "end_time": "2024-04-10T01:52:38.152041900Z",
     "start_time": "2024-04-10T01:52:38.111310Z"
    }
   },
   "id": "ac5bbe0b0cceea36",
   "execution_count": 361
  },
  {
   "cell_type": "markdown",
   "source": [
    "Tout semble en bon état, les valeurs possibles respectent la documentation. Cependant, dans l'exercice de prédiction, il est demandé de convertir cette colonne en binaire (**'*0*'** pour les cas sans dangers [1, 4] et **'*1*'** pour les cas graves [2, 3]) : "
   ],
   "metadata": {
    "collapsed": false
   },
   "id": "16deec4abcd4837b"
  },
  {
   "cell_type": "code",
   "outputs": [
    {
     "name": "stdout",
     "output_type": "stream",
     "text": [
      "Les valeurs possibles sont : [0 1].\n"
     ]
    }
   ],
   "source": [
    "whole_data['grav'] = whole_data['grav'].replace({1: 0, 4: 0, 2: 1, 3: 1})\n",
    "\n",
    "possible_values = whole_data['grav'].unique()\n",
    "\n",
    "print(f\"Les valeurs possibles sont : {possible_values}.\")"
   ],
   "metadata": {
    "collapsed": false,
    "ExecuteTime": {
     "end_time": "2024-04-10T01:58:26.981484Z",
     "start_time": "2024-04-10T01:58:26.936315Z"
    }
   },
   "id": "62cae8de3c9741b2",
   "execution_count": 362
  },
  {
   "cell_type": "markdown",
   "source": [
    "### sexe"
   ],
   "metadata": {
    "collapsed": false
   },
   "id": "abadb0bd59c8cd75"
  },
  {
   "cell_type": "markdown",
   "source": [
    "Certaines études ont pu démontrer des disparités dans les comportements de conduite entre les différents sexes. Nous conservons cette donnée dans l'éventualité où une corrélation existerait entre le sexe, le statut de conducteur et la gravité :"
   ],
   "metadata": {
    "collapsed": false
   },
   "id": "41f636b5e1498456"
  },
  {
   "cell_type": "code",
   "outputs": [
    {
     "name": "stdout",
     "output_type": "stream",
     "text": [
      "Les valeurs possibles sont : [2 1].\n",
      "Le nombre de valeurs manquantes est de : 0 pour un total de 113424 observations soit 0.0%.\n"
     ]
    }
   ],
   "source": [
    "possible_values = whole_data['sexe'].unique()\n",
    "na_count = whole_data['sexe'].isna().sum()\n",
    "rep_na = na_count / obs_count * 100\n",
    "\n",
    "print(f\"Les valeurs possibles sont : {possible_values}.\")\n",
    "print(f\"Le nombre de valeurs manquantes est de : {na_count} pour un total de {obs_count} observations soit {rep_na}%.\")"
   ],
   "metadata": {
    "collapsed": false,
    "ExecuteTime": {
     "end_time": "2024-04-10T02:01:00.094641200Z",
     "start_time": "2024-04-10T02:01:00.069701Z"
    }
   },
   "id": "dee5ed080bf56a44",
   "execution_count": 364
  },
  {
   "cell_type": "markdown",
   "source": [
    "### trajet"
   ],
   "metadata": {
    "collapsed": false
   },
   "id": "1d5e44b9285bdd29"
  },
  {
   "cell_type": "code",
   "outputs": [],
   "source": [],
   "metadata": {
    "collapsed": false
   },
   "id": "fe550361fbee1bc2"
  }
 ],
 "metadata": {
  "kernelspec": {
   "display_name": "Python 3",
   "language": "python",
   "name": "python3"
  },
  "language_info": {
   "codemirror_mode": {
    "name": "ipython",
    "version": 2
   },
   "file_extension": ".py",
   "mimetype": "text/x-python",
   "name": "python",
   "nbconvert_exporter": "python",
   "pygments_lexer": "ipython2",
   "version": "2.7.6"
  }
 },
 "nbformat": 4,
 "nbformat_minor": 5
}
