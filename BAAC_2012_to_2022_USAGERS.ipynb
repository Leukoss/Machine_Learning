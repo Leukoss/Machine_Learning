{
 "cells": [
  {
   "cell_type": "markdown",
   "source": [
    "## Packages"
   ],
   "metadata": {
    "collapsed": false
   },
   "id": "113ce8e7a1e2b076"
  },
  {
   "cell_type": "code",
   "outputs": [],
   "source": [
    "import pandas as pd             # Traitement des tableaux de données "
   ],
   "metadata": {
    "collapsed": false,
    "ExecuteTime": {
     "end_time": "2024-04-11T16:46:28.138543500Z",
     "start_time": "2024-04-11T16:46:27.980535700Z"
    }
   },
   "id": "ee3d3e71ea538d50",
   "execution_count": 107
  },
  {
   "cell_type": "markdown",
   "source": [
    "# Chargement des données"
   ],
   "metadata": {
    "collapsed": false
   },
   "id": "1c05797511bd635e"
  },
  {
   "cell_type": "markdown",
   "source": [
    "Dans un premier temps, l'objectif est de récupérer toutes les valeurs de 2012 à 2022. Les données de 2010 à 2011 (inclus) comprennent des données obsolètes et peu pertinentes pour la construction du modèle. Nous éliminons donc les données des deux premières années.\n",
    "\n",
    "Dans un second temps, il y a 4 fichiers par an. Il faudra donc récupérer les données et les \"merge\" afin de construire le jeu de données d'une seule année contenant toutes les informations relatives aux accidents. Cela se traduit par une relation entre le **\"*Num_Acc*\"** et pour certains fichiers le **\"*num_veh*\"**.\n",
    "\n",
    "Ainsi, nous obtenons un fichier complet contenant toutes les colonnes possibles (par exemple, il y aura une colonne **\"*secu*\"**, et 3 colonnes **\"*secu1*\"**, **\"*secu2*\"** et **\"*secu3*\"**). Il faudra les traiter plus tard."
   ],
   "metadata": {
    "collapsed": false
   },
   "id": "52508c89a1e6825f"
  },
  {
   "cell_type": "code",
   "outputs": [],
   "source": [
    "years = ['2012', '2013', '2014', '2015', '2016', '2017', '2018', '2019', '2020', '2021', '2022']\n",
    "files = ['usagers_', 'vehicules_', 'caracteristiques_', 'lieux_',]\n",
    "data_path = 'Data/TRAIN/BAAC-Annee-'\n",
    "\n",
    "full_data = pd.DataFrame()\n",
    "\n",
    "for year in years:\n",
    "    \n",
    "    path_to_BAAC = data_path + year + '/'\n",
    "    \n",
    "    year_file = pd.DataFrame()\n",
    "    \n",
    "    for file_name in files:        \n",
    "        path_to_file = path_to_BAAC + file_name + year + '_.csv'\n",
    "        \n",
    "        data = pd.read_csv(path_to_file, encoding=\"latin1\", sep=\";\", low_memory=False)\n",
    "        data = data.drop(data.columns[0], axis=1)\n",
    "        \n",
    "        if file_name == 'usagers_':\n",
    "            year_file = pd.concat([year_file, data], axis=1)\n",
    "        else:\n",
    "            if file_name == 'vehicules_':\n",
    "                year_file = pd.merge(year_file, data, on=['Num_Acc', 'num_veh'], how='left')\n",
    "            else:\n",
    "                year_file = pd.merge(year_file, data, on=['Num_Acc'], how='left')\n",
    "    \n",
    "    full_data = pd.concat([full_data, year_file], axis=0)"
   ],
   "metadata": {
    "collapsed": false,
    "ExecuteTime": {
     "end_time": "2024-04-11T16:46:36.303549100Z",
     "start_time": "2024-04-11T16:46:28.277981400Z"
    }
   },
   "id": "e2637e951050b3c",
   "execution_count": 108
  },
  {
   "cell_type": "code",
   "outputs": [
    {
     "data": {
      "text/plain": "(1281392, 59)"
     },
     "execution_count": 109,
     "metadata": {},
     "output_type": "execute_result"
    }
   ],
   "source": [
    "full_data.shape"
   ],
   "metadata": {
    "collapsed": false,
    "ExecuteTime": {
     "end_time": "2024-04-11T16:46:36.315056200Z",
     "start_time": "2024-04-11T16:46:36.305609600Z"
    }
   },
   "id": "9eee586615257e61",
   "execution_count": 109
  },
  {
   "cell_type": "code",
   "outputs": [],
   "source": [
    "# full_data.to_csv('Data/TRAIN_FULL/test.csv', index=False)\n",
    "# full_data = pd.read_csv('Data/TRAIN_FULL/test.csv', low_memory=False)"
   ],
   "metadata": {
    "collapsed": false,
    "ExecuteTime": {
     "end_time": "2024-04-11T16:46:36.326127700Z",
     "start_time": "2024-04-11T16:46:36.313019Z"
    }
   },
   "id": "4150b017e598a162",
   "execution_count": 110
  },
  {
   "cell_type": "markdown",
   "source": [
    "Désormais, nous disposons d'un **\"*.csv*\"** de grandes amplitudes et nous devons comprendre les données ainsi que harmoniser ces dernières au sein du **\"*pré-traitement des données*\"** :"
   ],
   "metadata": {
    "collapsed": false
   },
   "id": "e3cbdc0bbbe820e3"
  },
  {
   "cell_type": "markdown",
   "source": [
    "# Pré-Traitement des données\n",
    "\n",
    "### Usagers\n",
    "\n",
    "Les fichiers usagers contiennent globalement des informations relatives auxdits usagers tels que leurs positions, les actions qu'ils faisaient avant l'accident, les dispositifs de sécurité, des données personnelles, etc.\n",
    "\n",
    "#### Num_Acc, num_veh & id_vehicule\n",
    "\n",
    "- **Num_Acc** : identifiant de l'accident. Valeur **vitale** pour joindre les données. Cependant, au-delà de la fusion des données, ce numéro n'apporte rien en matière de prédiction. En effet, il est générique et ne transmet pas d'information complémentaire. On se demande alors s'il ne vaudrait pas mieux le supprimer. Dans ce cas-là, on décide de ne pas stocker cette colonne dans l'une des listes traduisant son abandon, car on ne conservera que les variables stockées. \n",
    "\n",
    "- **num_veh** : de la même manière, le numéro du véhicule ne semble pas particulièrement pertinent pour la construction d'un modèle de prédiction. Etant donné qu'il n'apporte pas d'informations sur le type de véhicule, et qu'il est propre à un accident et non à un référentiel global, on préfère écarter cette situation.\n",
    "\n",
    "- **id_vehicule** : cette variable n'est pas apparue dès le début. En effet, il a fallu attendre l'an 2019 pour la voir apparaître. Cependant, il s'avère que cette dernière correpsond au numéro veh au format numérique et non alpha. On décidera donc de ne pas le retenir si elle est présente."
   ],
   "metadata": {
    "collapsed": false
   },
   "id": "a85009d7c3b5ecbf"
  },
  {
   "cell_type": "code",
   "outputs": [
    {
     "name": "stdout",
     "output_type": "stream",
     "text": [
      "Le nombre de variables post suppression est de 55. Selon les calculs, il devrait être de 55\n"
     ]
    }
   ],
   "source": [
    "col_to_drop = ['Num_Acc', 'id_vehicule_x', 'id_vehicule_y', 'num_veh']\n",
    "og_var_number = full_data.shape[1]\n",
    "new_var_number = og_var_number - len(col_to_drop)\n",
    "\n",
    "for col in col_to_drop:\n",
    "    if col in full_data.columns:\n",
    "        full_data.drop(labels=col_to_drop, axis=1, inplace=True)\n",
    "        \n",
    "print(f\"Le nombre de variables post suppression est de {full_data.shape[1]}. Selon les calculs, il devrait être de {new_var_number}\")"
   ],
   "metadata": {
    "collapsed": false,
    "ExecuteTime": {
     "end_time": "2024-04-11T16:46:36.726500300Z",
     "start_time": "2024-04-11T16:46:36.327188200Z"
    }
   },
   "id": "4b659327176c952e",
   "execution_count": 111
  },
  {
   "cell_type": "markdown",
   "source": [
    "Une fonction utile permettrait de convertir une variable afin d'éviter la duplication de code :"
   ],
   "metadata": {
    "collapsed": false
   },
   "id": "4102961d14bf3a4c"
  },
  {
   "cell_type": "code",
   "outputs": [],
   "source": [
    "def convert_float_to_cat(data_frame, col_name):\n",
    "    data_frame[col_name] = data_frame[col_name].astype(int)\n",
    "    data_frame[col_name] = data_frame[col_name].astype('category')"
   ],
   "metadata": {
    "collapsed": false,
    "ExecuteTime": {
     "end_time": "2024-04-11T16:46:36.740488100Z",
     "start_time": "2024-04-11T16:46:36.726500300Z"
    }
   },
   "id": "fb69813a72314353",
   "execution_count": 112
  },
  {
   "cell_type": "code",
   "outputs": [],
   "source": [
    "def convert_float_to_int(data_frame, col_name):\n",
    "    data_frame[col_name] = data_frame[col_name].astype(int)"
   ],
   "metadata": {
    "collapsed": false,
    "ExecuteTime": {
     "end_time": "2024-04-11T16:46:36.754624700Z",
     "start_time": "2024-04-11T16:46:36.732674200Z"
    }
   },
   "id": "7b9a53cde683452d",
   "execution_count": 113
  },
  {
   "cell_type": "markdown",
   "source": [
    "#### grav\n",
    "\n",
    "Etant la colonne à prédire, il est évident que nous souhaitons conserver cette dernière. Nous nous penchons sur la qualité de cette dernière. On observe la présence de la valeur '-1' 279 fois. Proportionnellement à la taille des données, on décide donc de supprimer ces quelques lignes ne pouvant les rendre utilisables.\n",
    "\n",
    "Dans l'exercice de prédiction, il est demandé de convertir cette colonne en binaire (**'*0*'** pour les cas sans dangers [1, 4] et **'*1*'** pour les cas graves [2, 3]). Cette variable sera donc catégorisée en binaire conformément aux prédictions attendues."
   ],
   "metadata": {
    "collapsed": false
   },
   "id": "519e10f0593a56d2"
  },
  {
   "cell_type": "code",
   "outputs": [
    {
     "data": {
      "text/plain": "CategoricalDtype(categories=[0, 1], ordered=False, categories_dtype=int32)"
     },
     "execution_count": 114,
     "metadata": {},
     "output_type": "execute_result"
    }
   ],
   "source": [
    "# Supprime les valeurs \"-1\"\n",
    "full_data = full_data[full_data['grav'] != -1]\n",
    "full_data = full_data.dropna(subset=['grav'])\n",
    "\n",
    "# Binarise les valeurs pour les accidents graves et non graves\n",
    "full_data['grav'] = full_data['grav'].replace({1: 0, 4: 0, 2: 1, 3: 1})\n",
    "\n",
    "# Converti en variable catégorielle\n",
    "convert_float_to_cat(full_data, 'grav')\n",
    "\n",
    "full_data['grav'].dtype"
   ],
   "metadata": {
    "collapsed": false,
    "ExecuteTime": {
     "end_time": "2024-04-11T16:46:38.091450800Z",
     "start_time": "2024-04-11T16:46:36.746108900Z"
    }
   },
   "id": "e25459f2f328b7ee",
   "execution_count": 114
  },
  {
   "cell_type": "markdown",
   "source": [
    "#### sexe\n",
    "\n",
    "Certaines études ont pu démontrer des disparités dans les comportements de conduite entre les différents sexes. Nous conservons cette donnée dans l'éventualité où une corrélation existerait entre le sexe, le statut de conducteur et la gravité. Un soupçon se porte sur l'impulsivité et la vitesse de certains conducteurs masculins."
   ],
   "metadata": {
    "collapsed": false
   },
   "id": "d48115c4b38b26d3"
  },
  {
   "cell_type": "code",
   "outputs": [
    {
     "data": {
      "text/plain": "CategoricalDtype(categories=[0, 1], ordered=False, categories_dtype=int32)"
     },
     "execution_count": 115,
     "metadata": {},
     "output_type": "execute_result"
    }
   ],
   "source": [
    "# Binarisation [0, 1] des valeurs de sexe\n",
    "full_data = full_data[full_data['sexe'] != -1]\n",
    "full_data['sexe'] = full_data['sexe'].replace({2: 0})\n",
    "\n",
    "# Converti en variable catégorielle\n",
    "convert_float_to_cat(full_data, 'sexe')\n",
    "\n",
    "full_data['sexe'].dtype"
   ],
   "metadata": {
    "collapsed": false,
    "ExecuteTime": {
     "end_time": "2024-04-11T16:46:38.495455200Z",
     "start_time": "2024-04-11T16:46:38.085290900Z"
    }
   },
   "id": "699a1bb93bdc604f",
   "execution_count": 115
  },
  {
   "cell_type": "markdown",
   "source": [
    "#### An_nais\n",
    "\n",
    "On dispose ici de l'année de naissance et cette donnée semble pertinente. En effet, en fonction des générations, des politiques de sensibilisation plus ou moins importantes furent appliquées amenant à de potentielles disparités en matière de comportements routiers."
   ],
   "metadata": {
    "collapsed": false
   },
   "id": "178d4d78250dc176"
  },
  {
   "cell_type": "code",
   "outputs": [
    {
     "data": {
      "text/plain": "dtype('int32')"
     },
     "execution_count": 116,
     "metadata": {},
     "output_type": "execute_result"
    }
   ],
   "source": [
    "# Supprime les valeurs manquantes\n",
    "full_data = full_data.dropna(subset=['an_nais'])\n",
    "\n",
    "# Converti en variable numérique\n",
    "convert_float_to_int(full_data, 'an_nais')\n",
    "\n",
    "full_data['an_nais'].dtype"
   ],
   "metadata": {
    "collapsed": false,
    "ExecuteTime": {
     "end_time": "2024-04-11T16:46:38.861383700Z",
     "start_time": "2024-04-11T16:46:38.490230300Z"
    }
   },
   "id": "f98a6104b0308072",
   "execution_count": 116
  },
  {
   "cell_type": "markdown",
   "source": [
    "#### trajet\n",
    "\n",
    "Cette variable nous informe sur le motif du déplacement au moment de l'accident. Cela peut renvoyer au trajet entre le domicile et le travail, une promenade, etc. Il se pourrait qu'une corrélation existe entre des trajets récurrents et une augmentation des accidents. En effet, conformément au code de la route, il est indiqué qu'une baisse de la concentration est observée dans les trajets quotidiens.\n",
    "\n",
    "Afin de normaliser les différentes valeurs, nous nous penchons sur la documentation. Conformément au document de 2005 à 2020 nous disposons des valeurs suivantes : [**-1**, **0**, **1**, **2**, **3**, **4**, **5**, **9**]. Cependant, le document de 2005 à 2018, les valeurs sont différentes : [**1**, **2**, **3**, **4**, **5**, **9**]. Les valeurs suivantes : [**1**, **2**, **3**, **4**, **5**, **9**] sont les mêmes pour les deux référentiels. Néanmoins, les valeurs [**-1**, **0**, **9**] présentent au sein du document de 2005 à 2020 n'apportent pas davantage d'information. Afin de pouvoir traiter avec pertinences ces informations et de manière cohérente, on remplacera les valeurs [**-1**, **0**, **nan**] par [**9**]."
   ],
   "metadata": {
    "collapsed": false
   },
   "id": "24b899ad62e9c558"
  },
  {
   "cell_type": "code",
   "outputs": [
    {
     "data": {
      "text/plain": "CategoricalDtype(categories=[1, 2, 3, 4, 5, 9], ordered=False, categories_dtype=int32)"
     },
     "execution_count": 117,
     "metadata": {},
     "output_type": "execute_result"
    }
   ],
   "source": [
    "# Harmonise les données [1, 2, 3, 4, 5, 9]\n",
    "full_data['trajet'] = full_data['trajet'].replace({-1: 9, 0: 9})\n",
    "full_data['trajet'] = full_data['trajet'].fillna(9)\n",
    "\n",
    "# Converti en variable catégorielle\n",
    "convert_float_to_cat(full_data, 'trajet')\n",
    "\n",
    "full_data['trajet'].dtype"
   ],
   "metadata": {
    "collapsed": false,
    "ExecuteTime": {
     "end_time": "2024-04-11T16:46:38.919133500Z",
     "start_time": "2024-04-11T16:46:38.857317700Z"
    }
   },
   "id": "5dcfa917c7199679",
   "execution_count": 117
  },
  {
   "cell_type": "markdown",
   "source": [
    "#### locp\n",
    "\n",
    "Permet de localiser la position du piéton ce qui est une information importante. En effet, un piéton qui traverse sur un passage piéton sans signalisation lumineuse aura plus de chance de subir des lésions graves, voire plus, qu’un piéton sur un trottoir par exemple. Cependant, en fonction des années, les valeurs peuvent changer pour ce qui est des assignations.\n",
    "\n",
    "De 2005 à 2018, les valeurs possibles sont les suivantes : [1, 2, 3, 4, 5, 6, 7, 8]. Ces valeurs correspondent aux mêmes situations pour celles de 2005 à 2020, cependant ‘3’ nouvelles catégories sont apparues : [-1, 0, 1, 2, 3, 4, 5, 6, 7, 8, 9]. Globalement, [-1, 0, 9] traduisent une absence d’information précise sur la position dudit piéton. On pourra ainsi définir que nos valeurs possibles seront les suivantes : [1, 2, 3, 4, 5, 6, 7, 8, 9] où [-1, 0, nan] prendra la valeur [9]."
   ],
   "metadata": {
    "collapsed": false
   },
   "id": "e5abbcc43d75c3a3"
  },
  {
   "cell_type": "code",
   "outputs": [
    {
     "data": {
      "text/plain": "CategoricalDtype(categories=[1, 2, 3, 4, 5, 6, 7, 8, 9], ordered=False, categories_dtype=int32)"
     },
     "execution_count": 118,
     "metadata": {},
     "output_type": "execute_result"
    }
   ],
   "source": [
    "# Harmonise les données [1, 2, 3, 4, 5, 6, 7, 8, 9]\n",
    "full_data['locp'] = full_data['locp'].replace({-1: 9, 0: 9})\n",
    "full_data['locp'] = full_data['locp'].fillna(9)\n",
    "\n",
    "# Converti en variable catégorielle\n",
    "convert_float_to_cat(full_data, 'locp')\n",
    "\n",
    "full_data['locp'].dtype"
   ],
   "metadata": {
    "collapsed": false,
    "ExecuteTime": {
     "end_time": "2024-04-11T16:46:38.985138500Z",
     "start_time": "2024-04-11T16:46:38.919133500Z"
    }
   },
   "id": "4161a1c780a55eba",
   "execution_count": 118
  },
  {
   "cell_type": "markdown",
   "source": [
    "#### etatp\n",
    "\n",
    "Cette variable permet de préciser si le piéton accidenté était seul ou non. Il est envisageable, mais pas nécessairement vrai, que la majorité des groupes soient distraits par leurs camarades amenant à une baisse de la vigilance en matière de protection routière. On songera donc à conserver cette catégorie. Sous réserve que cette dernière se révèle impertinente, elle sera supprimée du modèle.\n",
    "\n",
    "A l'instar de certaines variables, la documentation diffère selon les années et il est nécessaire d'harmoniser cela. Les valeurs possibles pour la documentation de 2005 à 2018 sont : [**1**, **2**, **3**] pour [**seul**, **accompagné**, **en groupe**]. Celles de 2005 à 2020 sont au format suivant : [**-1**, **1**, **2**, **3**] traduisant [**non renseigné**, **seul**, **accompagné**, **en groupe**]. On décidera donc de conserver le format [**-1**, **1**, **2**, **3**] pour la gestion des valeurs inconnues pour l'instant."
   ],
   "metadata": {
    "collapsed": false
   },
   "id": "9bcd4d5cff37b3d1"
  },
  {
   "cell_type": "code",
   "outputs": [
    {
     "data": {
      "text/plain": "CategoricalDtype(categories=[-1, 1, 2, 3], ordered=False, categories_dtype=int32)"
     },
     "execution_count": 119,
     "metadata": {},
     "output_type": "execute_result"
    }
   ],
   "source": [
    "# Harmonise les données\n",
    "full_data['etatp'] = full_data['etatp'].replace({0: -1}).fillna(-1)\n",
    "full_data['etatp'] = full_data['etatp'].fillna(-1)\n",
    "\n",
    "# Converti en variable catégorielle\n",
    "convert_float_to_cat(full_data, 'etatp')\n",
    "\n",
    "full_data['etatp'].dtype"
   ],
   "metadata": {
    "collapsed": false,
    "ExecuteTime": {
     "end_time": "2024-04-11T16:46:39.035692200Z",
     "start_time": "2024-04-11T16:46:38.982075300Z"
    }
   },
   "id": "9a1d4a676934428f",
   "execution_count": 119
  },
  {
   "cell_type": "markdown",
   "source": [
    "#### catu\n",
    "\n",
    "Correspond à la catégorie d'usager. Autrement dit, s'il s'agit d'un conducteur, d'un passager ou bien d'un piéton (ou encore d'un piéton en roller ou en trottinette conformément à la documentation de 2005 à 2018). Il est important de disposer de ces informations en cas de corrélations entre le statut de la victime et son état. On peut soumettre l'hypothèse que ce statut influe sur les situations dans lesquelles les usagers sont impliqués notamment (difficile d'aller à 130 km/h en tant que piéton).\n",
    "\n",
    "Cependant, il est nécessaire d'harmoniser ces valeurs, car elles différent en fonction des années. D'origine, les valeurs possibles sont les suivantes : [**1**, **2**, **3**, **4**], mais depuis 2018, la catégorie [**4**] évolue vers le fichier \"Véhicules\" comme catégorie **\"*99 - Autre véhicule*\"**. Ainsi, une modification envisageable serait de remplacer les valeurs [**4**] par celle des piétons [**3**] **ET** de modifier la valeur associée au sein de la colonne **\"*catv*\"** par la valeur **\"*99*\"** :"
   ],
   "metadata": {
    "collapsed": false
   },
   "id": "c201c29064e90e4d"
  },
  {
   "cell_type": "code",
   "outputs": [
    {
     "data": {
      "text/plain": "CategoricalDtype(categories=[1, 2, 3], ordered=False, categories_dtype=int32)"
     },
     "execution_count": 120,
     "metadata": {},
     "output_type": "execute_result"
    }
   ],
   "source": [
    "# Pour les années antérieures à 2019 : catu = 4 -> catv = 99 & catu = 3\n",
    "full_data.loc[full_data['catu'] == 4, 'catv'] = 99\n",
    "full_data['catu'] = full_data['catu'].replace({4: 3})\n",
    "\n",
    "# Converti en variable catégorielle\n",
    "convert_float_to_cat(full_data, 'catu')\n",
    "\n",
    "full_data['catu'].dtype"
   ],
   "metadata": {
    "collapsed": false,
    "ExecuteTime": {
     "end_time": "2024-04-11T16:46:39.088989500Z",
     "start_time": "2024-04-11T16:46:39.037731500Z"
    }
   },
   "id": "7735551ce67ee4",
   "execution_count": 120
  },
  {
   "cell_type": "markdown",
   "source": [
    "#### place\n",
    "\n",
    "Permet de situer la place occupée dans le véhicule par l'usager au moment de l'accident. Cette donnée est importante, car il existe certainement une relation entre la position des victimes et la gravité de l'accident. En effet, en fonction de la position, les dispositifs de sécurité ne sont pas les mêmes. On soupçonne donc une importante majeure de cette variable.\n",
    " \n",
    "Les informations relatives aux positions sont différentes selon les années. Les valeurs possibles pour le document de 2005 à 2018 sont les suivantes : [**1**, **2**, **3**, **4**, **5**, **6**, **7**, **8**, **9**]. Pour le document de 2005 à 2020 : [**1**, **2**, **3**, **4**, **5**, **6**, **7**, **8**, **9**, **10**]. Le nouvel élément correspond à la position du piéton. Une harmonisation se fera où le piéton devra être catégorisé."
   ],
   "metadata": {
    "collapsed": false
   },
   "id": "5ed5416ae32c2e48"
  },
  {
   "cell_type": "code",
   "outputs": [
    {
     "data": {
      "text/plain": "CategoricalDtype(categories=[1, 2, 3, 4, 5, 6, 7, 8, 9, 10], ordered=False, categories_dtype=int32)"
     },
     "execution_count": 121,
     "metadata": {},
     "output_type": "execute_result"
    }
   ],
   "source": [
    "# Supprime seulement si 'place' est Nan ET que ce n'est pas un piéton. Si la ligne n'est pas supprimée, alors le NAN est transformé en '10' pour 'piéton'\n",
    "full_data = full_data[~((full_data['catu'] != 3) & full_data['place'].isna())]   \n",
    "full_data['place'] = full_data['place'].fillna(10)\n",
    "\n",
    "# Converti en variable catégorielle\n",
    "convert_float_to_cat(full_data, 'place')\n",
    "\n",
    "full_data['place'].dtype"
   ],
   "metadata": {
    "collapsed": false,
    "ExecuteTime": {
     "end_time": "2024-04-11T16:46:39.510390600Z",
     "start_time": "2024-04-11T16:46:39.077663500Z"
    }
   },
   "id": "959eea737e823559",
   "execution_count": 121
  },
  {
   "cell_type": "markdown",
   "source": [
    "#### secu\n",
    "\n",
    "Ce modèle a fortement évolué au cours du temps en passant d'un format à deux caractères indiquant dans un premier temps le système de sécurité et dans un second les conditions d'utilisation (oui/non/non déterminé). \n",
    "\n",
    "Puis dans un nouveau format à 3 colonnes (secu1/secu2/secu3), chacune des colonnes indiquait l'utilisation d'un équipement de sécurité parmi une liste d'éléments comprenant les valeurs suivantes : [**-1**, **0**, **1**, **2**, **3**, **4**, **5**, **6**, **7**, **8**, **9**]. Globalement, [**-1**, **8**, **9**] apportent la même précision (aucune). Ainsi, il est décidé dans un premier temps de rassembler ces trois possibilités en une seule sous la bannière [**8**]. \n",
    "\n",
    "Dans un second temps, la première configuration à **\"*secu*\"** unique sera scindé en **\"*3*\"** où seul un équipement pourra être notifié. \n",
    "\n",
    "Ces décisions sont prises, car nous ne souhaitons pas perdre d'informations (précision accrue sous le format : secu1/secu2/secu3), en effet cette catégorie de variables est très intéressante. Il semble évident que des dispositifs de sécurité viennent minimiser les dégâts subits."
   ],
   "metadata": {
    "collapsed": false
   },
   "id": "cc53f387488a2018"
  },
  {
   "cell_type": "code",
   "outputs": [],
   "source": [
    "# Fonction pour extraire le premier chiffre renvoyant à l'équipement utilisé\n",
    "def extract_first_digit(value):\n",
    "    if pd.notna(value):\n",
    "        return int(str(value)[0])\n",
    "    else:\n",
    "        return 8"
   ],
   "metadata": {
    "collapsed": false,
    "ExecuteTime": {
     "end_time": "2024-04-11T16:46:39.520313500Z",
     "start_time": "2024-04-11T16:46:39.512339100Z"
    }
   },
   "id": "f569561a721f71ad",
   "execution_count": 122
  },
  {
   "cell_type": "code",
   "outputs": [
    {
     "name": "stderr",
     "output_type": "stream",
     "text": [
      "C:\\Users\\lucas\\AppData\\Local\\Temp\\ipykernel_12448\\1749354471.py:7: SettingWithCopyWarning: \n",
      "A value is trying to be set on a copy of a slice from a DataFrame.\n",
      "Try using .loc[row_indexer,col_indexer] = value instead\n",
      "\n",
      "See the caveats in the documentation: https://pandas.pydata.org/pandas-docs/stable/user_guide/indexing.html#returning-a-view-versus-a-copy\n",
      "  filtered_data['secu'] = filtered_data['secu'].apply(extract_first_digit)\n",
      "C:\\Users\\lucas\\AppData\\Local\\Temp\\ipykernel_12448\\1749354471.py:10: SettingWithCopyWarning: \n",
      "A value is trying to be set on a copy of a slice from a DataFrame.\n",
      "Try using .loc[row_indexer,col_indexer] = value instead\n",
      "\n",
      "See the caveats in the documentation: https://pandas.pydata.org/pandas-docs/stable/user_guide/indexing.html#returning-a-view-versus-a-copy\n",
      "  filtered_data['secu1'] = filtered_data['secu']\n",
      "C:\\Users\\lucas\\AppData\\Local\\Temp\\ipykernel_12448\\1749354471.py:11: SettingWithCopyWarning: \n",
      "A value is trying to be set on a copy of a slice from a DataFrame.\n",
      "Try using .loc[row_indexer,col_indexer] = value instead\n",
      "\n",
      "See the caveats in the documentation: https://pandas.pydata.org/pandas-docs/stable/user_guide/indexing.html#returning-a-view-versus-a-copy\n",
      "  filtered_data['secu2'] = 8\n",
      "C:\\Users\\lucas\\AppData\\Local\\Temp\\ipykernel_12448\\1749354471.py:12: SettingWithCopyWarning: \n",
      "A value is trying to be set on a copy of a slice from a DataFrame.\n",
      "Try using .loc[row_indexer,col_indexer] = value instead\n",
      "\n",
      "See the caveats in the documentation: https://pandas.pydata.org/pandas-docs/stable/user_guide/indexing.html#returning-a-view-versus-a-copy\n",
      "  filtered_data['secu3'] = 8\n"
     ]
    }
   ],
   "source": [
    "# Récupère les lignes où secu1/secu2/secu3 sont NAN (rare cas après 2019, tous les cas avant 2019)\n",
    "all_nans = full_data[['secu1', 'secu2', 'secu3']].isna().all(axis=1)\n",
    "filtered_data = full_data[all_nans]\n",
    "\n",
    "# Conserve seulement le cas où il y a un second digit = 1, sinon applique la valeur 8 (non déterminable)\n",
    "filtered_data.loc[(filtered_data['secu'] <= 10) | (filtered_data['secu'] % 10 == 2) | (filtered_data['secu'] % 10 == 3), 'secu'] = 8\n",
    "filtered_data['secu'] = filtered_data['secu'].apply(extract_first_digit)\n",
    "\n",
    "# Défini dans secu1 le seul équipement noté (1 seul avant 2019) et 8 pour les deux autres\n",
    "filtered_data['secu1'] = filtered_data['secu']\n",
    "filtered_data['secu2'] = 8\n",
    "filtered_data['secu3'] = 8\n",
    "# Met à jour les colonnes secu/secu1/secu2/secu3\n",
    "full_data.loc[all_nans, :] = filtered_data\n",
    "\n",
    "# On peut drop la colonne secu qui ne vaut plus rien\n",
    "full_data.drop(labels=['secu'], axis=1, inplace=True)\n",
    "\n",
    "# Dans les cas survenus après 2019\n",
    "list_secu = ['secu1', 'secu2', 'secu3']\n",
    "\n",
    "for secu_i in list_secu:\n",
    "    full_data[secu_i] = full_data[secu_i].replace({-1: 8, 9: 8})\n",
    "\n",
    "# Converti en variable catégorielle\n",
    "convert_float_to_cat(full_data, 'secu1')\n",
    "convert_float_to_cat(full_data, 'secu2')\n",
    "convert_float_to_cat(full_data, 'secu3')"
   ],
   "metadata": {
    "collapsed": false,
    "ExecuteTime": {
     "end_time": "2024-04-11T16:46:41.759354300Z",
     "start_time": "2024-04-11T16:46:39.518260700Z"
    }
   },
   "id": "948b944a3b7ca497",
   "execution_count": 123
  },
  {
   "cell_type": "code",
   "outputs": [
    {
     "data": {
      "text/plain": "CategoricalDtype(categories=[0, 1, 2, 3, 4, 5, 6, 7, 8], ordered=False, categories_dtype=int32)"
     },
     "execution_count": 124,
     "metadata": {},
     "output_type": "execute_result"
    }
   ],
   "source": [
    "full_data['secu1'].dtype"
   ],
   "metadata": {
    "collapsed": false,
    "ExecuteTime": {
     "end_time": "2024-04-11T16:46:41.762664500Z",
     "start_time": "2024-04-11T16:46:41.756791500Z"
    }
   },
   "id": "9ede513e10b90f8c",
   "execution_count": 124
  },
  {
   "cell_type": "code",
   "outputs": [
    {
     "data": {
      "text/plain": "CategoricalDtype(categories=[0, 1, 2, 3, 4, 5, 6, 7, 8], ordered=False, categories_dtype=int32)"
     },
     "execution_count": 125,
     "metadata": {},
     "output_type": "execute_result"
    }
   ],
   "source": [
    "full_data['secu2'].dtype"
   ],
   "metadata": {
    "collapsed": false,
    "ExecuteTime": {
     "end_time": "2024-04-11T16:46:41.778206200Z",
     "start_time": "2024-04-11T16:46:41.762664500Z"
    }
   },
   "id": "44bbee2360023624",
   "execution_count": 125
  },
  {
   "cell_type": "code",
   "outputs": [
    {
     "data": {
      "text/plain": "CategoricalDtype(categories=[0, 1, 2, 3, 4, 5, 6, 7, 8], ordered=False, categories_dtype=int32)"
     },
     "execution_count": 126,
     "metadata": {},
     "output_type": "execute_result"
    }
   ],
   "source": [
    "full_data['secu3'].dtype"
   ],
   "metadata": {
    "collapsed": false,
    "ExecuteTime": {
     "end_time": "2024-04-11T16:46:41.818333800Z",
     "start_time": "2024-04-11T16:46:41.778206200Z"
    }
   },
   "id": "31d2954604c06e95",
   "execution_count": 126
  },
  {
   "cell_type": "markdown",
   "source": [
    "#### actp\n",
    "\n",
    "Concerne l'action du piéton. Diffère de nouveau selon les années. Le premier format de 2005 à 2018 est le suivant : [**0**, **1**, **2**, **3**, **4**, **5**, **6**, **9**]. Pour la version de 2005 à 2020 on a : [**-1**, **0**, **1**, **2**, **3**, **4**, **5**, **9**, **A**, **B**]. De la même manière, on définit que [**-1**, **0**, **9**, **B**, **NA**] apporte la même qualité d'information dans la seconde réforme. Nous décidons de nous calquer sur le format le plus précis soit le second.\n",
    "\n",
    "Cette catégorie est relativement intéressante, car elle indique si des situations peuvent amener plus ou moins fréquemment à des accidents plus, ou moins graves."
   ],
   "metadata": {
    "collapsed": false
   },
   "id": "afd041e3d6d5018a"
  },
  {
   "cell_type": "code",
   "outputs": [
    {
     "data": {
      "text/plain": "CategoricalDtype(categories=[-1, 0, 1, 2, 3, 4, 5, 6, 7, 8, 9, 10], ordered=False, categories_dtype=int32)"
     },
     "execution_count": 127,
     "metadata": {},
     "output_type": "execute_result"
    }
   ],
   "source": [
    "# On définit un dictionnaire permettant de remplacer les str par des int afin d'harmoniser les types pour ensuite catégoriser les valeurs\n",
    "replace_dict = {' -1.0': -1, '0.0': 0, '1.0': 1, '2.0': 2, '3.0': 3, '4.0': 4, '5.0': 5, '6.0': 6, '7.0': 7, '8.0': 8, '9.0': 9, 'A': 10, 'B': 11}\n",
    "full_data['actp'] = full_data['actp'].replace(replace_dict)\n",
    "\n",
    "# Harmonise les données (-1, 0, B) -> 9\n",
    "full_data['actp'] = full_data['actp'].replace({-1: 9, 0: 9, 11: 9}).fillna(9)\n",
    "\n",
    "# Converti en variable catégorielle\n",
    "convert_float_to_cat(full_data, 'actp')\n",
    "\n",
    "full_data['actp'].dtype"
   ],
   "metadata": {
    "collapsed": false,
    "ExecuteTime": {
     "end_time": "2024-04-11T16:46:43.194710400Z",
     "start_time": "2024-04-11T16:46:41.792479600Z"
    }
   },
   "id": "a007787c047f66b7",
   "execution_count": 127
  },
  {
   "cell_type": "code",
   "outputs": [],
   "source": [
    "full_data.to_csv('Data/TRAIN_FULL/test_9.csv', index=False)"
   ],
   "metadata": {
    "collapsed": false,
    "ExecuteTime": {
     "end_time": "2024-04-11T16:47:03.890957800Z",
     "start_time": "2024-04-11T16:46:43.182859700Z"
    }
   },
   "id": "db1993078e4db3b2",
   "execution_count": 128
  },
  {
   "cell_type": "markdown",
   "source": [
    "Désormais, toutes les variables propres aux usagers ont été traitées, on sauvegarde une version intermédiaire de ce fichier."
   ],
   "metadata": {
    "collapsed": false
   },
   "id": "73d9965a9974710d"
  },
  {
   "cell_type": "markdown",
   "source": [
    "### Caractéristiques\n",
    "\n",
    "Les fichiers caractéristiques contiennent globalement des informations relatives aux contextes de l'accident d'un point de vue conditions météorologiques, temporelles, etc.\n",
    "\n",
    "#### jour, mois, an, hrmm \n",
    "\n",
    "- **jour** : jour de l'accident.\n",
    "- **mois** : mois de l'accident.\n",
    "- **an** : année de l'accident.\n",
    "- **hrmn** : heure et minutes de l'accident.\n",
    "\n",
    "Ces informations sont cruciales, car des périodes pourraient être plus propices à des accidents graves. Un exemple serait qu'en hiver, une visibilité plus faible est observée ou bien un taux de suicide plus important pourrait expliquer une hausse de la gravité des accidents. En somme, sans fournir de justifications, ces informations peuvent être pertinentes."
   ],
   "metadata": {
    "collapsed": false
   },
   "id": "749b6cf65d4ee80f"
  },
  {
   "cell_type": "code",
   "outputs": [
    {
     "ename": "NameError",
     "evalue": "name 'test_data' is not defined",
     "output_type": "error",
     "traceback": [
      "\u001B[1;31m---------------------------------------------------------------------------\u001B[0m",
      "\u001B[1;31mNameError\u001B[0m                                 Traceback (most recent call last)",
      "Cell \u001B[1;32mIn[129], line 2\u001B[0m\n\u001B[0;32m      1\u001B[0m \u001B[38;5;66;03m# Traitement sur les années pour harmoniser la forme des étiquettes [2012 et non 12 par exemple]\u001B[39;00m\n\u001B[1;32m----> 2\u001B[0m \u001B[43mtest_data\u001B[49m\u001B[38;5;241m.\u001B[39mloc[(test_data[\u001B[38;5;124m'\u001B[39m\u001B[38;5;124man\u001B[39m\u001B[38;5;124m'\u001B[39m] \u001B[38;5;241m>\u001B[39m\u001B[38;5;241m=\u001B[39m \u001B[38;5;241m12\u001B[39m) \u001B[38;5;241m&\u001B[39m (test_data[\u001B[38;5;124m'\u001B[39m\u001B[38;5;124man\u001B[39m\u001B[38;5;124m'\u001B[39m] \u001B[38;5;241m<\u001B[39m\u001B[38;5;241m=\u001B[39m \u001B[38;5;241m18\u001B[39m), \u001B[38;5;124m'\u001B[39m\u001B[38;5;124man\u001B[39m\u001B[38;5;124m'\u001B[39m] \u001B[38;5;241m+\u001B[39m\u001B[38;5;241m=\u001B[39m \u001B[38;5;241m2000\u001B[39m\n\u001B[0;32m      4\u001B[0m \u001B[38;5;66;03m# Harmonise hr:mn de type string en int\u001B[39;00m\n\u001B[0;32m      5\u001B[0m \u001B[38;5;28;01mdef\u001B[39;00m \u001B[38;5;21mconvert_to_int\u001B[39m(time_str):\n",
      "\u001B[1;31mNameError\u001B[0m: name 'test_data' is not defined"
     ]
    }
   ],
   "source": [
    "# Traitement sur les années pour harmoniser la forme des étiquettes [2012 et non 12 par exemple]\n",
    "test_data.loc[(test_data['an'] >= 12) & (test_data['an'] <= 18), 'an'] += 2000\n",
    "\n",
    "# Harmonise hr:mn de type string en int\n",
    "def convert_to_int(time_str):\n",
    "    if isinstance(time_str, str):\n",
    "        hours, minutes = map(int, time_str.split(':'))\n",
    "        return hours * 100 + minutes\n",
    "    else:\n",
    "        return time_str\n",
    "\n",
    "test_data['hrmn'] = test_data['hrmn'].apply(convert_to_int)\n",
    "\n",
    "# Converti en valeur numérique\n",
    "convert_float_to_int(test_data, 'hrmn')\n",
    "\n",
    "# Traitement des minutes \n",
    "def generate_intervals(start, end, step):\n",
    "    intervals = []\n",
    "    for i in range(start, end, step):\n",
    "        intervals.append((i, i + step))\n",
    "    return intervals\n",
    "\n",
    "# Generate intervals automatically for each 100 units\n",
    "intervals = generate_intervals(0, 2400, 100)\n",
    "simple_values = list(range(len(intervals)))\n",
    "\n",
    "# Function to map values to simple values based on intervals\n",
    "def map_to_simple_value(value):\n",
    "    for i, interval in enumerate(intervals):\n",
    "        if interval[0] <= value < interval[1]:\n",
    "            return simple_values[i]\n",
    "    return None  # Return None if value is outside all intervals\n",
    "\n",
    "# Apply the mapping function to the column and create a new column with the simple values\n",
    "test_data['hrmn'] = test_data['hrmn'].apply(map_to_simple_value)\n",
    "\n",
    "# Converti en variable catégorielle\n",
    "convert_float_to_cat(test_data, 'jour')\n",
    "convert_float_to_cat(test_data, 'mois')\n",
    "convert_float_to_cat(test_data, 'an')\n",
    "convert_float_to_cat(test_data, 'hrmn')"
   ],
   "metadata": {
    "collapsed": false,
    "ExecuteTime": {
     "end_time": "2024-04-11T16:47:04.094018600Z",
     "start_time": "2024-04-11T16:47:03.895096200Z"
    }
   },
   "id": "dfa4fdc4d255e659",
   "execution_count": 129
  },
  {
   "cell_type": "code",
   "outputs": [],
   "source": [
    "test_data['jour'].dtype"
   ],
   "metadata": {
    "collapsed": false,
    "ExecuteTime": {
     "end_time": "2024-04-11T16:47:04.102481600Z",
     "start_time": "2024-04-11T16:47:04.095016500Z"
    }
   },
   "id": "415e08a7a9ad2247",
   "execution_count": null
  },
  {
   "cell_type": "code",
   "outputs": [],
   "source": [
    "test_data['mois'].dtype"
   ],
   "metadata": {
    "collapsed": false,
    "ExecuteTime": {
     "start_time": "2024-04-11T16:47:04.097306500Z"
    }
   },
   "id": "b09f4047c955689d",
   "execution_count": null
  },
  {
   "cell_type": "code",
   "outputs": [],
   "source": [
    "test_data['an'].dtype"
   ],
   "metadata": {
    "collapsed": false,
    "ExecuteTime": {
     "start_time": "2024-04-11T16:47:04.098304400Z"
    }
   },
   "id": "c95920f12684b4a",
   "execution_count": null
  },
  {
   "cell_type": "code",
   "outputs": [],
   "source": [
    "test_data['hrmn'].dtype"
   ],
   "metadata": {
    "collapsed": false,
    "ExecuteTime": {
     "start_time": "2024-04-11T16:47:04.100371800Z"
    }
   },
   "id": "4fbbaf9acf4251",
   "execution_count": null
  },
  {
   "cell_type": "code",
   "outputs": [],
   "source": [
    "test_data.head()"
   ],
   "metadata": {
    "collapsed": false,
    "ExecuteTime": {
     "end_time": "2024-04-11T16:47:04.112998700Z",
     "start_time": "2024-04-11T16:47:04.102481600Z"
    }
   },
   "id": "22e7a560d1f228cb",
   "execution_count": null
  },
  {
   "cell_type": "code",
   "outputs": [],
   "source": [],
   "metadata": {
    "collapsed": false,
    "ExecuteTime": {
     "start_time": "2024-04-11T16:47:04.104524Z"
    }
   },
   "id": "aaad4310d1f2a9a1"
  }
 ],
 "metadata": {
  "kernelspec": {
   "display_name": "Python 3",
   "language": "python",
   "name": "python3"
  },
  "language_info": {
   "codemirror_mode": {
    "name": "ipython",
    "version": 2
   },
   "file_extension": ".py",
   "mimetype": "text/x-python",
   "name": "python",
   "nbconvert_exporter": "python",
   "pygments_lexer": "ipython2",
   "version": "2.7.6"
  }
 },
 "nbformat": 4,
 "nbformat_minor": 5
}
