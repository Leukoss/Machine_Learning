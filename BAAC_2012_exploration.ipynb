{
 "cells": [
  {
   "cell_type": "markdown",
   "source": [
    "## Packages"
   ],
   "metadata": {
    "collapsed": false
   },
   "id": "113ce8e7a1e2b076"
  },
  {
   "cell_type": "code",
   "outputs": [],
   "source": [
    "import pandas as pd             # Traitement des tableaux de données "
   ],
   "metadata": {
    "collapsed": false,
    "ExecuteTime": {
     "end_time": "2024-04-10T01:43:47.456057800Z",
     "start_time": "2024-04-10T01:43:47.364179900Z"
    }
   },
   "id": "ee3d3e71ea538d50",
   "execution_count": 344
  },
  {
   "cell_type": "markdown",
   "source": [
    "# Découvertes des données "
   ],
   "metadata": {
    "collapsed": false
   },
   "id": "1c05797511bd635e"
  },
  {
   "cell_type": "markdown",
   "source": [
    "Dans un premier temps, nous chargeons le jeu de données et prenons le temps de regarder des informations sommaires concernant les métadonnées et les données de nos différents jeux :"
   ],
   "metadata": {
    "collapsed": false
   },
   "id": "52508c89a1e6825f"
  },
  {
   "cell_type": "markdown",
   "source": [
    "### Caractéristiques "
   ],
   "metadata": {
    "collapsed": false
   },
   "id": "a85009d7c3b5ecbf"
  },
  {
   "cell_type": "code",
   "outputs": [
    {
     "data": {
      "text/plain": "        Num_Acc  an  mois  jour  hrmn  lum  agg  int  atm  col  com  \\\n0  201200000001  12     3    16  1930    5    2    1  1.0    6   11   \n1  201200000002  12     9     1  2145    5    2    1  1.0    3   11   \n2  201200000003  12    11    20  1815    5    2    1  1.0    5  670   \n3  201200000004  12     1     7  1915    5    2    1  1.0    3   51   \n4  201200000006  12     1    22  1800    5    2    1  1.0    6   51   \n\n                     adr gps        lat      long  dep  \n0  33 Rue Roger Salengro   M  5052928.0  293643.0  590  \n1           route de DON   M  5053380.0  292738.0  590  \n2     rue Anatole France   M  5054757.0  292033.0  590  \n3         Rue d'ESTAIRES   M  5053315.0  280229.0  590  \n4     34 rue de la Marne   M  5053665.0  280409.0  590  ",
      "text/html": "<div>\n<style scoped>\n    .dataframe tbody tr th:only-of-type {\n        vertical-align: middle;\n    }\n\n    .dataframe tbody tr th {\n        vertical-align: top;\n    }\n\n    .dataframe thead th {\n        text-align: right;\n    }\n</style>\n<table border=\"1\" class=\"dataframe\">\n  <thead>\n    <tr style=\"text-align: right;\">\n      <th></th>\n      <th>Num_Acc</th>\n      <th>an</th>\n      <th>mois</th>\n      <th>jour</th>\n      <th>hrmn</th>\n      <th>lum</th>\n      <th>agg</th>\n      <th>int</th>\n      <th>atm</th>\n      <th>col</th>\n      <th>com</th>\n      <th>adr</th>\n      <th>gps</th>\n      <th>lat</th>\n      <th>long</th>\n      <th>dep</th>\n    </tr>\n  </thead>\n  <tbody>\n    <tr>\n      <th>0</th>\n      <td>201200000001</td>\n      <td>12</td>\n      <td>3</td>\n      <td>16</td>\n      <td>1930</td>\n      <td>5</td>\n      <td>2</td>\n      <td>1</td>\n      <td>1.0</td>\n      <td>6</td>\n      <td>11</td>\n      <td>33 Rue Roger Salengro</td>\n      <td>M</td>\n      <td>5052928.0</td>\n      <td>293643.0</td>\n      <td>590</td>\n    </tr>\n    <tr>\n      <th>1</th>\n      <td>201200000002</td>\n      <td>12</td>\n      <td>9</td>\n      <td>1</td>\n      <td>2145</td>\n      <td>5</td>\n      <td>2</td>\n      <td>1</td>\n      <td>1.0</td>\n      <td>3</td>\n      <td>11</td>\n      <td>route de DON</td>\n      <td>M</td>\n      <td>5053380.0</td>\n      <td>292738.0</td>\n      <td>590</td>\n    </tr>\n    <tr>\n      <th>2</th>\n      <td>201200000003</td>\n      <td>12</td>\n      <td>11</td>\n      <td>20</td>\n      <td>1815</td>\n      <td>5</td>\n      <td>2</td>\n      <td>1</td>\n      <td>1.0</td>\n      <td>5</td>\n      <td>670</td>\n      <td>rue Anatole France</td>\n      <td>M</td>\n      <td>5054757.0</td>\n      <td>292033.0</td>\n      <td>590</td>\n    </tr>\n    <tr>\n      <th>3</th>\n      <td>201200000004</td>\n      <td>12</td>\n      <td>1</td>\n      <td>7</td>\n      <td>1915</td>\n      <td>5</td>\n      <td>2</td>\n      <td>1</td>\n      <td>1.0</td>\n      <td>3</td>\n      <td>51</td>\n      <td>Rue d'ESTAIRES</td>\n      <td>M</td>\n      <td>5053315.0</td>\n      <td>280229.0</td>\n      <td>590</td>\n    </tr>\n    <tr>\n      <th>4</th>\n      <td>201200000006</td>\n      <td>12</td>\n      <td>1</td>\n      <td>22</td>\n      <td>1800</td>\n      <td>5</td>\n      <td>2</td>\n      <td>1</td>\n      <td>1.0</td>\n      <td>6</td>\n      <td>51</td>\n      <td>34 rue de la Marne</td>\n      <td>M</td>\n      <td>5053665.0</td>\n      <td>280409.0</td>\n      <td>590</td>\n    </tr>\n  </tbody>\n</table>\n</div>"
     },
     "execution_count": 345,
     "metadata": {},
     "output_type": "execute_result"
    }
   ],
   "source": [
    "BAAC_2012_carac = pd.read_csv(\"Data/TRAIN/BAAC-Annee-2012/caracteristiques_2012_.csv\", encoding=\"latin1\", sep=\";\")\n",
    "BAAC_2012_carac = BAAC_2012_carac.drop(BAAC_2012_carac.columns[0], axis=1)\n",
    "\n",
    "BAAC_2012_carac.head()"
   ],
   "metadata": {
    "collapsed": false,
    "ExecuteTime": {
     "end_time": "2024-04-10T01:43:47.577637800Z",
     "start_time": "2024-04-10T01:43:47.459050500Z"
    }
   },
   "id": "d540b6eeaf6cf19c",
   "execution_count": 345
  },
  {
   "cell_type": "code",
   "outputs": [
    {
     "name": "stdout",
     "output_type": "stream",
     "text": [
      "Le fichier des CARACTERISTIQUES a pour dimensions : 56025x16.\n",
      "Le nombres d'accidents unique est de : 56025.\n"
     ]
    }
   ],
   "source": [
    "print(f\"Le fichier des CARACTERISTIQUES a pour dimensions : {BAAC_2012_carac.shape[0]}x{BAAC_2012_carac.shape[1]}.\")\n",
    "print(f\"Le nombres d'accidents unique est de : {BAAC_2012_carac['Num_Acc'].nunique()}.\")"
   ],
   "metadata": {
    "collapsed": false,
    "ExecuteTime": {
     "end_time": "2024-04-10T01:43:47.578635100Z",
     "start_time": "2024-04-10T01:43:47.567179400Z"
    }
   },
   "id": "362467f25119f8ab",
   "execution_count": 346
  },
  {
   "cell_type": "markdown",
   "source": [
    "### Lieux"
   ],
   "metadata": {
    "collapsed": false
   },
   "id": "21a482f2fc218201"
  },
  {
   "cell_type": "code",
   "outputs": [
    {
     "data": {
      "text/plain": "        Num_Acc  catr   voie  v1   v2  circ  nbv    pr    pr1  vosp  prof  \\\n0  201200000001     3   39.0 NaN  NaN   2.0  0.0   6.0  875.0   0.0   1.0   \n1  201200000002     3   41.0 NaN  NaN   2.0  2.0  13.0  250.0   0.0   1.0   \n2  201200000003     3   41.0 NaN    D   2.0  2.0  11.0  500.0   0.0   1.0   \n3  201200000004     3  947.0 NaN  NaN   2.0  2.0   0.0  220.0   0.0   1.0   \n4  201200000006     4    0.0 NaN  NaN   2.0  0.0   0.0    0.0   0.0   0.0   \n\n   plan  lartpc  larrout  surf  infra  situ  env1  \n0   1.0     0.0     72.0   1.0    0.0   1.0   0.0  \n1   1.0     0.0     65.0   1.0    0.0   1.0  99.0  \n2   3.0     0.0     77.0   1.0    0.0   1.0   0.0  \n3   1.0     0.0     70.0   1.0    0.0   1.0   3.0  \n4   1.0     0.0     67.0   1.0    6.0   1.0   3.0  ",
      "text/html": "<div>\n<style scoped>\n    .dataframe tbody tr th:only-of-type {\n        vertical-align: middle;\n    }\n\n    .dataframe tbody tr th {\n        vertical-align: top;\n    }\n\n    .dataframe thead th {\n        text-align: right;\n    }\n</style>\n<table border=\"1\" class=\"dataframe\">\n  <thead>\n    <tr style=\"text-align: right;\">\n      <th></th>\n      <th>Num_Acc</th>\n      <th>catr</th>\n      <th>voie</th>\n      <th>v1</th>\n      <th>v2</th>\n      <th>circ</th>\n      <th>nbv</th>\n      <th>pr</th>\n      <th>pr1</th>\n      <th>vosp</th>\n      <th>prof</th>\n      <th>plan</th>\n      <th>lartpc</th>\n      <th>larrout</th>\n      <th>surf</th>\n      <th>infra</th>\n      <th>situ</th>\n      <th>env1</th>\n    </tr>\n  </thead>\n  <tbody>\n    <tr>\n      <th>0</th>\n      <td>201200000001</td>\n      <td>3</td>\n      <td>39.0</td>\n      <td>NaN</td>\n      <td>NaN</td>\n      <td>2.0</td>\n      <td>0.0</td>\n      <td>6.0</td>\n      <td>875.0</td>\n      <td>0.0</td>\n      <td>1.0</td>\n      <td>1.0</td>\n      <td>0.0</td>\n      <td>72.0</td>\n      <td>1.0</td>\n      <td>0.0</td>\n      <td>1.0</td>\n      <td>0.0</td>\n    </tr>\n    <tr>\n      <th>1</th>\n      <td>201200000002</td>\n      <td>3</td>\n      <td>41.0</td>\n      <td>NaN</td>\n      <td>NaN</td>\n      <td>2.0</td>\n      <td>2.0</td>\n      <td>13.0</td>\n      <td>250.0</td>\n      <td>0.0</td>\n      <td>1.0</td>\n      <td>1.0</td>\n      <td>0.0</td>\n      <td>65.0</td>\n      <td>1.0</td>\n      <td>0.0</td>\n      <td>1.0</td>\n      <td>99.0</td>\n    </tr>\n    <tr>\n      <th>2</th>\n      <td>201200000003</td>\n      <td>3</td>\n      <td>41.0</td>\n      <td>NaN</td>\n      <td>D</td>\n      <td>2.0</td>\n      <td>2.0</td>\n      <td>11.0</td>\n      <td>500.0</td>\n      <td>0.0</td>\n      <td>1.0</td>\n      <td>3.0</td>\n      <td>0.0</td>\n      <td>77.0</td>\n      <td>1.0</td>\n      <td>0.0</td>\n      <td>1.0</td>\n      <td>0.0</td>\n    </tr>\n    <tr>\n      <th>3</th>\n      <td>201200000004</td>\n      <td>3</td>\n      <td>947.0</td>\n      <td>NaN</td>\n      <td>NaN</td>\n      <td>2.0</td>\n      <td>2.0</td>\n      <td>0.0</td>\n      <td>220.0</td>\n      <td>0.0</td>\n      <td>1.0</td>\n      <td>1.0</td>\n      <td>0.0</td>\n      <td>70.0</td>\n      <td>1.0</td>\n      <td>0.0</td>\n      <td>1.0</td>\n      <td>3.0</td>\n    </tr>\n    <tr>\n      <th>4</th>\n      <td>201200000006</td>\n      <td>4</td>\n      <td>0.0</td>\n      <td>NaN</td>\n      <td>NaN</td>\n      <td>2.0</td>\n      <td>0.0</td>\n      <td>0.0</td>\n      <td>0.0</td>\n      <td>0.0</td>\n      <td>0.0</td>\n      <td>1.0</td>\n      <td>0.0</td>\n      <td>67.0</td>\n      <td>1.0</td>\n      <td>6.0</td>\n      <td>1.0</td>\n      <td>3.0</td>\n    </tr>\n  </tbody>\n</table>\n</div>"
     },
     "execution_count": 347,
     "metadata": {},
     "output_type": "execute_result"
    }
   ],
   "source": [
    "BAAC_2012_place = pd.read_csv(\"Data/TRAIN/BAAC-Annee-2012/lieux_2012_.csv\", encoding=\"latin1\", sep=\";\")\n",
    "BAAC_2012_place = BAAC_2012_place.drop(BAAC_2012_place.columns[0], axis=1)\n",
    "\n",
    "BAAC_2012_place.head()"
   ],
   "metadata": {
    "collapsed": false,
    "ExecuteTime": {
     "end_time": "2024-04-10T01:43:47.787320900Z",
     "start_time": "2024-04-10T01:43:47.575642600Z"
    }
   },
   "id": "cceabff57e83221",
   "execution_count": 347
  },
  {
   "cell_type": "code",
   "outputs": [
    {
     "name": "stdout",
     "output_type": "stream",
     "text": [
      "Le fichier des LIEUX a pour dimensions : 56025x18.\n",
      "Le nombre d'accidents uniques est de : 56025.\n"
     ]
    }
   ],
   "source": [
    "print(f\"Le fichier des LIEUX a pour dimensions : {BAAC_2012_place.shape[0]}x{BAAC_2012_place.shape[1]}.\")\n",
    "print(f\"Le nombre d'accidents uniques est de : {BAAC_2012_place['Num_Acc'].nunique()}.\")"
   ],
   "metadata": {
    "collapsed": false,
    "ExecuteTime": {
     "end_time": "2024-04-10T01:43:47.788318500Z",
     "start_time": "2024-04-10T01:43:47.687488Z"
    }
   },
   "id": "837cd3a214c3bd50",
   "execution_count": 348
  },
  {
   "cell_type": "markdown",
   "source": [
    "### Usagers"
   ],
   "metadata": {
    "collapsed": false
   },
   "id": "ed6409155b6d0d0"
  },
  {
   "cell_type": "code",
   "outputs": [
    {
     "data": {
      "text/plain": "        Num_Acc  place  catu  grav  sexe  trajet  secu  locp  actp  etatp  \\\n0  201200000001    1.0     1     1     2     5.0  11.0   0.0   0.0    0.0   \n1  201200000001    NaN     3     4     1     5.0   NaN   3.0   3.0    2.0   \n2  201200000002    1.0     1     1     1     5.0  13.0   0.0   0.0    0.0   \n3  201200000002    2.0     2     1     1     0.0  11.0   0.0   0.0    0.0   \n4  201200000002    1.0     1     1     1     5.0  21.0   0.0   0.0    0.0   \n\n   an_nais num_veh  \n0   1939.0     A01  \n1   2008.0     A01  \n2   1994.0     A01  \n3   1992.0     A01  \n4   1976.0     B02  ",
      "text/html": "<div>\n<style scoped>\n    .dataframe tbody tr th:only-of-type {\n        vertical-align: middle;\n    }\n\n    .dataframe tbody tr th {\n        vertical-align: top;\n    }\n\n    .dataframe thead th {\n        text-align: right;\n    }\n</style>\n<table border=\"1\" class=\"dataframe\">\n  <thead>\n    <tr style=\"text-align: right;\">\n      <th></th>\n      <th>Num_Acc</th>\n      <th>place</th>\n      <th>catu</th>\n      <th>grav</th>\n      <th>sexe</th>\n      <th>trajet</th>\n      <th>secu</th>\n      <th>locp</th>\n      <th>actp</th>\n      <th>etatp</th>\n      <th>an_nais</th>\n      <th>num_veh</th>\n    </tr>\n  </thead>\n  <tbody>\n    <tr>\n      <th>0</th>\n      <td>201200000001</td>\n      <td>1.0</td>\n      <td>1</td>\n      <td>1</td>\n      <td>2</td>\n      <td>5.0</td>\n      <td>11.0</td>\n      <td>0.0</td>\n      <td>0.0</td>\n      <td>0.0</td>\n      <td>1939.0</td>\n      <td>A01</td>\n    </tr>\n    <tr>\n      <th>1</th>\n      <td>201200000001</td>\n      <td>NaN</td>\n      <td>3</td>\n      <td>4</td>\n      <td>1</td>\n      <td>5.0</td>\n      <td>NaN</td>\n      <td>3.0</td>\n      <td>3.0</td>\n      <td>2.0</td>\n      <td>2008.0</td>\n      <td>A01</td>\n    </tr>\n    <tr>\n      <th>2</th>\n      <td>201200000002</td>\n      <td>1.0</td>\n      <td>1</td>\n      <td>1</td>\n      <td>1</td>\n      <td>5.0</td>\n      <td>13.0</td>\n      <td>0.0</td>\n      <td>0.0</td>\n      <td>0.0</td>\n      <td>1994.0</td>\n      <td>A01</td>\n    </tr>\n    <tr>\n      <th>3</th>\n      <td>201200000002</td>\n      <td>2.0</td>\n      <td>2</td>\n      <td>1</td>\n      <td>1</td>\n      <td>0.0</td>\n      <td>11.0</td>\n      <td>0.0</td>\n      <td>0.0</td>\n      <td>0.0</td>\n      <td>1992.0</td>\n      <td>A01</td>\n    </tr>\n    <tr>\n      <th>4</th>\n      <td>201200000002</td>\n      <td>1.0</td>\n      <td>1</td>\n      <td>1</td>\n      <td>1</td>\n      <td>5.0</td>\n      <td>21.0</td>\n      <td>0.0</td>\n      <td>0.0</td>\n      <td>0.0</td>\n      <td>1976.0</td>\n      <td>B02</td>\n    </tr>\n  </tbody>\n</table>\n</div>"
     },
     "execution_count": 349,
     "metadata": {},
     "output_type": "execute_result"
    }
   ],
   "source": [
    "BAAC_2012_users = pd.read_csv(\"Data/TRAIN/BAAC-Annee-2012/usagers_2012_.csv\", encoding=\"latin1\", sep=\";\")\n",
    "BAAC_2012_users = BAAC_2012_users.drop(BAAC_2012_users.columns[0], axis=1)\n",
    "\n",
    "BAAC_2012_users.head()"
   ],
   "metadata": {
    "collapsed": false,
    "ExecuteTime": {
     "end_time": "2024-04-10T01:43:47.868802400Z",
     "start_time": "2024-04-10T01:43:47.694962700Z"
    }
   },
   "id": "85651c83f1bfe53",
   "execution_count": 349
  },
  {
   "cell_type": "code",
   "outputs": [
    {
     "name": "stdout",
     "output_type": "stream",
     "text": [
      "Le fichier des USAGERS a pour dimensions : 124598x12.\n",
      "Le nombre d'accidents uniques est de : 56025.\n"
     ]
    }
   ],
   "source": [
    "print(f\"Le fichier des USAGERS a pour dimensions : {BAAC_2012_users.shape[0]}x{BAAC_2012_users.shape[1]}.\")\n",
    "print(f\"Le nombre d'accidents uniques est de : {BAAC_2012_users['Num_Acc'].nunique()}.\")"
   ],
   "metadata": {
    "collapsed": false,
    "ExecuteTime": {
     "end_time": "2024-04-10T01:43:47.869799600Z",
     "start_time": "2024-04-10T01:43:47.828887500Z"
    }
   },
   "id": "8874b1890b81819e",
   "execution_count": 350
  },
  {
   "cell_type": "markdown",
   "source": [
    "Contrairement aux précédents \"*.csv*\", on constate une dimension bien plus importante en terme de lignes. Cela peut facilement s'expliquer, en effet, il n'est pas anormal d'observer pour un seul accident se produisant dans un seul lieu, avec un seul ensemble de caractéristique de posséder plusieurs victimes. Ainsi, plusieurs victimes étant liées à un même accident viennent dupliquer les lignes liées à un unique accident."
   ],
   "metadata": {
    "collapsed": false
   },
   "id": "dda7ad1a7fb8f2aa"
  },
  {
   "cell_type": "markdown",
   "source": [
    "### Véhicules"
   ],
   "metadata": {
    "collapsed": false
   },
   "id": "df300de9c2656ddb"
  },
  {
   "cell_type": "code",
   "outputs": [
    {
     "data": {
      "text/plain": "        Num_Acc  senc  catv  occutc  obs  obsm  choc  manv num_veh\n0  201200000001     0     7       0  0.0   1.0   7.0  16.0     A01\n1  201200000002     0     7       0  0.0   2.0   3.0  16.0     A01\n2  201200000002     0    33       0  0.0   2.0   8.0   1.0     B02\n3  201200000003     0     7       0  0.0   2.0   1.0   1.0     C03\n4  201200000003     0     7       0  0.0   2.0   8.0   1.0     B02",
      "text/html": "<div>\n<style scoped>\n    .dataframe tbody tr th:only-of-type {\n        vertical-align: middle;\n    }\n\n    .dataframe tbody tr th {\n        vertical-align: top;\n    }\n\n    .dataframe thead th {\n        text-align: right;\n    }\n</style>\n<table border=\"1\" class=\"dataframe\">\n  <thead>\n    <tr style=\"text-align: right;\">\n      <th></th>\n      <th>Num_Acc</th>\n      <th>senc</th>\n      <th>catv</th>\n      <th>occutc</th>\n      <th>obs</th>\n      <th>obsm</th>\n      <th>choc</th>\n      <th>manv</th>\n      <th>num_veh</th>\n    </tr>\n  </thead>\n  <tbody>\n    <tr>\n      <th>0</th>\n      <td>201200000001</td>\n      <td>0</td>\n      <td>7</td>\n      <td>0</td>\n      <td>0.0</td>\n      <td>1.0</td>\n      <td>7.0</td>\n      <td>16.0</td>\n      <td>A01</td>\n    </tr>\n    <tr>\n      <th>1</th>\n      <td>201200000002</td>\n      <td>0</td>\n      <td>7</td>\n      <td>0</td>\n      <td>0.0</td>\n      <td>2.0</td>\n      <td>3.0</td>\n      <td>16.0</td>\n      <td>A01</td>\n    </tr>\n    <tr>\n      <th>2</th>\n      <td>201200000002</td>\n      <td>0</td>\n      <td>33</td>\n      <td>0</td>\n      <td>0.0</td>\n      <td>2.0</td>\n      <td>8.0</td>\n      <td>1.0</td>\n      <td>B02</td>\n    </tr>\n    <tr>\n      <th>3</th>\n      <td>201200000003</td>\n      <td>0</td>\n      <td>7</td>\n      <td>0</td>\n      <td>0.0</td>\n      <td>2.0</td>\n      <td>1.0</td>\n      <td>1.0</td>\n      <td>C03</td>\n    </tr>\n    <tr>\n      <th>4</th>\n      <td>201200000003</td>\n      <td>0</td>\n      <td>7</td>\n      <td>0</td>\n      <td>0.0</td>\n      <td>2.0</td>\n      <td>8.0</td>\n      <td>1.0</td>\n      <td>B02</td>\n    </tr>\n  </tbody>\n</table>\n</div>"
     },
     "execution_count": 351,
     "metadata": {},
     "output_type": "execute_result"
    }
   ],
   "source": [
    "BAAC_2012_vehic = pd.read_csv(\"Data/TRAIN/BAAC-Annee-2012/vehicules_2012_.csv\", encoding=\"latin1\", sep=\";\")\n",
    "BAAC_2012_vehic = BAAC_2012_vehic.drop(BAAC_2012_vehic.columns[0], axis=1)\n",
    "\n",
    "BAAC_2012_vehic.head()"
   ],
   "metadata": {
    "collapsed": false,
    "ExecuteTime": {
     "end_time": "2024-04-10T01:43:47.960147700Z",
     "start_time": "2024-04-10T01:43:47.839880Z"
    }
   },
   "id": "63308d3e727c7e31",
   "execution_count": 351
  },
  {
   "cell_type": "code",
   "outputs": [
    {
     "name": "stdout",
     "output_type": "stream",
     "text": [
      "Le fichier des VEHICULES a pour dimensions : 95115x9.\n",
      "Le nombre d'accidents uniques est de : 56025.\n"
     ]
    }
   ],
   "source": [
    "print(f\"Le fichier des VEHICULES a pour dimensions : {BAAC_2012_vehic.shape[0]}x{BAAC_2012_vehic.shape[1]}.\")\n",
    "print(f\"Le nombre d'accidents uniques est de : {BAAC_2012_vehic['Num_Acc'].nunique()}.\")"
   ],
   "metadata": {
    "collapsed": false,
    "ExecuteTime": {
     "end_time": "2024-04-10T01:43:48.000041Z",
     "start_time": "2024-04-10T01:43:47.928327Z"
    }
   },
   "id": "78716817e6335b9e",
   "execution_count": 352
  },
  {
   "cell_type": "markdown",
   "source": [
    "De nouveaux, on constate une valeur différente en terme de ligne. Certes inférieure à celle des usagers mais supérieure aux deux autres. Cela peut s'expliquer par le fait que si un ou plusieurs véhicules sont engagés, il se peut qu'un ou plusieurs usagers soient concernés pour le même véhicules (on pensera notamment aux passagers). Cependant, il aurait été anormal de voir plus de véhicules que d'usagers (véhicules fantômes ?). Cela nous rassure donc sur la qualité des données."
   ],
   "metadata": {
    "collapsed": false
   },
   "id": "6e0f24d30b2b3601"
  },
  {
   "cell_type": "markdown",
   "source": [
    "### Premières Conclusions :"
   ],
   "metadata": {
    "collapsed": false
   },
   "id": "1d2e3ae7a1479c15"
  },
  {
   "cell_type": "markdown",
   "source": [
    "On observe un nombre d'accidents au nombre de **\"*56025*\"**. Cependant, il peut arriver d'avoir plusieurs véhicules impliqués (donnant donc **\"*95115*\"** lignes), ou encore plusieurs usagers accidentés (amenant **\"*124598*\"** cas d'usagers impactés).\n",
    "\n",
    "Afin de pouvoir construire un jeu de données complet et lire de potentielles corrélations, il est nécessaire de songer à comment fusionner ces différents jeux.\n",
    "\n",
    "L'objectif est de prédire la gravité d'un accident relatif aux usagers en disposant notamment d'informations sur le lieu, les caractéristiques, les véhicules impliqués. Une première tentative serait de construire le jeu de données autour des usagers. Pour cela, nous pouvons utiliser plusieurs variables pour lier les différents jeux de données. On pense notamment à : **\"*Num_Acc*\"**, ou encore **\"*num_veh*\"**. En effet, on pourra aisément relier les **\"caractéristiques\"** et le **\"lieu\"** de l'accident aux **\"usagers\"** à l'aide du **\"*Num_Acc*\"**. Pour ce qui est de lier les **\"*véhicules*\"** aux **\"*usagers*\"**, il faudra lier correctement l'accidenté avec le bon véhicule. Ainsi, la mise en relation conjointe des usagers avec ces deux caractéristiques est nécessaire. "
   ],
   "metadata": {
    "collapsed": false
   },
   "id": "b89366e868a0f53"
  },
  {
   "cell_type": "code",
   "outputs": [
    {
     "data": {
      "text/plain": "        Num_Acc  place  catu  grav  sexe  trajet  secu  locp  actp  etatp  \\\n0  201200000001    1.0     1     1     2     5.0  11.0   0.0   0.0    0.0   \n1  201200000001    NaN     3     4     1     5.0   NaN   3.0   3.0    2.0   \n2  201200000002    1.0     1     1     1     5.0  13.0   0.0   0.0    0.0   \n3  201200000002    2.0     2     1     1     0.0  11.0   0.0   0.0    0.0   \n4  201200000002    1.0     1     1     1     5.0  21.0   0.0   0.0    0.0   \n\n   an_nais num_veh  senc  catv  occutc  obs  obsm  choc  manv  \n0   1939.0     A01     0     7       0  0.0   1.0   7.0  16.0  \n1   2008.0     A01     0     7       0  0.0   1.0   7.0  16.0  \n2   1994.0     A01     0     7       0  0.0   2.0   3.0  16.0  \n3   1992.0     A01     0     7       0  0.0   2.0   3.0  16.0  \n4   1976.0     B02     0    33       0  0.0   2.0   8.0   1.0  ",
      "text/html": "<div>\n<style scoped>\n    .dataframe tbody tr th:only-of-type {\n        vertical-align: middle;\n    }\n\n    .dataframe tbody tr th {\n        vertical-align: top;\n    }\n\n    .dataframe thead th {\n        text-align: right;\n    }\n</style>\n<table border=\"1\" class=\"dataframe\">\n  <thead>\n    <tr style=\"text-align: right;\">\n      <th></th>\n      <th>Num_Acc</th>\n      <th>place</th>\n      <th>catu</th>\n      <th>grav</th>\n      <th>sexe</th>\n      <th>trajet</th>\n      <th>secu</th>\n      <th>locp</th>\n      <th>actp</th>\n      <th>etatp</th>\n      <th>an_nais</th>\n      <th>num_veh</th>\n      <th>senc</th>\n      <th>catv</th>\n      <th>occutc</th>\n      <th>obs</th>\n      <th>obsm</th>\n      <th>choc</th>\n      <th>manv</th>\n    </tr>\n  </thead>\n  <tbody>\n    <tr>\n      <th>0</th>\n      <td>201200000001</td>\n      <td>1.0</td>\n      <td>1</td>\n      <td>1</td>\n      <td>2</td>\n      <td>5.0</td>\n      <td>11.0</td>\n      <td>0.0</td>\n      <td>0.0</td>\n      <td>0.0</td>\n      <td>1939.0</td>\n      <td>A01</td>\n      <td>0</td>\n      <td>7</td>\n      <td>0</td>\n      <td>0.0</td>\n      <td>1.0</td>\n      <td>7.0</td>\n      <td>16.0</td>\n    </tr>\n    <tr>\n      <th>1</th>\n      <td>201200000001</td>\n      <td>NaN</td>\n      <td>3</td>\n      <td>4</td>\n      <td>1</td>\n      <td>5.0</td>\n      <td>NaN</td>\n      <td>3.0</td>\n      <td>3.0</td>\n      <td>2.0</td>\n      <td>2008.0</td>\n      <td>A01</td>\n      <td>0</td>\n      <td>7</td>\n      <td>0</td>\n      <td>0.0</td>\n      <td>1.0</td>\n      <td>7.0</td>\n      <td>16.0</td>\n    </tr>\n    <tr>\n      <th>2</th>\n      <td>201200000002</td>\n      <td>1.0</td>\n      <td>1</td>\n      <td>1</td>\n      <td>1</td>\n      <td>5.0</td>\n      <td>13.0</td>\n      <td>0.0</td>\n      <td>0.0</td>\n      <td>0.0</td>\n      <td>1994.0</td>\n      <td>A01</td>\n      <td>0</td>\n      <td>7</td>\n      <td>0</td>\n      <td>0.0</td>\n      <td>2.0</td>\n      <td>3.0</td>\n      <td>16.0</td>\n    </tr>\n    <tr>\n      <th>3</th>\n      <td>201200000002</td>\n      <td>2.0</td>\n      <td>2</td>\n      <td>1</td>\n      <td>1</td>\n      <td>0.0</td>\n      <td>11.0</td>\n      <td>0.0</td>\n      <td>0.0</td>\n      <td>0.0</td>\n      <td>1992.0</td>\n      <td>A01</td>\n      <td>0</td>\n      <td>7</td>\n      <td>0</td>\n      <td>0.0</td>\n      <td>2.0</td>\n      <td>3.0</td>\n      <td>16.0</td>\n    </tr>\n    <tr>\n      <th>4</th>\n      <td>201200000002</td>\n      <td>1.0</td>\n      <td>1</td>\n      <td>1</td>\n      <td>1</td>\n      <td>5.0</td>\n      <td>21.0</td>\n      <td>0.0</td>\n      <td>0.0</td>\n      <td>0.0</td>\n      <td>1976.0</td>\n      <td>B02</td>\n      <td>0</td>\n      <td>33</td>\n      <td>0</td>\n      <td>0.0</td>\n      <td>2.0</td>\n      <td>8.0</td>\n      <td>1.0</td>\n    </tr>\n  </tbody>\n</table>\n</div>"
     },
     "execution_count": 353,
     "metadata": {},
     "output_type": "execute_result"
    }
   ],
   "source": [
    "merged_data = pd.merge(BAAC_2012_users, BAAC_2012_vehic, on=['Num_Acc', 'num_veh'], how='left')\n",
    "\n",
    "merged_data.head()"
   ],
   "metadata": {
    "collapsed": false,
    "ExecuteTime": {
     "end_time": "2024-04-10T01:43:48.136971700Z",
     "start_time": "2024-04-10T01:43:47.937209500Z"
    }
   },
   "id": "e6f218d3997d4cbe",
   "execution_count": 353
  },
  {
   "cell_type": "code",
   "outputs": [
    {
     "name": "stdout",
     "output_type": "stream",
     "text": [
      "Le nouveau fichier des USAGERS a pour dimensions : 124598x19.\n",
      "Le nombre d'accidents uniques est de : 56025.\n"
     ]
    }
   ],
   "source": [
    "print(f\"Le nouveau fichier des USAGERS a pour dimensions : {merged_data.shape[0]}x{merged_data.shape[1]}.\")\n",
    "print(f\"Le nombre d'accidents uniques est de : {merged_data['Num_Acc'].nunique()}.\")"
   ],
   "metadata": {
    "collapsed": false,
    "ExecuteTime": {
     "end_time": "2024-04-10T01:43:48.137968700Z",
     "start_time": "2024-04-10T01:43:48.007081600Z"
    }
   },
   "id": "9eb42d82143c810d",
   "execution_count": 354
  },
  {
   "cell_type": "markdown",
   "source": [
    "On observe que le merging a fonctionné. En effet, pour chaque usager, il a désormais **\"*7*\"** nouvelles variables (**\"*9*\"** variables au total sur **\"*vehicules_2012_.csv*\"** mais **\"*usagers_2012_.csv*\"** possèdent déjà **\"*Num_Acc*\"** et **\"*num_veh*\"** donc seulement **\"*7*\"** variables à ajouter). Cela nous fait désormais un total de **\"*19*\"** variables pour **\"*124 598*\"** lignes (usagers).\n",
    "\n",
    "Désormais, nous souhaitons faire de même avec les **\"*lieux*\"** et les **\"*caractéristiques*\"**. Cependant, il sera plus facile de les merge étant donné qu'il suffit d'associer à l'individu les attributs des deux précédents jeux de données conformément au **\"*Num_Acc*\"**. "
   ],
   "metadata": {
    "collapsed": false
   },
   "id": "f26b5713c403b740"
  },
  {
   "cell_type": "code",
   "outputs": [
    {
     "data": {
      "text/plain": "        Num_Acc  place  catu  grav  sexe  trajet  secu  locp  actp  etatp  \\\n0  201200000001    1.0     1     1     2     5.0  11.0   0.0   0.0    0.0   \n1  201200000001    NaN     3     4     1     5.0   NaN   3.0   3.0    2.0   \n2  201200000002    1.0     1     1     1     5.0  13.0   0.0   0.0    0.0   \n3  201200000002    2.0     2     1     1     0.0  11.0   0.0   0.0    0.0   \n4  201200000002    1.0     1     1     1     5.0  21.0   0.0   0.0    0.0   \n\n   ...    pr1 vosp  prof  plan  lartpc  larrout  surf  infra  situ  env1  \n0  ...  875.0  0.0   1.0   1.0     0.0     72.0   1.0    0.0   1.0   0.0  \n1  ...  875.0  0.0   1.0   1.0     0.0     72.0   1.0    0.0   1.0   0.0  \n2  ...  250.0  0.0   1.0   1.0     0.0     65.0   1.0    0.0   1.0  99.0  \n3  ...  250.0  0.0   1.0   1.0     0.0     65.0   1.0    0.0   1.0  99.0  \n4  ...  250.0  0.0   1.0   1.0     0.0     65.0   1.0    0.0   1.0  99.0  \n\n[5 rows x 51 columns]",
      "text/html": "<div>\n<style scoped>\n    .dataframe tbody tr th:only-of-type {\n        vertical-align: middle;\n    }\n\n    .dataframe tbody tr th {\n        vertical-align: top;\n    }\n\n    .dataframe thead th {\n        text-align: right;\n    }\n</style>\n<table border=\"1\" class=\"dataframe\">\n  <thead>\n    <tr style=\"text-align: right;\">\n      <th></th>\n      <th>Num_Acc</th>\n      <th>place</th>\n      <th>catu</th>\n      <th>grav</th>\n      <th>sexe</th>\n      <th>trajet</th>\n      <th>secu</th>\n      <th>locp</th>\n      <th>actp</th>\n      <th>etatp</th>\n      <th>...</th>\n      <th>pr1</th>\n      <th>vosp</th>\n      <th>prof</th>\n      <th>plan</th>\n      <th>lartpc</th>\n      <th>larrout</th>\n      <th>surf</th>\n      <th>infra</th>\n      <th>situ</th>\n      <th>env1</th>\n    </tr>\n  </thead>\n  <tbody>\n    <tr>\n      <th>0</th>\n      <td>201200000001</td>\n      <td>1.0</td>\n      <td>1</td>\n      <td>1</td>\n      <td>2</td>\n      <td>5.0</td>\n      <td>11.0</td>\n      <td>0.0</td>\n      <td>0.0</td>\n      <td>0.0</td>\n      <td>...</td>\n      <td>875.0</td>\n      <td>0.0</td>\n      <td>1.0</td>\n      <td>1.0</td>\n      <td>0.0</td>\n      <td>72.0</td>\n      <td>1.0</td>\n      <td>0.0</td>\n      <td>1.0</td>\n      <td>0.0</td>\n    </tr>\n    <tr>\n      <th>1</th>\n      <td>201200000001</td>\n      <td>NaN</td>\n      <td>3</td>\n      <td>4</td>\n      <td>1</td>\n      <td>5.0</td>\n      <td>NaN</td>\n      <td>3.0</td>\n      <td>3.0</td>\n      <td>2.0</td>\n      <td>...</td>\n      <td>875.0</td>\n      <td>0.0</td>\n      <td>1.0</td>\n      <td>1.0</td>\n      <td>0.0</td>\n      <td>72.0</td>\n      <td>1.0</td>\n      <td>0.0</td>\n      <td>1.0</td>\n      <td>0.0</td>\n    </tr>\n    <tr>\n      <th>2</th>\n      <td>201200000002</td>\n      <td>1.0</td>\n      <td>1</td>\n      <td>1</td>\n      <td>1</td>\n      <td>5.0</td>\n      <td>13.0</td>\n      <td>0.0</td>\n      <td>0.0</td>\n      <td>0.0</td>\n      <td>...</td>\n      <td>250.0</td>\n      <td>0.0</td>\n      <td>1.0</td>\n      <td>1.0</td>\n      <td>0.0</td>\n      <td>65.0</td>\n      <td>1.0</td>\n      <td>0.0</td>\n      <td>1.0</td>\n      <td>99.0</td>\n    </tr>\n    <tr>\n      <th>3</th>\n      <td>201200000002</td>\n      <td>2.0</td>\n      <td>2</td>\n      <td>1</td>\n      <td>1</td>\n      <td>0.0</td>\n      <td>11.0</td>\n      <td>0.0</td>\n      <td>0.0</td>\n      <td>0.0</td>\n      <td>...</td>\n      <td>250.0</td>\n      <td>0.0</td>\n      <td>1.0</td>\n      <td>1.0</td>\n      <td>0.0</td>\n      <td>65.0</td>\n      <td>1.0</td>\n      <td>0.0</td>\n      <td>1.0</td>\n      <td>99.0</td>\n    </tr>\n    <tr>\n      <th>4</th>\n      <td>201200000002</td>\n      <td>1.0</td>\n      <td>1</td>\n      <td>1</td>\n      <td>1</td>\n      <td>5.0</td>\n      <td>21.0</td>\n      <td>0.0</td>\n      <td>0.0</td>\n      <td>0.0</td>\n      <td>...</td>\n      <td>250.0</td>\n      <td>0.0</td>\n      <td>1.0</td>\n      <td>1.0</td>\n      <td>0.0</td>\n      <td>65.0</td>\n      <td>1.0</td>\n      <td>0.0</td>\n      <td>1.0</td>\n      <td>99.0</td>\n    </tr>\n  </tbody>\n</table>\n<p>5 rows × 51 columns</p>\n</div>"
     },
     "execution_count": 355,
     "metadata": {},
     "output_type": "execute_result"
    }
   ],
   "source": [
    "whole_data = pd.merge(merged_data, BAAC_2012_carac, on=['Num_Acc'], how=\"left\")\n",
    "whole_data = pd.merge(whole_data, BAAC_2012_place, on=['Num_Acc'], how=\"left\")\n",
    "\n",
    "whole_data.head()"
   ],
   "metadata": {
    "collapsed": false,
    "ExecuteTime": {
     "end_time": "2024-04-10T01:43:48.285930200Z",
     "start_time": "2024-04-10T01:43:48.016784600Z"
    }
   },
   "id": "2226f70847ff2b38",
   "execution_count": 355
  },
  {
   "cell_type": "code",
   "outputs": [
    {
     "name": "stdout",
     "output_type": "stream",
     "text": [
      "Le fichier total des USAGERS a pour dimensions : 124598x51.\n",
      "Le nombre d'accidents uniques est de : 56025.\n"
     ]
    }
   ],
   "source": [
    "print(f\"Le fichier total des USAGERS a pour dimensions : {whole_data.shape[0]}x{whole_data.shape[1]}.\")\n",
    "print(f\"Le nombre d'accidents uniques est de : {whole_data['Num_Acc'].nunique()}.\")"
   ],
   "metadata": {
    "collapsed": false,
    "ExecuteTime": {
     "end_time": "2024-04-10T01:43:48.288922Z",
     "start_time": "2024-04-10T01:43:48.179968600Z"
    }
   },
   "id": "8098c6eb54d8b643",
   "execution_count": 356
  },
  {
   "cell_type": "markdown",
   "source": [
    "A l'instar du merging précédent, on observe que l'on conserve le même nombre d'observations mais qu'on augmente le nombre de variables prédictives. Par acquit de conscience, on vient s'assurer par le calcul que la dimension associée aux variables prédictives est la bonne en comptant le nombre d'éléments uniques dans une liste contenant toutes les variables prédictives au sein des 4 jeux de données : "
   ],
   "metadata": {
    "collapsed": false
   },
   "id": "dc9fedb3cd9532c9"
  },
  {
   "cell_type": "code",
   "outputs": [
    {
     "name": "stdout",
     "output_type": "stream",
     "text": [
      "Le nombre de variables prédictives uniques depuis le début est de : 51.\n"
     ]
    }
   ],
   "source": [
    "columns_list = []\n",
    "\n",
    "columns_list.extend(BAAC_2012_carac.columns)\n",
    "columns_list.extend(BAAC_2012_place.columns)\n",
    "columns_list.extend(BAAC_2012_users.columns)\n",
    "columns_list.extend(BAAC_2012_vehic.columns)\n",
    "\n",
    "# Print the number of unique elements\n",
    "print(f\"Le nombre de variables prédictives uniques depuis le début est de : {len(set(columns_list))}.\")"
   ],
   "metadata": {
    "collapsed": false,
    "ExecuteTime": {
     "end_time": "2024-04-10T01:43:48.343775300Z",
     "start_time": "2024-04-10T01:43:48.194928100Z"
    }
   },
   "id": "1f0bf7387ffafb9",
   "execution_count": 357
  },
  {
   "cell_type": "markdown",
   "source": [
    "On a donc bien une cohérence sur la fusion des différents jeux de données et nous pouvons désormais nous pencher sur la structure des données.\n",
    "\n",
    "Nous décidons de construire ce fichier afin de le traiter dans un prochain notebook :"
   ],
   "metadata": {
    "collapsed": false
   },
   "id": "c7d5900f0b3e8eb6"
  },
  {
   "cell_type": "code",
   "outputs": [
    {
     "ename": "NameError",
     "evalue": "name 'whole_data' is not defined",
     "output_type": "error",
     "traceback": [
      "\u001B[1;31m---------------------------------------------------------------------------\u001B[0m",
      "\u001B[1;31mNameError\u001B[0m                                 Traceback (most recent call last)",
      "Cell \u001B[1;32mIn[1], line 1\u001B[0m\n\u001B[1;32m----> 1\u001B[0m \u001B[43mwhole_data\u001B[49m\u001B[38;5;241m.\u001B[39mto_csv(\u001B[38;5;124m'\u001B[39m\u001B[38;5;124mBAAC_2012_full.csv\u001B[39m\u001B[38;5;124m'\u001B[39m, index\u001B[38;5;241m=\u001B[39m\u001B[38;5;28;01mFalse\u001B[39;00m)\n",
      "\u001B[1;31mNameError\u001B[0m: name 'whole_data' is not defined"
     ]
    }
   ],
   "source": [
    "whole_data.to_csv('BAAC_2012_full.csv', index=False)"
   ],
   "metadata": {
    "collapsed": false,
    "ExecuteTime": {
     "end_time": "2024-04-10T14:11:02.114703800Z",
     "start_time": "2024-04-10T14:11:01.630118Z"
    }
   },
   "id": "5ac36a93cd6483e9",
   "execution_count": 1
  },
  {
   "cell_type": "markdown",
   "source": [
    "# Pré-Traitement des données"
   ],
   "metadata": {
    "collapsed": false
   },
   "id": "f2b018f74f1f3cb1"
  },
  {
   "cell_type": "code",
   "outputs": [
    {
     "data": {
      "text/plain": "        Num_Acc  place  catu  grav  sexe  trajet  secu  locp  actp  etatp  \\\n0  201200000001    1.0     1     1     2     5.0  11.0   0.0   0.0    0.0   \n1  201200000001    NaN     3     4     1     5.0   NaN   3.0   3.0    2.0   \n2  201200000002    1.0     1     1     1     5.0  13.0   0.0   0.0    0.0   \n3  201200000002    2.0     2     1     1     0.0  11.0   0.0   0.0    0.0   \n4  201200000002    1.0     1     1     1     5.0  21.0   0.0   0.0    0.0   \n\n   ...    pr1 vosp  prof  plan  lartpc  larrout  surf  infra  situ  env1  \n0  ...  875.0  0.0   1.0   1.0     0.0     72.0   1.0    0.0   1.0   0.0  \n1  ...  875.0  0.0   1.0   1.0     0.0     72.0   1.0    0.0   1.0   0.0  \n2  ...  250.0  0.0   1.0   1.0     0.0     65.0   1.0    0.0   1.0  99.0  \n3  ...  250.0  0.0   1.0   1.0     0.0     65.0   1.0    0.0   1.0  99.0  \n4  ...  250.0  0.0   1.0   1.0     0.0     65.0   1.0    0.0   1.0  99.0  \n\n[5 rows x 51 columns]",
      "text/html": "<div>\n<style scoped>\n    .dataframe tbody tr th:only-of-type {\n        vertical-align: middle;\n    }\n\n    .dataframe tbody tr th {\n        vertical-align: top;\n    }\n\n    .dataframe thead th {\n        text-align: right;\n    }\n</style>\n<table border=\"1\" class=\"dataframe\">\n  <thead>\n    <tr style=\"text-align: right;\">\n      <th></th>\n      <th>Num_Acc</th>\n      <th>place</th>\n      <th>catu</th>\n      <th>grav</th>\n      <th>sexe</th>\n      <th>trajet</th>\n      <th>secu</th>\n      <th>locp</th>\n      <th>actp</th>\n      <th>etatp</th>\n      <th>...</th>\n      <th>pr1</th>\n      <th>vosp</th>\n      <th>prof</th>\n      <th>plan</th>\n      <th>lartpc</th>\n      <th>larrout</th>\n      <th>surf</th>\n      <th>infra</th>\n      <th>situ</th>\n      <th>env1</th>\n    </tr>\n  </thead>\n  <tbody>\n    <tr>\n      <th>0</th>\n      <td>201200000001</td>\n      <td>1.0</td>\n      <td>1</td>\n      <td>1</td>\n      <td>2</td>\n      <td>5.0</td>\n      <td>11.0</td>\n      <td>0.0</td>\n      <td>0.0</td>\n      <td>0.0</td>\n      <td>...</td>\n      <td>875.0</td>\n      <td>0.0</td>\n      <td>1.0</td>\n      <td>1.0</td>\n      <td>0.0</td>\n      <td>72.0</td>\n      <td>1.0</td>\n      <td>0.0</td>\n      <td>1.0</td>\n      <td>0.0</td>\n    </tr>\n    <tr>\n      <th>1</th>\n      <td>201200000001</td>\n      <td>NaN</td>\n      <td>3</td>\n      <td>4</td>\n      <td>1</td>\n      <td>5.0</td>\n      <td>NaN</td>\n      <td>3.0</td>\n      <td>3.0</td>\n      <td>2.0</td>\n      <td>...</td>\n      <td>875.0</td>\n      <td>0.0</td>\n      <td>1.0</td>\n      <td>1.0</td>\n      <td>0.0</td>\n      <td>72.0</td>\n      <td>1.0</td>\n      <td>0.0</td>\n      <td>1.0</td>\n      <td>0.0</td>\n    </tr>\n    <tr>\n      <th>2</th>\n      <td>201200000002</td>\n      <td>1.0</td>\n      <td>1</td>\n      <td>1</td>\n      <td>1</td>\n      <td>5.0</td>\n      <td>13.0</td>\n      <td>0.0</td>\n      <td>0.0</td>\n      <td>0.0</td>\n      <td>...</td>\n      <td>250.0</td>\n      <td>0.0</td>\n      <td>1.0</td>\n      <td>1.0</td>\n      <td>0.0</td>\n      <td>65.0</td>\n      <td>1.0</td>\n      <td>0.0</td>\n      <td>1.0</td>\n      <td>99.0</td>\n    </tr>\n    <tr>\n      <th>3</th>\n      <td>201200000002</td>\n      <td>2.0</td>\n      <td>2</td>\n      <td>1</td>\n      <td>1</td>\n      <td>0.0</td>\n      <td>11.0</td>\n      <td>0.0</td>\n      <td>0.0</td>\n      <td>0.0</td>\n      <td>...</td>\n      <td>250.0</td>\n      <td>0.0</td>\n      <td>1.0</td>\n      <td>1.0</td>\n      <td>0.0</td>\n      <td>65.0</td>\n      <td>1.0</td>\n      <td>0.0</td>\n      <td>1.0</td>\n      <td>99.0</td>\n    </tr>\n    <tr>\n      <th>4</th>\n      <td>201200000002</td>\n      <td>1.0</td>\n      <td>1</td>\n      <td>1</td>\n      <td>1</td>\n      <td>5.0</td>\n      <td>21.0</td>\n      <td>0.0</td>\n      <td>0.0</td>\n      <td>0.0</td>\n      <td>...</td>\n      <td>250.0</td>\n      <td>0.0</td>\n      <td>1.0</td>\n      <td>1.0</td>\n      <td>0.0</td>\n      <td>65.0</td>\n      <td>1.0</td>\n      <td>0.0</td>\n      <td>1.0</td>\n      <td>99.0</td>\n    </tr>\n  </tbody>\n</table>\n<p>5 rows × 51 columns</p>\n</div>"
     },
     "execution_count": 358,
     "metadata": {},
     "output_type": "execute_result"
    }
   ],
   "source": [
    "whole_data.head()"
   ],
   "metadata": {
    "collapsed": false,
    "ExecuteTime": {
     "end_time": "2024-04-10T01:43:48.344772500Z",
     "start_time": "2024-04-10T01:43:48.209145600Z"
    }
   },
   "id": "8f3839ae1804b5b3",
   "execution_count": 358
  },
  {
   "cell_type": "markdown",
   "source": [
    "### Num_Acc"
   ],
   "metadata": {
    "collapsed": false
   },
   "id": "d1a437365b7474d4"
  },
  {
   "cell_type": "markdown",
   "source": [
    "Identifiant de l'accident. Valeur vitale pour joindre les données. Cependant, au-delà de la fusion des données, ce numéro n'apporte rien en matière de prédiction. En effet, il est générique et ne transmet pas d'information complémentaire. On se demande alors s'il ne vaudrait pas mieux le supprimer."
   ],
   "metadata": {
    "collapsed": false
   },
   "id": "b1813538c4f3e7b2"
  },
  {
   "cell_type": "code",
   "outputs": [
    {
     "name": "stdout",
     "output_type": "stream",
     "text": [
      "Le nombre d'observations avec une absence d'identifiant d'accidant est de : 0.\n",
      "Le nombre d'observations unique d'identifiant d'accidant est de : 56025.\n"
     ]
    }
   ],
   "source": [
    "print(f\"Le nombre d'observations avec une absence d'identifiant d'accidant est de : {whole_data['Num_Acc'].isna().sum()}.\")\n",
    "print(f\"Le nombre d'observations unique d'identifiant d'accidant est de : {whole_data['Num_Acc'].nunique()}.\")\n",
    "\n",
    "whole_data.drop('Num_Acc', axis=1, inplace=True)"
   ],
   "metadata": {
    "collapsed": false,
    "ExecuteTime": {
     "end_time": "2024-04-10T01:43:48.346767500Z",
     "start_time": "2024-04-10T01:43:48.237785100Z"
    }
   },
   "id": "73bb8e4595851503",
   "execution_count": 359
  },
  {
   "cell_type": "markdown",
   "source": [
    "### place"
   ],
   "metadata": {
    "collapsed": false
   },
   "id": "52444b8b6f2d23c0"
  },
  {
   "cell_type": "markdown",
   "source": [
    "Permet de situer la place occupée dans le véhicule par l'usager au moment de l'accident. Les informations concernants les positions sont trouvables au sein du fichier **\"*description-des-bases-de-donnees-onisr-annees-2005-a-2020.pdf*\"** notamment. Cette donnée est majeure car il existe certainement une relation entre la position des victimes et la gravité de l'accident. En effet, en fonction de la position, les dispositifs de sécurité ne sont pas les mêmes. On soupçonne donc une importante majeure."
   ],
   "metadata": {
    "collapsed": false
   },
   "id": "7da673caa7567d7b"
  },
  {
   "cell_type": "code",
   "outputs": [
    {
     "name": "stdout",
     "output_type": "stream",
     "text": [
      "Les valeurs possibles sont : [ 1. nan  2.  3.  4.  8.  5.  6.  7.  9.].\n",
      "Le nombre de valeurs manquantes est de : 11174 pour un total de 124598 observations soit 8.968041220565338%.\n"
     ]
    }
   ],
   "source": [
    "possible_values = whole_data['place'].unique()\n",
    "na_count = whole_data['place'].isna().sum()\n",
    "obs_count = whole_data.shape[0]\n",
    "rep_na = na_count / obs_count * 100\n",
    "\n",
    "print(f\"Les valeurs possibles sont : {possible_values}.\")\n",
    "print(f\"Le nombre de valeurs manquantes est de : {na_count} pour un total de {obs_count} observations soit {rep_na}%.\")"
   ],
   "metadata": {
    "collapsed": false,
    "ExecuteTime": {
     "end_time": "2024-04-10T01:41:17.359908Z",
     "start_time": "2024-04-10T01:41:17.245123100Z"
    }
   },
   "id": "378712407cf4a873",
   "execution_count": 341
  },
  {
   "cell_type": "markdown",
   "source": [
    "Etant donné qu'il est difficile de prédire une position manquante car cela dépend notamment du véhicule, il est donc décidé de supprimer les lignes manquantes. Cependant, il est nécessaire d'attendre la prochaine variable afin d'ajouter une condition. En effet, selon la documentation, **'*10*'** doit correspondre au piéton mais il n'apparaît pas. Ainsi, seules les lignes contenant une valeur **\"*Nan*\"** **et** qui ne matcheront pas la position de piéton seront supprimées."
   ],
   "metadata": {
    "collapsed": false
   },
   "id": "7504b9d95cb96e1c"
  },
  {
   "cell_type": "markdown",
   "source": [
    "### catu"
   ],
   "metadata": {
    "collapsed": false
   },
   "id": "d32376593b7d203d"
  },
  {
   "cell_type": "markdown",
   "source": [
    "Correspond à la catégorie d'usager. Autrement dit, s'il s'agit d'un conducteur, d'un passager ou bien d'un piéton. Il est important de disposer de ces informations en cas de corrélations entre le statut de la victime et son état. On peut soumettre l'hypothèse que ce statut influe sur les situations dans lesquelles les usagers sont impliqués notamment (difficile d'aller à 130 km/h en tant que piéton) :"
   ],
   "metadata": {
    "collapsed": false
   },
   "id": "adae0e446f81062c"
  },
  {
   "cell_type": "code",
   "outputs": [
    {
     "name": "stdout",
     "output_type": "stream",
     "text": [
      "Les valeurs possibles sont : [1 3 2].\n",
      "Le nombre de valeurs manquantes est de : 0 pour un total de 113424 observations soit 0.0%.\n"
     ]
    }
   ],
   "source": [
    "# Supprime seulement si 'place' est Nan ET que ce n'est pas un piéton\n",
    "whole_data = whole_data[~((whole_data['catu'] != 3) & whole_data['place'].isna())]\n",
    "\n",
    "possible_values = whole_data['catu'].unique()\n",
    "na_count = whole_data['catu'].isna().sum()\n",
    "rep_na = na_count / obs_count * 100\n",
    "\n",
    "print(f\"Les valeurs possibles sont : {possible_values}.\")\n",
    "print(f\"Le nombre de valeurs manquantes est de : {na_count} pour un total de {obs_count} observations soit {rep_na}%.\")"
   ],
   "metadata": {
    "collapsed": false,
    "ExecuteTime": {
     "end_time": "2024-04-10T01:51:04.165285300Z",
     "start_time": "2024-04-10T01:51:04.116820200Z"
    }
   },
   "id": "8439b874bab53dc6",
   "execution_count": 360
  },
  {
   "cell_type": "markdown",
   "source": [
    "### grav"
   ],
   "metadata": {
    "collapsed": false
   },
   "id": "4774ee80b1ed7c57"
  },
  {
   "cell_type": "markdown",
   "source": [
    "Etant la colonne à prédire, il est évident que nous souhaitons conserver cette dernière. Nous nous penchons sur la qualité de cette dernière :"
   ],
   "metadata": {
    "collapsed": false
   },
   "id": "cb689bf977aff7ce"
  },
  {
   "cell_type": "code",
   "outputs": [
    {
     "name": "stdout",
     "output_type": "stream",
     "text": [
      "Les valeurs possibles sont : [1 4 3 2].\n",
      "Le nombre de valeurs manquantes est de : 0 pour un total de 113424 observations soit 0.0%.\n"
     ]
    }
   ],
   "source": [
    "possible_values = whole_data['grav'].unique()\n",
    "na_count = whole_data['grav'].isna().sum()\n",
    "rep_na = na_count / obs_count * 100\n",
    "\n",
    "print(f\"Les valeurs possibles sont : {possible_values}.\")\n",
    "print(f\"Le nombre de valeurs manquantes est de : {na_count} pour un total de {obs_count} observations soit {rep_na}%.\")"
   ],
   "metadata": {
    "collapsed": false,
    "ExecuteTime": {
     "end_time": "2024-04-10T01:52:38.152041900Z",
     "start_time": "2024-04-10T01:52:38.111310Z"
    }
   },
   "id": "ac5bbe0b0cceea36",
   "execution_count": 361
  },
  {
   "cell_type": "markdown",
   "source": [
    "Tout semble en bon état, les valeurs possibles respectent la documentation. Cependant, dans l'exercice de prédiction, il est demandé de convertir cette colonne en binaire (**'*0*'** pour les cas sans dangers [1, 4] et **'*1*'** pour les cas graves [2, 3]) : "
   ],
   "metadata": {
    "collapsed": false
   },
   "id": "16deec4abcd4837b"
  },
  {
   "cell_type": "code",
   "outputs": [
    {
     "name": "stdout",
     "output_type": "stream",
     "text": [
      "Les valeurs possibles sont : [0 1].\n"
     ]
    }
   ],
   "source": [
    "whole_data['grav'] = whole_data['grav'].replace({1: 0, 4: 0, 2: 1, 3: 1})\n",
    "\n",
    "possible_values = whole_data['grav'].unique()\n",
    "\n",
    "print(f\"Les valeurs possibles sont : {possible_values}.\")"
   ],
   "metadata": {
    "collapsed": false,
    "ExecuteTime": {
     "end_time": "2024-04-10T01:58:26.981484Z",
     "start_time": "2024-04-10T01:58:26.936315Z"
    }
   },
   "id": "62cae8de3c9741b2",
   "execution_count": 362
  },
  {
   "cell_type": "markdown",
   "source": [
    "### sexe"
   ],
   "metadata": {
    "collapsed": false
   },
   "id": "abadb0bd59c8cd75"
  },
  {
   "cell_type": "markdown",
   "source": [
    "Certaines études ont pu démontrer des disparités dans les comportements de conduite entre les différents sexes. Nous conservons cette donnée dans l'éventualité où une corrélation existerait entre le sexe, le statut de conducteur et la gravité :"
   ],
   "metadata": {
    "collapsed": false
   },
   "id": "41f636b5e1498456"
  },
  {
   "cell_type": "code",
   "outputs": [
    {
     "name": "stdout",
     "output_type": "stream",
     "text": [
      "Les valeurs possibles sont : [2 1].\n",
      "Le nombre de valeurs manquantes est de : 0 pour un total de 113424 observations soit 0.0%.\n"
     ]
    }
   ],
   "source": [
    "possible_values = whole_data['sexe'].unique()\n",
    "na_count = whole_data['sexe'].isna().sum()\n",
    "rep_na = na_count / obs_count * 100\n",
    "\n",
    "print(f\"Les valeurs possibles sont : {possible_values}.\")\n",
    "print(f\"Le nombre de valeurs manquantes est de : {na_count} pour un total de {obs_count} observations soit {rep_na}%.\")"
   ],
   "metadata": {
    "collapsed": false,
    "ExecuteTime": {
     "end_time": "2024-04-10T02:01:00.094641200Z",
     "start_time": "2024-04-10T02:01:00.069701Z"
    }
   },
   "id": "dee5ed080bf56a44",
   "execution_count": 364
  },
  {
   "cell_type": "markdown",
   "source": [
    "### trajet"
   ],
   "metadata": {
    "collapsed": false
   },
   "id": "1d5e44b9285bdd29"
  },
  {
   "cell_type": "code",
   "outputs": [],
   "source": [],
   "metadata": {
    "collapsed": false
   },
   "id": "fe550361fbee1bc2"
  }
 ],
 "metadata": {
  "kernelspec": {
   "display_name": "Python 3",
   "language": "python",
   "name": "python3"
  },
  "language_info": {
   "codemirror_mode": {
    "name": "ipython",
    "version": 2
   },
   "file_extension": ".py",
   "mimetype": "text/x-python",
   "name": "python",
   "nbconvert_exporter": "python",
   "pygments_lexer": "ipython2",
   "version": "2.7.6"
  }
 },
 "nbformat": 4,
 "nbformat_minor": 5
}
