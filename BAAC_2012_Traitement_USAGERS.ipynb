{
 "cells": [
  {
   "cell_type": "markdown",
   "source": [
    "## Packages"
   ],
   "metadata": {
    "collapsed": false
   },
   "id": "113ce8e7a1e2b076"
  },
  {
   "cell_type": "code",
   "outputs": [],
   "source": [
    "import pandas as pd             # Traitement des tableaux de données \n",
    "\n",
    "whole_data = pd.read_csv('Data/TRAIN_FULL/BAAC_2012_full.csv')"
   ],
   "metadata": {
    "collapsed": false,
    "ExecuteTime": {
     "end_time": "2024-04-10T21:46:59.057659200Z",
     "start_time": "2024-04-10T21:46:58.252683Z"
    }
   },
   "id": "ee3d3e71ea538d50",
   "execution_count": 46
  },
  {
   "cell_type": "markdown",
   "source": [
    "# Pré-Traitement des données - USAGERS"
   ],
   "metadata": {
    "collapsed": false
   },
   "id": "f2b018f74f1f3cb1"
  },
  {
   "cell_type": "markdown",
   "source": [
    "L'objectif sera ici de comprendre les données pour chaque variables, de pouvoir les expliquer ainsi que des les classer en type de variable (catégorielle, ordinale ou numérique). De plus, si une variable manque de pertinence, il est possible de la supprimer."
   ],
   "metadata": {
    "collapsed": false
   },
   "id": "83f4d732dc784c9c"
  },
  {
   "cell_type": "code",
   "outputs": [
    {
     "data": {
      "text/plain": "         Num_Acc  place  catu  grav  sexe  trajet  secu  locp  actp  etatp  \\\n0   201200000001    1.0     1     1     2     5.0  11.0   0.0   0.0    0.0   \n1   201200000001    NaN     3     4     1     5.0   NaN   3.0   3.0    2.0   \n2   201200000002    1.0     1     1     1     5.0  13.0   0.0   0.0    0.0   \n3   201200000002    2.0     2     1     1     0.0  11.0   0.0   0.0    0.0   \n4   201200000002    1.0     1     1     1     5.0  21.0   0.0   0.0    0.0   \n..           ...    ...   ...   ...   ...     ...   ...   ...   ...    ...   \n95  201200000048    1.0     1     3     1     5.0  11.0   0.0   0.0    0.0   \n96  201200000048    2.0     2     2     2     0.0  11.0   0.0   0.0    0.0   \n97  201200000048    2.0     2     3     2     0.0  11.0   0.0   0.0    0.0   \n98  201200000048    4.0     2     3     2     0.0  11.0   0.0   0.0    0.0   \n99  201200000049    1.0     1     4     1     5.0  21.0   0.0   0.0    0.0   \n\n    ...    pr1 vosp  prof  plan  lartpc  larrout  surf  infra  situ  env1  \n0   ...  875.0  0.0   1.0   1.0     0.0     72.0   1.0    0.0   1.0   0.0  \n1   ...  875.0  0.0   1.0   1.0     0.0     72.0   1.0    0.0   1.0   0.0  \n2   ...  250.0  0.0   1.0   1.0     0.0     65.0   1.0    0.0   1.0  99.0  \n3   ...  250.0  0.0   1.0   1.0     0.0     65.0   1.0    0.0   1.0  99.0  \n4   ...  250.0  0.0   1.0   1.0     0.0     65.0   1.0    0.0   1.0  99.0  \n..  ...    ...  ...   ...   ...     ...      ...   ...    ...   ...   ...  \n95  ...  700.0  2.0   1.0   1.0     0.0     68.0   1.0    0.0   1.0   0.0  \n96  ...  700.0  2.0   1.0   1.0     0.0     68.0   1.0    0.0   1.0   0.0  \n97  ...  700.0  2.0   1.0   1.0     0.0     68.0   1.0    0.0   1.0   0.0  \n98  ...  700.0  2.0   1.0   1.0     0.0     68.0   1.0    0.0   1.0   0.0  \n99  ...  380.0  0.0   1.0   1.0     0.0     60.0   1.0    0.0   1.0   0.0  \n\n[100 rows x 51 columns]",
      "text/html": "<div>\n<style scoped>\n    .dataframe tbody tr th:only-of-type {\n        vertical-align: middle;\n    }\n\n    .dataframe tbody tr th {\n        vertical-align: top;\n    }\n\n    .dataframe thead th {\n        text-align: right;\n    }\n</style>\n<table border=\"1\" class=\"dataframe\">\n  <thead>\n    <tr style=\"text-align: right;\">\n      <th></th>\n      <th>Num_Acc</th>\n      <th>place</th>\n      <th>catu</th>\n      <th>grav</th>\n      <th>sexe</th>\n      <th>trajet</th>\n      <th>secu</th>\n      <th>locp</th>\n      <th>actp</th>\n      <th>etatp</th>\n      <th>...</th>\n      <th>pr1</th>\n      <th>vosp</th>\n      <th>prof</th>\n      <th>plan</th>\n      <th>lartpc</th>\n      <th>larrout</th>\n      <th>surf</th>\n      <th>infra</th>\n      <th>situ</th>\n      <th>env1</th>\n    </tr>\n  </thead>\n  <tbody>\n    <tr>\n      <th>0</th>\n      <td>201200000001</td>\n      <td>1.0</td>\n      <td>1</td>\n      <td>1</td>\n      <td>2</td>\n      <td>5.0</td>\n      <td>11.0</td>\n      <td>0.0</td>\n      <td>0.0</td>\n      <td>0.0</td>\n      <td>...</td>\n      <td>875.0</td>\n      <td>0.0</td>\n      <td>1.0</td>\n      <td>1.0</td>\n      <td>0.0</td>\n      <td>72.0</td>\n      <td>1.0</td>\n      <td>0.0</td>\n      <td>1.0</td>\n      <td>0.0</td>\n    </tr>\n    <tr>\n      <th>1</th>\n      <td>201200000001</td>\n      <td>NaN</td>\n      <td>3</td>\n      <td>4</td>\n      <td>1</td>\n      <td>5.0</td>\n      <td>NaN</td>\n      <td>3.0</td>\n      <td>3.0</td>\n      <td>2.0</td>\n      <td>...</td>\n      <td>875.0</td>\n      <td>0.0</td>\n      <td>1.0</td>\n      <td>1.0</td>\n      <td>0.0</td>\n      <td>72.0</td>\n      <td>1.0</td>\n      <td>0.0</td>\n      <td>1.0</td>\n      <td>0.0</td>\n    </tr>\n    <tr>\n      <th>2</th>\n      <td>201200000002</td>\n      <td>1.0</td>\n      <td>1</td>\n      <td>1</td>\n      <td>1</td>\n      <td>5.0</td>\n      <td>13.0</td>\n      <td>0.0</td>\n      <td>0.0</td>\n      <td>0.0</td>\n      <td>...</td>\n      <td>250.0</td>\n      <td>0.0</td>\n      <td>1.0</td>\n      <td>1.0</td>\n      <td>0.0</td>\n      <td>65.0</td>\n      <td>1.0</td>\n      <td>0.0</td>\n      <td>1.0</td>\n      <td>99.0</td>\n    </tr>\n    <tr>\n      <th>3</th>\n      <td>201200000002</td>\n      <td>2.0</td>\n      <td>2</td>\n      <td>1</td>\n      <td>1</td>\n      <td>0.0</td>\n      <td>11.0</td>\n      <td>0.0</td>\n      <td>0.0</td>\n      <td>0.0</td>\n      <td>...</td>\n      <td>250.0</td>\n      <td>0.0</td>\n      <td>1.0</td>\n      <td>1.0</td>\n      <td>0.0</td>\n      <td>65.0</td>\n      <td>1.0</td>\n      <td>0.0</td>\n      <td>1.0</td>\n      <td>99.0</td>\n    </tr>\n    <tr>\n      <th>4</th>\n      <td>201200000002</td>\n      <td>1.0</td>\n      <td>1</td>\n      <td>1</td>\n      <td>1</td>\n      <td>5.0</td>\n      <td>21.0</td>\n      <td>0.0</td>\n      <td>0.0</td>\n      <td>0.0</td>\n      <td>...</td>\n      <td>250.0</td>\n      <td>0.0</td>\n      <td>1.0</td>\n      <td>1.0</td>\n      <td>0.0</td>\n      <td>65.0</td>\n      <td>1.0</td>\n      <td>0.0</td>\n      <td>1.0</td>\n      <td>99.0</td>\n    </tr>\n    <tr>\n      <th>...</th>\n      <td>...</td>\n      <td>...</td>\n      <td>...</td>\n      <td>...</td>\n      <td>...</td>\n      <td>...</td>\n      <td>...</td>\n      <td>...</td>\n      <td>...</td>\n      <td>...</td>\n      <td>...</td>\n      <td>...</td>\n      <td>...</td>\n      <td>...</td>\n      <td>...</td>\n      <td>...</td>\n      <td>...</td>\n      <td>...</td>\n      <td>...</td>\n      <td>...</td>\n      <td>...</td>\n    </tr>\n    <tr>\n      <th>95</th>\n      <td>201200000048</td>\n      <td>1.0</td>\n      <td>1</td>\n      <td>3</td>\n      <td>1</td>\n      <td>5.0</td>\n      <td>11.0</td>\n      <td>0.0</td>\n      <td>0.0</td>\n      <td>0.0</td>\n      <td>...</td>\n      <td>700.0</td>\n      <td>2.0</td>\n      <td>1.0</td>\n      <td>1.0</td>\n      <td>0.0</td>\n      <td>68.0</td>\n      <td>1.0</td>\n      <td>0.0</td>\n      <td>1.0</td>\n      <td>0.0</td>\n    </tr>\n    <tr>\n      <th>96</th>\n      <td>201200000048</td>\n      <td>2.0</td>\n      <td>2</td>\n      <td>2</td>\n      <td>2</td>\n      <td>0.0</td>\n      <td>11.0</td>\n      <td>0.0</td>\n      <td>0.0</td>\n      <td>0.0</td>\n      <td>...</td>\n      <td>700.0</td>\n      <td>2.0</td>\n      <td>1.0</td>\n      <td>1.0</td>\n      <td>0.0</td>\n      <td>68.0</td>\n      <td>1.0</td>\n      <td>0.0</td>\n      <td>1.0</td>\n      <td>0.0</td>\n    </tr>\n    <tr>\n      <th>97</th>\n      <td>201200000048</td>\n      <td>2.0</td>\n      <td>2</td>\n      <td>3</td>\n      <td>2</td>\n      <td>0.0</td>\n      <td>11.0</td>\n      <td>0.0</td>\n      <td>0.0</td>\n      <td>0.0</td>\n      <td>...</td>\n      <td>700.0</td>\n      <td>2.0</td>\n      <td>1.0</td>\n      <td>1.0</td>\n      <td>0.0</td>\n      <td>68.0</td>\n      <td>1.0</td>\n      <td>0.0</td>\n      <td>1.0</td>\n      <td>0.0</td>\n    </tr>\n    <tr>\n      <th>98</th>\n      <td>201200000048</td>\n      <td>4.0</td>\n      <td>2</td>\n      <td>3</td>\n      <td>2</td>\n      <td>0.0</td>\n      <td>11.0</td>\n      <td>0.0</td>\n      <td>0.0</td>\n      <td>0.0</td>\n      <td>...</td>\n      <td>700.0</td>\n      <td>2.0</td>\n      <td>1.0</td>\n      <td>1.0</td>\n      <td>0.0</td>\n      <td>68.0</td>\n      <td>1.0</td>\n      <td>0.0</td>\n      <td>1.0</td>\n      <td>0.0</td>\n    </tr>\n    <tr>\n      <th>99</th>\n      <td>201200000049</td>\n      <td>1.0</td>\n      <td>1</td>\n      <td>4</td>\n      <td>1</td>\n      <td>5.0</td>\n      <td>21.0</td>\n      <td>0.0</td>\n      <td>0.0</td>\n      <td>0.0</td>\n      <td>...</td>\n      <td>380.0</td>\n      <td>0.0</td>\n      <td>1.0</td>\n      <td>1.0</td>\n      <td>0.0</td>\n      <td>60.0</td>\n      <td>1.0</td>\n      <td>0.0</td>\n      <td>1.0</td>\n      <td>0.0</td>\n    </tr>\n  </tbody>\n</table>\n<p>100 rows × 51 columns</p>\n</div>"
     },
     "execution_count": 47,
     "metadata": {},
     "output_type": "execute_result"
    }
   ],
   "source": [
    "var_cat = []\n",
    "var_ord = []\n",
    "var_num = []\n",
    "\n",
    "whole_data.head(100)"
   ],
   "metadata": {
    "collapsed": false,
    "ExecuteTime": {
     "end_time": "2024-04-10T21:46:59.083806300Z",
     "start_time": "2024-04-10T21:46:59.057659200Z"
    }
   },
   "id": "8f3839ae1804b5b3",
   "execution_count": 47
  },
  {
   "cell_type": "markdown",
   "source": [
    "### Num_Acc, num_veh & id_vehicule"
   ],
   "metadata": {
    "collapsed": false
   },
   "id": "d1a437365b7474d4"
  },
  {
   "cell_type": "markdown",
   "source": [
    "Identifiant de l'accident. Valeur vitale pour joindre les données. Cependant, au-delà de la fusion des données, ce numéro n'apporte rien en matière de prédiction. En effet, il est générique et ne transmet pas d'information complémentaire. On se demande alors s'il ne vaudrait pas mieux le supprimer. Dans ce cas là, on décide de ne pas stocker cette colonne dans l'une des listes traduisant son abandon, car on ne conservera que les variables stockées. "
   ],
   "metadata": {
    "collapsed": false
   },
   "id": "b1813538c4f3e7b2"
  },
  {
   "cell_type": "code",
   "outputs": [
    {
     "name": "stdout",
     "output_type": "stream",
     "text": [
      "Le nombre d'observations avec une absence d'identifiant d'accidant est de : 0.\n",
      "Le nombre d'observations unique d'identifiant d'accidant est de : 56025.\n"
     ]
    }
   ],
   "source": [
    "print(f\"Le nombre d'observations avec une absence d'identifiant d'accidant est de : {whole_data['Num_Acc'].isna().sum()}.\")\n",
    "print(f\"Le nombre d'observations unique d'identifiant d'accidant est de : {whole_data['Num_Acc'].nunique()}.\")"
   ],
   "metadata": {
    "collapsed": false,
    "ExecuteTime": {
     "end_time": "2024-04-10T21:46:59.093010Z",
     "start_time": "2024-04-10T21:46:59.083806300Z"
    }
   },
   "id": "73bb8e4595851503",
   "execution_count": 48
  },
  {
   "cell_type": "markdown",
   "source": [
    "De la même manière, le numéro du véhicule ne semble pas particulièrement pertinent pour la construction d'un modèle de prédiction. Etant donné qu'il n'apporte pas d'informations sur le type de véhicule, et qu'il est propre à un accident et non à un référentiel global, on préfère écarter cette situation."
   ],
   "metadata": {
    "collapsed": false
   },
   "id": "1d6b8d722b782a84"
  },
  {
   "cell_type": "code",
   "outputs": [
    {
     "name": "stdout",
     "output_type": "stream",
     "text": [
      "Le nombre d'observations avec une absence de veh est de : 0.\n",
      "Le nombre de veh unique parmi tous les accidents est de : 58.\n"
     ]
    }
   ],
   "source": [
    "print(f\"Le nombre d'observations avec une absence de veh est de : {whole_data['num_veh'].isna().sum()}.\")\n",
    "print(f\"Le nombre de veh unique parmi tous les accidents est de : {whole_data['num_veh'].nunique()}.\")"
   ],
   "metadata": {
    "collapsed": false,
    "ExecuteTime": {
     "end_time": "2024-04-10T21:46:59.156737400Z",
     "start_time": "2024-04-10T21:46:59.094055Z"
    }
   },
   "id": "a2a881e0e2e97e7",
   "execution_count": 49
  },
  {
   "cell_type": "markdown",
   "source": [
    "La variable **\"*id_vehicule*\"** n'est pas apparue dès le début. En effet, il a fallu attendre l'an 2019 pour la voir apparaître. Cependant, il s'avère que cette dernière correpsond au numéro veh au format numérique et non alpha. On décidera donc de ne pas le retenir si elle est présente."
   ],
   "metadata": {
    "collapsed": false
   },
   "id": "5d8289bfccb28f88"
  },
  {
   "cell_type": "markdown",
   "source": [
    "### grav"
   ],
   "metadata": {
    "collapsed": false
   },
   "id": "30f267be0a7c9e27"
  },
  {
   "cell_type": "markdown",
   "source": [
    "Etant la colonne à prédire, il est évident que nous souhaitons conserver cette dernière. Nous nous penchons sur la qualité de cette dernière :"
   ],
   "metadata": {
    "collapsed": false
   },
   "id": "126f3b134fce6e28"
  },
  {
   "cell_type": "code",
   "outputs": [
    {
     "name": "stdout",
     "output_type": "stream",
     "text": [
      "Les valeurs possibles sont : [1 4 3 2].\n",
      "Le nombre de valeurs manquantes est de : 0 pour un total de 124598 observations soit 0.0%.\n"
     ]
    }
   ],
   "source": [
    "# On catégorise l'accident, mais sans avoir d'ordre (4 > 2 mais, gravité 4 implique un blessé léger, tandis que catégorie 2 implique un tué). Cela est donc une variable catégorielle\n",
    "variable = 'grav'\n",
    "\n",
    "if variable not in var_cat:\n",
    "    var_cat.append(variable)\n",
    "\n",
    "possible_values_grav = whole_data['grav'].unique()\n",
    "na_count_grav = whole_data['grav'].isna().sum()\n",
    "obs_count = whole_data.shape[0]\n",
    "rep_na_grav = na_count_grav / obs_count * 100\n",
    "\n",
    "print(f\"Les valeurs possibles sont : {possible_values_grav}.\")\n",
    "print(f\"Le nombre de valeurs manquantes est de : {na_count_grav} pour un total de {obs_count} observations soit {rep_na_grav}%.\")"
   ],
   "metadata": {
    "collapsed": false,
    "ExecuteTime": {
     "end_time": "2024-04-10T21:46:59.237797100Z",
     "start_time": "2024-04-10T21:46:59.115114700Z"
    }
   },
   "id": "5b6c5981c2365b81",
   "execution_count": 50
  },
  {
   "cell_type": "markdown",
   "source": [
    "Tout semble en bon état, les valeurs possibles respectent la documentation. Cependant, dans l'exercice de prédiction, il est demandé de convertir cette colonne en binaire (**'*0*'** pour les cas sans dangers [1, 4] et **'*1*'** pour les cas graves [2, 3]) : "
   ],
   "metadata": {
    "collapsed": false
   },
   "id": "98b5ff0c84a11422"
  },
  {
   "cell_type": "code",
   "outputs": [
    {
     "name": "stdout",
     "output_type": "stream",
     "text": [
      "Les nouvelles valeurs possibles sont : [0 1].\n"
     ]
    }
   ],
   "source": [
    "whole_data['grav'] = whole_data['grav'].replace({1: 0, 4: 0, 2: 1, 3: 1})\n",
    "\n",
    "possible_values_grav_2 = whole_data['grav'].unique()\n",
    "\n",
    "print(f\"Les nouvelles valeurs possibles sont : {possible_values_grav_2}.\")"
   ],
   "metadata": {
    "collapsed": false,
    "ExecuteTime": {
     "end_time": "2024-04-10T21:46:59.264134500Z",
     "start_time": "2024-04-10T21:46:59.135808600Z"
    }
   },
   "id": "c3044b90a97a9cc8",
   "execution_count": 51
  },
  {
   "cell_type": "markdown",
   "source": [
    "### sexe"
   ],
   "metadata": {
    "collapsed": false
   },
   "id": "560efcd4b188d2f2"
  },
  {
   "cell_type": "markdown",
   "source": [
    "Certaines études ont pu démontrer des disparités dans les comportements de conduite entre les différents sexes. Nous conservons cette donnée dans l'éventualité où une corrélation existerait entre le sexe, le statut de conducteur et la gravité :"
   ],
   "metadata": {
    "collapsed": false
   },
   "id": "c73df98c8030e9ce"
  },
  {
   "cell_type": "code",
   "outputs": [
    {
     "name": "stdout",
     "output_type": "stream",
     "text": [
      "Les valeurs possibles sont : [2 1].\n",
      "Le nombre de valeurs manquantes est de : 0 pour un total de 124598 observations soit 0.0%.\n"
     ]
    }
   ],
   "source": [
    "# On catégorise le sexe sans relation de supériorité. Cela est donc une variable catégorielle\n",
    "variable = 'sexe'\n",
    "\n",
    "if variable not in var_cat:\n",
    "    var_cat.append(variable)\n",
    "    \n",
    "possible_values_sexe = whole_data['sexe'].unique()\n",
    "na_count_sexe = whole_data['sexe'].isna().sum()\n",
    "rep_na_sexe = na_count_sexe / obs_count * 100\n",
    "\n",
    "print(f\"Les valeurs possibles sont : {possible_values_sexe}.\")\n",
    "print(f\"Le nombre de valeurs manquantes est de : {na_count_sexe} pour un total de {obs_count} observations soit {rep_na_sexe}%.\")"
   ],
   "metadata": {
    "collapsed": false,
    "ExecuteTime": {
     "end_time": "2024-04-10T21:46:59.267172Z",
     "start_time": "2024-04-10T21:46:59.153678600Z"
    }
   },
   "id": "5c9e22bc55578cbb",
   "execution_count": 52
  },
  {
   "cell_type": "markdown",
   "source": [
    "### An_nais"
   ],
   "metadata": {
    "collapsed": false
   },
   "id": "caec372303c2c279"
  },
  {
   "cell_type": "markdown",
   "source": [
    "On dispose ici de l'année de naissance et cette donnée semble pertinente. En effet, en fonction des générations, des politiques de sensibilisation plus ou moins importantes furent appliquées amenant à de potentielles disparités en matière de comportements routiers :"
   ],
   "metadata": {
    "collapsed": false
   },
   "id": "557aa9779be5d77c"
  },
  {
   "cell_type": "code",
   "outputs": [
    {
     "name": "stdout",
     "output_type": "stream",
     "text": [
      "Les valeurs possibles sont : [1939. 2008. 1994. 1992. 1976. 1972. 1962. 1955. 1956. 1990. 1982. 1960.\n",
      " 1981. 2002. 1997. 1967. 1929. 1926. 1970. 1987. 1989. 1988. 2000. 1978.\n",
      " 1966. 1948. 1959. 1950. 1949. 1961. 1979. 1973. 1927. 1986. 1946. 1995.\n",
      " 1993. 1964. 1996. 1935. 1957. 1977. 1953. 1991. 2005. 1947. 1958. 1999.\n",
      " 1954. 1971. 1934. 1945. 1985. 1969. 1943. 1944. 2001. 2004. 1983. 1965.\n",
      " 1975. 2007. 1974. 1984. 1951. 2006. 1937. 1980. 1931. 1968. 1998. 1930.\n",
      " 2010. 1963. 1952. 1942. 2012. 2009. 2011. 2003. 1925. 1941. 1933. 1936.\n",
      " 1940. 1923. 1919. 1938. 1928. 1924. 1922. 1920. 1932. 1921. 1917. 1916.\n",
      " 1918. 1915. 1914. 1913.   nan 1912. 1911.].\n",
      "Le nombre de valeurs manquantes est de : 9 pour un total de 124598 observations soit 0.01%.\n"
     ]
    }
   ],
   "source": [
    "# Pour la première fois, nous faisons face à une valeur numérique\n",
    "variable = 'an_nais'\n",
    "\n",
    "if variable not in var_cat:\n",
    "    var_num.append(variable)\n",
    "    \n",
    "possible_values_nais = whole_data['an_nais'].unique()\n",
    "na_count_nais = whole_data['an_nais'].isna().sum()\n",
    "rep_na_nais = na_count_nais / obs_count * 100\n",
    "\n",
    "print(f\"Les valeurs possibles sont : {possible_values_nais}.\")\n",
    "print(f\"Le nombre de valeurs manquantes est de : {na_count_nais} pour un total de {obs_count} observations soit {rep_na_nais:.2f}%.\")"
   ],
   "metadata": {
    "collapsed": false,
    "ExecuteTime": {
     "end_time": "2024-04-10T21:46:59.333682Z",
     "start_time": "2024-04-10T21:46:59.169758300Z"
    }
   },
   "id": "5674e67b832a9fcf",
   "execution_count": 53
  },
  {
   "cell_type": "markdown",
   "source": [
    "Au vu de la très faible quantité de données manquantes et de la très large quantité de données, on s'autorise une suppression de ces lignes :"
   ],
   "metadata": {
    "collapsed": false
   },
   "id": "9f6fede9d91318e0"
  },
  {
   "cell_type": "code",
   "outputs": [
    {
     "name": "stdout",
     "output_type": "stream",
     "text": [
      "Les valeurs possibles sont : [1939. 2008. 1994. 1992. 1976. 1972. 1962. 1955. 1956. 1990. 1982. 1960.\n",
      " 1981. 2002. 1997. 1967. 1929. 1926. 1970. 1987. 1989. 1988. 2000. 1978.\n",
      " 1966. 1948. 1959. 1950. 1949. 1961. 1979. 1973. 1927. 1986. 1946. 1995.\n",
      " 1993. 1964. 1996. 1935. 1957. 1977. 1953. 1991. 2005. 1947. 1958. 1999.\n",
      " 1954. 1971. 1934. 1945. 1985. 1969. 1943. 1944. 2001. 2004. 1983. 1965.\n",
      " 1975. 2007. 1974. 1984. 1951. 2006. 1937. 1980. 1931. 1968. 1998. 1930.\n",
      " 2010. 1963. 1952. 1942. 2012. 2009. 2011. 2003. 1925. 1941. 1933. 1936.\n",
      " 1940. 1923. 1919. 1938. 1928. 1924. 1922. 1920. 1932. 1921. 1917. 1916.\n",
      " 1918. 1915. 1914. 1913. 1912. 1911.].\n",
      "Le nombre de valeurs manquantes est de : 0 pour un total de 124589 observations soit 0.01%.\n"
     ]
    }
   ],
   "source": [
    "whole_data.dropna(subset=['an_nais'], inplace=True)\n",
    "\n",
    "possible_values_nais_2 = whole_data['an_nais'].unique()\n",
    "na_count_nais_2 = whole_data['an_nais'].isna().sum()\n",
    "obs_count = whole_data.shape[0]\n",
    "rep_na_nais_2 = na_count_nais / obs_count * 100\n",
    "\n",
    "print(f\"Les valeurs possibles sont : {possible_values_nais_2}.\")\n",
    "print(f\"Le nombre de valeurs manquantes est de : {na_count_nais_2} pour un total de {obs_count} observations soit {rep_na_nais_2:.2f}%.\")"
   ],
   "metadata": {
    "collapsed": false,
    "ExecuteTime": {
     "end_time": "2024-04-10T21:46:59.336758Z",
     "start_time": "2024-04-10T21:46:59.196909500Z"
    }
   },
   "id": "48589f2fa8a36535",
   "execution_count": 54
  },
  {
   "cell_type": "markdown",
   "source": [
    "### trajet"
   ],
   "metadata": {
    "collapsed": false
   },
   "id": "264faaa7bc47e892"
  },
  {
   "cell_type": "markdown",
   "source": [
    "Cette variable nous informe sur le motif du déplacement au moment de l'accident. Cela peut renvoyer au trajet entre le domicile et le travail, une promenade, etc. Il se pourrait qu'une corrélation existe entre des trajets récurrents et une augmentation des accidents. En effet, conformément au code de la route, il est indiqué qu'une baisse de la concentration est observée dans les trajets quotidiens.\n",
    "\n",
    "Afin de normaliser les différentes valeurs, nous nous penchons sur la documentation. Conformément au document de 2005 à 2020 nous disposons des valeurs suivantes : [**-1**, **0**, **1**, **2**, **3**, **4**, **5**, **9**]. Cependant, le document de 2005 à 2018, les valeurs sont différentes : [**1**, **2**, **3**, **4**, **5**, **9**]. Les valeurs suivantes : [**1**, **2**, **3**, **4**, **5**, **9**] sont les mêmes pour les deux référentiels. Néanmoins, les valeurs [**-1**, **0**, **9**] présentent au sein du document de 2005 à 2020 n'apportent pas davantage d'information. Afin de pouvoir traiter avec pertinences ces informations et de manière cohérente, on remplacera les valeurs [**-1**, **0**, **nan**] par [**9**]."
   ],
   "metadata": {
    "collapsed": false
   },
   "id": "cf47f122471c6bf9"
  },
  {
   "cell_type": "code",
   "outputs": [
    {
     "name": "stdout",
     "output_type": "stream",
     "text": [
      "Les valeurs possibles sont : [ 5.  0.  3.  1.  4.  2.  9. nan].\n",
      "Le nombre de valeurs manquantes est de : 53 pour un total de 124589 observations soit 0.04%.\n"
     ]
    }
   ],
   "source": [
    "# On catégorise le type de trajet sans relation de supériorité entre ces derniers. Cela est donc une variable catégorielle\n",
    "variable = 'trajet'\n",
    "\n",
    "if variable not in var_cat:\n",
    "    var_cat.append(variable)\n",
    "    \n",
    "possible_values_trajet = whole_data['trajet'].unique()\n",
    "na_count_trajet = whole_data['trajet'].isna().sum()\n",
    "rep_na_trajet = na_count_trajet / obs_count * 100\n",
    "\n",
    "print(f\"Les valeurs possibles sont : {possible_values_trajet}.\")\n",
    "print(f\"Le nombre de valeurs manquantes est de : {na_count_trajet} pour un total de {obs_count} observations soit {rep_na_trajet:.2f}%.\")"
   ],
   "metadata": {
    "collapsed": false,
    "ExecuteTime": {
     "end_time": "2024-04-10T21:46:59.360403500Z",
     "start_time": "2024-04-10T21:46:59.240930400Z"
    }
   },
   "id": "586cdc66fee87c51",
   "execution_count": 55
  },
  {
   "cell_type": "code",
   "outputs": [
    {
     "name": "stdout",
     "output_type": "stream",
     "text": [
      "Les valeurs possibles sont : [5. 9. 3. 1. 4. 2.].\n",
      "Le nombre de valeurs manquantes est de : 0 pour un total de 124589 observations soit 0.0%.\n"
     ]
    }
   ],
   "source": [
    "whole_data['trajet'] = whole_data['trajet'].replace({-1: 9, 0: 9})\n",
    "whole_data['trajet'] = whole_data['trajet'].fillna(9)\n",
    "\n",
    "possible_values_trajet_2 = whole_data['trajet'].unique()\n",
    "na_count_trajet_2 = whole_data['trajet'].isna().sum()\n",
    "rep_na_trajet_2 = na_count_trajet_2 / obs_count * 100\n",
    "\n",
    "print(f\"Les valeurs possibles sont : {possible_values_trajet_2}.\")\n",
    "print(f\"Le nombre de valeurs manquantes est de : {na_count_trajet_2} pour un total de {obs_count} observations soit {rep_na_trajet_2}%.\")"
   ],
   "metadata": {
    "collapsed": false,
    "ExecuteTime": {
     "end_time": "2024-04-10T21:46:59.363435900Z",
     "start_time": "2024-04-10T21:46:59.249838800Z"
    }
   },
   "id": "2e0454514793e100",
   "execution_count": 56
  },
  {
   "cell_type": "markdown",
   "source": [
    "### locp"
   ],
   "metadata": {
    "collapsed": false
   },
   "id": "6cbb46421502e942"
  },
  {
   "cell_type": "markdown",
   "source": [
    "Permet de localiser la position du piéton ce qui est une information importante. En effet, un piéton qui traverse sur un passage piéton sans signalisation lumineuse aura plus de chance de subir des lésions graves, voire plus qu'un piéton sur un trottoir par exemple. Cependant, en fonction des années, les valeurs peuvent changer pour ce qui est des assignations.\n",
    "\n",
    "De 2005 à 2018, les valeurs possibles sont les suivantes : [**1**, **2**, **3**, **4**, **5**, **6**, **7**, **8**]. Ces valeurs correspondent aux mêmes situations pour celles de 2005 à 2020, cependant **'*3*'** nouvelles catégories sont apparues : [**-1**, **0**, **1**, **2**, **3**, **4**, **5**, **6**, **7**, **8**, **9**]. Globalement, [**-1**, **0**, **9**] traduisent une absence d'information précise sur la position dudit piéton. On pourra ainsi définir que nos valeurs possibles seront les suivantes : [**1**, **2**, **3**, **4**, **5**, **6**, **7**, **8**, **9**] où [**-1**, **0**, **nan**] prendront la valeur [**9**] :"
   ],
   "metadata": {
    "collapsed": false
   },
   "id": "c077aa0cf1b5368b"
  },
  {
   "cell_type": "code",
   "outputs": [
    {
     "name": "stdout",
     "output_type": "stream",
     "text": [
      "Les valeurs possibles sont : [ 0.  3.  4.  2.  1.  5.  6. nan  8.  7.].\n",
      "Le nombre de valeurs manquantes est de : 135 pour un total de 124589 observations soit 0.11%.\n"
     ]
    }
   ],
   "source": [
    "# On catégorise la position du piéton sans relation de supériorité entre ces derniers. Cela est donc une variable catégorielle\n",
    "variable = 'locp'\n",
    "\n",
    "if variable not in var_cat:\n",
    "    var_cat.append(variable)\n",
    "    \n",
    "possible_values_locp = whole_data['locp'].unique()\n",
    "na_count_locp = whole_data['locp'].isna().sum()\n",
    "rep_na_locp = na_count_locp / obs_count * 100\n",
    "\n",
    "print(f\"Les valeurs possibles sont : {possible_values_locp}.\")\n",
    "print(f\"Le nombre de valeurs manquantes est de : {na_count_locp} pour un total de {obs_count} observations soit {rep_na_locp:.2f}%.\")"
   ],
   "metadata": {
    "collapsed": false,
    "ExecuteTime": {
     "end_time": "2024-04-10T21:46:59.365477700Z",
     "start_time": "2024-04-10T21:46:59.275314200Z"
    }
   },
   "id": "4f151a6ab7ffc9f",
   "execution_count": 57
  },
  {
   "cell_type": "code",
   "outputs": [
    {
     "name": "stdout",
     "output_type": "stream",
     "text": [
      "Les valeurs possibles sont : [9. 3. 4. 2. 1. 5. 6. 8. 7.].\n",
      "Le nombre de valeurs manquantes est de : 0 pour un total de 124589 observations soit 0.0%.\n"
     ]
    }
   ],
   "source": [
    "whole_data['locp'] = whole_data['locp'].replace({-1: 9, 0: 9})\n",
    "whole_data['locp'] = whole_data['locp'].fillna(9)\n",
    "\n",
    "possible_values_locp_2 = whole_data['locp'].unique()\n",
    "na_count_locp_2 = whole_data['locp'].isna().sum()\n",
    "rep_na_locp_2 = na_count_locp_2 / obs_count * 100\n",
    "\n",
    "print(f\"Les valeurs possibles sont : {possible_values_locp_2}.\")\n",
    "print(f\"Le nombre de valeurs manquantes est de : {na_count_locp_2} pour un total de {obs_count} observations soit {rep_na_locp_2}%.\")"
   ],
   "metadata": {
    "collapsed": false,
    "ExecuteTime": {
     "end_time": "2024-04-10T21:46:59.487819600Z",
     "start_time": "2024-04-10T21:46:59.292699Z"
    }
   },
   "id": "d3c675f712075187",
   "execution_count": 58
  },
  {
   "cell_type": "markdown",
   "source": [
    "### etatp"
   ],
   "metadata": {
    "collapsed": false
   },
   "id": "1bf41ab724abecc9"
  },
  {
   "cell_type": "markdown",
   "source": [
    "Cette variable permet de préciser si le piéton accidenté était seul ou non. Il est envisageable, mais pas nécessairement vrai, que la majorité des groupes soient distraits par leurs camarades amenant à une baisse de la vigilance en matière de protection routière. On songera donc à conserver cette catégorie. Sous réserve que cette dernière se révèle impertinente, elle sera supprimée du modèle.\n",
    "\n",
    "A l'instar de certaines variables, la documentation diffère selon les années et il est nécessaire d'harmoniser cela. Les valeurs possibles pour la documentation de 2005 à 2018 sont : [**1**, **2**, **3**] pour [**seul**, **accompagné**, **en groupe**]. Celles de 2005 à 2020 sont au format suivant : [**-1**, **1**, **2**, **3**] traduisant [**non renseigné**, **seul**, **accompagné**, **en groupe**]. On décidera donc de conserver le format [**-1**, **1**, **2**, **3**] pour la gestion des valeurs inconnues pour l'instant."
   ],
   "metadata": {
    "collapsed": false
   },
   "id": "f77cf2e1b03e9c90"
  },
  {
   "cell_type": "code",
   "outputs": [
    {
     "name": "stdout",
     "output_type": "stream",
     "text": [
      "Les valeurs possibles sont : [ 0.  2.  1. nan  3.].\n",
      "Le nombre de valeurs manquantes est de : 132 pour un total de 124589 observations soit 0.11%.\n"
     ]
    }
   ],
   "source": [
    "# On catégorise l'accompagnement du piéton sans relation de supériorité entre ces derniers. Cela est donc une variable catégorielle\n",
    "variable = 'etatp'\n",
    "\n",
    "if variable not in var_cat:\n",
    "    var_cat.append(variable)\n",
    "    \n",
    "possible_values_etatp = whole_data['etatp'].unique()\n",
    "na_count_etatp = whole_data['etatp'].isna().sum()\n",
    "rep_na_etatp = na_count_locp / obs_count * 100\n",
    "\n",
    "print(f\"Les valeurs possibles sont : {possible_values_etatp}.\")\n",
    "print(f\"Le nombre de valeurs manquantes est de : {na_count_etatp} pour un total de {obs_count} observations soit {rep_na_etatp:.2f}%.\")"
   ],
   "metadata": {
    "collapsed": false,
    "ExecuteTime": {
     "end_time": "2024-04-10T21:46:59.489866700Z",
     "start_time": "2024-04-10T21:46:59.311848300Z"
    }
   },
   "id": "cfe977f0251d9f48",
   "execution_count": 59
  },
  {
   "cell_type": "code",
   "outputs": [
    {
     "name": "stdout",
     "output_type": "stream",
     "text": [
      "Les valeurs possibles sont : [-1.  2.  1.  3.].\n",
      "Le nombre de valeurs manquantes est de : 0 pour un total de 124589 observations soit 0.0%.\n"
     ]
    }
   ],
   "source": [
    "whole_data['etatp'] = whole_data['etatp'].replace({0: -1}).fillna(-1)\n",
    "\n",
    "possible_values_etatp_2 = whole_data['etatp'].unique()\n",
    "na_count_etatp_2 = whole_data['etatp'].isna().sum()\n",
    "rep_na_etatp_2 = na_count_etatp_2 / obs_count * 100\n",
    "\n",
    "print(f\"Les valeurs possibles sont : {possible_values_etatp_2}.\")\n",
    "print(f\"Le nombre de valeurs manquantes est de : {na_count_etatp_2} pour un total de {obs_count} observations soit {rep_na_etatp_2}%.\")"
   ],
   "metadata": {
    "collapsed": false,
    "ExecuteTime": {
     "end_time": "2024-04-10T21:46:59.511283500Z",
     "start_time": "2024-04-10T21:46:59.323991600Z"
    }
   },
   "id": "babe4524cdab9d5e",
   "execution_count": 60
  },
  {
   "cell_type": "markdown",
   "source": [
    "### catu"
   ],
   "metadata": {
    "collapsed": false
   },
   "id": "d16a8b3b322ebf40"
  },
  {
   "cell_type": "markdown",
   "source": [
    "Correspond à la catégorie d'usager. Autrement dit, s'il s'agit d'un conducteur, d'un passager ou bien d'un piéton (ou encore d'un piéton en roller ou en trottinette conformément à la documentation de 2005 à 2018). Il est important de disposer de ces informations en cas de corrélations entre le statut de la victime et son état. On peut soumettre l'hypothèse que ce statut influe sur les situations dans lesquelles les usagers sont impliqués notamment (difficile d'aller à 130 km/h en tant que piéton).\n",
    "\n",
    "Cependant, il est nécessaire d'harmoniser ces valeurs, car elles différent en fonction des années. D'origine, les valeurs possibles sont les suivantes : [**1**, **2**, **3**, **4**], mais depuis 2018, la catégorie [**4**] évolue vers le fichier \"Véhicules\" comme catégorie **\"*99 - Autre véhicule*\"**. Ainsi, une modification envisageable serait de remplacer les valeurs [**4**] par celle des piétons [**3**] **ET** de modifier la valeur associée au sein de la colonne **\"*catv*\"** par la valeur **\"*99*\"** :"
   ],
   "metadata": {
    "collapsed": false
   },
   "id": "46f570e41fde3042"
  },
  {
   "cell_type": "code",
   "outputs": [
    {
     "name": "stdout",
     "output_type": "stream",
     "text": [
      "Les valeurs possibles sont : [1 3 2 4].\n",
      "Le nombre de valeurs manquantes est de : 0 pour un total de 124589 observations soit 0.00%.\n"
     ]
    }
   ],
   "source": [
    "# On catégorise la catégorie de l'usager. Cela est donc une variable catégorielle\n",
    "variable = 'catu'\n",
    "\n",
    "if variable not in var_cat:\n",
    "    var_cat.append(variable)\n",
    "    \n",
    "possible_values_catu = whole_data['catu'].unique()\n",
    "na_count_catu = whole_data['catu'].isna().sum()\n",
    "rep_na_catu = na_count_catu / obs_count * 100\n",
    "\n",
    "print(f\"Les valeurs possibles sont : {possible_values_catu}.\")\n",
    "print(f\"Le nombre de valeurs manquantes est de : {na_count_catu} pour un total de {obs_count} observations soit {rep_na_catu:.2f}%.\")"
   ],
   "metadata": {
    "collapsed": false,
    "ExecuteTime": {
     "end_time": "2024-04-10T21:46:59.512322100Z",
     "start_time": "2024-04-10T21:46:59.342748900Z"
    }
   },
   "id": "5c17fc978dafa662",
   "execution_count": 61
  },
  {
   "cell_type": "code",
   "outputs": [
    {
     "name": "stdout",
     "output_type": "stream",
     "text": [
      "Les valeurs possibles sont : [1 3 2].\n",
      "Le nombre de valeurs manquantes est de : 0 pour un total de 124589 observations soit 0.00%.\n"
     ]
    }
   ],
   "source": [
    "whole_data.loc[whole_data['catu'] == 4, 'catv'] = 99\n",
    "\n",
    "whole_data['catu'] = whole_data['catu'].replace({4: 3})\n",
    "\n",
    "possible_values_catu_2 = whole_data['catu'].unique()\n",
    "na_count_catu_2 = whole_data['catu'].isna().sum()\n",
    "rep_na_catu_2 = na_count_catu_2 / obs_count * 100\n",
    "\n",
    "print(f\"Les valeurs possibles sont : {possible_values_catu_2}.\")\n",
    "print(f\"Le nombre de valeurs manquantes est de : {na_count_catu_2} pour un total de {obs_count} observations soit {rep_na_catu_2:.2f}%.\")"
   ],
   "metadata": {
    "collapsed": false,
    "ExecuteTime": {
     "end_time": "2024-04-10T21:46:59.522511300Z",
     "start_time": "2024-04-10T21:46:59.358368400Z"
    }
   },
   "id": "2dc36ba16146155a",
   "execution_count": 62
  },
  {
   "cell_type": "markdown",
   "source": [
    "### place"
   ],
   "metadata": {
    "collapsed": false
   },
   "id": "f01ff5de9c728620"
  },
  {
   "cell_type": "markdown",
   "source": [
    "Permet de situer la place occupée dans le véhicule par l'usager au moment de l'accident. Cette donnée est importante, car il existe certainement une relation entre la position des victimes et la gravité de l'accident. En effet, en fonction de la position, les dispositifs de sécurité ne sont pas les mêmes. On soupçonne donc une importante majeure de cette variable.\n",
    " \n",
    "Les informations relatives aux positions sont différentes selon les années. Les valeurs possibles pour le document de 2005 à 2018 sont les suivantes : [**1**, **2**, **3**, **4**, **5**, **6**, **7**, **8**, **9**]. Pour le document de 2005 à 2020 : [**1**, **2**, **3**, **4**, **5**, **6**, **7**, **8**, **9**, **10**]. Le nouvel élément correspond à la position du piéton. Une harmonisation se fera où le piéton devra être catégorisé."
   ],
   "metadata": {
    "collapsed": false
   },
   "id": "6048a605f289828f"
  },
  {
   "cell_type": "code",
   "outputs": [
    {
     "name": "stdout",
     "output_type": "stream",
     "text": [
      "Les valeurs possibles sont : [ 1. nan  2.  3.  4.  8.  5.  6.  7.  9.].\n",
      "Le nombre de valeurs manquantes est de : 11173 pour un total de 124589 observations soit 8.967886410517782%.\n"
     ]
    }
   ],
   "source": [
    "# Correspond, selon le véhicule, à une position dans le véhicule ou bien être piéton. Cela est donc une variable catégorielle\n",
    "variable = 'place'\n",
    "\n",
    "if variable not in var_cat:\n",
    "    var_cat.append(variable)\n",
    "\n",
    "possible_values_place = whole_data['place'].unique()\n",
    "na_count_place = whole_data['place'].isna().sum()\n",
    "rep_na_place = na_count_place / obs_count * 100\n",
    "\n",
    "print(f\"Les valeurs possibles sont : {possible_values_place}.\")\n",
    "print(f\"Le nombre de valeurs manquantes est de : {na_count_place} pour un total de {obs_count} observations soit {rep_na_place}%.\")"
   ],
   "metadata": {
    "collapsed": false,
    "ExecuteTime": {
     "end_time": "2024-04-10T21:46:59.523510Z",
     "start_time": "2024-04-10T21:46:59.374895300Z"
    }
   },
   "id": "378712407cf4a873",
   "execution_count": 63
  },
  {
   "cell_type": "markdown",
   "source": [
    "Etant donné qu'il est difficile de prédire une position manquante, car cela dépend notamment du véhicule, il est donc décidé de supprimer les lignes manquantes. Cependant, seules les lignes contenant une valeur **\"*Nan*\"** **et** qui ne matcheront pas la position de piéton seront supprimées."
   ],
   "metadata": {
    "collapsed": false
   },
   "id": "7504b9d95cb96e1c"
  },
  {
   "cell_type": "code",
   "outputs": [
    {
     "name": "stdout",
     "output_type": "stream",
     "text": [
      "Les valeurs possibles sont : [ 1. 10.  2.  3.  4.  8.  5.  6.  7.  9.].\n",
      "Le nombre de valeurs manquantes est de : 0 pour un total de 124589 observations soit 0.0%.\n"
     ]
    }
   ],
   "source": [
    "# Supprime seulement si 'place' est Nan ET que ce n'est pas un piéton\n",
    "whole_data = whole_data[~((whole_data['catu'] != 3) & whole_data['place'].isna())]   \n",
    "whole_data['place'] = whole_data['place'].fillna(10)\n",
    "\n",
    "possible_values_place_2 = whole_data['place'].unique()\n",
    "na_count_place_2 = whole_data['place'].isna().sum()\n",
    "rep_na_place_2 = na_count_place_2 / obs_count * 100\n",
    "\n",
    "print(f\"Les valeurs possibles sont : {possible_values_place_2}.\")\n",
    "print(f\"Le nombre de valeurs manquantes est de : {na_count_place_2} pour un total de {obs_count} observations soit {rep_na_place_2}%.\")"
   ],
   "metadata": {
    "collapsed": false,
    "ExecuteTime": {
     "end_time": "2024-04-10T21:46:59.625715Z",
     "start_time": "2024-04-10T21:46:59.389100Z"
    }
   },
   "id": "ca1b147e63aa3d34",
   "execution_count": 64
  },
  {
   "cell_type": "markdown",
   "source": [
    "## secu"
   ],
   "metadata": {
    "collapsed": false
   },
   "id": "803a22bd1a9468d2"
  },
  {
   "cell_type": "markdown",
   "source": [
    "Ce modèle a fortement évolué au cours du temps en passant d'un format à deux caractères indiquant dans un premier temps le système de sécurité et dans un second les conditions d'utilisation (oui/non/non déterminé). \n",
    "\n",
    "Puis dans un nouveau format à 3 colonnes (secu1/secu2/secu3), chacune des colonnes indiquait l'utilisation d'un équipement de sécurité parmi une liste d'éléments comprenant les valeurs suivantes : [**-1**, **0**, **1**, **2**, **3**, **4**, **5**, **6**, **7**, **8**, **9**]. Globalement, [**-1**, **8**, **9**] apportent la même précision (aucune). Ainsi, il est décidé dans un premier temps de rassembler ces trois possibilités en une seule sous la bannière [**8**]. \n",
    "\n",
    "Dans un second temps, la première configuration à **\"*secu*\"** unique sera scindé en **\"*3*\"** où seul un équipement pourra être notifié. \n",
    "\n",
    "Ces décisions sont prises, car nous ne souhaitons pas perdre d'informations (précision accrue sous le format : secu1/secu2/secu3), en effet cette catégorie de variables est très intéressante. Il semble évident que des dispositifs de sécurité viennent minimiser les dégâts subits."
   ],
   "metadata": {
    "collapsed": false
   },
   "id": "495eef8530bcd6c5"
  },
  {
   "cell_type": "code",
   "outputs": [
    {
     "name": "stdout",
     "output_type": "stream",
     "text": [
      "1 - Les valeurs possibles sont : [11. nan 13. 21.  1.  2. 12. 23. 22. 31. 91. 42. 92. 41. 32. 93. 43.  3.\n",
      " 33.].\n",
      "1 - Le nombre de valeurs manquantes est de : 3803 pour un total de 124589 observations soit 3.052436410919102%.\n"
     ]
    }
   ],
   "source": [
    "# Correspond aux mesures de sécurité en vigueur dans le véhicule selon une catégorisation de ces derniers.\n",
    "variables = ['secu1', 'secu2', 'secu3']\n",
    "\n",
    "# Add variables to var_cat if not already present\n",
    "var_cat.extend(var for var in variables if var not in var_cat)\n",
    "\n",
    "# Premier cas : données antérieures à 2019\n",
    "if 'secu' in whole_data.columns:\n",
    "    secu_columns = ['secu']\n",
    "# Deuxième cas : données ultérieures à 2018\n",
    "else:  \n",
    "    secu_columns = ['secu1', 'secu2', 'secu3']\n",
    "\n",
    "for i, column in enumerate(secu_columns, start=1):\n",
    "    possible_values = whole_data[column].unique()\n",
    "    na_count = whole_data[column].isna().sum()\n",
    "    rep_na = na_count / obs_count * 100\n",
    "    \n",
    "    print(f\"{i} - Les valeurs possibles sont : {possible_values}.\")\n",
    "    print(f\"{i} - Le nombre de valeurs manquantes est de : {na_count} pour un total de {obs_count} observations soit {rep_na}%.\")"
   ],
   "metadata": {
    "collapsed": false,
    "ExecuteTime": {
     "end_time": "2024-04-10T21:46:59.652793Z",
     "start_time": "2024-04-10T21:46:59.485755100Z"
    }
   },
   "id": "b6197b815d73a339",
   "execution_count": 65
  },
  {
   "cell_type": "markdown",
   "source": [
    "Par défaut, les dispositifs de sécurité non utilisé **ou** non déterminable seront considérés comme non utilisés. En effet, on préfère être certain de l'utilisation d'un dispositif pour lui accorder du crédit.\n",
    "\n",
    "Si les valeurs sont inférieures à **'*10*'** dans le premier cas, cela signifie qu'il y a eu une erreur de saisie. Dans le cas où le terme fini par **'*2*'** ou **'*3*'**, on observe que le dispositif n'a pas servi."
   ],
   "metadata": {
    "collapsed": false
   },
   "id": "93db72c9ae5b8554"
  },
  {
   "cell_type": "code",
   "outputs": [
    {
     "name": "stdout",
     "output_type": "stream",
     "text": [
      "1 - Les valeurs possibles sont : [1 8 2 3 4].\n",
      "1 - Le nombre de valeurs manquantes est de : 0 pour un total de 124589 observations soit 0.0%.\n",
      "2 - Les valeurs possibles sont : [8].\n",
      "2 - Le nombre de valeurs manquantes est de : 0 pour un total de 124589 observations soit 0.0%.\n",
      "3 - Les valeurs possibles sont : [8].\n",
      "3 - Le nombre de valeurs manquantes est de : 0 pour un total de 124589 observations soit 0.0%.\n"
     ]
    }
   ],
   "source": [
    "def extract_first_digit(value):\n",
    "    if pd.notna(value):\n",
    "        return int(str(value)[0])\n",
    "    else:\n",
    "        return pd.NA\n",
    "\n",
    "# Premier cas : données antérieures à 2019\n",
    "if 'secu' in whole_data.columns:\n",
    "    secu_columns = ['secu']\n",
    "    \n",
    "    # On considère seulement les cas d'utlisation\n",
    "    whole_data.loc[(whole_data['secu'] <= 10) | (whole_data['secu'] % 10 == 2) | (whole_data['secu'] % 10 == 3), 'secu'] = pd.NA\n",
    "    \n",
    "    # On assigne à la colonne seulement le premier digit qui correspond à l'équipement utilisé\n",
    "    whole_data['secu'] = whole_data['secu'].apply(extract_first_digit)\n",
    "    \n",
    "    # Renomme 'secu' en 'secu1'\n",
    "    whole_data.rename(columns={'secu': 'secu1'}, inplace=True)\n",
    "    \n",
    "    # Ajoute les deux autres colonnes pour répondre aux dimensions\n",
    "    whole_data['secu2'] = pd.NA\n",
    "    whole_data['secu3'] = pd.NA\n",
    "# Deuxième cas : données ultérieures à 2018\n",
    "else:  \n",
    "    secu_columns = ['secu1', 'secu2', 'secu3']\n",
    "\n",
    "    # Pour \"secu1\", \"secu2\", et \"secu3\" transforme les [-1, 9, NA] en 8\n",
    "    for col in secu_columns:\n",
    "        whole_data[col] = whole_data[col].apply(lambda x: 8 if pd.isna(x) or x in [-1, 9] else x)\n",
    "\n",
    "for i, column in enumerate(['secu1', 'secu2', 'secu3'], start=1):\n",
    "    possible_values = whole_data[column].unique()\n",
    "    na_count = whole_data[column].isna().sum()\n",
    "    rep_na = na_count / obs_count * 100\n",
    "    \n",
    "    print(f\"{i} - Les valeurs possibles sont : {possible_values}.\")\n",
    "    print(f\"{i} - Le nombre de valeurs manquantes est de : {na_count} pour un total de {obs_count} observations soit {rep_na}%.\")"
   ],
   "metadata": {
    "collapsed": false,
    "ExecuteTime": {
     "end_time": "2024-04-10T21:47:36.570878600Z",
     "start_time": "2024-04-10T21:47:36.381824600Z"
    }
   },
   "id": "1f89a67f8a3b540a",
   "execution_count": 67
  },
  {
   "cell_type": "markdown",
   "source": [
    "### actp"
   ],
   "metadata": {
    "collapsed": false
   },
   "id": "22492ff7546ad38e"
  },
  {
   "cell_type": "markdown",
   "source": [
    "Concerne l'action du piéton. Diffère de nouveau selon les années. Le premier format de 2005 à 2018 est le suivant : [**0**, **1**, **2**, **3**, **4**, **5**, **6**, **9**]. Pour la version de 2005 à 2020 on a : [**-1**, **0**, **1**, **2**, **3**, **4**, **5**, **9**, **A**, **B**]. De la même manière, on définit que [**-1**, **0**, **9**, **B**, **NA**] apporte la même qualité d'information dans la seconde réforme. Nous décidons de nous calquer sur le format le plus précis soit le second.\n",
    "\n",
    "Cette catégorie est relativement intéressante, car elle indique si des situations peuvent amener plus ou moins fréquemment à des accidents plus, ou moins graves."
   ],
   "metadata": {
    "collapsed": false
   },
   "id": "2ec2f9d4a02aaa7a"
  },
  {
   "cell_type": "code",
   "outputs": [
    {
     "name": "stdout",
     "output_type": "stream",
     "text": [
      "Les valeurs possibles sont : [ 0.  3.  5.  9.  4.  1.  2. nan  6.].\n",
      "Le nombre de valeurs manquantes est de : 139 pour un total de 124589 observations soit 0.11156683174277021%.\n"
     ]
    }
   ],
   "source": [
    "# Correspond aux actions des piétons précédant leur accident sous formee de catégorisation.\n",
    "variables = ['actp']\n",
    "\n",
    "if variable not in var_cat:\n",
    "    var_cat.append(variable)\n",
    "    \n",
    "possible_values_actp = whole_data['actp'].unique()\n",
    "na_count_actp = whole_data['actp'].isna().sum()\n",
    "rep_na_actp = na_count_actp / obs_count * 100\n",
    "\n",
    "print(f\"Les valeurs possibles sont : {possible_values_actp}.\")\n",
    "print(f\"Le nombre de valeurs manquantes est de : {na_count_actp} pour un total de {obs_count} observations soit {rep_na_actp}%.\")"
   ],
   "metadata": {
    "collapsed": false,
    "ExecuteTime": {
     "end_time": "2024-04-10T21:58:23.411023900Z",
     "start_time": "2024-04-10T21:58:23.376858300Z"
    }
   },
   "id": "6a28844a371718f0",
   "execution_count": 68
  },
  {
   "cell_type": "code",
   "outputs": [
    {
     "name": "stdout",
     "output_type": "stream",
     "text": [
      "Les valeurs possibles sont : [9. 3. 5. 4. 1. 2. 6.].\n",
      "Le nombre de valeurs manquantes est de : 0 pour un total de 124589 observations soit 0.0%.\n"
     ]
    }
   ],
   "source": [
    "whole_data['actp'] = whole_data['actp'].replace({-1: 9, 0: 9, 'B': 9}).fillna(9)\n",
    "\n",
    "possible_values_actp_2 = whole_data['actp'].unique()\n",
    "na_count_actp_2 = whole_data['actp'].isna().sum()\n",
    "rep_na_actp_2 = na_count_actp_2 / obs_count * 100\n",
    "\n",
    "print(f\"Les valeurs possibles sont : {possible_values_actp_2}.\")\n",
    "print(f\"Le nombre de valeurs manquantes est de : {na_count_actp_2} pour un total de {obs_count} observations soit {rep_na_actp_2}%.\")"
   ],
   "metadata": {
    "collapsed": false,
    "ExecuteTime": {
     "end_time": "2024-04-10T21:59:57.642425500Z",
     "start_time": "2024-04-10T21:59:57.589057500Z"
    }
   },
   "id": "d2bffbdbd068047c",
   "execution_count": 69
  },
  {
   "cell_type": "markdown",
   "source": [
    "Désormais le traitement des variables relatives aux usagers est correcte. Il pourrait techinquement être appliqué à des versions ultérieures à 2018.\n",
    "\n",
    "On écrit un nouveau fichier comprenant ces modifications pour pouvoir conserver ici seulement les modifications relatives aux usagers :"
   ],
   "metadata": {
    "collapsed": false
   },
   "id": "19e92f99e50f6f17"
  },
  {
   "cell_type": "code",
   "outputs": [],
   "source": [
    "whole_data.to_csv('Data/TRAIN_FULL/BAAC_2012_full_USAGERS.csv', index=False)"
   ],
   "metadata": {
    "collapsed": false,
    "ExecuteTime": {
     "end_time": "2024-04-10T22:01:40.320510700Z",
     "start_time": "2024-04-10T22:01:37.153614700Z"
    }
   },
   "id": "94119a74e9bbefba",
   "execution_count": 70
  },
  {
   "cell_type": "code",
   "outputs": [],
   "source": [],
   "metadata": {
    "collapsed": false
   },
   "id": "60baa491ac1d32b9"
  }
 ],
 "metadata": {
  "kernelspec": {
   "display_name": "Python 3",
   "language": "python",
   "name": "python3"
  },
  "language_info": {
   "codemirror_mode": {
    "name": "ipython",
    "version": 2
   },
   "file_extension": ".py",
   "mimetype": "text/x-python",
   "name": "python",
   "nbconvert_exporter": "python",
   "pygments_lexer": "ipython2",
   "version": "2.7.6"
  }
 },
 "nbformat": 4,
 "nbformat_minor": 5
}
